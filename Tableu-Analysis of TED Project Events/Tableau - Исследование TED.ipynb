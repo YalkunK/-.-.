{
 "cells": [
  {
   "cell_type": "markdown",
   "id": "ff31b3ac",
   "metadata": {},
   "source": [
    "Dashboard: https://public.tableau.com/views/TED3_17101560847340/TED?:language=en-US&:sid=&:display_count=n&:origin=viz_share_link"
   ]
  },
  {
   "cell_type": "markdown",
   "id": "cdd4eb38",
   "metadata": {},
   "source": [
    "<div class=\"alert alert-success\">\n",
    "<h2> Комментарий ревьюера v3 <a class=\"tocSkip\"> </h2>\n",
    "\n",
    "<b>Все супер!👍:</b> Теперь все) "
   ]
  },
  {
   "cell_type": "markdown",
   "id": "a6a4f9ef",
   "metadata": {},
   "source": [
    "Описание проекта\n",
    "\n",
    "TED (от англ. technology, education, design — «технологии, образование, дизайн») — некоммерческий фонд, который проводит популярные конференции. На них выступают специалисты из разных областей и читают лекции на актуальные социальные, культурные и научные темы. \n",
    "В разное время на TED-конференциях выступали математик Бенуа Мандельброт, теоретик искусственного интеллекта Марвин Минский, спортсменка Дана Ньяд и основатель Google Ларри Пейдж. В истории TED также были неоднозначные и даже скандальные выступления. Например, в 2010 году на конференции выступил Рэнди Пауэлл с рассказом о псевдонаучной «вихревой математике», а в 2014 году в конференции TEDMED участвовала Элизабет Холмс — основательница печально известного стартапа Theranos.\n",
    "В этом проекте вы исследуете историю TED-конференций с помощью Tableau.\n",
    "Описание данных\n",
    "\n",
    "- tableau_project_data_1.csv\n",
    "- tableau_project_data_2.csv\n",
    "- tableau_project_data_3.csv\n",
    "- tableau_project_event_dict.csv\n",
    "- tableau_project_speakers_dict.csv\n",
    "\n",
    "Файлы tableau_project_data_1.csv, tableau_project_data_2.csv, tableau_project_data_3.csv хранят данные выступлений. У них одинаковая структура:\n",
    "\n",
    "- talk_id — идентификатор выступления;\n",
    "- url — ссылка на запись выступления;\n",
    "- title — название выступления;\n",
    "- description — краткое описание;\n",
    "- film_date — дата записи выступления;\n",
    "- duration — длительность в секундах;\n",
    "- views — количество просмотров;\n",
    "- main_tag — основная категория, к которой относится выступление;\n",
    "- speaker_id — уникальный идентификатор автора выступления;\n",
    "- laughter_count — количество раз, когда аудитория смеялась в ходе выступления;\n",
    "- applause_count — количество раз, когда аудитория аплодировала в ходе выступления;\n",
    "- language — язык, на котором велось выступление;\n",
    "- event_id — уникальный идентификатор конференции.\n",
    "\n",
    "Файл tableau_project_event_dict.csv — справочник конференций. Описание таблицы:\n",
    "- conf_id — уникальный идентификатор конференции;\n",
    "- event — название конференции;\n",
    "- country — страна проведения конференции.\n",
    "\n",
    "Файл tableau_project_speakers_dict.csv — справочник авторов выступления. Описание таблицы:\n",
    "- author_id — уникальный идентификатор автора выступления;\n",
    "- speaker_name — имя автора;\n",
    "- speaker_occupation — профессиональная область автора;\n",
    "- speaker_description — описание профессиональной деятельности автора.\n",
    "\n",
    "Набор данных проекта мог вам напомнить известный датасет TED Talks, размещённый в библиотеке Kaggle. Он не является его копией: мы собрали данные на основе материалов сайта TED с помощью специальной программы."
   ]
  },
  {
   "cell_type": "markdown",
   "id": "8969c06b",
   "metadata": {},
   "source": [
    "<div class=\"alert alert-success\">\n",
    "<h2> Комментарий ревьюера v1 <a class=\"tocSkip\"> </h2>\n",
    "\n",
    "<b>Все супер!👍:</b> Молодец, что не забываешь про введение!"
   ]
  },
  {
   "cell_type": "markdown",
   "id": "275e7320",
   "metadata": {},
   "source": [
    "# Дашборд \"История выступлений\""
   ]
  },
  {
   "cell_type": "markdown",
   "id": "b2fc3c7f",
   "metadata": {},
   "source": [
    "<div class=\"alert alert-success\">\n",
    "<h2> Комментарий ревьюера v1 <a class=\"tocSkip\"> </h2>\n",
    "\n",
    "<b>Все супер!👍:</b> Отличный дашборд! Action настроен верно, актулаьный период определен правильно, молодец!"
   ]
  },
  {
   "cell_type": "markdown",
   "id": "536147ed",
   "metadata": {},
   "source": [
    "<div class=\"alert alert-success\">\n",
    "<h2> Комментарий ревьюера v2 <a class=\"tocSkip\"> </h2>\n",
    "\n",
    "<b>Все супер!👍:</b> Топ!"
   ]
  },
  {
   "cell_type": "markdown",
   "id": "4898c0f1",
   "metadata": {},
   "source": [
    "# Дашборд \"Тематики выступлений\""
   ]
  },
  {
   "cell_type": "markdown",
   "id": "62c32893",
   "metadata": {},
   "source": [
    "<div class=\"alert alert-success\">\n",
    "<h2> Комментарий ревьюера v1 <a class=\"tocSkip\"> </h2>\n",
    "\n",
    "<b>Все супер!👍:</b>  Action настроен верно, всплывающие подсказки тоже, категория \"другие\" создана правильно.  Хорошая вертска)"
   ]
  },
  {
   "cell_type": "markdown",
   "id": "7372dc10",
   "metadata": {},
   "source": [
    "<div class=\"alert alert-success\">\n",
    "<h2> Комментарий ревьюера v4 <a class=\"tocSkip\"> </h2>\n",
    "\n",
    "<b>Все супер!👍:</b> Все исправлено, молодец!"
   ]
  },
  {
   "cell_type": "markdown",
   "id": "cb40a95c",
   "metadata": {},
   "source": [
    "# Дашборд \"Авторы выступлений\""
   ]
  },
  {
   "cell_type": "markdown",
   "id": "820a3356",
   "metadata": {},
   "source": [
    "<div class=\"alert alert-success\">\n",
    "<h2> Комментарий ревьюера v3 <a class=\"tocSkip\"> </h2>\n",
    "\n",
    "<b>Все супер!👍:</b> Исправлено! Пузырьковая диаграмма настроена верно "
   ]
  },
  {
   "cell_type": "markdown",
   "id": "1fc3a1e8",
   "metadata": {},
   "source": [
    "# Дашборд на свободную тему"
   ]
  },
  {
   "cell_type": "markdown",
   "id": "9615c71f",
   "metadata": {},
   "source": [
    "<div class=\"alert alert-success\">\n",
    "<h2> Комментарий ревьюера v3 <a class=\"tocSkip\"> </h2>\n",
    "\n",
    "<b>Все супер!👍:</b> Хвалю за дашборд! Интересное исследование, наглдяные графики, ты молодец!"
   ]
  },
  {
   "cell_type": "markdown",
   "id": "dd46b9e0",
   "metadata": {},
   "source": [
    "<div style=\"border:solid Chocolate 2px; padding: 40px\">\n",
    "    \n",
    "**Общий вывод по проекту ревьювера**:\n",
    "Ялкун, спасибо за  проект! Ты приложил много усилий, чтобы довести его до конца, проделана огромная работа, и это видно невооруженным глазом, ты большой молодец!\n",
    "    \n",
    "**Отмечу положительные моменты**:\n",
    "    \n",
    "    1. Все разложено по полочкам, всегда понятен ход твоих мыслей, приятно смотреть\n",
    "    \n",
    "    2. Отличные визуализации\n",
    "    \n",
    "    3. На разных шагах проекта ты предлагал очень интересные решения и методы для их реализации. Хорошая работа!\n",
    "    \n",
    "    \n",
    "**На что стоит обратить внимание**:\n",
    "    \n",
    "    1. Отсутсвует фильтр по дате\n",
    "    \n",
    "    2. Сортировка данных\n",
    "    \n",
    "    \n",
    "**Удачи и жду твой проект на повторное ревью!**"
   ]
  },
  {
   "cell_type": "markdown",
   "id": "fd39ee04",
   "metadata": {},
   "source": [
    "<div style=\"border:solid Chocolate 2px; padding: 40px\">\n",
    "    \n",
    "**Общий вывод по проекту ревьювера v4**:\n",
    "Ялкун, ошибки исправлены, проект принят, поздравляю тебя! Успешной учебы и еще увидимся в Практикуме!\n",
    "    "
   ]
  },
  {
   "cell_type": "code",
   "execution_count": null,
   "id": "97ef2520",
   "metadata": {},
   "outputs": [],
   "source": []
  }
 ],
 "metadata": {
  "kernelspec": {
   "display_name": "Python 3 (ipykernel)",
   "language": "python",
   "name": "python3"
  },
  "language_info": {
   "codemirror_mode": {
    "name": "ipython",
    "version": 3
   },
   "file_extension": ".py",
   "mimetype": "text/x-python",
   "name": "python",
   "nbconvert_exporter": "python",
   "pygments_lexer": "ipython3",
   "version": "3.9.5"
  },
  "toc": {
   "base_numbering": 1,
   "nav_menu": {},
   "number_sections": true,
   "sideBar": true,
   "skip_h1_title": true,
   "title_cell": "Table of Contents",
   "title_sidebar": "Contents",
   "toc_cell": false,
   "toc_position": {},
   "toc_section_display": true,
   "toc_window_display": false
  }
 },
 "nbformat": 4,
 "nbformat_minor": 5
}
