{
 "cells": [
  {
   "cell_type": "markdown",
   "id": "386f2ae7",
   "metadata": {
    "deletable": false,
    "editable": false,
    "id": "386f2ae7"
   },
   "source": [
    "# Исследование надежности заемщиков\n"
   ]
  },
  {
   "cell_type": "markdown",
   "id": "ffe86f65",
   "metadata": {
    "deletable": false,
    "editable": false,
    "id": "ffe86f65"
   },
   "source": [
    "Во второй части проекта вы выполните шаги 3 и 4. Их вручную проверит ревьюер.\n",
    "Чтобы вам не пришлось писать код заново для шагов 1 и 2, мы добавили авторские решения в ячейки с кодом. \n",
    "\n"
   ]
  },
  {
   "cell_type": "markdown",
   "id": "26613308",
   "metadata": {
    "deletable": false,
    "editable": false,
    "id": "26613308"
   },
   "source": [
    "## Откройте таблицу и изучите общую информацию о данных"
   ]
  },
  {
   "cell_type": "markdown",
   "id": "3c9f838e",
   "metadata": {
    "deletable": false,
    "editable": false,
    "id": "3c9f838e"
   },
   "source": [
    "**Задание 1. Импортируйте библиотеку pandas. Считайте данные из csv-файла в датафрейм и сохраните в переменную `data`. Путь к файлу:**\n",
    "\n",
    "`/datasets/data.csv`"
   ]
  },
  {
   "cell_type": "code",
   "execution_count": 1,
   "id": "77a68a90",
   "metadata": {
    "deletable": false,
    "id": "77a68a90"
   },
   "outputs": [],
   "source": [
    "import pandas as pd\n",
    "\n",
    "try:\n",
    "    data = pd.read_csv('/datasets/data.csv')\n",
    "except:\n",
    "    data = pd.read_csv('https://code.s3.yandex.net/datasets/data.csv')"
   ]
  },
  {
   "cell_type": "markdown",
   "id": "45365635",
   "metadata": {
    "deletable": false,
    "editable": false,
    "id": "45365635"
   },
   "source": [
    "**Задание 2. Выведите первые 20 строчек датафрейма `data` на экран.**"
   ]
  },
  {
   "cell_type": "code",
   "execution_count": 2,
   "id": "b0451a9a",
   "metadata": {
    "deletable": false,
    "id": "b0451a9a",
    "outputId": "1a8f3ef2-d323-4ec2-ddf7-89670b5944c4"
   },
   "outputs": [
    {
     "data": {
      "text/html": [
       "<div>\n",
       "<style scoped>\n",
       "    .dataframe tbody tr th:only-of-type {\n",
       "        vertical-align: middle;\n",
       "    }\n",
       "\n",
       "    .dataframe tbody tr th {\n",
       "        vertical-align: top;\n",
       "    }\n",
       "\n",
       "    .dataframe thead th {\n",
       "        text-align: right;\n",
       "    }\n",
       "</style>\n",
       "<table border=\"1\" class=\"dataframe\">\n",
       "  <thead>\n",
       "    <tr style=\"text-align: right;\">\n",
       "      <th></th>\n",
       "      <th>children</th>\n",
       "      <th>days_employed</th>\n",
       "      <th>dob_years</th>\n",
       "      <th>education</th>\n",
       "      <th>education_id</th>\n",
       "      <th>family_status</th>\n",
       "      <th>family_status_id</th>\n",
       "      <th>gender</th>\n",
       "      <th>income_type</th>\n",
       "      <th>debt</th>\n",
       "      <th>total_income</th>\n",
       "      <th>purpose</th>\n",
       "    </tr>\n",
       "  </thead>\n",
       "  <tbody>\n",
       "    <tr>\n",
       "      <th>0</th>\n",
       "      <td>1</td>\n",
       "      <td>-8437.673028</td>\n",
       "      <td>42</td>\n",
       "      <td>высшее</td>\n",
       "      <td>0</td>\n",
       "      <td>женат / замужем</td>\n",
       "      <td>0</td>\n",
       "      <td>F</td>\n",
       "      <td>сотрудник</td>\n",
       "      <td>0</td>\n",
       "      <td>253875.639453</td>\n",
       "      <td>покупка жилья</td>\n",
       "    </tr>\n",
       "    <tr>\n",
       "      <th>1</th>\n",
       "      <td>1</td>\n",
       "      <td>-4024.803754</td>\n",
       "      <td>36</td>\n",
       "      <td>среднее</td>\n",
       "      <td>1</td>\n",
       "      <td>женат / замужем</td>\n",
       "      <td>0</td>\n",
       "      <td>F</td>\n",
       "      <td>сотрудник</td>\n",
       "      <td>0</td>\n",
       "      <td>112080.014102</td>\n",
       "      <td>приобретение автомобиля</td>\n",
       "    </tr>\n",
       "    <tr>\n",
       "      <th>2</th>\n",
       "      <td>0</td>\n",
       "      <td>-5623.422610</td>\n",
       "      <td>33</td>\n",
       "      <td>Среднее</td>\n",
       "      <td>1</td>\n",
       "      <td>женат / замужем</td>\n",
       "      <td>0</td>\n",
       "      <td>M</td>\n",
       "      <td>сотрудник</td>\n",
       "      <td>0</td>\n",
       "      <td>145885.952297</td>\n",
       "      <td>покупка жилья</td>\n",
       "    </tr>\n",
       "    <tr>\n",
       "      <th>3</th>\n",
       "      <td>3</td>\n",
       "      <td>-4124.747207</td>\n",
       "      <td>32</td>\n",
       "      <td>среднее</td>\n",
       "      <td>1</td>\n",
       "      <td>женат / замужем</td>\n",
       "      <td>0</td>\n",
       "      <td>M</td>\n",
       "      <td>сотрудник</td>\n",
       "      <td>0</td>\n",
       "      <td>267628.550329</td>\n",
       "      <td>дополнительное образование</td>\n",
       "    </tr>\n",
       "    <tr>\n",
       "      <th>4</th>\n",
       "      <td>0</td>\n",
       "      <td>340266.072047</td>\n",
       "      <td>53</td>\n",
       "      <td>среднее</td>\n",
       "      <td>1</td>\n",
       "      <td>гражданский брак</td>\n",
       "      <td>1</td>\n",
       "      <td>F</td>\n",
       "      <td>пенсионер</td>\n",
       "      <td>0</td>\n",
       "      <td>158616.077870</td>\n",
       "      <td>сыграть свадьбу</td>\n",
       "    </tr>\n",
       "    <tr>\n",
       "      <th>5</th>\n",
       "      <td>0</td>\n",
       "      <td>-926.185831</td>\n",
       "      <td>27</td>\n",
       "      <td>высшее</td>\n",
       "      <td>0</td>\n",
       "      <td>гражданский брак</td>\n",
       "      <td>1</td>\n",
       "      <td>M</td>\n",
       "      <td>компаньон</td>\n",
       "      <td>0</td>\n",
       "      <td>255763.565419</td>\n",
       "      <td>покупка жилья</td>\n",
       "    </tr>\n",
       "    <tr>\n",
       "      <th>6</th>\n",
       "      <td>0</td>\n",
       "      <td>-2879.202052</td>\n",
       "      <td>43</td>\n",
       "      <td>высшее</td>\n",
       "      <td>0</td>\n",
       "      <td>женат / замужем</td>\n",
       "      <td>0</td>\n",
       "      <td>F</td>\n",
       "      <td>компаньон</td>\n",
       "      <td>0</td>\n",
       "      <td>240525.971920</td>\n",
       "      <td>операции с жильем</td>\n",
       "    </tr>\n",
       "    <tr>\n",
       "      <th>7</th>\n",
       "      <td>0</td>\n",
       "      <td>-152.779569</td>\n",
       "      <td>50</td>\n",
       "      <td>СРЕДНЕЕ</td>\n",
       "      <td>1</td>\n",
       "      <td>женат / замужем</td>\n",
       "      <td>0</td>\n",
       "      <td>M</td>\n",
       "      <td>сотрудник</td>\n",
       "      <td>0</td>\n",
       "      <td>135823.934197</td>\n",
       "      <td>образование</td>\n",
       "    </tr>\n",
       "    <tr>\n",
       "      <th>8</th>\n",
       "      <td>2</td>\n",
       "      <td>-6929.865299</td>\n",
       "      <td>35</td>\n",
       "      <td>ВЫСШЕЕ</td>\n",
       "      <td>0</td>\n",
       "      <td>гражданский брак</td>\n",
       "      <td>1</td>\n",
       "      <td>F</td>\n",
       "      <td>сотрудник</td>\n",
       "      <td>0</td>\n",
       "      <td>95856.832424</td>\n",
       "      <td>на проведение свадьбы</td>\n",
       "    </tr>\n",
       "    <tr>\n",
       "      <th>9</th>\n",
       "      <td>0</td>\n",
       "      <td>-2188.756445</td>\n",
       "      <td>41</td>\n",
       "      <td>среднее</td>\n",
       "      <td>1</td>\n",
       "      <td>женат / замужем</td>\n",
       "      <td>0</td>\n",
       "      <td>M</td>\n",
       "      <td>сотрудник</td>\n",
       "      <td>0</td>\n",
       "      <td>144425.938277</td>\n",
       "      <td>покупка жилья для семьи</td>\n",
       "    </tr>\n",
       "    <tr>\n",
       "      <th>10</th>\n",
       "      <td>2</td>\n",
       "      <td>-4171.483647</td>\n",
       "      <td>36</td>\n",
       "      <td>высшее</td>\n",
       "      <td>0</td>\n",
       "      <td>женат / замужем</td>\n",
       "      <td>0</td>\n",
       "      <td>M</td>\n",
       "      <td>компаньон</td>\n",
       "      <td>0</td>\n",
       "      <td>113943.491460</td>\n",
       "      <td>покупка недвижимости</td>\n",
       "    </tr>\n",
       "    <tr>\n",
       "      <th>11</th>\n",
       "      <td>0</td>\n",
       "      <td>-792.701887</td>\n",
       "      <td>40</td>\n",
       "      <td>среднее</td>\n",
       "      <td>1</td>\n",
       "      <td>женат / замужем</td>\n",
       "      <td>0</td>\n",
       "      <td>F</td>\n",
       "      <td>сотрудник</td>\n",
       "      <td>0</td>\n",
       "      <td>77069.234271</td>\n",
       "      <td>покупка коммерческой недвижимости</td>\n",
       "    </tr>\n",
       "    <tr>\n",
       "      <th>12</th>\n",
       "      <td>0</td>\n",
       "      <td>NaN</td>\n",
       "      <td>65</td>\n",
       "      <td>среднее</td>\n",
       "      <td>1</td>\n",
       "      <td>гражданский брак</td>\n",
       "      <td>1</td>\n",
       "      <td>M</td>\n",
       "      <td>пенсионер</td>\n",
       "      <td>0</td>\n",
       "      <td>NaN</td>\n",
       "      <td>сыграть свадьбу</td>\n",
       "    </tr>\n",
       "    <tr>\n",
       "      <th>13</th>\n",
       "      <td>0</td>\n",
       "      <td>-1846.641941</td>\n",
       "      <td>54</td>\n",
       "      <td>неоконченное высшее</td>\n",
       "      <td>2</td>\n",
       "      <td>женат / замужем</td>\n",
       "      <td>0</td>\n",
       "      <td>F</td>\n",
       "      <td>сотрудник</td>\n",
       "      <td>0</td>\n",
       "      <td>130458.228857</td>\n",
       "      <td>приобретение автомобиля</td>\n",
       "    </tr>\n",
       "    <tr>\n",
       "      <th>14</th>\n",
       "      <td>0</td>\n",
       "      <td>-1844.956182</td>\n",
       "      <td>56</td>\n",
       "      <td>высшее</td>\n",
       "      <td>0</td>\n",
       "      <td>гражданский брак</td>\n",
       "      <td>1</td>\n",
       "      <td>F</td>\n",
       "      <td>компаньон</td>\n",
       "      <td>1</td>\n",
       "      <td>165127.911772</td>\n",
       "      <td>покупка жилой недвижимости</td>\n",
       "    </tr>\n",
       "    <tr>\n",
       "      <th>15</th>\n",
       "      <td>1</td>\n",
       "      <td>-972.364419</td>\n",
       "      <td>26</td>\n",
       "      <td>среднее</td>\n",
       "      <td>1</td>\n",
       "      <td>женат / замужем</td>\n",
       "      <td>0</td>\n",
       "      <td>F</td>\n",
       "      <td>сотрудник</td>\n",
       "      <td>0</td>\n",
       "      <td>116820.904450</td>\n",
       "      <td>строительство собственной недвижимости</td>\n",
       "    </tr>\n",
       "    <tr>\n",
       "      <th>16</th>\n",
       "      <td>0</td>\n",
       "      <td>-1719.934226</td>\n",
       "      <td>35</td>\n",
       "      <td>среднее</td>\n",
       "      <td>1</td>\n",
       "      <td>женат / замужем</td>\n",
       "      <td>0</td>\n",
       "      <td>F</td>\n",
       "      <td>сотрудник</td>\n",
       "      <td>0</td>\n",
       "      <td>289202.704229</td>\n",
       "      <td>недвижимость</td>\n",
       "    </tr>\n",
       "    <tr>\n",
       "      <th>17</th>\n",
       "      <td>0</td>\n",
       "      <td>-2369.999720</td>\n",
       "      <td>33</td>\n",
       "      <td>высшее</td>\n",
       "      <td>0</td>\n",
       "      <td>гражданский брак</td>\n",
       "      <td>1</td>\n",
       "      <td>M</td>\n",
       "      <td>сотрудник</td>\n",
       "      <td>0</td>\n",
       "      <td>90410.586745</td>\n",
       "      <td>строительство недвижимости</td>\n",
       "    </tr>\n",
       "    <tr>\n",
       "      <th>18</th>\n",
       "      <td>0</td>\n",
       "      <td>400281.136913</td>\n",
       "      <td>53</td>\n",
       "      <td>среднее</td>\n",
       "      <td>1</td>\n",
       "      <td>вдовец / вдова</td>\n",
       "      <td>2</td>\n",
       "      <td>F</td>\n",
       "      <td>пенсионер</td>\n",
       "      <td>0</td>\n",
       "      <td>56823.777243</td>\n",
       "      <td>на покупку подержанного автомобиля</td>\n",
       "    </tr>\n",
       "    <tr>\n",
       "      <th>19</th>\n",
       "      <td>0</td>\n",
       "      <td>-10038.818549</td>\n",
       "      <td>48</td>\n",
       "      <td>СРЕДНЕЕ</td>\n",
       "      <td>1</td>\n",
       "      <td>в разводе</td>\n",
       "      <td>3</td>\n",
       "      <td>F</td>\n",
       "      <td>сотрудник</td>\n",
       "      <td>0</td>\n",
       "      <td>242831.107982</td>\n",
       "      <td>на покупку своего автомобиля</td>\n",
       "    </tr>\n",
       "  </tbody>\n",
       "</table>\n",
       "</div>"
      ],
      "text/plain": [
       "    children  days_employed  dob_years            education  education_id  \\\n",
       "0          1   -8437.673028         42               высшее             0   \n",
       "1          1   -4024.803754         36              среднее             1   \n",
       "2          0   -5623.422610         33              Среднее             1   \n",
       "3          3   -4124.747207         32              среднее             1   \n",
       "4          0  340266.072047         53              среднее             1   \n",
       "5          0    -926.185831         27               высшее             0   \n",
       "6          0   -2879.202052         43               высшее             0   \n",
       "7          0    -152.779569         50              СРЕДНЕЕ             1   \n",
       "8          2   -6929.865299         35               ВЫСШЕЕ             0   \n",
       "9          0   -2188.756445         41              среднее             1   \n",
       "10         2   -4171.483647         36               высшее             0   \n",
       "11         0    -792.701887         40              среднее             1   \n",
       "12         0            NaN         65              среднее             1   \n",
       "13         0   -1846.641941         54  неоконченное высшее             2   \n",
       "14         0   -1844.956182         56               высшее             0   \n",
       "15         1    -972.364419         26              среднее             1   \n",
       "16         0   -1719.934226         35              среднее             1   \n",
       "17         0   -2369.999720         33               высшее             0   \n",
       "18         0  400281.136913         53              среднее             1   \n",
       "19         0  -10038.818549         48              СРЕДНЕЕ             1   \n",
       "\n",
       "       family_status  family_status_id gender income_type  debt  \\\n",
       "0    женат / замужем                 0      F   сотрудник     0   \n",
       "1    женат / замужем                 0      F   сотрудник     0   \n",
       "2    женат / замужем                 0      M   сотрудник     0   \n",
       "3    женат / замужем                 0      M   сотрудник     0   \n",
       "4   гражданский брак                 1      F   пенсионер     0   \n",
       "5   гражданский брак                 1      M   компаньон     0   \n",
       "6    женат / замужем                 0      F   компаньон     0   \n",
       "7    женат / замужем                 0      M   сотрудник     0   \n",
       "8   гражданский брак                 1      F   сотрудник     0   \n",
       "9    женат / замужем                 0      M   сотрудник     0   \n",
       "10   женат / замужем                 0      M   компаньон     0   \n",
       "11   женат / замужем                 0      F   сотрудник     0   \n",
       "12  гражданский брак                 1      M   пенсионер     0   \n",
       "13   женат / замужем                 0      F   сотрудник     0   \n",
       "14  гражданский брак                 1      F   компаньон     1   \n",
       "15   женат / замужем                 0      F   сотрудник     0   \n",
       "16   женат / замужем                 0      F   сотрудник     0   \n",
       "17  гражданский брак                 1      M   сотрудник     0   \n",
       "18    вдовец / вдова                 2      F   пенсионер     0   \n",
       "19         в разводе                 3      F   сотрудник     0   \n",
       "\n",
       "     total_income                                 purpose  \n",
       "0   253875.639453                           покупка жилья  \n",
       "1   112080.014102                 приобретение автомобиля  \n",
       "2   145885.952297                           покупка жилья  \n",
       "3   267628.550329              дополнительное образование  \n",
       "4   158616.077870                         сыграть свадьбу  \n",
       "5   255763.565419                           покупка жилья  \n",
       "6   240525.971920                       операции с жильем  \n",
       "7   135823.934197                             образование  \n",
       "8    95856.832424                   на проведение свадьбы  \n",
       "9   144425.938277                 покупка жилья для семьи  \n",
       "10  113943.491460                    покупка недвижимости  \n",
       "11   77069.234271       покупка коммерческой недвижимости  \n",
       "12            NaN                         сыграть свадьбу  \n",
       "13  130458.228857                 приобретение автомобиля  \n",
       "14  165127.911772              покупка жилой недвижимости  \n",
       "15  116820.904450  строительство собственной недвижимости  \n",
       "16  289202.704229                            недвижимость  \n",
       "17   90410.586745              строительство недвижимости  \n",
       "18   56823.777243      на покупку подержанного автомобиля  \n",
       "19  242831.107982            на покупку своего автомобиля  "
      ]
     },
     "execution_count": 2,
     "metadata": {},
     "output_type": "execute_result"
    }
   ],
   "source": [
    "data.head(20)"
   ]
  },
  {
   "cell_type": "markdown",
   "id": "0ed8f27f",
   "metadata": {
    "deletable": false,
    "editable": false,
    "id": "0ed8f27f"
   },
   "source": [
    "**Задание 3. Выведите основную информацию о датафрейме с помощью метода `info()`.**"
   ]
  },
  {
   "cell_type": "code",
   "execution_count": 3,
   "id": "ab3f863b",
   "metadata": {
    "deletable": false,
    "id": "ab3f863b",
    "outputId": "15376089-8dad-46c9-b520-c05248d43158"
   },
   "outputs": [
    {
     "name": "stdout",
     "output_type": "stream",
     "text": [
      "<class 'pandas.core.frame.DataFrame'>\n",
      "RangeIndex: 21525 entries, 0 to 21524\n",
      "Data columns (total 12 columns):\n",
      " #   Column            Non-Null Count  Dtype  \n",
      "---  ------            --------------  -----  \n",
      " 0   children          21525 non-null  int64  \n",
      " 1   days_employed     19351 non-null  float64\n",
      " 2   dob_years         21525 non-null  int64  \n",
      " 3   education         21525 non-null  object \n",
      " 4   education_id      21525 non-null  int64  \n",
      " 5   family_status     21525 non-null  object \n",
      " 6   family_status_id  21525 non-null  int64  \n",
      " 7   gender            21525 non-null  object \n",
      " 8   income_type       21525 non-null  object \n",
      " 9   debt              21525 non-null  int64  \n",
      " 10  total_income      19351 non-null  float64\n",
      " 11  purpose           21525 non-null  object \n",
      "dtypes: float64(2), int64(5), object(5)\n",
      "memory usage: 2.0+ MB\n"
     ]
    }
   ],
   "source": [
    "data.info()"
   ]
  },
  {
   "cell_type": "markdown",
   "id": "60e3e22d",
   "metadata": {
    "deletable": false,
    "editable": false,
    "id": "60e3e22d"
   },
   "source": [
    "## Предобработка данных"
   ]
  },
  {
   "cell_type": "markdown",
   "id": "03dc170c",
   "metadata": {
    "deletable": false,
    "editable": false,
    "id": "03dc170c"
   },
   "source": [
    "### Удаление пропусков"
   ]
  },
  {
   "cell_type": "markdown",
   "id": "a4f54eef",
   "metadata": {
    "deletable": false,
    "editable": false,
    "id": "a4f54eef"
   },
   "source": [
    "**Задание 4. Выведите количество пропущенных значений для каждого столбца. Используйте комбинацию двух методов.**"
   ]
  },
  {
   "cell_type": "code",
   "execution_count": 4,
   "id": "2dc372b2",
   "metadata": {
    "deletable": false,
    "id": "2dc372b2",
    "outputId": "81f4d817-781c-465c-ed15-91ce4446810d"
   },
   "outputs": [
    {
     "data": {
      "text/plain": [
       "children               0\n",
       "days_employed       2174\n",
       "dob_years              0\n",
       "education              0\n",
       "education_id           0\n",
       "family_status          0\n",
       "family_status_id       0\n",
       "gender                 0\n",
       "income_type            0\n",
       "debt                   0\n",
       "total_income        2174\n",
       "purpose                0\n",
       "dtype: int64"
      ]
     },
     "execution_count": 4,
     "metadata": {},
     "output_type": "execute_result"
    }
   ],
   "source": [
    "data.isna().sum()"
   ]
  },
  {
   "cell_type": "markdown",
   "id": "14f011b1",
   "metadata": {
    "deletable": false,
    "editable": false,
    "id": "14f011b1"
   },
   "source": [
    "**Задание 5. В двух столбцах есть пропущенные значения. Один из них — `days_employed`. Пропуски в этом столбце вы обработаете на следующем этапе. Другой столбец с пропущенными значениями — `total_income` — хранит данные о доходах. На сумму дохода сильнее всего влияет тип занятости, поэтому заполнить пропуски в этом столбце нужно медианным значением по каждому типу из столбца `income_type`. Например, у человека с типом занятости `сотрудник` пропуск в столбце `total_income` должен быть заполнен медианным доходом среди всех записей с тем же типом.**"
   ]
  },
  {
   "cell_type": "code",
   "execution_count": 5,
   "id": "bdabfb6e",
   "metadata": {
    "deletable": false,
    "id": "bdabfb6e"
   },
   "outputs": [],
   "source": [
    "for t in data['income_type'].unique():\n",
    "    data.loc[(data['income_type'] == t) & (data['total_income'].isna()), 'total_income'] = \\\n",
    "    data.loc[(data['income_type'] == t), 'total_income'].median()"
   ]
  },
  {
   "cell_type": "markdown",
   "id": "5be34059",
   "metadata": {
    "deletable": false,
    "editable": false,
    "id": "5be34059"
   },
   "source": [
    "### Обработка аномальных значений"
   ]
  },
  {
   "cell_type": "markdown",
   "id": "a87606cb",
   "metadata": {
    "deletable": false,
    "editable": false,
    "id": "a87606cb"
   },
   "source": [
    "**Задание 6. В данных могут встречаться артефакты (аномалии) — значения, которые не отражают действительность и появились по какой-то ошибке. таким артефактом будет отрицательное количество дней трудового стажа в столбце `days_employed`. Для реальных данных это нормально. Обработайте значения в этом столбце: замените все отрицательные значения положительными с помощью метода `abs()`.**"
   ]
  },
  {
   "cell_type": "code",
   "execution_count": 6,
   "id": "020c46cc",
   "metadata": {
    "deletable": false,
    "id": "020c46cc"
   },
   "outputs": [],
   "source": [
    "data['days_employed'] = data['days_employed'].abs()"
   ]
  },
  {
   "cell_type": "markdown",
   "id": "45538a3a",
   "metadata": {
    "deletable": false,
    "editable": false,
    "id": "45538a3a"
   },
   "source": [
    "**Задание 7. Для каждого типа занятости выведите медианное значение трудового стажа `days_employed` в днях.**"
   ]
  },
  {
   "cell_type": "code",
   "execution_count": 7,
   "id": "cd3e6328",
   "metadata": {
    "deletable": false,
    "id": "cd3e6328",
    "outputId": "801ef80e-522b-4668-f34e-565af7432bcf"
   },
   "outputs": [
    {
     "data": {
      "text/plain": [
       "income_type\n",
       "безработный        366413.652744\n",
       "в декрете            3296.759962\n",
       "госслужащий          2689.368353\n",
       "компаньон            1547.382223\n",
       "пенсионер          365213.306266\n",
       "предприниматель       520.848083\n",
       "сотрудник            1574.202821\n",
       "студент               578.751554\n",
       "Name: days_employed, dtype: float64"
      ]
     },
     "execution_count": 7,
     "metadata": {},
     "output_type": "execute_result"
    }
   ],
   "source": [
    "data.groupby('income_type')['days_employed'].agg('median')"
   ]
  },
  {
   "cell_type": "markdown",
   "id": "90c5f058",
   "metadata": {
    "deletable": false,
    "editable": false,
    "id": "90c5f058"
   },
   "source": [
    "У двух типов (безработные и пенсионеры) получатся аномально большие значения. Исправить такие значения сложно, поэтому оставьте их как есть."
   ]
  },
  {
   "cell_type": "markdown",
   "id": "9652e50d",
   "metadata": {
    "deletable": false,
    "editable": false,
    "id": "9652e50d"
   },
   "source": [
    "**Задание 8. Выведите перечень уникальных значений столбца `children`.**"
   ]
  },
  {
   "cell_type": "code",
   "execution_count": 8,
   "id": "dbb37b8e",
   "metadata": {
    "deletable": false,
    "id": "dbb37b8e",
    "outputId": "6975b15c-7f95-4697-d16d-a0c79b657b03"
   },
   "outputs": [
    {
     "data": {
      "text/plain": [
       "array([ 1,  0,  3,  2, -1,  4, 20,  5])"
      ]
     },
     "execution_count": 8,
     "metadata": {},
     "output_type": "execute_result"
    }
   ],
   "source": [
    "data['children'].unique()"
   ]
  },
  {
   "cell_type": "markdown",
   "id": "2b8b0715",
   "metadata": {
    "deletable": false,
    "editable": false,
    "id": "2b8b0715"
   },
   "source": [
    "**Задание 9. В столбце `children` есть два аномальных значения. Удалите строки, в которых встречаются такие аномальные значения из датафрейма `data`.**"
   ]
  },
  {
   "cell_type": "code",
   "execution_count": 9,
   "id": "20009df8",
   "metadata": {
    "deletable": false,
    "id": "20009df8"
   },
   "outputs": [],
   "source": [
    "data = data[(data['children'] != -1) & (data['children'] != 20)]"
   ]
  },
  {
   "cell_type": "markdown",
   "id": "8c6ac9f1",
   "metadata": {
    "deletable": false,
    "editable": false,
    "id": "8c6ac9f1"
   },
   "source": [
    "**Задание 10. Ещё раз выведите перечень уникальных значений столбца `children`, чтобы убедиться, что артефакты удалены.**"
   ]
  },
  {
   "cell_type": "code",
   "execution_count": 10,
   "id": "07337b81",
   "metadata": {
    "deletable": false,
    "id": "07337b81",
    "outputId": "b2097101-d49d-44d9-901b-32a65c9463d1"
   },
   "outputs": [
    {
     "data": {
      "text/plain": [
       "array([1, 0, 3, 2, 4, 5])"
      ]
     },
     "execution_count": 10,
     "metadata": {},
     "output_type": "execute_result"
    }
   ],
   "source": [
    "data['children'].unique()"
   ]
  },
  {
   "cell_type": "markdown",
   "id": "ee3f52d4",
   "metadata": {
    "deletable": false,
    "editable": false,
    "id": "ee3f52d4"
   },
   "source": [
    "### Удаление пропусков (продолжение)"
   ]
  },
  {
   "cell_type": "markdown",
   "id": "a700b0e4",
   "metadata": {
    "deletable": false,
    "editable": false,
    "id": "a700b0e4"
   },
   "source": [
    "**Задание 11. Заполните пропуски в столбце `days_employed` медианными значениями по каждого типа занятости `income_type`.**"
   ]
  },
  {
   "cell_type": "code",
   "execution_count": 11,
   "id": "61946b83",
   "metadata": {
    "deletable": false,
    "id": "61946b83"
   },
   "outputs": [],
   "source": [
    "for t in data['income_type'].unique():\n",
    "    data.loc[(data['income_type'] == t) & (data['days_employed'].isna()), 'days_employed'] = \\\n",
    "    data.loc[(data['income_type'] == t), 'days_employed'].median()"
   ]
  },
  {
   "cell_type": "markdown",
   "id": "550dcd9b",
   "metadata": {
    "deletable": false,
    "editable": false,
    "id": "550dcd9b"
   },
   "source": [
    "**Задание 12. Убедитесь, что все пропуски заполнены. Проверьте себя и ещё раз выведите количество пропущенных значений для каждого столбца с помощью двух методов.**"
   ]
  },
  {
   "cell_type": "code",
   "execution_count": 12,
   "id": "937c7014",
   "metadata": {
    "deletable": false,
    "id": "937c7014",
    "outputId": "8da1e4e1-358e-4e87-98c9-f261bce0a7b2"
   },
   "outputs": [
    {
     "data": {
      "text/plain": [
       "children            0\n",
       "days_employed       0\n",
       "dob_years           0\n",
       "education           0\n",
       "education_id        0\n",
       "family_status       0\n",
       "family_status_id    0\n",
       "gender              0\n",
       "income_type         0\n",
       "debt                0\n",
       "total_income        0\n",
       "purpose             0\n",
       "dtype: int64"
      ]
     },
     "execution_count": 12,
     "metadata": {},
     "output_type": "execute_result"
    }
   ],
   "source": [
    "data.isna().sum()"
   ]
  },
  {
   "cell_type": "markdown",
   "id": "d522e295",
   "metadata": {
    "deletable": false,
    "editable": false,
    "id": "d522e295"
   },
   "source": [
    "### Изменение типов данных"
   ]
  },
  {
   "cell_type": "markdown",
   "id": "c229c581",
   "metadata": {
    "deletable": false,
    "editable": false,
    "id": "c229c581"
   },
   "source": [
    "**Задание 13. Замените вещественный тип данных в столбце `total_income` на целочисленный с помощью метода `astype()`.**"
   ]
  },
  {
   "cell_type": "code",
   "execution_count": 13,
   "id": "31036462",
   "metadata": {
    "deletable": false,
    "id": "31036462"
   },
   "outputs": [],
   "source": [
    "data['total_income'] = data['total_income'].astype(int)"
   ]
  },
  {
   "cell_type": "markdown",
   "id": "b8e3d1d9",
   "metadata": {
    "deletable": false,
    "editable": false,
    "id": "b8e3d1d9"
   },
   "source": [
    "### Обработка дубликатов"
   ]
  },
  {
   "cell_type": "markdown",
   "id": "9be53c49",
   "metadata": {
    "deletable": false,
    "editable": false,
    "id": "9be53c49"
   },
   "source": [
    "**Задание 14. Обработайте неявные дубликаты в столбце `education`. В этом столбце есть одни и те же значения, но записанные по-разному: с использованием заглавных и строчных букв. Приведите их к нижнему регистру.**"
   ]
  },
  {
   "cell_type": "code",
   "execution_count": 14,
   "id": "d89e73e1",
   "metadata": {
    "deletable": false,
    "id": "d89e73e1"
   },
   "outputs": [],
   "source": [
    "data['education'] = data['education'].str.lower()"
   ]
  },
  {
   "cell_type": "markdown",
   "id": "01d4500e",
   "metadata": {
    "deletable": false,
    "editable": false,
    "id": "01d4500e"
   },
   "source": [
    "**Задание 15. Выведите на экран количество строк-дубликатов в данных. Если такие строки присутствуют, удалите их.**"
   ]
  },
  {
   "cell_type": "code",
   "execution_count": 15,
   "id": "e10efb23",
   "metadata": {
    "deletable": false,
    "id": "e10efb23",
    "outputId": "9684deba-1934-42d1-99e1-cda61740f822"
   },
   "outputs": [
    {
     "data": {
      "text/plain": [
       "71"
      ]
     },
     "execution_count": 15,
     "metadata": {},
     "output_type": "execute_result"
    }
   ],
   "source": [
    "data.duplicated().sum()"
   ]
  },
  {
   "cell_type": "code",
   "execution_count": 16,
   "id": "df853f20",
   "metadata": {
    "deletable": false,
    "id": "df853f20"
   },
   "outputs": [],
   "source": [
    "data = data.drop_duplicates()"
   ]
  },
  {
   "cell_type": "markdown",
   "id": "627be38f",
   "metadata": {
    "deletable": false,
    "editable": false,
    "id": "627be38f"
   },
   "source": [
    "### Категоризация данных"
   ]
  },
  {
   "cell_type": "markdown",
   "id": "4684c3e0",
   "metadata": {
    "deletable": false,
    "editable": false,
    "id": "4684c3e0"
   },
   "source": [
    "**Задание 16. На основании диапазонов, указанных ниже, создайте в датафрейме `data` столбец `total_income_category` с категориями:**\n",
    "\n",
    "- 0–30000 — `'E'`;\n",
    "- 30001–50000 — `'D'`;\n",
    "- 50001–200000 — `'C'`;\n",
    "- 200001–1000000 — `'B'`;\n",
    "- 1000001 и выше — `'A'`.\n",
    "\n",
    "\n",
    "**Например, кредитополучателю с доходом 25000 нужно назначить категорию `'E'`, а клиенту, получающему 235000, — `'B'`. Используйте собственную функцию с именем `categorize_income()` и метод `apply()`.**"
   ]
  },
  {
   "cell_type": "code",
   "execution_count": 17,
   "id": "78965238",
   "metadata": {
    "deletable": false,
    "id": "78965238"
   },
   "outputs": [],
   "source": [
    "def categorize_income(income):\n",
    "    try:\n",
    "        if 0 <= income <= 30000:\n",
    "            return 'E'\n",
    "        elif 30001 <= income <= 50000:\n",
    "            return 'D'\n",
    "        elif 50001 <= income <= 200000:\n",
    "            return 'C'\n",
    "        elif 200001 <= income <= 1000000:\n",
    "            return 'B'\n",
    "        elif income >= 1000001:\n",
    "            return 'A'\n",
    "    except:\n",
    "        pass"
   ]
  },
  {
   "cell_type": "code",
   "execution_count": 18,
   "id": "0980ada1",
   "metadata": {
    "deletable": false,
    "id": "0980ada1"
   },
   "outputs": [],
   "source": [
    "data['total_income_category'] = data['total_income'].apply(categorize_income)"
   ]
  },
  {
   "cell_type": "markdown",
   "id": "9917bba0",
   "metadata": {
    "deletable": false,
    "editable": false,
    "id": "9917bba0"
   },
   "source": [
    "**Задание 17. Выведите на экран перечень уникальных целей взятия кредита из столбца `purpose`.**"
   ]
  },
  {
   "cell_type": "code",
   "execution_count": 19,
   "id": "ee07b65e",
   "metadata": {
    "deletable": false,
    "id": "ee07b65e",
    "outputId": "673c12d9-7d7e-4ae0-9812-c622c89dd244"
   },
   "outputs": [
    {
     "data": {
      "text/plain": [
       "array(['покупка жилья', 'приобретение автомобиля',\n",
       "       'дополнительное образование', 'сыграть свадьбу',\n",
       "       'операции с жильем', 'образование', 'на проведение свадьбы',\n",
       "       'покупка жилья для семьи', 'покупка недвижимости',\n",
       "       'покупка коммерческой недвижимости', 'покупка жилой недвижимости',\n",
       "       'строительство собственной недвижимости', 'недвижимость',\n",
       "       'строительство недвижимости', 'на покупку подержанного автомобиля',\n",
       "       'на покупку своего автомобиля',\n",
       "       'операции с коммерческой недвижимостью',\n",
       "       'строительство жилой недвижимости', 'жилье',\n",
       "       'операции со своей недвижимостью', 'автомобили',\n",
       "       'заняться образованием', 'сделка с подержанным автомобилем',\n",
       "       'получение образования', 'автомобиль', 'свадьба',\n",
       "       'получение дополнительного образования', 'покупка своего жилья',\n",
       "       'операции с недвижимостью', 'получение высшего образования',\n",
       "       'свой автомобиль', 'сделка с автомобилем',\n",
       "       'профильное образование', 'высшее образование',\n",
       "       'покупка жилья для сдачи', 'на покупку автомобиля', 'ремонт жилью',\n",
       "       'заняться высшим образованием'], dtype=object)"
      ]
     },
     "execution_count": 19,
     "metadata": {},
     "output_type": "execute_result"
    }
   ],
   "source": [
    "data['purpose'].unique()"
   ]
  },
  {
   "cell_type": "markdown",
   "id": "52b79d56",
   "metadata": {
    "deletable": false,
    "editable": false,
    "id": "52b79d56"
   },
   "source": [
    "**Задание 18. Создайте функцию, которая на основании данных из столбца `purpose` сформирует новый столбец `purpose_category`, в который войдут следующие категории:**\n",
    "\n",
    "- `'операции с автомобилем'`,\n",
    "- `'операции с недвижимостью'`,\n",
    "- `'проведение свадьбы'`,\n",
    "- `'получение образования'`.\n",
    "\n",
    "**Например, если в столбце `purpose` находится подстрока `'на покупку автомобиля'`, то в столбце `purpose_category` должна появиться строка `'операции с автомобилем'`.**\n",
    "\n",
    "**Используйте собственную функцию с именем `categorize_purpose()` и метод `apply()`. Изучите данные в столбце `purpose` и определите, какие подстроки помогут вам правильно определить категорию.**"
   ]
  },
  {
   "cell_type": "code",
   "execution_count": 20,
   "id": "be41da5d",
   "metadata": {
    "deletable": false,
    "id": "be41da5d"
   },
   "outputs": [],
   "source": [
    "def categorize_purpose(row):\n",
    "    try:\n",
    "        if 'автом' in row:\n",
    "            return 'операции с автомобилем'\n",
    "        elif 'жил' in row or 'недвиж' in row:\n",
    "            return 'операции с недвижимостью'\n",
    "        elif 'свад' in row:\n",
    "            return 'проведение свадьбы'\n",
    "        elif 'образов' in row:\n",
    "            return 'получение образования'\n",
    "    except:\n",
    "        return 'нет категории'"
   ]
  },
  {
   "cell_type": "code",
   "execution_count": 21,
   "id": "94c4a19a",
   "metadata": {
    "deletable": false,
    "id": "94c4a19a"
   },
   "outputs": [
    {
     "data": {
      "text/html": [
       "<div>\n",
       "<style scoped>\n",
       "    .dataframe tbody tr th:only-of-type {\n",
       "        vertical-align: middle;\n",
       "    }\n",
       "\n",
       "    .dataframe tbody tr th {\n",
       "        vertical-align: top;\n",
       "    }\n",
       "\n",
       "    .dataframe thead th {\n",
       "        text-align: right;\n",
       "    }\n",
       "</style>\n",
       "<table border=\"1\" class=\"dataframe\">\n",
       "  <thead>\n",
       "    <tr style=\"text-align: right;\">\n",
       "      <th></th>\n",
       "      <th>children</th>\n",
       "      <th>days_employed</th>\n",
       "      <th>dob_years</th>\n",
       "      <th>education</th>\n",
       "      <th>education_id</th>\n",
       "      <th>family_status</th>\n",
       "      <th>family_status_id</th>\n",
       "      <th>gender</th>\n",
       "      <th>income_type</th>\n",
       "      <th>debt</th>\n",
       "      <th>total_income</th>\n",
       "      <th>purpose</th>\n",
       "      <th>total_income_category</th>\n",
       "      <th>purpose_category</th>\n",
       "    </tr>\n",
       "  </thead>\n",
       "  <tbody>\n",
       "    <tr>\n",
       "      <th>0</th>\n",
       "      <td>1</td>\n",
       "      <td>8437.673028</td>\n",
       "      <td>42</td>\n",
       "      <td>высшее</td>\n",
       "      <td>0</td>\n",
       "      <td>женат / замужем</td>\n",
       "      <td>0</td>\n",
       "      <td>F</td>\n",
       "      <td>сотрудник</td>\n",
       "      <td>0</td>\n",
       "      <td>253875</td>\n",
       "      <td>покупка жилья</td>\n",
       "      <td>B</td>\n",
       "      <td>операции с недвижимостью</td>\n",
       "    </tr>\n",
       "    <tr>\n",
       "      <th>1</th>\n",
       "      <td>1</td>\n",
       "      <td>4024.803754</td>\n",
       "      <td>36</td>\n",
       "      <td>среднее</td>\n",
       "      <td>1</td>\n",
       "      <td>женат / замужем</td>\n",
       "      <td>0</td>\n",
       "      <td>F</td>\n",
       "      <td>сотрудник</td>\n",
       "      <td>0</td>\n",
       "      <td>112080</td>\n",
       "      <td>приобретение автомобиля</td>\n",
       "      <td>C</td>\n",
       "      <td>операции с автомобилем</td>\n",
       "    </tr>\n",
       "    <tr>\n",
       "      <th>2</th>\n",
       "      <td>0</td>\n",
       "      <td>5623.422610</td>\n",
       "      <td>33</td>\n",
       "      <td>среднее</td>\n",
       "      <td>1</td>\n",
       "      <td>женат / замужем</td>\n",
       "      <td>0</td>\n",
       "      <td>M</td>\n",
       "      <td>сотрудник</td>\n",
       "      <td>0</td>\n",
       "      <td>145885</td>\n",
       "      <td>покупка жилья</td>\n",
       "      <td>C</td>\n",
       "      <td>операции с недвижимостью</td>\n",
       "    </tr>\n",
       "    <tr>\n",
       "      <th>3</th>\n",
       "      <td>3</td>\n",
       "      <td>4124.747207</td>\n",
       "      <td>32</td>\n",
       "      <td>среднее</td>\n",
       "      <td>1</td>\n",
       "      <td>женат / замужем</td>\n",
       "      <td>0</td>\n",
       "      <td>M</td>\n",
       "      <td>сотрудник</td>\n",
       "      <td>0</td>\n",
       "      <td>267628</td>\n",
       "      <td>дополнительное образование</td>\n",
       "      <td>B</td>\n",
       "      <td>получение образования</td>\n",
       "    </tr>\n",
       "    <tr>\n",
       "      <th>4</th>\n",
       "      <td>0</td>\n",
       "      <td>340266.072047</td>\n",
       "      <td>53</td>\n",
       "      <td>среднее</td>\n",
       "      <td>1</td>\n",
       "      <td>гражданский брак</td>\n",
       "      <td>1</td>\n",
       "      <td>F</td>\n",
       "      <td>пенсионер</td>\n",
       "      <td>0</td>\n",
       "      <td>158616</td>\n",
       "      <td>сыграть свадьбу</td>\n",
       "      <td>C</td>\n",
       "      <td>проведение свадьбы</td>\n",
       "    </tr>\n",
       "    <tr>\n",
       "      <th>5</th>\n",
       "      <td>0</td>\n",
       "      <td>926.185831</td>\n",
       "      <td>27</td>\n",
       "      <td>высшее</td>\n",
       "      <td>0</td>\n",
       "      <td>гражданский брак</td>\n",
       "      <td>1</td>\n",
       "      <td>M</td>\n",
       "      <td>компаньон</td>\n",
       "      <td>0</td>\n",
       "      <td>255763</td>\n",
       "      <td>покупка жилья</td>\n",
       "      <td>B</td>\n",
       "      <td>операции с недвижимостью</td>\n",
       "    </tr>\n",
       "    <tr>\n",
       "      <th>6</th>\n",
       "      <td>0</td>\n",
       "      <td>2879.202052</td>\n",
       "      <td>43</td>\n",
       "      <td>высшее</td>\n",
       "      <td>0</td>\n",
       "      <td>женат / замужем</td>\n",
       "      <td>0</td>\n",
       "      <td>F</td>\n",
       "      <td>компаньон</td>\n",
       "      <td>0</td>\n",
       "      <td>240525</td>\n",
       "      <td>операции с жильем</td>\n",
       "      <td>B</td>\n",
       "      <td>операции с недвижимостью</td>\n",
       "    </tr>\n",
       "    <tr>\n",
       "      <th>7</th>\n",
       "      <td>0</td>\n",
       "      <td>152.779569</td>\n",
       "      <td>50</td>\n",
       "      <td>среднее</td>\n",
       "      <td>1</td>\n",
       "      <td>женат / замужем</td>\n",
       "      <td>0</td>\n",
       "      <td>M</td>\n",
       "      <td>сотрудник</td>\n",
       "      <td>0</td>\n",
       "      <td>135823</td>\n",
       "      <td>образование</td>\n",
       "      <td>C</td>\n",
       "      <td>получение образования</td>\n",
       "    </tr>\n",
       "    <tr>\n",
       "      <th>8</th>\n",
       "      <td>2</td>\n",
       "      <td>6929.865299</td>\n",
       "      <td>35</td>\n",
       "      <td>высшее</td>\n",
       "      <td>0</td>\n",
       "      <td>гражданский брак</td>\n",
       "      <td>1</td>\n",
       "      <td>F</td>\n",
       "      <td>сотрудник</td>\n",
       "      <td>0</td>\n",
       "      <td>95856</td>\n",
       "      <td>на проведение свадьбы</td>\n",
       "      <td>C</td>\n",
       "      <td>проведение свадьбы</td>\n",
       "    </tr>\n",
       "    <tr>\n",
       "      <th>9</th>\n",
       "      <td>0</td>\n",
       "      <td>2188.756445</td>\n",
       "      <td>41</td>\n",
       "      <td>среднее</td>\n",
       "      <td>1</td>\n",
       "      <td>женат / замужем</td>\n",
       "      <td>0</td>\n",
       "      <td>M</td>\n",
       "      <td>сотрудник</td>\n",
       "      <td>0</td>\n",
       "      <td>144425</td>\n",
       "      <td>покупка жилья для семьи</td>\n",
       "      <td>C</td>\n",
       "      <td>операции с недвижимостью</td>\n",
       "    </tr>\n",
       "  </tbody>\n",
       "</table>\n",
       "</div>"
      ],
      "text/plain": [
       "   children  days_employed  dob_years education  education_id  \\\n",
       "0         1    8437.673028         42    высшее             0   \n",
       "1         1    4024.803754         36   среднее             1   \n",
       "2         0    5623.422610         33   среднее             1   \n",
       "3         3    4124.747207         32   среднее             1   \n",
       "4         0  340266.072047         53   среднее             1   \n",
       "5         0     926.185831         27    высшее             0   \n",
       "6         0    2879.202052         43    высшее             0   \n",
       "7         0     152.779569         50   среднее             1   \n",
       "8         2    6929.865299         35    высшее             0   \n",
       "9         0    2188.756445         41   среднее             1   \n",
       "\n",
       "      family_status  family_status_id gender income_type  debt  total_income  \\\n",
       "0   женат / замужем                 0      F   сотрудник     0        253875   \n",
       "1   женат / замужем                 0      F   сотрудник     0        112080   \n",
       "2   женат / замужем                 0      M   сотрудник     0        145885   \n",
       "3   женат / замужем                 0      M   сотрудник     0        267628   \n",
       "4  гражданский брак                 1      F   пенсионер     0        158616   \n",
       "5  гражданский брак                 1      M   компаньон     0        255763   \n",
       "6   женат / замужем                 0      F   компаньон     0        240525   \n",
       "7   женат / замужем                 0      M   сотрудник     0        135823   \n",
       "8  гражданский брак                 1      F   сотрудник     0         95856   \n",
       "9   женат / замужем                 0      M   сотрудник     0        144425   \n",
       "\n",
       "                      purpose total_income_category          purpose_category  \n",
       "0               покупка жилья                     B  операции с недвижимостью  \n",
       "1     приобретение автомобиля                     C    операции с автомобилем  \n",
       "2               покупка жилья                     C  операции с недвижимостью  \n",
       "3  дополнительное образование                     B     получение образования  \n",
       "4             сыграть свадьбу                     C        проведение свадьбы  \n",
       "5               покупка жилья                     B  операции с недвижимостью  \n",
       "6           операции с жильем                     B  операции с недвижимостью  \n",
       "7                 образование                     C     получение образования  \n",
       "8       на проведение свадьбы                     C        проведение свадьбы  \n",
       "9     покупка жилья для семьи                     C  операции с недвижимостью  "
      ]
     },
     "execution_count": 21,
     "metadata": {},
     "output_type": "execute_result"
    }
   ],
   "source": [
    "data['purpose_category'] = data['purpose'].apply(categorize_purpose)\n",
    "data.head(10)"
   ]
  },
  {
   "cell_type": "markdown",
   "id": "3d596c34",
   "metadata": {
    "deletable": false,
    "editable": false,
    "id": "3d596c34"
   },
   "source": [
    "### Шаг 3. Исследуйте данные и ответьте на вопросы"
   ]
  },
  {
   "cell_type": "markdown",
   "id": "648db036",
   "metadata": {
    "deletable": false,
    "editable": false,
    "id": "648db036"
   },
   "source": [
    "#### 3.1 Есть ли зависимость между количеством детей и возвратом кредита в срок?"
   ]
  },
  {
   "cell_type": "code",
   "execution_count": 22,
   "id": "7fcff25e",
   "metadata": {
    "deletable": false,
    "id": "7fcff25e"
   },
   "outputs": [
    {
     "data": {
      "text/html": [
       "<div>\n",
       "<style scoped>\n",
       "    .dataframe tbody tr th:only-of-type {\n",
       "        vertical-align: middle;\n",
       "    }\n",
       "\n",
       "    .dataframe tbody tr th {\n",
       "        vertical-align: top;\n",
       "    }\n",
       "\n",
       "    .dataframe thead th {\n",
       "        text-align: right;\n",
       "    }\n",
       "</style>\n",
       "<table border=\"1\" class=\"dataframe\">\n",
       "  <thead>\n",
       "    <tr style=\"text-align: right;\">\n",
       "      <th></th>\n",
       "      <th>Количество заемщиков(кредитов)</th>\n",
       "      <th>Средний % просрочки</th>\n",
       "    </tr>\n",
       "    <tr>\n",
       "      <th>children</th>\n",
       "      <th></th>\n",
       "      <th></th>\n",
       "    </tr>\n",
       "  </thead>\n",
       "  <tbody>\n",
       "    <tr>\n",
       "      <th>0</th>\n",
       "      <td>14091.0</td>\n",
       "      <td>7.54%</td>\n",
       "    </tr>\n",
       "    <tr>\n",
       "      <th>1</th>\n",
       "      <td>4808.0</td>\n",
       "      <td>9.23%</td>\n",
       "    </tr>\n",
       "    <tr>\n",
       "      <th>2</th>\n",
       "      <td>2052.0</td>\n",
       "      <td>9.45%</td>\n",
       "    </tr>\n",
       "    <tr>\n",
       "      <th>3</th>\n",
       "      <td>330.0</td>\n",
       "      <td>8.18%</td>\n",
       "    </tr>\n",
       "    <tr>\n",
       "      <th>4</th>\n",
       "      <td>41.0</td>\n",
       "      <td>9.76%</td>\n",
       "    </tr>\n",
       "    <tr>\n",
       "      <th>5</th>\n",
       "      <td>9.0</td>\n",
       "      <td>0.00%</td>\n",
       "    </tr>\n",
       "  </tbody>\n",
       "</table>\n",
       "</div>"
      ],
      "text/plain": [
       "          Количество заемщиков(кредитов) Средний % просрочки\n",
       "children                                                    \n",
       "0                                14091.0               7.54%\n",
       "1                                 4808.0               9.23%\n",
       "2                                 2052.0               9.45%\n",
       "3                                  330.0               8.18%\n",
       "4                                   41.0               9.76%\n",
       "5                                    9.0               0.00%"
      ]
     },
     "execution_count": 22,
     "metadata": {},
     "output_type": "execute_result"
    }
   ],
   "source": [
    "children_pivot = data.pivot_table(index = ['children'], values='debt', aggfunc = ('mean', lambda X:X.count()))\n",
    "\n",
    "def percent(x):\n",
    "    return \"{0:.2%}\".format(x)\n",
    "\n",
    "children_pivot['mean'] = children_pivot['mean'].apply(percent)\n",
    "children_pivot = children_pivot.rename(columns={\"<lambda_0>\": \"Количество заемщиков(кредитов)\", \"mean\": \"Средний % просрочки\"})\n",
    "children_pivot.sort_values(by='Количество заемщиков(кредитов)', ascending=False)"
   ]
  },
  {
   "cell_type": "markdown",
   "id": "2eb9088e",
   "metadata": {
    "deletable": false,
    "id": "2eb9088e"
   },
   "source": [
    "**Вывод:** Судя по данным,в целом количество детей не зависит на возврат кредита, но у тех у кого нет детей - возврат лучше."
   ]
  },
  {
   "cell_type": "markdown",
   "id": "4ed831ac",
   "metadata": {},
   "source": [
    "<div class=\"alert alert-success\" style=\"border-radius: 10px; box-shadow: 2px 2px 2px; border: 1px solid; padding: 10px \">\n",
    "<b>Комментарий ревьюера v.2</b> \n",
    "    \n",
    "👍 \n",
    "\n",
    "</div>"
   ]
  },
  {
   "cell_type": "markdown",
   "id": "74c9b3a7",
   "metadata": {
    "deletable": false,
    "editable": false,
    "id": "74c9b3a7"
   },
   "source": [
    "#### 3.2 Есть ли зависимость между семейным положением и возвратом кредита в срок?"
   ]
  },
  {
   "cell_type": "code",
   "execution_count": 23,
   "id": "8098ab3b",
   "metadata": {
    "deletable": false,
    "id": "8098ab3b"
   },
   "outputs": [
    {
     "data": {
      "text/html": [
       "<div>\n",
       "<style scoped>\n",
       "    .dataframe tbody tr th:only-of-type {\n",
       "        vertical-align: middle;\n",
       "    }\n",
       "\n",
       "    .dataframe tbody tr th {\n",
       "        vertical-align: top;\n",
       "    }\n",
       "\n",
       "    .dataframe thead th {\n",
       "        text-align: right;\n",
       "    }\n",
       "</style>\n",
       "<table border=\"1\" class=\"dataframe\">\n",
       "  <thead>\n",
       "    <tr style=\"text-align: right;\">\n",
       "      <th></th>\n",
       "      <th>Количество заемщиков(кредитов)</th>\n",
       "      <th>Средний % просрочки</th>\n",
       "    </tr>\n",
       "    <tr>\n",
       "      <th>family_status</th>\n",
       "      <th></th>\n",
       "      <th></th>\n",
       "    </tr>\n",
       "  </thead>\n",
       "  <tbody>\n",
       "    <tr>\n",
       "      <th>женат / замужем</th>\n",
       "      <td>12261.0</td>\n",
       "      <td>7.56%</td>\n",
       "    </tr>\n",
       "    <tr>\n",
       "      <th>гражданский брак</th>\n",
       "      <td>4134.0</td>\n",
       "      <td>9.31%</td>\n",
       "    </tr>\n",
       "    <tr>\n",
       "      <th>Не женат / не замужем</th>\n",
       "      <td>2796.0</td>\n",
       "      <td>9.76%</td>\n",
       "    </tr>\n",
       "    <tr>\n",
       "      <th>в разводе</th>\n",
       "      <td>1189.0</td>\n",
       "      <td>7.06%</td>\n",
       "    </tr>\n",
       "    <tr>\n",
       "      <th>вдовец / вдова</th>\n",
       "      <td>951.0</td>\n",
       "      <td>6.62%</td>\n",
       "    </tr>\n",
       "  </tbody>\n",
       "</table>\n",
       "</div>"
      ],
      "text/plain": [
       "                       Количество заемщиков(кредитов) Средний % просрочки\n",
       "family_status                                                            \n",
       "женат / замужем                               12261.0               7.56%\n",
       "гражданский брак                               4134.0               9.31%\n",
       "Не женат / не замужем                          2796.0               9.76%\n",
       "в разводе                                      1189.0               7.06%\n",
       "вдовец / вдова                                  951.0               6.62%"
      ]
     },
     "execution_count": 23,
     "metadata": {},
     "output_type": "execute_result"
    }
   ],
   "source": [
    "family_pivot = data.pivot_table(index = ['family_status'], values='debt', aggfunc = ('mean', lambda X:X.count()))\n",
    "\n",
    "def percent(x):\n",
    "    return \"{0:.2%}\".format(x)\n",
    "\n",
    "family_pivot['mean'] = family_pivot['mean'].apply(percent)\n",
    "family_pivot = family_pivot.rename(columns={\"<lambda_0>\": \"Количество заемщиков(кредитов)\", \"mean\": \"Средний % просрочки\"})\n",
    "family_pivot.sort_values(by='Количество заемщиков(кредитов)', ascending=False)"
   ]
  },
  {
   "cell_type": "markdown",
   "id": "c389ca63",
   "metadata": {
    "deletable": false,
    "id": "c389ca63"
   },
   "source": [
    "**Вывод:** судя по данным, те кто не женат/не замужем и в гражданском браке больше остальных не возвращают займы. "
   ]
  },
  {
   "cell_type": "markdown",
   "id": "05f6dd6b",
   "metadata": {},
   "source": [
    "<div class=\"alert alert-success\" style=\"border-radius: 10px; box-shadow: 2px 2px 2px; border: 1px solid; padding: 10px \">\n",
    "<b>Комментарий ревьюера v.1</b> \n",
    "    \n",
    "👍 \n",
    "В точку! Кредитному отделу следует с осторожностью относиться к клиентам, которые не состоят или не состояли в браке."
   ]
  },
  {
   "cell_type": "markdown",
   "id": "9529de68",
   "metadata": {
    "deletable": false,
    "editable": false,
    "id": "9529de68"
   },
   "source": [
    "#### 3.3 Есть ли зависимость между уровнем дохода и возвратом кредита в срок?"
   ]
  },
  {
   "cell_type": "code",
   "execution_count": 24,
   "id": "8787f44a",
   "metadata": {
    "deletable": false,
    "id": "8787f44a"
   },
   "outputs": [
    {
     "data": {
      "text/html": [
       "<div>\n",
       "<style scoped>\n",
       "    .dataframe tbody tr th:only-of-type {\n",
       "        vertical-align: middle;\n",
       "    }\n",
       "\n",
       "    .dataframe tbody tr th {\n",
       "        vertical-align: top;\n",
       "    }\n",
       "\n",
       "    .dataframe thead th {\n",
       "        text-align: right;\n",
       "    }\n",
       "</style>\n",
       "<table border=\"1\" class=\"dataframe\">\n",
       "  <thead>\n",
       "    <tr style=\"text-align: right;\">\n",
       "      <th></th>\n",
       "      <th>Количество заемщиков(кредитов)</th>\n",
       "      <th>Средний % просрочки</th>\n",
       "    </tr>\n",
       "    <tr>\n",
       "      <th>total_income_category</th>\n",
       "      <th></th>\n",
       "      <th></th>\n",
       "    </tr>\n",
       "  </thead>\n",
       "  <tbody>\n",
       "    <tr>\n",
       "      <th>A</th>\n",
       "      <td>25.0</td>\n",
       "      <td>8.00%</td>\n",
       "    </tr>\n",
       "    <tr>\n",
       "      <th>B</th>\n",
       "      <td>5014.0</td>\n",
       "      <td>7.06%</td>\n",
       "    </tr>\n",
       "    <tr>\n",
       "      <th>C</th>\n",
       "      <td>15921.0</td>\n",
       "      <td>8.50%</td>\n",
       "    </tr>\n",
       "    <tr>\n",
       "      <th>D</th>\n",
       "      <td>349.0</td>\n",
       "      <td>6.02%</td>\n",
       "    </tr>\n",
       "    <tr>\n",
       "      <th>E</th>\n",
       "      <td>22.0</td>\n",
       "      <td>9.09%</td>\n",
       "    </tr>\n",
       "  </tbody>\n",
       "</table>\n",
       "</div>"
      ],
      "text/plain": [
       "                       Количество заемщиков(кредитов) Средний % просрочки\n",
       "total_income_category                                                    \n",
       "A                                                25.0               8.00%\n",
       "B                                              5014.0               7.06%\n",
       "C                                             15921.0               8.50%\n",
       "D                                               349.0               6.02%\n",
       "E                                                22.0               9.09%"
      ]
     },
     "execution_count": 24,
     "metadata": {},
     "output_type": "execute_result"
    }
   ],
   "source": [
    "income_pivot = data.pivot_table(index = ['total_income_category'], values='debt', aggfunc = ('mean', lambda X:X.count()))\n",
    "\n",
    "def percent(x):\n",
    "    return \"{0:.2%}\".format(x)\n",
    "\n",
    "income_pivot['mean'] = income_pivot['mean'].apply(percent)\n",
    "income_pivot = income_pivot.rename(columns={\"<lambda_0>\": \"Количество заемщиков(кредитов)\", \"mean\": \"Средний % просрочки\"})\n",
    "income_pivot.sort_values(by='total_income_category', ascending= True)"
   ]
  },
  {
   "cell_type": "markdown",
   "id": "6dd14b57",
   "metadata": {
    "deletable": false,
    "id": "6dd14b57"
   },
   "source": [
    "**Вывод:** судя по данным, в целом зарплата не зависит на погашение займа, но есть категория клиентов (с зарплатой меньше 30 000), которые имеют просрочки больше чем у других."
   ]
  },
  {
   "cell_type": "markdown",
   "id": "1dcc9b12",
   "metadata": {
    "deletable": false,
    "editable": false,
    "id": "1dcc9b12"
   },
   "source": [
    "#### 3.4 Как разные цели кредита влияют на его возврат в срок?"
   ]
  },
  {
   "cell_type": "code",
   "execution_count": 25,
   "id": "c602bc8b",
   "metadata": {
    "deletable": false,
    "id": "c602bc8b"
   },
   "outputs": [
    {
     "data": {
      "text/html": [
       "<div>\n",
       "<style scoped>\n",
       "    .dataframe tbody tr th:only-of-type {\n",
       "        vertical-align: middle;\n",
       "    }\n",
       "\n",
       "    .dataframe tbody tr th {\n",
       "        vertical-align: top;\n",
       "    }\n",
       "\n",
       "    .dataframe thead th {\n",
       "        text-align: right;\n",
       "    }\n",
       "</style>\n",
       "<table border=\"1\" class=\"dataframe\">\n",
       "  <thead>\n",
       "    <tr style=\"text-align: right;\">\n",
       "      <th></th>\n",
       "      <th>Количество заемщиков(кредитов)</th>\n",
       "      <th>Средний % просрочки</th>\n",
       "    </tr>\n",
       "    <tr>\n",
       "      <th>purpose_category</th>\n",
       "      <th></th>\n",
       "      <th></th>\n",
       "    </tr>\n",
       "  </thead>\n",
       "  <tbody>\n",
       "    <tr>\n",
       "      <th>операции с недвижимостью</th>\n",
       "      <td>10751.0</td>\n",
       "      <td>7.26%</td>\n",
       "    </tr>\n",
       "    <tr>\n",
       "      <th>операции с автомобилем</th>\n",
       "      <td>4279.0</td>\n",
       "      <td>9.35%</td>\n",
       "    </tr>\n",
       "    <tr>\n",
       "      <th>получение образования</th>\n",
       "      <td>3988.0</td>\n",
       "      <td>9.25%</td>\n",
       "    </tr>\n",
       "    <tr>\n",
       "      <th>проведение свадьбы</th>\n",
       "      <td>2313.0</td>\n",
       "      <td>7.91%</td>\n",
       "    </tr>\n",
       "  </tbody>\n",
       "</table>\n",
       "</div>"
      ],
      "text/plain": [
       "                          Количество заемщиков(кредитов) Средний % просрочки\n",
       "purpose_category                                                            \n",
       "операции с недвижимостью                         10751.0               7.26%\n",
       "операции с автомобилем                            4279.0               9.35%\n",
       "получение образования                             3988.0               9.25%\n",
       "проведение свадьбы                                2313.0               7.91%"
      ]
     },
     "execution_count": 25,
     "metadata": {},
     "output_type": "execute_result"
    }
   ],
   "source": [
    "purpose_pivot = data.pivot_table(index = ['purpose_category'], values='debt', aggfunc = ('mean', lambda X:X.count()))\n",
    "\n",
    "def percent(x):\n",
    "    return \"{0:.2%}\".format(x)\n",
    "\n",
    "purpose_pivot['mean'] = purpose_pivot['mean'].apply(percent)\n",
    "purpose_pivot = purpose_pivot.rename(columns={\"<lambda_0>\": \"Количество заемщиков(кредитов)\", \"mean\": \"Средний % просрочки\"})\n",
    "purpose_pivot.sort_values(by=\"Количество заемщиков(кредитов)\", ascending= False)"
   ]
  },
  {
   "cell_type": "markdown",
   "id": "cf05ed63",
   "metadata": {
    "deletable": false,
    "id": "cf05ed63"
   },
   "source": [
    "**Вывод:** cудя по данным, можно сказать что те кто проводил операции с автомобилем и те кто потратил средства на получение образования возвращали не в срок. "
   ]
  },
  {
   "cell_type": "markdown",
   "id": "a2904ed9",
   "metadata": {},
   "source": [
    "<div class=\"alert alert-success\" style=\"border-radius: 10px; box-shadow: 2px 2px 2px; border: 1px solid; padding: 10px \">\n",
    "<b>Комментарий ревьюера v.1</b> \n",
    "    \n",
    "👍 \n",
    "Верно, клиенты, бравшие кредит на автомобиль и на образование, чаще становятся должниками. Сложно сказать, каковы причины таких особенностей."
   ]
  },
  {
   "cell_type": "markdown",
   "id": "9227336c",
   "metadata": {},
   "source": [
    "Так же дополнительно проверим, влияет ли возраст на возврат кредита!"
   ]
  },
  {
   "cell_type": "code",
   "execution_count": 26,
   "id": "206fe9cf",
   "metadata": {},
   "outputs": [
    {
     "data": {
      "text/plain": [
       "array([42, 36, 33, 32, 53, 27, 43, 50, 35, 41, 40, 65, 54, 56, 26, 48, 24,\n",
       "       21, 57, 67, 28, 63, 62, 47, 34, 68, 25, 31, 30, 20, 49, 37, 45, 61,\n",
       "       64, 44, 52, 46, 23, 38, 39, 51,  0, 59, 29, 60, 55, 58, 71, 22, 73,\n",
       "       66, 69, 19, 72, 70, 74, 75])"
      ]
     },
     "execution_count": 26,
     "metadata": {},
     "output_type": "execute_result"
    }
   ],
   "source": [
    "data['dob_years'].unique()"
   ]
  },
  {
   "cell_type": "code",
   "execution_count": 27,
   "id": "e018021a",
   "metadata": {},
   "outputs": [],
   "source": [
    "def categorize_years(age):\n",
    "    try:\n",
    "        if 0 <= age <= 30:\n",
    "            return 'молодые'\n",
    "        elif 31 <= age <= 60:\n",
    "            return 'взрослые'\n",
    "        elif age >= 61:\n",
    "            return 'пенсионеры'\n",
    "    except:\n",
    "        pass"
   ]
  },
  {
   "cell_type": "code",
   "execution_count": 28,
   "id": "620ef491",
   "metadata": {},
   "outputs": [
    {
     "data": {
      "text/html": [
       "<div>\n",
       "<style scoped>\n",
       "    .dataframe tbody tr th:only-of-type {\n",
       "        vertical-align: middle;\n",
       "    }\n",
       "\n",
       "    .dataframe tbody tr th {\n",
       "        vertical-align: top;\n",
       "    }\n",
       "\n",
       "    .dataframe thead th {\n",
       "        text-align: right;\n",
       "    }\n",
       "</style>\n",
       "<table border=\"1\" class=\"dataframe\">\n",
       "  <thead>\n",
       "    <tr style=\"text-align: right;\">\n",
       "      <th></th>\n",
       "      <th>children</th>\n",
       "      <th>days_employed</th>\n",
       "      <th>dob_years</th>\n",
       "      <th>education</th>\n",
       "      <th>education_id</th>\n",
       "      <th>family_status</th>\n",
       "      <th>family_status_id</th>\n",
       "      <th>gender</th>\n",
       "      <th>income_type</th>\n",
       "      <th>debt</th>\n",
       "      <th>total_income</th>\n",
       "      <th>purpose</th>\n",
       "      <th>total_income_category</th>\n",
       "      <th>purpose_category</th>\n",
       "      <th>dob_years_category</th>\n",
       "    </tr>\n",
       "  </thead>\n",
       "  <tbody>\n",
       "    <tr>\n",
       "      <th>0</th>\n",
       "      <td>1</td>\n",
       "      <td>8437.673028</td>\n",
       "      <td>42</td>\n",
       "      <td>высшее</td>\n",
       "      <td>0</td>\n",
       "      <td>женат / замужем</td>\n",
       "      <td>0</td>\n",
       "      <td>F</td>\n",
       "      <td>сотрудник</td>\n",
       "      <td>0</td>\n",
       "      <td>253875</td>\n",
       "      <td>покупка жилья</td>\n",
       "      <td>B</td>\n",
       "      <td>операции с недвижимостью</td>\n",
       "      <td>взрослые</td>\n",
       "    </tr>\n",
       "    <tr>\n",
       "      <th>1</th>\n",
       "      <td>1</td>\n",
       "      <td>4024.803754</td>\n",
       "      <td>36</td>\n",
       "      <td>среднее</td>\n",
       "      <td>1</td>\n",
       "      <td>женат / замужем</td>\n",
       "      <td>0</td>\n",
       "      <td>F</td>\n",
       "      <td>сотрудник</td>\n",
       "      <td>0</td>\n",
       "      <td>112080</td>\n",
       "      <td>приобретение автомобиля</td>\n",
       "      <td>C</td>\n",
       "      <td>операции с автомобилем</td>\n",
       "      <td>взрослые</td>\n",
       "    </tr>\n",
       "    <tr>\n",
       "      <th>2</th>\n",
       "      <td>0</td>\n",
       "      <td>5623.422610</td>\n",
       "      <td>33</td>\n",
       "      <td>среднее</td>\n",
       "      <td>1</td>\n",
       "      <td>женат / замужем</td>\n",
       "      <td>0</td>\n",
       "      <td>M</td>\n",
       "      <td>сотрудник</td>\n",
       "      <td>0</td>\n",
       "      <td>145885</td>\n",
       "      <td>покупка жилья</td>\n",
       "      <td>C</td>\n",
       "      <td>операции с недвижимостью</td>\n",
       "      <td>взрослые</td>\n",
       "    </tr>\n",
       "    <tr>\n",
       "      <th>3</th>\n",
       "      <td>3</td>\n",
       "      <td>4124.747207</td>\n",
       "      <td>32</td>\n",
       "      <td>среднее</td>\n",
       "      <td>1</td>\n",
       "      <td>женат / замужем</td>\n",
       "      <td>0</td>\n",
       "      <td>M</td>\n",
       "      <td>сотрудник</td>\n",
       "      <td>0</td>\n",
       "      <td>267628</td>\n",
       "      <td>дополнительное образование</td>\n",
       "      <td>B</td>\n",
       "      <td>получение образования</td>\n",
       "      <td>взрослые</td>\n",
       "    </tr>\n",
       "    <tr>\n",
       "      <th>4</th>\n",
       "      <td>0</td>\n",
       "      <td>340266.072047</td>\n",
       "      <td>53</td>\n",
       "      <td>среднее</td>\n",
       "      <td>1</td>\n",
       "      <td>гражданский брак</td>\n",
       "      <td>1</td>\n",
       "      <td>F</td>\n",
       "      <td>пенсионер</td>\n",
       "      <td>0</td>\n",
       "      <td>158616</td>\n",
       "      <td>сыграть свадьбу</td>\n",
       "      <td>C</td>\n",
       "      <td>проведение свадьбы</td>\n",
       "      <td>взрослые</td>\n",
       "    </tr>\n",
       "    <tr>\n",
       "      <th>5</th>\n",
       "      <td>0</td>\n",
       "      <td>926.185831</td>\n",
       "      <td>27</td>\n",
       "      <td>высшее</td>\n",
       "      <td>0</td>\n",
       "      <td>гражданский брак</td>\n",
       "      <td>1</td>\n",
       "      <td>M</td>\n",
       "      <td>компаньон</td>\n",
       "      <td>0</td>\n",
       "      <td>255763</td>\n",
       "      <td>покупка жилья</td>\n",
       "      <td>B</td>\n",
       "      <td>операции с недвижимостью</td>\n",
       "      <td>молодые</td>\n",
       "    </tr>\n",
       "    <tr>\n",
       "      <th>6</th>\n",
       "      <td>0</td>\n",
       "      <td>2879.202052</td>\n",
       "      <td>43</td>\n",
       "      <td>высшее</td>\n",
       "      <td>0</td>\n",
       "      <td>женат / замужем</td>\n",
       "      <td>0</td>\n",
       "      <td>F</td>\n",
       "      <td>компаньон</td>\n",
       "      <td>0</td>\n",
       "      <td>240525</td>\n",
       "      <td>операции с жильем</td>\n",
       "      <td>B</td>\n",
       "      <td>операции с недвижимостью</td>\n",
       "      <td>взрослые</td>\n",
       "    </tr>\n",
       "    <tr>\n",
       "      <th>7</th>\n",
       "      <td>0</td>\n",
       "      <td>152.779569</td>\n",
       "      <td>50</td>\n",
       "      <td>среднее</td>\n",
       "      <td>1</td>\n",
       "      <td>женат / замужем</td>\n",
       "      <td>0</td>\n",
       "      <td>M</td>\n",
       "      <td>сотрудник</td>\n",
       "      <td>0</td>\n",
       "      <td>135823</td>\n",
       "      <td>образование</td>\n",
       "      <td>C</td>\n",
       "      <td>получение образования</td>\n",
       "      <td>взрослые</td>\n",
       "    </tr>\n",
       "    <tr>\n",
       "      <th>8</th>\n",
       "      <td>2</td>\n",
       "      <td>6929.865299</td>\n",
       "      <td>35</td>\n",
       "      <td>высшее</td>\n",
       "      <td>0</td>\n",
       "      <td>гражданский брак</td>\n",
       "      <td>1</td>\n",
       "      <td>F</td>\n",
       "      <td>сотрудник</td>\n",
       "      <td>0</td>\n",
       "      <td>95856</td>\n",
       "      <td>на проведение свадьбы</td>\n",
       "      <td>C</td>\n",
       "      <td>проведение свадьбы</td>\n",
       "      <td>взрослые</td>\n",
       "    </tr>\n",
       "    <tr>\n",
       "      <th>9</th>\n",
       "      <td>0</td>\n",
       "      <td>2188.756445</td>\n",
       "      <td>41</td>\n",
       "      <td>среднее</td>\n",
       "      <td>1</td>\n",
       "      <td>женат / замужем</td>\n",
       "      <td>0</td>\n",
       "      <td>M</td>\n",
       "      <td>сотрудник</td>\n",
       "      <td>0</td>\n",
       "      <td>144425</td>\n",
       "      <td>покупка жилья для семьи</td>\n",
       "      <td>C</td>\n",
       "      <td>операции с недвижимостью</td>\n",
       "      <td>взрослые</td>\n",
       "    </tr>\n",
       "  </tbody>\n",
       "</table>\n",
       "</div>"
      ],
      "text/plain": [
       "   children  days_employed  dob_years education  education_id  \\\n",
       "0         1    8437.673028         42    высшее             0   \n",
       "1         1    4024.803754         36   среднее             1   \n",
       "2         0    5623.422610         33   среднее             1   \n",
       "3         3    4124.747207         32   среднее             1   \n",
       "4         0  340266.072047         53   среднее             1   \n",
       "5         0     926.185831         27    высшее             0   \n",
       "6         0    2879.202052         43    высшее             0   \n",
       "7         0     152.779569         50   среднее             1   \n",
       "8         2    6929.865299         35    высшее             0   \n",
       "9         0    2188.756445         41   среднее             1   \n",
       "\n",
       "      family_status  family_status_id gender income_type  debt  total_income  \\\n",
       "0   женат / замужем                 0      F   сотрудник     0        253875   \n",
       "1   женат / замужем                 0      F   сотрудник     0        112080   \n",
       "2   женат / замужем                 0      M   сотрудник     0        145885   \n",
       "3   женат / замужем                 0      M   сотрудник     0        267628   \n",
       "4  гражданский брак                 1      F   пенсионер     0        158616   \n",
       "5  гражданский брак                 1      M   компаньон     0        255763   \n",
       "6   женат / замужем                 0      F   компаньон     0        240525   \n",
       "7   женат / замужем                 0      M   сотрудник     0        135823   \n",
       "8  гражданский брак                 1      F   сотрудник     0         95856   \n",
       "9   женат / замужем                 0      M   сотрудник     0        144425   \n",
       "\n",
       "                      purpose total_income_category          purpose_category  \\\n",
       "0               покупка жилья                     B  операции с недвижимостью   \n",
       "1     приобретение автомобиля                     C    операции с автомобилем   \n",
       "2               покупка жилья                     C  операции с недвижимостью   \n",
       "3  дополнительное образование                     B     получение образования   \n",
       "4             сыграть свадьбу                     C        проведение свадьбы   \n",
       "5               покупка жилья                     B  операции с недвижимостью   \n",
       "6           операции с жильем                     B  операции с недвижимостью   \n",
       "7                 образование                     C     получение образования   \n",
       "8       на проведение свадьбы                     C        проведение свадьбы   \n",
       "9     покупка жилья для семьи                     C  операции с недвижимостью   \n",
       "\n",
       "  dob_years_category  \n",
       "0           взрослые  \n",
       "1           взрослые  \n",
       "2           взрослые  \n",
       "3           взрослые  \n",
       "4           взрослые  \n",
       "5            молодые  \n",
       "6           взрослые  \n",
       "7           взрослые  \n",
       "8           взрослые  \n",
       "9           взрослые  "
      ]
     },
     "execution_count": 28,
     "metadata": {},
     "output_type": "execute_result"
    }
   ],
   "source": [
    "data['dob_years_category'] = data['dob_years'].apply(categorize_years)\n",
    "data.head(10)"
   ]
  },
  {
   "cell_type": "code",
   "execution_count": 29,
   "id": "5d700f7f",
   "metadata": {},
   "outputs": [
    {
     "data": {
      "text/html": [
       "<div>\n",
       "<style scoped>\n",
       "    .dataframe tbody tr th:only-of-type {\n",
       "        vertical-align: middle;\n",
       "    }\n",
       "\n",
       "    .dataframe tbody tr th {\n",
       "        vertical-align: top;\n",
       "    }\n",
       "\n",
       "    .dataframe thead th {\n",
       "        text-align: right;\n",
       "    }\n",
       "</style>\n",
       "<table border=\"1\" class=\"dataframe\">\n",
       "  <thead>\n",
       "    <tr style=\"text-align: right;\">\n",
       "      <th></th>\n",
       "      <th>Количество заемщиков(кредитов)</th>\n",
       "      <th>Средний % просрочки</th>\n",
       "    </tr>\n",
       "    <tr>\n",
       "      <th>dob_years_category</th>\n",
       "      <th></th>\n",
       "      <th></th>\n",
       "    </tr>\n",
       "  </thead>\n",
       "  <tbody>\n",
       "    <tr>\n",
       "      <th>взрослые</th>\n",
       "      <td>15414.0</td>\n",
       "      <td>7.91%</td>\n",
       "    </tr>\n",
       "    <tr>\n",
       "      <th>молодые</th>\n",
       "      <td>3799.0</td>\n",
       "      <td>10.82%</td>\n",
       "    </tr>\n",
       "    <tr>\n",
       "      <th>пенсионеры</th>\n",
       "      <td>2118.0</td>\n",
       "      <td>4.77%</td>\n",
       "    </tr>\n",
       "  </tbody>\n",
       "</table>\n",
       "</div>"
      ],
      "text/plain": [
       "                    Количество заемщиков(кредитов) Средний % просрочки\n",
       "dob_years_category                                                    \n",
       "взрослые                                   15414.0               7.91%\n",
       "молодые                                     3799.0              10.82%\n",
       "пенсионеры                                  2118.0               4.77%"
      ]
     },
     "execution_count": 29,
     "metadata": {},
     "output_type": "execute_result"
    }
   ],
   "source": [
    "age_pivot = data.pivot_table(index = ['dob_years_category'], values='debt', aggfunc = ('mean', lambda X:X.count()))\n",
    "\n",
    "def percent(x):\n",
    "    return \"{0:.2%}\".format(x)\n",
    "\n",
    "age_pivot['mean'] = age_pivot['mean'].apply(percent)\n",
    "age_pivot = age_pivot.rename(columns={\"<lambda_0>\": \"Количество заемщиков(кредитов)\", \"mean\": \"Средний % просрочки\"})\n",
    "age_pivot.sort_values(by=\"Количество заемщиков(кредитов)\", ascending= False)"
   ]
  },
  {
   "cell_type": "markdown",
   "id": "20a4c3d7",
   "metadata": {},
   "source": [
    "Судя по данным, клиенты с возрастом от 20-30 лет имеют больше просрочки чем взрослые (от 30-60 лет)."
   ]
  },
  {
   "cell_type": "markdown",
   "id": "46c1f10b",
   "metadata": {
    "deletable": false,
    "editable": false,
    "id": "46c1f10b"
   },
   "source": [
    "#### 3.5 Приведите возможные причины появления пропусков в исходных данных."
   ]
  },
  {
   "cell_type": "markdown",
   "id": "3697d2a9",
   "metadata": {
    "deletable": false,
    "id": "3697d2a9"
   },
   "source": [
    "*Ответ:* Я прелполагаю что , появления пропусков могли возникнуть при транспортировке данных (тогда необходимо уточнять информацию у владельца), либо в случае с пропусками в зарплате могли при заполнении данных пропускать заявку без указания зарплаты, что кстате не свойственно скоринговой системе, возможно были сбои."
   ]
  },
  {
   "cell_type": "markdown",
   "id": "a4cb52d5",
   "metadata": {},
   "source": [
    "<div class=\"alert alert-success\" style=\"border-radius: 10px; box-shadow: 2px 2px 2px; border: 1px solid; padding: 10px \">\n",
    "<b>Комментарий ревьюера v.1</b> \n",
    "    \n",
    "👍 \n",
    "Согласен"
   ]
  },
  {
   "cell_type": "markdown",
   "id": "3137d257",
   "metadata": {
    "deletable": false,
    "editable": false,
    "id": "3137d257"
   },
   "source": [
    "#### 3.6 Объясните, почему заполнить пропуски медианным значением — лучшее решение для количественных переменных."
   ]
  },
  {
   "cell_type": "markdown",
   "id": "cf40012a",
   "metadata": {
    "deletable": false,
    "id": "cf40012a"
   },
   "source": [
    "*Ответ:* я не уверен что это было лучшее решение, так как возможно что данные исказались и могли повлиять на общие выводы, но благодаря данному действию, получился хоть какой то вывод. Но для точной информации, я бы взглянул количество просрочек по пропущенным значениям в зарплате."
   ]
  },
  {
   "cell_type": "markdown",
   "id": "57bc304e",
   "metadata": {
    "deletable": false,
    "editable": false,
    "id": "57bc304e"
   },
   "source": [
    "### Шаг 4: общий вывод."
   ]
  },
  {
   "cell_type": "markdown",
   "id": "1ab75d1c",
   "metadata": {
    "deletable": false,
    "id": "1ab75d1c"
   },
   "source": [
    "Вывод после анализа: \n",
    "    1: В первую очередь, банку надо разобраться со своей скоринговой системой, так как имеются пропущенные данные, либо выяснить причину их отстутсвия, так как количество пропущенных значений составляет: зарплата=2174 и стаж=2174.\n",
    "    2: Изменить ввод стажа работы, вместо количества месяцев изменить на года. В будущем всем будет удобно читать данный пункт.\n",
    "    3: Доработать пункт - цель займа, а именно исключить возможность написания собственноручно. Можно вывести определенный список с выборкой по категориям.\n",
    "    4: Обратить внимание на выдачу кредита на приобритение автомобиля/получения образования,так как процент просроченных займов больше чем в остальных пунктах. Возможно установить  дополнительные условия(в виде со-заемщика/гаранта). \n",
    "    5: Так же имеются просрочки у клиентов с зарплатой менее 30 000. Думаю можно рассмотреть увеличение минимальной пороговой суммы зарплаты , хоть таких клиентов мало но процент просрочки составляет 9.09%.\n",
    "    6: Так же необходимо обратить внимание на выдачу кредитов молодому поколению, так как у них больший процент просрочки по займам 10,82%.\n",
    "    "
   ]
  },
  {
   "cell_type": "markdown",
   "id": "20033cf1",
   "metadata": {},
   "source": [
    "<div class=\"alert alert-success\" style=\"border-radius: 10px; box-shadow: 2px 2px 2px; border: 1px solid; padding: 10px \">\n",
    "<b>Комментарий ревьюера v.2</b> \n",
    "    \n",
    "👍 \n",
    "Выводы понятны и логичны, а самое главное подкреплены выявленными фактами.\n",
    "    \n",
    "\n",
    "\n",
    "\n",
    "</div>"
   ]
  },
  {
   "cell_type": "markdown",
   "id": "d4cc914b",
   "metadata": {},
   "source": [
    "<div style=\"border:solid indigo 3px; padding: 20px\">\n",
    "<div class=\"alert alert-success\">\n",
    "<b>Обратная связь v.1</b> \n",
    "    \n",
    "👋  \n",
    "Ялкун, замечательная работа, ты мыслишь нестандартно, это отличный навык, который у тебя уже есть, ты последователен и вдумчив. Твою работу очень интересно читать и проверять.  Я оставил несколько обязательных поправок для тебя и после этого буду готов сразу принять проект. \n",
    "\n",
    "Удачи в доработках, жду!  "
   ]
  },
  {
   "cell_type": "markdown",
   "id": "57381468",
   "metadata": {},
   "source": [
    "<div style=\"border:solid indigo 3px; padding: 20px\">\n",
    "<div class=\"alert alert-success\">\n",
    "<b>Обратная связь v.2</b> \n",
    "    \n",
    "👋 \n",
    "      \n",
    "Ялкун, спасибо тебе за исправления критических моментов, а также спасибо за хорошую работу.\n",
    "    \n",
    "Поздравляю с успешным завершением проекта 🥳 🎉\n",
    "    \n",
    "И желаю успехов в новых работах 😊"
   ]
  }
 ],
 "metadata": {
  "ExecuteTimeLog": [
   {
    "duration": 463,
    "start_time": "2023-10-02T10:38:09.440Z"
   },
   {
    "duration": 21,
    "start_time": "2023-10-02T10:38:09.905Z"
   },
   {
    "duration": 15,
    "start_time": "2023-10-02T10:38:10.104Z"
   },
   {
    "duration": 11,
    "start_time": "2023-10-02T10:38:11.507Z"
   },
   {
    "duration": 32,
    "start_time": "2023-10-02T10:38:11.819Z"
   },
   {
    "duration": 3,
    "start_time": "2023-10-02T10:38:12.215Z"
   },
   {
    "duration": 8,
    "start_time": "2023-10-02T10:38:12.606Z"
   },
   {
    "duration": 4,
    "start_time": "2023-10-02T10:38:13.501Z"
   },
   {
    "duration": 7,
    "start_time": "2023-10-02T10:38:14.396Z"
   },
   {
    "duration": 5,
    "start_time": "2023-10-02T10:38:14.723Z"
   },
   {
    "duration": 35,
    "start_time": "2023-10-02T10:38:15.249Z"
   },
   {
    "duration": 11,
    "start_time": "2023-10-02T10:38:15.609Z"
   },
   {
    "duration": 4,
    "start_time": "2023-10-02T10:38:16.539Z"
   },
   {
    "duration": 16,
    "start_time": "2023-10-02T10:38:16.546Z"
   },
   {
    "duration": 18,
    "start_time": "2023-10-02T10:38:16.848Z"
   },
   {
    "duration": 16,
    "start_time": "2023-10-02T10:38:17.236Z"
   },
   {
    "duration": 3,
    "start_time": "2023-10-02T10:38:17.930Z"
   },
   {
    "duration": 16,
    "start_time": "2023-10-02T10:38:17.938Z"
   },
   {
    "duration": 6,
    "start_time": "2023-10-02T10:38:18.427Z"
   },
   {
    "duration": 3,
    "start_time": "2023-10-02T10:38:18.616Z"
   },
   {
    "duration": 9,
    "start_time": "2023-10-02T10:38:18.741Z"
   },
   {
    "duration": 79,
    "start_time": "2023-10-02T10:38:19.475Z"
   },
   {
    "duration": 2,
    "start_time": "2023-10-02T10:38:19.851Z"
   },
   {
    "duration": 2,
    "start_time": "2023-10-02T10:38:20.361Z"
   },
   {
    "duration": 2,
    "start_time": "2023-10-02T10:38:21.100Z"
   },
   {
    "duration": 19,
    "start_time": "2023-10-02T10:38:41.713Z"
   },
   {
    "duration": 4,
    "start_time": "2023-10-02T10:39:25.767Z"
   },
   {
    "duration": 7,
    "start_time": "2023-10-02T10:39:41.434Z"
   },
   {
    "duration": 49,
    "start_time": "2023-10-02T12:50:02.172Z"
   },
   {
    "duration": 8,
    "start_time": "2023-10-02T12:50:47.753Z"
   },
   {
    "duration": 560,
    "start_time": "2023-10-02T12:50:52.463Z"
   },
   {
    "duration": 24,
    "start_time": "2023-10-02T12:50:53.173Z"
   },
   {
    "duration": 18,
    "start_time": "2023-10-02T12:50:53.593Z"
   },
   {
    "duration": 12,
    "start_time": "2023-10-02T12:50:54.271Z"
   },
   {
    "duration": 38,
    "start_time": "2023-10-02T12:50:54.601Z"
   },
   {
    "duration": 4,
    "start_time": "2023-10-02T12:50:55.041Z"
   },
   {
    "duration": 8,
    "start_time": "2023-10-02T12:50:55.326Z"
   },
   {
    "duration": 5,
    "start_time": "2023-10-02T12:50:55.697Z"
   },
   {
    "duration": 8,
    "start_time": "2023-10-02T12:50:56.001Z"
   },
   {
    "duration": 4,
    "start_time": "2023-10-02T12:50:56.292Z"
   },
   {
    "duration": 41,
    "start_time": "2023-10-02T12:50:56.802Z"
   },
   {
    "duration": 11,
    "start_time": "2023-10-02T12:50:57.086Z"
   },
   {
    "duration": 5,
    "start_time": "2023-10-02T12:50:57.588Z"
   },
   {
    "duration": 14,
    "start_time": "2023-10-02T12:50:58.108Z"
   },
   {
    "duration": 21,
    "start_time": "2023-10-02T12:50:58.458Z"
   },
   {
    "duration": 19,
    "start_time": "2023-10-02T12:50:58.653Z"
   },
   {
    "duration": 4,
    "start_time": "2023-10-02T12:50:59.119Z"
   },
   {
    "duration": 11,
    "start_time": "2023-10-02T12:50:59.284Z"
   },
   {
    "duration": 7,
    "start_time": "2023-10-02T12:51:00.233Z"
   },
   {
    "duration": 4,
    "start_time": "2023-10-02T12:51:00.563Z"
   },
   {
    "duration": 22,
    "start_time": "2023-10-02T12:51:01.406Z"
   },
   {
    "duration": 7,
    "start_time": "2023-10-02T12:51:03.106Z"
   },
   {
    "duration": 48,
    "start_time": "2023-10-02T12:51:03.899Z"
   },
   {
    "duration": 18,
    "start_time": "2023-10-02T12:51:27.468Z"
   },
   {
    "duration": 21,
    "start_time": "2023-10-02T12:51:35.879Z"
   },
   {
    "duration": 24,
    "start_time": "2023-10-02T12:51:40.897Z"
   },
   {
    "duration": 29,
    "start_time": "2023-10-02T12:54:24.479Z"
   },
   {
    "duration": 11,
    "start_time": "2023-10-02T12:54:49.548Z"
   },
   {
    "duration": 30,
    "start_time": "2023-10-02T12:55:24.708Z"
   },
   {
    "duration": 16,
    "start_time": "2023-10-02T13:06:22.895Z"
   },
   {
    "duration": 129,
    "start_time": "2023-10-02T13:07:44.247Z"
   },
   {
    "duration": 131,
    "start_time": "2023-10-02T13:07:51.812Z"
   },
   {
    "duration": 23,
    "start_time": "2023-10-02T13:08:59.741Z"
   },
   {
    "duration": 8,
    "start_time": "2023-10-02T13:09:41.595Z"
   },
   {
    "duration": 9,
    "start_time": "2023-10-02T13:17:38.031Z"
   },
   {
    "duration": 10,
    "start_time": "2023-10-02T13:17:47.231Z"
   },
   {
    "duration": 8,
    "start_time": "2023-10-02T13:24:14.236Z"
   },
   {
    "duration": 23,
    "start_time": "2023-10-02T13:26:22.076Z"
   },
   {
    "duration": 19,
    "start_time": "2023-10-02T13:26:46.050Z"
   },
   {
    "duration": 23,
    "start_time": "2023-10-02T13:26:54.456Z"
   },
   {
    "duration": 19,
    "start_time": "2023-10-02T13:27:44.158Z"
   },
   {
    "duration": 18,
    "start_time": "2023-10-02T13:27:53.069Z"
   },
   {
    "duration": 17,
    "start_time": "2023-10-02T13:28:09.782Z"
   },
   {
    "duration": 15,
    "start_time": "2023-10-02T13:28:51.617Z"
   },
   {
    "duration": 11,
    "start_time": "2023-10-02T13:28:59.406Z"
   },
   {
    "duration": 8,
    "start_time": "2023-10-02T13:29:46.649Z"
   },
   {
    "duration": 9,
    "start_time": "2023-10-02T13:29:57.629Z"
   },
   {
    "duration": 13,
    "start_time": "2023-10-02T13:33:37.301Z"
   },
   {
    "duration": 12,
    "start_time": "2023-10-02T13:34:03.919Z"
   },
   {
    "duration": 18,
    "start_time": "2023-10-02T13:34:13.359Z"
   },
   {
    "duration": 13,
    "start_time": "2023-10-02T13:34:30.609Z"
   },
   {
    "duration": 6,
    "start_time": "2023-10-02T13:34:59.578Z"
   },
   {
    "duration": 12,
    "start_time": "2023-10-02T13:35:11.559Z"
   },
   {
    "duration": 9,
    "start_time": "2023-10-02T13:35:18.496Z"
   },
   {
    "duration": 9,
    "start_time": "2023-10-02T13:40:37.537Z"
   },
   {
    "duration": 9,
    "start_time": "2023-10-02T13:41:06.417Z"
   },
   {
    "duration": 92,
    "start_time": "2023-10-02T13:45:22.547Z"
   },
   {
    "duration": 4,
    "start_time": "2023-10-02T13:45:31.533Z"
   },
   {
    "duration": 4,
    "start_time": "2023-10-02T13:46:00.337Z"
   },
   {
    "duration": 3,
    "start_time": "2023-10-02T13:46:38.304Z"
   },
   {
    "duration": 25,
    "start_time": "2023-10-02T13:46:45.645Z"
   },
   {
    "duration": 11,
    "start_time": "2023-10-02T13:47:27.862Z"
   },
   {
    "duration": 10,
    "start_time": "2023-10-02T13:47:46.392Z"
   },
   {
    "duration": 9,
    "start_time": "2023-10-02T13:47:54.571Z"
   },
   {
    "duration": 7,
    "start_time": "2023-10-02T14:01:20.049Z"
   },
   {
    "duration": 4,
    "start_time": "2023-10-02T14:03:29.476Z"
   },
   {
    "duration": 4,
    "start_time": "2023-10-02T14:03:32.912Z"
   },
   {
    "duration": 7,
    "start_time": "2023-10-02T14:03:36.495Z"
   },
   {
    "duration": 7,
    "start_time": "2023-10-02T14:06:47.159Z"
   },
   {
    "duration": 13,
    "start_time": "2023-10-02T14:07:05.204Z"
   },
   {
    "duration": 12,
    "start_time": "2023-10-02T14:07:50.666Z"
   },
   {
    "duration": 9,
    "start_time": "2023-10-02T14:09:01.113Z"
   },
   {
    "duration": 9,
    "start_time": "2023-10-02T14:09:20.778Z"
   },
   {
    "duration": 9,
    "start_time": "2023-10-02T14:10:46.549Z"
   },
   {
    "duration": 8,
    "start_time": "2023-10-02T14:10:59.264Z"
   },
   {
    "duration": 8,
    "start_time": "2023-10-02T14:19:52.069Z"
   },
   {
    "duration": 10,
    "start_time": "2023-10-02T14:20:07.121Z"
   },
   {
    "duration": 10,
    "start_time": "2023-10-02T14:32:32.139Z"
   },
   {
    "duration": 16,
    "start_time": "2023-10-02T14:32:47.757Z"
   },
   {
    "duration": 10,
    "start_time": "2023-10-02T14:33:25.489Z"
   },
   {
    "duration": 11,
    "start_time": "2023-10-02T14:37:21.077Z"
   },
   {
    "duration": 10,
    "start_time": "2023-10-02T14:45:15.773Z"
   },
   {
    "duration": 8,
    "start_time": "2023-10-02T14:46:25.238Z"
   },
   {
    "duration": 9,
    "start_time": "2023-10-02T14:52:53.250Z"
   },
   {
    "duration": 10,
    "start_time": "2023-10-02T14:52:58.942Z"
   },
   {
    "duration": 9,
    "start_time": "2023-10-02T14:53:02.900Z"
   },
   {
    "duration": 7,
    "start_time": "2023-10-02T14:53:12.248Z"
   },
   {
    "duration": 9,
    "start_time": "2023-10-02T14:53:19.227Z"
   },
   {
    "duration": 8,
    "start_time": "2023-10-02T15:10:29.148Z"
   },
   {
    "duration": 8,
    "start_time": "2023-10-02T15:12:02.643Z"
   },
   {
    "duration": 1402,
    "start_time": "2023-10-02T15:12:51.062Z"
   },
   {
    "duration": 11,
    "start_time": "2023-10-02T15:14:46.749Z"
   },
   {
    "duration": 9,
    "start_time": "2023-10-02T15:15:04.544Z"
   },
   {
    "duration": 10,
    "start_time": "2023-10-02T15:22:45.511Z"
   },
   {
    "duration": 9,
    "start_time": "2023-10-02T15:22:52.175Z"
   },
   {
    "duration": 7,
    "start_time": "2023-10-02T15:29:11.540Z"
   },
   {
    "duration": 8,
    "start_time": "2023-10-02T15:29:18.921Z"
   },
   {
    "duration": 8,
    "start_time": "2023-10-02T15:29:29.384Z"
   },
   {
    "duration": 3,
    "start_time": "2023-10-02T15:34:28.646Z"
   },
   {
    "duration": 106,
    "start_time": "2023-10-02T15:35:27.722Z"
   },
   {
    "duration": 9,
    "start_time": "2023-10-02T15:36:02.357Z"
   },
   {
    "duration": 5,
    "start_time": "2023-10-02T15:36:08.657Z"
   },
   {
    "duration": 8,
    "start_time": "2023-10-02T15:36:14.069Z"
   },
   {
    "duration": 9,
    "start_time": "2023-10-02T15:36:25.652Z"
   },
   {
    "duration": 9,
    "start_time": "2023-10-02T15:38:22.320Z"
   },
   {
    "duration": 9,
    "start_time": "2023-10-02T15:39:05.697Z"
   },
   {
    "duration": 12,
    "start_time": "2023-10-02T15:39:29.233Z"
   },
   {
    "duration": 5,
    "start_time": "2023-10-02T15:39:48.641Z"
   },
   {
    "duration": 12,
    "start_time": "2023-10-02T15:40:21.808Z"
   },
   {
    "duration": 9,
    "start_time": "2023-10-02T15:40:27.314Z"
   },
   {
    "duration": 94,
    "start_time": "2023-10-02T15:43:02.525Z"
   },
   {
    "duration": 11,
    "start_time": "2023-10-02T15:43:19.144Z"
   },
   {
    "duration": 180,
    "start_time": "2023-10-02T15:43:38.779Z"
   },
   {
    "duration": 9,
    "start_time": "2023-10-02T15:43:43.374Z"
   },
   {
    "duration": 1576,
    "start_time": "2023-10-02T15:44:44.280Z"
   },
   {
    "duration": 1925,
    "start_time": "2023-10-02T15:44:59.362Z"
   },
   {
    "duration": 1978,
    "start_time": "2023-10-02T15:45:24.125Z"
   },
   {
    "duration": 1566,
    "start_time": "2023-10-02T15:46:15.669Z"
   },
   {
    "duration": 1335,
    "start_time": "2023-10-02T15:48:22.689Z"
   },
   {
    "duration": 1320,
    "start_time": "2023-10-02T15:48:44.050Z"
   },
   {
    "duration": 8,
    "start_time": "2023-10-02T15:49:31.028Z"
   },
   {
    "duration": 10,
    "start_time": "2023-10-02T15:49:44.700Z"
   },
   {
    "duration": 11,
    "start_time": "2023-10-02T15:50:11.547Z"
   },
   {
    "duration": 8,
    "start_time": "2023-10-02T15:50:34.462Z"
   },
   {
    "duration": 9,
    "start_time": "2023-10-02T15:51:12.140Z"
   },
   {
    "duration": 15,
    "start_time": "2023-10-02T15:51:20.763Z"
   },
   {
    "duration": 15,
    "start_time": "2023-10-02T15:51:38.632Z"
   },
   {
    "duration": 9,
    "start_time": "2023-10-02T15:51:48.751Z"
   },
   {
    "duration": 10,
    "start_time": "2023-10-02T15:52:09.945Z"
   },
   {
    "duration": 9,
    "start_time": "2023-10-02T15:52:48.338Z"
   },
   {
    "duration": 9,
    "start_time": "2023-10-02T16:12:32.386Z"
   },
   {
    "duration": 8,
    "start_time": "2023-10-02T16:12:39.232Z"
   },
   {
    "duration": 13,
    "start_time": "2023-10-02T16:12:53.734Z"
   },
   {
    "duration": 12,
    "start_time": "2023-10-02T16:13:00.139Z"
   },
   {
    "duration": 11,
    "start_time": "2023-10-02T16:14:11.057Z"
   },
   {
    "duration": 701,
    "start_time": "2023-10-02T18:22:37.184Z"
   },
   {
    "duration": 26,
    "start_time": "2023-10-02T18:22:37.887Z"
   },
   {
    "duration": 16,
    "start_time": "2023-10-02T18:22:37.915Z"
   },
   {
    "duration": 16,
    "start_time": "2023-10-02T18:22:37.933Z"
   },
   {
    "duration": 38,
    "start_time": "2023-10-02T18:22:37.951Z"
   },
   {
    "duration": 4,
    "start_time": "2023-10-02T18:22:37.990Z"
   },
   {
    "duration": 10,
    "start_time": "2023-10-02T18:22:37.996Z"
   },
   {
    "duration": 6,
    "start_time": "2023-10-02T18:22:38.007Z"
   },
   {
    "duration": 32,
    "start_time": "2023-10-02T18:22:38.015Z"
   },
   {
    "duration": 5,
    "start_time": "2023-10-02T18:22:38.049Z"
   },
   {
    "duration": 43,
    "start_time": "2023-10-02T18:22:38.056Z"
   },
   {
    "duration": 15,
    "start_time": "2023-10-02T18:22:38.101Z"
   },
   {
    "duration": 5,
    "start_time": "2023-10-02T18:22:38.118Z"
   },
   {
    "duration": 13,
    "start_time": "2023-10-02T18:22:38.148Z"
   },
   {
    "duration": 24,
    "start_time": "2023-10-02T18:22:38.163Z"
   },
   {
    "duration": 19,
    "start_time": "2023-10-02T18:22:38.189Z"
   },
   {
    "duration": 3,
    "start_time": "2023-10-02T18:22:38.210Z"
   },
   {
    "duration": 41,
    "start_time": "2023-10-02T18:22:38.215Z"
   },
   {
    "duration": 8,
    "start_time": "2023-10-02T18:22:38.258Z"
   },
   {
    "duration": 4,
    "start_time": "2023-10-02T18:22:38.268Z"
   },
   {
    "duration": 26,
    "start_time": "2023-10-02T18:22:38.273Z"
   },
   {
    "duration": 10,
    "start_time": "2023-10-02T18:22:38.301Z"
   },
   {
    "duration": 37,
    "start_time": "2023-10-02T18:22:38.313Z"
   },
   {
    "duration": 9,
    "start_time": "2023-10-02T18:22:38.351Z"
   },
   {
    "duration": 10,
    "start_time": "2023-10-02T18:22:38.362Z"
   },
   {
    "duration": 52,
    "start_time": "2023-10-03T07:02:48.823Z"
   },
   {
    "duration": 7,
    "start_time": "2023-10-03T07:02:56.882Z"
   },
   {
    "duration": 736,
    "start_time": "2023-10-03T07:03:12.433Z"
   },
   {
    "duration": 24,
    "start_time": "2023-10-03T07:03:13.171Z"
   },
   {
    "duration": 17,
    "start_time": "2023-10-03T07:03:13.196Z"
   },
   {
    "duration": 17,
    "start_time": "2023-10-03T07:03:13.215Z"
   },
   {
    "duration": 45,
    "start_time": "2023-10-03T07:03:13.235Z"
   },
   {
    "duration": 4,
    "start_time": "2023-10-03T07:03:13.282Z"
   },
   {
    "duration": 32,
    "start_time": "2023-10-03T07:03:13.287Z"
   },
   {
    "duration": 26,
    "start_time": "2023-10-03T07:03:13.321Z"
   },
   {
    "duration": 56,
    "start_time": "2023-10-03T07:03:13.349Z"
   },
   {
    "duration": 18,
    "start_time": "2023-10-03T07:03:13.407Z"
   },
   {
    "duration": 69,
    "start_time": "2023-10-03T07:03:13.427Z"
   },
   {
    "duration": 10,
    "start_time": "2023-10-03T07:03:13.498Z"
   },
   {
    "duration": 19,
    "start_time": "2023-10-03T07:03:13.510Z"
   },
   {
    "duration": 35,
    "start_time": "2023-10-03T07:03:13.532Z"
   },
   {
    "duration": 41,
    "start_time": "2023-10-03T07:03:13.569Z"
   },
   {
    "duration": 23,
    "start_time": "2023-10-03T07:03:13.612Z"
   },
   {
    "duration": 4,
    "start_time": "2023-10-03T07:03:13.637Z"
   },
   {
    "duration": 24,
    "start_time": "2023-10-03T07:03:13.642Z"
   },
   {
    "duration": 15,
    "start_time": "2023-10-03T07:03:13.668Z"
   },
   {
    "duration": 21,
    "start_time": "2023-10-03T07:03:13.685Z"
   },
   {
    "duration": 35,
    "start_time": "2023-10-03T07:03:13.707Z"
   },
   {
    "duration": 53,
    "start_time": "2023-10-03T07:03:13.744Z"
   },
   {
    "duration": 103,
    "start_time": "2023-10-03T07:03:52.097Z"
   },
   {
    "duration": 17,
    "start_time": "2023-10-03T07:03:57.031Z"
   },
   {
    "duration": 8,
    "start_time": "2023-10-03T07:04:32.564Z"
   },
   {
    "duration": 15,
    "start_time": "2023-10-03T07:04:40.603Z"
   },
   {
    "duration": 19,
    "start_time": "2023-10-03T07:05:33.586Z"
   },
   {
    "duration": 13,
    "start_time": "2023-10-03T07:05:43.340Z"
   },
   {
    "duration": 10,
    "start_time": "2023-10-03T07:06:11.473Z"
   },
   {
    "duration": 14,
    "start_time": "2023-10-03T07:06:17.763Z"
   },
   {
    "duration": 79,
    "start_time": "2023-10-03T07:31:59.873Z"
   },
   {
    "duration": 55,
    "start_time": "2023-10-03T07:31:59.954Z"
   },
   {
    "duration": 139,
    "start_time": "2023-10-03T07:32:00.011Z"
   },
   {
    "duration": 526,
    "start_time": "2023-10-03T07:32:00.151Z"
   },
   {
    "duration": 369,
    "start_time": "2023-10-03T07:32:00.680Z"
   },
   {
    "duration": 475,
    "start_time": "2023-10-03T07:32:01.051Z"
   },
   {
    "duration": 152,
    "start_time": "2023-10-03T07:32:01.528Z"
   },
   {
    "duration": 472,
    "start_time": "2023-10-03T07:32:01.682Z"
   },
   {
    "duration": 100,
    "start_time": "2023-10-03T07:32:02.157Z"
   },
   {
    "duration": 35,
    "start_time": "2023-10-03T07:32:02.259Z"
   },
   {
    "duration": 94,
    "start_time": "2023-10-03T07:32:02.295Z"
   },
   {
    "duration": 11,
    "start_time": "2023-10-03T07:32:02.392Z"
   },
   {
    "duration": 40,
    "start_time": "2023-10-03T07:32:02.405Z"
   },
   {
    "duration": 42,
    "start_time": "2023-10-03T07:32:02.448Z"
   },
   {
    "duration": 79,
    "start_time": "2023-10-03T07:32:02.492Z"
   },
   {
    "duration": 17,
    "start_time": "2023-10-03T07:32:02.573Z"
   },
   {
    "duration": 49,
    "start_time": "2023-10-03T07:32:02.592Z"
   },
   {
    "duration": 33,
    "start_time": "2023-10-03T07:32:02.643Z"
   },
   {
    "duration": 19,
    "start_time": "2023-10-03T07:32:02.677Z"
   },
   {
    "duration": 20,
    "start_time": "2023-10-03T07:32:02.698Z"
   },
   {
    "duration": 199,
    "start_time": "2023-10-03T07:32:02.720Z"
   },
   {
    "duration": 448,
    "start_time": "2023-10-03T07:32:02.921Z"
   },
   {
    "duration": 9,
    "start_time": "2023-10-03T07:32:15.184Z"
   },
   {
    "duration": 13,
    "start_time": "2023-10-03T07:32:56.532Z"
   },
   {
    "duration": 26,
    "start_time": "2023-10-03T07:33:12.346Z"
   },
   {
    "duration": 22,
    "start_time": "2023-10-03T07:34:05.485Z"
   },
   {
    "duration": 26,
    "start_time": "2023-10-03T07:34:20.109Z"
   },
   {
    "duration": 25,
    "start_time": "2023-10-03T07:44:24.821Z"
   },
   {
    "duration": 24,
    "start_time": "2023-10-03T07:44:50.796Z"
   },
   {
    "duration": 29,
    "start_time": "2023-10-03T07:45:19.005Z"
   },
   {
    "duration": 28,
    "start_time": "2023-10-03T07:45:48.602Z"
   },
   {
    "duration": 27,
    "start_time": "2023-10-03T07:49:18.729Z"
   },
   {
    "duration": 26,
    "start_time": "2023-10-03T07:50:23.371Z"
   },
   {
    "duration": 475,
    "start_time": "2023-10-03T07:54:49.380Z"
   },
   {
    "duration": 25,
    "start_time": "2023-10-03T07:55:27.626Z"
   },
   {
    "duration": 26,
    "start_time": "2023-10-03T07:56:48.660Z"
   },
   {
    "duration": 27,
    "start_time": "2023-10-03T07:57:06.355Z"
   },
   {
    "duration": 26,
    "start_time": "2023-10-03T07:57:26.209Z"
   },
   {
    "duration": 26,
    "start_time": "2023-10-03T07:58:21.680Z"
   },
   {
    "duration": 25,
    "start_time": "2023-10-03T07:58:34.965Z"
   },
   {
    "duration": 27,
    "start_time": "2023-10-03T08:09:20.970Z"
   },
   {
    "duration": 7,
    "start_time": "2023-10-03T09:22:40.791Z"
   },
   {
    "duration": 8,
    "start_time": "2023-10-03T09:28:55.958Z"
   },
   {
    "duration": 4,
    "start_time": "2023-10-03T09:29:20.801Z"
   },
   {
    "duration": 23,
    "start_time": "2023-10-03T09:29:21.061Z"
   },
   {
    "duration": 4,
    "start_time": "2023-10-03T09:29:40.430Z"
   },
   {
    "duration": 22,
    "start_time": "2023-10-03T09:29:41.031Z"
   },
   {
    "duration": 32,
    "start_time": "2023-10-03T09:31:17.861Z"
   },
   {
    "duration": 601,
    "start_time": "2023-10-03T10:37:15.360Z"
   },
   {
    "duration": 24,
    "start_time": "2023-10-03T10:37:15.963Z"
   },
   {
    "duration": 20,
    "start_time": "2023-10-03T10:37:15.989Z"
   },
   {
    "duration": 12,
    "start_time": "2023-10-03T10:37:16.011Z"
   },
   {
    "duration": 71,
    "start_time": "2023-10-03T10:37:16.025Z"
   },
   {
    "duration": 3,
    "start_time": "2023-10-03T10:37:16.098Z"
   },
   {
    "duration": 16,
    "start_time": "2023-10-03T10:37:16.103Z"
   },
   {
    "duration": 9,
    "start_time": "2023-10-03T10:37:16.121Z"
   },
   {
    "duration": 15,
    "start_time": "2023-10-03T10:37:16.132Z"
   },
   {
    "duration": 16,
    "start_time": "2023-10-03T10:37:16.149Z"
   },
   {
    "duration": 47,
    "start_time": "2023-10-03T10:37:16.167Z"
   },
   {
    "duration": 12,
    "start_time": "2023-10-03T10:37:16.216Z"
   },
   {
    "duration": 25,
    "start_time": "2023-10-03T10:37:16.229Z"
   },
   {
    "duration": 59,
    "start_time": "2023-10-03T10:37:16.257Z"
   },
   {
    "duration": 151,
    "start_time": "2023-10-03T10:37:16.317Z"
   },
   {
    "duration": 29,
    "start_time": "2023-10-03T10:37:16.470Z"
   },
   {
    "duration": 5,
    "start_time": "2023-10-03T10:37:16.502Z"
   },
   {
    "duration": 24,
    "start_time": "2023-10-03T10:37:16.509Z"
   },
   {
    "duration": 23,
    "start_time": "2023-10-03T10:37:16.535Z"
   },
   {
    "duration": 8,
    "start_time": "2023-10-03T10:37:16.560Z"
   },
   {
    "duration": 63,
    "start_time": "2023-10-03T10:37:16.571Z"
   },
   {
    "duration": 28,
    "start_time": "2023-10-03T10:37:16.636Z"
   },
   {
    "duration": 36,
    "start_time": "2023-10-03T10:37:16.666Z"
   },
   {
    "duration": 27,
    "start_time": "2023-10-03T10:37:16.704Z"
   },
   {
    "duration": 77,
    "start_time": "2023-10-03T10:37:16.733Z"
   },
   {
    "duration": 5,
    "start_time": "2023-10-03T10:37:16.812Z"
   },
   {
    "duration": 33,
    "start_time": "2023-10-03T10:37:16.819Z"
   },
   {
    "duration": 33,
    "start_time": "2023-10-03T10:37:16.854Z"
   },
   {
    "duration": 34,
    "start_time": "2023-10-03T10:37:16.889Z"
   },
   {
    "duration": 515,
    "start_time": "2024-03-13T09:07:02.722Z"
   },
   {
    "duration": 26,
    "start_time": "2024-03-13T09:07:03.239Z"
   },
   {
    "duration": 19,
    "start_time": "2024-03-13T09:07:03.266Z"
   },
   {
    "duration": 13,
    "start_time": "2024-03-13T09:07:03.287Z"
   },
   {
    "duration": 52,
    "start_time": "2024-03-13T09:07:03.302Z"
   },
   {
    "duration": 4,
    "start_time": "2024-03-13T09:07:03.355Z"
   },
   {
    "duration": 14,
    "start_time": "2024-03-13T09:07:03.360Z"
   },
   {
    "duration": 4,
    "start_time": "2024-03-13T09:07:03.376Z"
   },
   {
    "duration": 9,
    "start_time": "2024-03-13T09:07:03.382Z"
   },
   {
    "duration": 4,
    "start_time": "2024-03-13T09:07:03.394Z"
   },
   {
    "duration": 38,
    "start_time": "2024-03-13T09:07:03.400Z"
   },
   {
    "duration": 36,
    "start_time": "2024-03-13T09:07:03.439Z"
   },
   {
    "duration": 4,
    "start_time": "2024-03-13T09:07:03.477Z"
   },
   {
    "duration": 13,
    "start_time": "2024-03-13T09:07:03.482Z"
   },
   {
    "duration": 19,
    "start_time": "2024-03-13T09:07:03.497Z"
   },
   {
    "duration": 18,
    "start_time": "2024-03-13T09:07:03.518Z"
   },
   {
    "duration": 32,
    "start_time": "2024-03-13T09:07:03.538Z"
   },
   {
    "duration": 14,
    "start_time": "2024-03-13T09:07:03.572Z"
   },
   {
    "duration": 7,
    "start_time": "2024-03-13T09:07:03.588Z"
   },
   {
    "duration": 3,
    "start_time": "2024-03-13T09:07:03.597Z"
   },
   {
    "duration": 23,
    "start_time": "2024-03-13T09:07:03.601Z"
   },
   {
    "duration": 52,
    "start_time": "2024-03-13T09:07:03.625Z"
   },
   {
    "duration": 24,
    "start_time": "2024-03-13T09:07:03.678Z"
   },
   {
    "duration": 32,
    "start_time": "2024-03-13T09:07:03.703Z"
   },
   {
    "duration": 38,
    "start_time": "2024-03-13T09:07:03.737Z"
   },
   {
    "duration": 5,
    "start_time": "2024-03-13T09:07:03.776Z"
   },
   {
    "duration": 3,
    "start_time": "2024-03-13T09:07:03.783Z"
   },
   {
    "duration": 20,
    "start_time": "2024-03-13T09:07:03.788Z"
   },
   {
    "duration": 29,
    "start_time": "2024-03-13T09:07:03.810Z"
   }
  ],
  "colab": {
   "provenance": []
  },
  "kernelspec": {
   "display_name": "Python 3 (ipykernel)",
   "language": "python",
   "name": "python3"
  },
  "language_info": {
   "codemirror_mode": {
    "name": "ipython",
    "version": 3
   },
   "file_extension": ".py",
   "mimetype": "text/x-python",
   "name": "python",
   "nbconvert_exporter": "python",
   "pygments_lexer": "ipython3",
   "version": "3.9.5"
  },
  "toc": {
   "base_numbering": 1,
   "nav_menu": {},
   "number_sections": true,
   "sideBar": true,
   "skip_h1_title": true,
   "title_cell": "Table of Contents",
   "title_sidebar": "Contents",
   "toc_cell": false,
   "toc_position": {},
   "toc_section_display": true,
   "toc_window_display": false
  }
 },
 "nbformat": 4,
 "nbformat_minor": 5
}
