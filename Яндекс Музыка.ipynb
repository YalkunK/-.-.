{
 "cells": [
  {
   "cell_type": "markdown",
   "metadata": {
    "deletable": false,
    "editable": false,
    "id": "E0vqbgi9ay0H"
   },
   "source": [
    "# Яндекс Музыка"
   ]
  },
  {
   "cell_type": "markdown",
   "metadata": {
    "deletable": false,
    "editable": false,
    "id": "VUC88oWjTJw2"
   },
   "source": [
    "Сравнение Москвы и Петербурга окружено мифами. Например:\n",
    " * Москва — мегаполис, подчинённый жёсткому ритму рабочей недели;\n",
    " * Петербург — культурная столица, со своими вкусами.\n",
    "\n",
    "На данных Яндекс Музыки вы сравните поведение пользователей двух столиц.\n",
    "\n",
    "**Цель исследования** — проверьте три гипотезы:\n",
    "1. Активность пользователей зависит от дня недели. Причём в Москве и Петербурге это проявляется по-разному.\n",
    "2. В понедельник утром в Москве преобладают одни жанры, а в Петербурге — другие. Так же и вечером пятницы преобладают разные жанры — в зависимости от города.\n",
    "3. Москва и Петербург предпочитают разные жанры музыки. В Москве чаще слушают поп-музыку, в Петербурге — русский рэп.\n",
    "\n",
    "**Ход исследования**\n",
    "\n",
    "Данные о поведении пользователей вы получите из файла `yandex_music_project.csv`. О качестве данных ничего не известно. Поэтому перед проверкой гипотез понадобится обзор данных.\n",
    "\n",
    "Вы проверите данные на ошибки и оцените их влияние на исследование. Затем, на этапе предобработки вы поищете возможность исправить самые критичные ошибки данных.\n",
    "\n",
    "Таким образом, исследование пройдёт в три этапа:\n",
    " 1. Обзор данных.\n",
    " 2. Предобработка данных.\n",
    " 3. Проверка гипотез.\n",
    "\n"
   ]
  },
  {
   "cell_type": "markdown",
   "metadata": {
    "deletable": false,
    "editable": false,
    "id": "Ml1hmfXC_Zcs"
   },
   "source": [
    "## Обзор данных\n",
    "\n",
    "Составьте первое представление о данных Яндекс Музыки.\n",
    "\n",
    "\n"
   ]
  },
  {
   "cell_type": "markdown",
   "metadata": {
    "deletable": false,
    "editable": false,
    "id": "57eAOGIz_Zcs",
    "tags": [
     "start_task"
    ]
   },
   "source": [
    "**Задание 1**\n",
    "\n",
    "Основной инструмент аналитика — `pandas`. Импортируйте эту библиотеку."
   ]
  },
  {
   "cell_type": "code",
   "execution_count": 19,
   "metadata": {
    "deletable": false,
    "id": "AXN7PHPN_Zcs"
   },
   "outputs": [],
   "source": [
    "import pandas as pd "
   ]
  },
  {
   "cell_type": "markdown",
   "metadata": {
    "deletable": false,
    "editable": false,
    "id": "SG23P8tt_Zcs",
    "tags": [
     "start_task"
    ]
   },
   "source": [
    "**Задание 2**\n",
    "\n",
    "Прочитайте файл `yandex_music_project.csv` из папки `/datasets` и сохраните его в переменной `df`:"
   ]
  },
  {
   "cell_type": "code",
   "execution_count": 20,
   "metadata": {
    "deletable": false,
    "id": "fFVu7vqh_Zct"
   },
   "outputs": [
    {
     "data": {
      "text/html": [
       "<div>\n",
       "<style scoped>\n",
       "    .dataframe tbody tr th:only-of-type {\n",
       "        vertical-align: middle;\n",
       "    }\n",
       "\n",
       "    .dataframe tbody tr th {\n",
       "        vertical-align: top;\n",
       "    }\n",
       "\n",
       "    .dataframe thead th {\n",
       "        text-align: right;\n",
       "    }\n",
       "</style>\n",
       "<table border=\"1\" class=\"dataframe\">\n",
       "  <thead>\n",
       "    <tr style=\"text-align: right;\">\n",
       "      <th></th>\n",
       "      <th>userID</th>\n",
       "      <th>Track</th>\n",
       "      <th>artist</th>\n",
       "      <th>genre</th>\n",
       "      <th>City</th>\n",
       "      <th>time</th>\n",
       "      <th>Day</th>\n",
       "    </tr>\n",
       "  </thead>\n",
       "  <tbody>\n",
       "    <tr>\n",
       "      <th>0</th>\n",
       "      <td>FFB692EC</td>\n",
       "      <td>Kamigata To Boots</td>\n",
       "      <td>The Mass Missile</td>\n",
       "      <td>rock</td>\n",
       "      <td>Saint-Petersburg</td>\n",
       "      <td>20:28:33</td>\n",
       "      <td>Wednesday</td>\n",
       "    </tr>\n",
       "    <tr>\n",
       "      <th>1</th>\n",
       "      <td>55204538</td>\n",
       "      <td>Delayed Because of Accident</td>\n",
       "      <td>Andreas Rönnberg</td>\n",
       "      <td>rock</td>\n",
       "      <td>Moscow</td>\n",
       "      <td>14:07:09</td>\n",
       "      <td>Friday</td>\n",
       "    </tr>\n",
       "    <tr>\n",
       "      <th>2</th>\n",
       "      <td>20EC38</td>\n",
       "      <td>Funiculì funiculà</td>\n",
       "      <td>Mario Lanza</td>\n",
       "      <td>pop</td>\n",
       "      <td>Saint-Petersburg</td>\n",
       "      <td>20:58:07</td>\n",
       "      <td>Wednesday</td>\n",
       "    </tr>\n",
       "    <tr>\n",
       "      <th>3</th>\n",
       "      <td>A3DD03C9</td>\n",
       "      <td>Dragons in the Sunset</td>\n",
       "      <td>Fire + Ice</td>\n",
       "      <td>folk</td>\n",
       "      <td>Saint-Petersburg</td>\n",
       "      <td>08:37:09</td>\n",
       "      <td>Monday</td>\n",
       "    </tr>\n",
       "    <tr>\n",
       "      <th>4</th>\n",
       "      <td>E2DC1FAE</td>\n",
       "      <td>Soul People</td>\n",
       "      <td>Space Echo</td>\n",
       "      <td>dance</td>\n",
       "      <td>Moscow</td>\n",
       "      <td>08:34:34</td>\n",
       "      <td>Monday</td>\n",
       "    </tr>\n",
       "    <tr>\n",
       "      <th>...</th>\n",
       "      <td>...</td>\n",
       "      <td>...</td>\n",
       "      <td>...</td>\n",
       "      <td>...</td>\n",
       "      <td>...</td>\n",
       "      <td>...</td>\n",
       "      <td>...</td>\n",
       "    </tr>\n",
       "    <tr>\n",
       "      <th>65074</th>\n",
       "      <td>729CBB09</td>\n",
       "      <td>My Name</td>\n",
       "      <td>McLean</td>\n",
       "      <td>rnb</td>\n",
       "      <td>Moscow</td>\n",
       "      <td>13:32:28</td>\n",
       "      <td>Wednesday</td>\n",
       "    </tr>\n",
       "    <tr>\n",
       "      <th>65075</th>\n",
       "      <td>D08D4A55</td>\n",
       "      <td>Maybe One Day (feat. Black Spade)</td>\n",
       "      <td>Blu &amp; Exile</td>\n",
       "      <td>hip</td>\n",
       "      <td>Saint-Petersburg</td>\n",
       "      <td>10:00:00</td>\n",
       "      <td>Monday</td>\n",
       "    </tr>\n",
       "    <tr>\n",
       "      <th>65076</th>\n",
       "      <td>C5E3A0D5</td>\n",
       "      <td>Jalopiina</td>\n",
       "      <td>NaN</td>\n",
       "      <td>industrial</td>\n",
       "      <td>Moscow</td>\n",
       "      <td>20:09:26</td>\n",
       "      <td>Friday</td>\n",
       "    </tr>\n",
       "    <tr>\n",
       "      <th>65077</th>\n",
       "      <td>321D0506</td>\n",
       "      <td>Freight Train</td>\n",
       "      <td>Chas McDevitt</td>\n",
       "      <td>rock</td>\n",
       "      <td>Moscow</td>\n",
       "      <td>21:43:59</td>\n",
       "      <td>Friday</td>\n",
       "    </tr>\n",
       "    <tr>\n",
       "      <th>65078</th>\n",
       "      <td>3A64EF84</td>\n",
       "      <td>Tell Me Sweet Little Lies</td>\n",
       "      <td>Monica Lopez</td>\n",
       "      <td>country</td>\n",
       "      <td>Moscow</td>\n",
       "      <td>21:59:46</td>\n",
       "      <td>Friday</td>\n",
       "    </tr>\n",
       "  </tbody>\n",
       "</table>\n",
       "<p>65079 rows × 7 columns</p>\n",
       "</div>"
      ],
      "text/plain": [
       "         userID                              Track            artist  \\\n",
       "0      FFB692EC                  Kamigata To Boots  The Mass Missile   \n",
       "1      55204538        Delayed Because of Accident  Andreas Rönnberg   \n",
       "2        20EC38                  Funiculì funiculà       Mario Lanza   \n",
       "3      A3DD03C9              Dragons in the Sunset        Fire + Ice   \n",
       "4      E2DC1FAE                        Soul People        Space Echo   \n",
       "...         ...                                ...               ...   \n",
       "65074  729CBB09                            My Name            McLean   \n",
       "65075  D08D4A55  Maybe One Day (feat. Black Spade)       Blu & Exile   \n",
       "65076  C5E3A0D5                          Jalopiina               NaN   \n",
       "65077  321D0506                      Freight Train     Chas McDevitt   \n",
       "65078  3A64EF84          Tell Me Sweet Little Lies      Monica Lopez   \n",
       "\n",
       "            genre            City        time        Day  \n",
       "0            rock  Saint-Petersburg  20:28:33  Wednesday  \n",
       "1            rock            Moscow  14:07:09     Friday  \n",
       "2             pop  Saint-Petersburg  20:58:07  Wednesday  \n",
       "3            folk  Saint-Petersburg  08:37:09     Monday  \n",
       "4           dance            Moscow  08:34:34     Monday  \n",
       "...           ...               ...       ...        ...  \n",
       "65074         rnb            Moscow  13:32:28  Wednesday  \n",
       "65075         hip  Saint-Petersburg  10:00:00     Monday  \n",
       "65076  industrial            Moscow  20:09:26     Friday  \n",
       "65077        rock            Moscow  21:43:59     Friday  \n",
       "65078     country            Moscow  21:59:46     Friday  \n",
       "\n",
       "[65079 rows x 7 columns]"
      ]
     },
     "execution_count": 20,
     "metadata": {},
     "output_type": "execute_result"
    }
   ],
   "source": [
    "\n",
    "df = pd.read_csv('/datasets/yandex_music_project.csv')\n",
    "df"
   ]
  },
  {
   "cell_type": "markdown",
   "metadata": {
    "deletable": false,
    "editable": false,
    "id": "rDoOMd3uTqnZ",
    "tags": [
     "start_task"
    ]
   },
   "source": [
    "**Задание 3**\n",
    "\n",
    "\n",
    "Выведите на экран первые десять строк таблицы:"
   ]
  },
  {
   "cell_type": "code",
   "execution_count": 21,
   "metadata": {
    "deletable": false,
    "id": "oWTVX3gW_Zct"
   },
   "outputs": [
    {
     "data": {
      "text/html": [
       "<div>\n",
       "<style scoped>\n",
       "    .dataframe tbody tr th:only-of-type {\n",
       "        vertical-align: middle;\n",
       "    }\n",
       "\n",
       "    .dataframe tbody tr th {\n",
       "        vertical-align: top;\n",
       "    }\n",
       "\n",
       "    .dataframe thead th {\n",
       "        text-align: right;\n",
       "    }\n",
       "</style>\n",
       "<table border=\"1\" class=\"dataframe\">\n",
       "  <thead>\n",
       "    <tr style=\"text-align: right;\">\n",
       "      <th></th>\n",
       "      <th>userID</th>\n",
       "      <th>Track</th>\n",
       "      <th>artist</th>\n",
       "      <th>genre</th>\n",
       "      <th>City</th>\n",
       "      <th>time</th>\n",
       "      <th>Day</th>\n",
       "    </tr>\n",
       "  </thead>\n",
       "  <tbody>\n",
       "    <tr>\n",
       "      <th>0</th>\n",
       "      <td>FFB692EC</td>\n",
       "      <td>Kamigata To Boots</td>\n",
       "      <td>The Mass Missile</td>\n",
       "      <td>rock</td>\n",
       "      <td>Saint-Petersburg</td>\n",
       "      <td>20:28:33</td>\n",
       "      <td>Wednesday</td>\n",
       "    </tr>\n",
       "    <tr>\n",
       "      <th>1</th>\n",
       "      <td>55204538</td>\n",
       "      <td>Delayed Because of Accident</td>\n",
       "      <td>Andreas Rönnberg</td>\n",
       "      <td>rock</td>\n",
       "      <td>Moscow</td>\n",
       "      <td>14:07:09</td>\n",
       "      <td>Friday</td>\n",
       "    </tr>\n",
       "    <tr>\n",
       "      <th>2</th>\n",
       "      <td>20EC38</td>\n",
       "      <td>Funiculì funiculà</td>\n",
       "      <td>Mario Lanza</td>\n",
       "      <td>pop</td>\n",
       "      <td>Saint-Petersburg</td>\n",
       "      <td>20:58:07</td>\n",
       "      <td>Wednesday</td>\n",
       "    </tr>\n",
       "    <tr>\n",
       "      <th>3</th>\n",
       "      <td>A3DD03C9</td>\n",
       "      <td>Dragons in the Sunset</td>\n",
       "      <td>Fire + Ice</td>\n",
       "      <td>folk</td>\n",
       "      <td>Saint-Petersburg</td>\n",
       "      <td>08:37:09</td>\n",
       "      <td>Monday</td>\n",
       "    </tr>\n",
       "    <tr>\n",
       "      <th>4</th>\n",
       "      <td>E2DC1FAE</td>\n",
       "      <td>Soul People</td>\n",
       "      <td>Space Echo</td>\n",
       "      <td>dance</td>\n",
       "      <td>Moscow</td>\n",
       "      <td>08:34:34</td>\n",
       "      <td>Monday</td>\n",
       "    </tr>\n",
       "    <tr>\n",
       "      <th>5</th>\n",
       "      <td>842029A1</td>\n",
       "      <td>Преданная</td>\n",
       "      <td>IMPERVTOR</td>\n",
       "      <td>rusrap</td>\n",
       "      <td>Saint-Petersburg</td>\n",
       "      <td>13:09:41</td>\n",
       "      <td>Friday</td>\n",
       "    </tr>\n",
       "    <tr>\n",
       "      <th>6</th>\n",
       "      <td>4CB90AA5</td>\n",
       "      <td>True</td>\n",
       "      <td>Roman Messer</td>\n",
       "      <td>dance</td>\n",
       "      <td>Moscow</td>\n",
       "      <td>13:00:07</td>\n",
       "      <td>Wednesday</td>\n",
       "    </tr>\n",
       "    <tr>\n",
       "      <th>7</th>\n",
       "      <td>F03E1C1F</td>\n",
       "      <td>Feeling This Way</td>\n",
       "      <td>Polina Griffith</td>\n",
       "      <td>dance</td>\n",
       "      <td>Moscow</td>\n",
       "      <td>20:47:49</td>\n",
       "      <td>Wednesday</td>\n",
       "    </tr>\n",
       "    <tr>\n",
       "      <th>8</th>\n",
       "      <td>8FA1D3BE</td>\n",
       "      <td>И вновь продолжается бой</td>\n",
       "      <td>NaN</td>\n",
       "      <td>ruspop</td>\n",
       "      <td>Moscow</td>\n",
       "      <td>09:17:40</td>\n",
       "      <td>Friday</td>\n",
       "    </tr>\n",
       "    <tr>\n",
       "      <th>9</th>\n",
       "      <td>E772D5C0</td>\n",
       "      <td>Pessimist</td>\n",
       "      <td>NaN</td>\n",
       "      <td>dance</td>\n",
       "      <td>Saint-Petersburg</td>\n",
       "      <td>21:20:49</td>\n",
       "      <td>Wednesday</td>\n",
       "    </tr>\n",
       "  </tbody>\n",
       "</table>\n",
       "</div>"
      ],
      "text/plain": [
       "     userID                        Track            artist   genre  \\\n",
       "0  FFB692EC            Kamigata To Boots  The Mass Missile    rock   \n",
       "1  55204538  Delayed Because of Accident  Andreas Rönnberg    rock   \n",
       "2    20EC38            Funiculì funiculà       Mario Lanza     pop   \n",
       "3  A3DD03C9        Dragons in the Sunset        Fire + Ice    folk   \n",
       "4  E2DC1FAE                  Soul People        Space Echo   dance   \n",
       "5  842029A1                    Преданная         IMPERVTOR  rusrap   \n",
       "6  4CB90AA5                         True      Roman Messer   dance   \n",
       "7  F03E1C1F             Feeling This Way   Polina Griffith   dance   \n",
       "8  8FA1D3BE     И вновь продолжается бой               NaN  ruspop   \n",
       "9  E772D5C0                    Pessimist               NaN   dance   \n",
       "\n",
       "             City        time        Day  \n",
       "0  Saint-Petersburg  20:28:33  Wednesday  \n",
       "1            Moscow  14:07:09     Friday  \n",
       "2  Saint-Petersburg  20:58:07  Wednesday  \n",
       "3  Saint-Petersburg  08:37:09     Monday  \n",
       "4            Moscow  08:34:34     Monday  \n",
       "5  Saint-Petersburg  13:09:41     Friday  \n",
       "6            Moscow  13:00:07  Wednesday  \n",
       "7            Moscow  20:47:49  Wednesday  \n",
       "8            Moscow  09:17:40     Friday  \n",
       "9  Saint-Petersburg  21:20:49  Wednesday  "
      ]
     },
     "execution_count": 21,
     "metadata": {},
     "output_type": "execute_result"
    }
   ],
   "source": [
    "df.head (10) # получение первых 10 строк таблицы df"
   ]
  },
  {
   "cell_type": "markdown",
   "metadata": {
    "deletable": false,
    "editable": false,
    "id": "EO73Kwic_Zct",
    "tags": [
     "start_task"
    ]
   },
   "source": [
    "**Задание 4**\n",
    "\n",
    "\n",
    "Одной командой получить общую информацию о таблице c помощью метода `info()`:"
   ]
  },
  {
   "cell_type": "code",
   "execution_count": 22,
   "metadata": {
    "deletable": false,
    "id": "DSf2kIb-_Zct"
   },
   "outputs": [
    {
     "name": "stdout",
     "output_type": "stream",
     "text": [
      "<class 'pandas.core.frame.DataFrame'>\n",
      "RangeIndex: 65079 entries, 0 to 65078\n",
      "Data columns (total 7 columns):\n",
      " #   Column    Non-Null Count  Dtype \n",
      "---  ------    --------------  ----- \n",
      " 0     userID  65079 non-null  object\n",
      " 1   Track     63848 non-null  object\n",
      " 2   artist    57876 non-null  object\n",
      " 3   genre     63881 non-null  object\n",
      " 4     City    65079 non-null  object\n",
      " 5   time      65079 non-null  object\n",
      " 6   Day       65079 non-null  object\n",
      "dtypes: object(7)\n",
      "memory usage: 3.5+ MB\n"
     ]
    }
   ],
   "source": [
    "df.info() # получение общей информации о данных в таблице df"
   ]
  },
  {
   "cell_type": "markdown",
   "metadata": {
    "deletable": false,
    "editable": false,
    "id": "TaQ2Iwbr_Zct"
   },
   "source": [
    "Итак, в таблице семь столбцов. Тип данных во всех столбцах — `object`.\n",
    "\n",
    "Согласно документации к данным:\n",
    "* `userID` — идентификатор пользователя;\n",
    "* `Track` — название трека;  \n",
    "* `artist` — имя исполнителя;\n",
    "* `genre` — название жанра;\n",
    "* `City` — город пользователя;\n",
    "* `time` — время начала прослушивания;\n",
    "* `Day` — день недели.\n",
    "\n",
    "Количество значений в столбцах различается. Значит, в данных есть пропущенные значения."
   ]
  },
  {
   "cell_type": "markdown",
   "metadata": {
    "deletable": false,
    "editable": false,
    "id": "4P0UCWzswgEm",
    "tags": [
     "start_task"
    ]
   },
   "source": [
    "**Задание 5**\n",
    "\n",
    "**Вопрос со свободной формой ответа**\n",
    "\n",
    "В названиях колонок видны три нарушения стиля:\n",
    "1. Строчные буквы сочетаются с прописными.\n",
    "2. Встречаются пробелы."
   ]
  },
  {
   "cell_type": "code",
   "execution_count": 23,
   "metadata": {
    "id": "c137-ZstwgEm"
   },
   "outputs": [],
   "source": [
    "# наименования с 2 символами не разделены Напишите ваш ответ здесь комментарием. Не удаляйте символ #. Не меняйте тип этой ячейки на Markdown."
   ]
  },
  {
   "cell_type": "markdown",
   "metadata": {
    "deletable": false,
    "editable": false,
    "id": "MCB6-dXG_Zct"
   },
   "source": [
    "**Выводы**\n",
    "\n",
    "В каждой строке таблицы — данные о прослушанном треке. Часть колонок описывает саму композицию: название, исполнителя и жанр. Остальные данные рассказывают о пользователе: из какого он города, когда он слушал музыку.\n",
    "\n",
    "Предварительно можно утверждать, что данных достаточно для проверки гипотез. Но встречаются пропуски в данных, а в названиях колонок — расхождения с хорошим стилем.\n",
    "\n",
    "Чтобы двигаться дальше, нужно устранить проблемы в данных."
   ]
  },
  {
   "cell_type": "markdown",
   "metadata": {
    "deletable": false,
    "editable": false,
    "id": "SjYF6Ub9_Zct"
   },
   "source": [
    "## Предобработка данных\n",
    "Исправьте стиль в заголовках столбцов, исключите пропуски. Затем проверьте данные на дубликаты."
   ]
  },
  {
   "cell_type": "markdown",
   "metadata": {
    "deletable": false,
    "editable": false,
    "id": "dIaKXr29_Zct",
    "tags": [
     "start_task"
    ]
   },
   "source": [
    "### Стиль заголовков\n",
    "\n",
    "**Задание 6**\n",
    "\n",
    "Выведите на экран названия столбцов:"
   ]
  },
  {
   "cell_type": "code",
   "execution_count": 24,
   "metadata": {
    "deletable": false,
    "id": "oKOTdF_Q_Zct"
   },
   "outputs": [
    {
     "data": {
      "text/plain": [
       "Index(['  userID', 'Track', 'artist', 'genre', '  City  ', 'time', 'Day'], dtype='object')"
      ]
     },
     "execution_count": 24,
     "metadata": {},
     "output_type": "execute_result"
    }
   ],
   "source": [
    "df.columns # перечень названий столбцов таблицы df"
   ]
  },
  {
   "cell_type": "markdown",
   "metadata": {
    "deletable": false,
    "editable": false,
    "id": "zj5534cv_Zct",
    "tags": [
     "start_task"
    ]
   },
   "source": [
    "**Задание 7**\n",
    "\n",
    "\n",
    "Приведите названия в соответствие с хорошим стилем:\n",
    "* несколько слов в названии запишите в «змеином_регистре»,\n",
    "* все символы сделайте строчными,\n",
    "* устраните пробелы.\n",
    "\n",
    "Для этого переименуйте колонки так:\n",
    "* `'  userID'` → `'user_id'`;\n",
    "* `'Track'` → `'track'`;\n",
    "* `'  City  '` → `'city'`;\n",
    "* `'Day'` → `'day'`."
   ]
  },
  {
   "cell_type": "code",
   "execution_count": 25,
   "metadata": {
    "deletable": false,
    "id": "ISlFqs5y_Zct"
   },
   "outputs": [
    {
     "data": {
      "text/html": [
       "<div>\n",
       "<style scoped>\n",
       "    .dataframe tbody tr th:only-of-type {\n",
       "        vertical-align: middle;\n",
       "    }\n",
       "\n",
       "    .dataframe tbody tr th {\n",
       "        vertical-align: top;\n",
       "    }\n",
       "\n",
       "    .dataframe thead th {\n",
       "        text-align: right;\n",
       "    }\n",
       "</style>\n",
       "<table border=\"1\" class=\"dataframe\">\n",
       "  <thead>\n",
       "    <tr style=\"text-align: right;\">\n",
       "      <th></th>\n",
       "      <th>user_id</th>\n",
       "      <th>track</th>\n",
       "      <th>artist</th>\n",
       "      <th>genre</th>\n",
       "      <th>city</th>\n",
       "      <th>time</th>\n",
       "      <th>day</th>\n",
       "    </tr>\n",
       "  </thead>\n",
       "  <tbody>\n",
       "    <tr>\n",
       "      <th>0</th>\n",
       "      <td>FFB692EC</td>\n",
       "      <td>Kamigata To Boots</td>\n",
       "      <td>The Mass Missile</td>\n",
       "      <td>rock</td>\n",
       "      <td>Saint-Petersburg</td>\n",
       "      <td>20:28:33</td>\n",
       "      <td>Wednesday</td>\n",
       "    </tr>\n",
       "    <tr>\n",
       "      <th>1</th>\n",
       "      <td>55204538</td>\n",
       "      <td>Delayed Because of Accident</td>\n",
       "      <td>Andreas Rönnberg</td>\n",
       "      <td>rock</td>\n",
       "      <td>Moscow</td>\n",
       "      <td>14:07:09</td>\n",
       "      <td>Friday</td>\n",
       "    </tr>\n",
       "    <tr>\n",
       "      <th>2</th>\n",
       "      <td>20EC38</td>\n",
       "      <td>Funiculì funiculà</td>\n",
       "      <td>Mario Lanza</td>\n",
       "      <td>pop</td>\n",
       "      <td>Saint-Petersburg</td>\n",
       "      <td>20:58:07</td>\n",
       "      <td>Wednesday</td>\n",
       "    </tr>\n",
       "    <tr>\n",
       "      <th>3</th>\n",
       "      <td>A3DD03C9</td>\n",
       "      <td>Dragons in the Sunset</td>\n",
       "      <td>Fire + Ice</td>\n",
       "      <td>folk</td>\n",
       "      <td>Saint-Petersburg</td>\n",
       "      <td>08:37:09</td>\n",
       "      <td>Monday</td>\n",
       "    </tr>\n",
       "    <tr>\n",
       "      <th>4</th>\n",
       "      <td>E2DC1FAE</td>\n",
       "      <td>Soul People</td>\n",
       "      <td>Space Echo</td>\n",
       "      <td>dance</td>\n",
       "      <td>Moscow</td>\n",
       "      <td>08:34:34</td>\n",
       "      <td>Monday</td>\n",
       "    </tr>\n",
       "    <tr>\n",
       "      <th>...</th>\n",
       "      <td>...</td>\n",
       "      <td>...</td>\n",
       "      <td>...</td>\n",
       "      <td>...</td>\n",
       "      <td>...</td>\n",
       "      <td>...</td>\n",
       "      <td>...</td>\n",
       "    </tr>\n",
       "    <tr>\n",
       "      <th>65074</th>\n",
       "      <td>729CBB09</td>\n",
       "      <td>My Name</td>\n",
       "      <td>McLean</td>\n",
       "      <td>rnb</td>\n",
       "      <td>Moscow</td>\n",
       "      <td>13:32:28</td>\n",
       "      <td>Wednesday</td>\n",
       "    </tr>\n",
       "    <tr>\n",
       "      <th>65075</th>\n",
       "      <td>D08D4A55</td>\n",
       "      <td>Maybe One Day (feat. Black Spade)</td>\n",
       "      <td>Blu &amp; Exile</td>\n",
       "      <td>hip</td>\n",
       "      <td>Saint-Petersburg</td>\n",
       "      <td>10:00:00</td>\n",
       "      <td>Monday</td>\n",
       "    </tr>\n",
       "    <tr>\n",
       "      <th>65076</th>\n",
       "      <td>C5E3A0D5</td>\n",
       "      <td>Jalopiina</td>\n",
       "      <td>NaN</td>\n",
       "      <td>industrial</td>\n",
       "      <td>Moscow</td>\n",
       "      <td>20:09:26</td>\n",
       "      <td>Friday</td>\n",
       "    </tr>\n",
       "    <tr>\n",
       "      <th>65077</th>\n",
       "      <td>321D0506</td>\n",
       "      <td>Freight Train</td>\n",
       "      <td>Chas McDevitt</td>\n",
       "      <td>rock</td>\n",
       "      <td>Moscow</td>\n",
       "      <td>21:43:59</td>\n",
       "      <td>Friday</td>\n",
       "    </tr>\n",
       "    <tr>\n",
       "      <th>65078</th>\n",
       "      <td>3A64EF84</td>\n",
       "      <td>Tell Me Sweet Little Lies</td>\n",
       "      <td>Monica Lopez</td>\n",
       "      <td>country</td>\n",
       "      <td>Moscow</td>\n",
       "      <td>21:59:46</td>\n",
       "      <td>Friday</td>\n",
       "    </tr>\n",
       "  </tbody>\n",
       "</table>\n",
       "<p>65079 rows × 7 columns</p>\n",
       "</div>"
      ],
      "text/plain": [
       "        user_id                              track            artist  \\\n",
       "0      FFB692EC                  Kamigata To Boots  The Mass Missile   \n",
       "1      55204538        Delayed Because of Accident  Andreas Rönnberg   \n",
       "2        20EC38                  Funiculì funiculà       Mario Lanza   \n",
       "3      A3DD03C9              Dragons in the Sunset        Fire + Ice   \n",
       "4      E2DC1FAE                        Soul People        Space Echo   \n",
       "...         ...                                ...               ...   \n",
       "65074  729CBB09                            My Name            McLean   \n",
       "65075  D08D4A55  Maybe One Day (feat. Black Spade)       Blu & Exile   \n",
       "65076  C5E3A0D5                          Jalopiina               NaN   \n",
       "65077  321D0506                      Freight Train     Chas McDevitt   \n",
       "65078  3A64EF84          Tell Me Sweet Little Lies      Monica Lopez   \n",
       "\n",
       "            genre              city      time        day  \n",
       "0            rock  Saint-Petersburg  20:28:33  Wednesday  \n",
       "1            rock            Moscow  14:07:09     Friday  \n",
       "2             pop  Saint-Petersburg  20:58:07  Wednesday  \n",
       "3            folk  Saint-Petersburg  08:37:09     Monday  \n",
       "4           dance            Moscow  08:34:34     Monday  \n",
       "...           ...               ...       ...        ...  \n",
       "65074         rnb            Moscow  13:32:28  Wednesday  \n",
       "65075         hip  Saint-Petersburg  10:00:00     Monday  \n",
       "65076  industrial            Moscow  20:09:26     Friday  \n",
       "65077        rock            Moscow  21:43:59     Friday  \n",
       "65078     country            Moscow  21:59:46     Friday  \n",
       "\n",
       "[65079 rows x 7 columns]"
      ]
     },
     "execution_count": 25,
     "metadata": {},
     "output_type": "execute_result"
    }
   ],
   "source": [
    "df = df.rename(columns = {'  userID': 'user_id', 'Track': 'track', 'Day': 'day', '  City  ': 'city',})\n",
    "df "
   ]
  },
  {
   "cell_type": "markdown",
   "metadata": {
    "deletable": false,
    "editable": false,
    "id": "1dqbh00J_Zct",
    "tags": [
     "start_task"
    ]
   },
   "source": [
    "**Задание 8**\n",
    "\n",
    "\n",
    "Проверьте результат. Для этого ещё раз выведите на экран названия столбцов:"
   ]
  },
  {
   "cell_type": "code",
   "execution_count": 26,
   "metadata": {
    "deletable": false,
    "id": "d4NOAmTW_Zct"
   },
   "outputs": [
    {
     "data": {
      "text/plain": [
       "Index(['user_id', 'track', 'artist', 'genre', 'city', 'time', 'day'], dtype='object')"
      ]
     },
     "execution_count": 26,
     "metadata": {},
     "output_type": "execute_result"
    }
   ],
   "source": [
    "df.columns # проверка результатов - перечень названий столбцов"
   ]
  },
  {
   "cell_type": "markdown",
   "metadata": {
    "deletable": false,
    "editable": false,
    "id": "5ISfbcfY_Zct",
    "tags": [
     "start_task"
    ]
   },
   "source": [
    "### Пропуски значений\n",
    "\n",
    "**Задание 9**\n",
    "\n",
    "Сначала посчитайте, сколько в таблице пропущенных значений. Для этого достаточно двух методов `pandas`:"
   ]
  },
  {
   "cell_type": "code",
   "execution_count": 27,
   "metadata": {
    "deletable": false,
    "id": "RskX29qr_Zct"
   },
   "outputs": [
    {
     "data": {
      "text/plain": [
       "user_id       0\n",
       "track      1231\n",
       "artist     7203\n",
       "genre      1198\n",
       "city          0\n",
       "time          0\n",
       "day           0\n",
       "dtype: int64"
      ]
     },
     "execution_count": 27,
     "metadata": {},
     "output_type": "execute_result"
    }
   ],
   "source": [
    "df.isna().sum()"
   ]
  },
  {
   "cell_type": "markdown",
   "metadata": {
    "deletable": false,
    "editable": false,
    "id": "qubhgnlO_Zct"
   },
   "source": [
    "Не все пропущенные значения влияют на исследование. Так, в `track` и `artist` пропуски не важны для вашей работы. Достаточно заменить их явными обозначениями.\n",
    "\n",
    "Но пропуски в `genre` могут помешать сравнить музыкальные вкусы в Москве и Санкт-Петербурге. На практике было бы правильно установить причину пропусков и восстановить данные. Такой возможности нет в учебном проекте. Поэтому придётся:\n",
    "* заполнить и эти пропуски явными обозначениями;\n",
    "* оценить, насколько они повредят расчётам."
   ]
  },
  {
   "cell_type": "markdown",
   "metadata": {
    "deletable": false,
    "editable": false,
    "id": "fSv2laPA_Zct",
    "tags": [
     "start_task"
    ]
   },
   "source": [
    "**Задание 10**\n",
    "\n",
    "Замените пропущенные значения в столбцах `track`, `artist` и `genre` на строку `'unknown'`. Для этого создайте список `columns_to_replace`, переберите его элементы циклом `for` и для каждого столбца выполните замену пропущенных значений:"
   ]
  },
  {
   "cell_type": "code",
   "execution_count": 28,
   "metadata": {
    "deletable": false,
    "id": "KplB5qWs_Zct"
   },
   "outputs": [],
   "source": [
    "df['track']= df['track'].fillna('unknown')\n",
    "df['artist']= df['artist'].fillna('unknown')\n",
    "df['genre']= df['genre'].fillna('unknown')    \n",
    "    \n",
    "   \n"
   ]
  },
  {
   "cell_type": "markdown",
   "metadata": {
    "deletable": false,
    "editable": false,
    "id": "Ilsm-MZo_Zct",
    "tags": [
     "start_task"
    ]
   },
   "source": [
    "# **Задание 11**\n",
    "\n",
    "Убедитесь, что в таблице не осталось пропусков. Для этого ещё раз посчитайте пропущенные значения."
   ]
  },
  {
   "cell_type": "code",
   "execution_count": 29,
   "metadata": {
    "deletable": false,
    "id": "Tq4nYRX4_Zct"
   },
   "outputs": [
    {
     "data": {
      "text/plain": [
       "user_id    0\n",
       "track      0\n",
       "artist     0\n",
       "genre      0\n",
       "city       0\n",
       "time       0\n",
       "day        0\n",
       "dtype: int64"
      ]
     },
     "execution_count": 29,
     "metadata": {},
     "output_type": "execute_result"
    }
   ],
   "source": [
    "df.isna().sum() # подсчёт пропусков"
   ]
  },
  {
   "cell_type": "markdown",
   "metadata": {
    "deletable": false,
    "editable": false,
    "id": "BWKRtBJ3_Zct",
    "tags": [
     "start_task"
    ]
   },
   "source": [
    "### Дубликаты\n",
    "\n",
    "**Задание 12**\n",
    "\n",
    "Посчитайте явные дубликаты в таблице одной командой:"
   ]
  },
  {
   "cell_type": "code",
   "execution_count": 30,
   "metadata": {
    "deletable": false,
    "id": "36eES_S0_Zct"
   },
   "outputs": [
    {
     "data": {
      "text/plain": [
       "3826"
      ]
     },
     "execution_count": 30,
     "metadata": {},
     "output_type": "execute_result"
    }
   ],
   "source": [
    "df.duplicated().sum()"
   ]
  },
  {
   "cell_type": "markdown",
   "metadata": {
    "deletable": false,
    "editable": false,
    "id": "Ot25h6XR_Zct",
    "tags": [
     "start_task"
    ]
   },
   "source": [
    "**Задание 13**\n",
    "\n",
    "Вызовите специальный метод `pandas`, чтобы удалить явные дубликаты:"
   ]
  },
  {
   "cell_type": "code",
   "execution_count": 133,
   "metadata": {
    "deletable": false,
    "id": "exFHq6tt_Zct"
   },
   "outputs": [],
   "source": [
    "df=df.drop_duplicates()# удаление явных дубликатов"
   ]
  },
  {
   "cell_type": "markdown",
   "metadata": {
    "deletable": false,
    "editable": false,
    "id": "Im2YwBEG_Zct",
    "tags": [
     "start_task"
    ]
   },
   "source": [
    "**Задание 14**\n",
    "\n",
    "Ещё раз посчитайте явные дубликаты в таблице — убедитесь, что полностью от них избавились:"
   ]
  },
  {
   "cell_type": "code",
   "execution_count": 32,
   "metadata": {
    "deletable": false,
    "id": "-8PuNWQ0_Zct"
   },
   "outputs": [
    {
     "data": {
      "text/plain": [
       "0"
      ]
     },
     "execution_count": 32,
     "metadata": {},
     "output_type": "execute_result"
    }
   ],
   "source": [
    "df.duplicated().sum()"
   ]
  },
  {
   "cell_type": "markdown",
   "metadata": {
    "deletable": false,
    "editable": false,
    "id": "QlFBsxAr_Zct"
   },
   "source": [
    "Теперь избавьтесь от неявных дубликатов в колонке `genre`. Например, название одного и того же жанра может быть записано немного по-разному. Такие ошибки тоже повлияют на результат исследования."
   ]
  },
  {
   "cell_type": "markdown",
   "metadata": {
    "deletable": false,
    "editable": false,
    "id": "eSjWwsOh_Zct",
    "tags": [
     "start_task"
    ]
   },
   "source": [
    "**Задание 15**\n",
    "\n",
    "Выведите на экран список уникальных названий жанров, отсортированный в алфавитном порядке. Для этого:\n",
    "* извлеките нужный столбец датафрейма;\n",
    "* примените к нему метод сортировки;\n",
    "* для отсортированного столбца вызовите метод, который вернёт уникальные значения из столбца."
   ]
  },
  {
   "cell_type": "code",
   "execution_count": 33,
   "metadata": {
    "deletable": false,
    "id": "JIUcqzZN_Zct"
   },
   "outputs": [
    {
     "data": {
      "text/plain": [
       "array(['acid', 'acoustic', 'action', 'adult', 'africa', 'afrikaans',\n",
       "       'alternative', 'alternativepunk', 'ambient', 'americana',\n",
       "       'animated', 'anime', 'arabesk', 'arabic', 'arena',\n",
       "       'argentinetango', 'art', 'audiobook', 'author', 'avantgarde',\n",
       "       'axé', 'baile', 'balkan', 'beats', 'bigroom', 'black', 'bluegrass',\n",
       "       'blues', 'bollywood', 'bossa', 'brazilian', 'breakbeat', 'breaks',\n",
       "       'broadway', 'cantautori', 'cantopop', 'canzone', 'caribbean',\n",
       "       'caucasian', 'celtic', 'chamber', 'chanson', 'children', 'chill',\n",
       "       'chinese', 'choral', 'christian', 'christmas', 'classical',\n",
       "       'classicmetal', 'club', 'colombian', 'comedy', 'conjazz',\n",
       "       'contemporary', 'country', 'cuban', 'dance', 'dancehall',\n",
       "       'dancepop', 'dark', 'death', 'deep', 'deutschrock', 'deutschspr',\n",
       "       'dirty', 'disco', 'dnb', 'documentary', 'downbeat', 'downtempo',\n",
       "       'drum', 'dub', 'dubstep', 'eastern', 'easy', 'electronic',\n",
       "       'electropop', 'emo', 'entehno', 'epicmetal', 'estrada', 'ethnic',\n",
       "       'eurofolk', 'european', 'experimental', 'extrememetal', 'fado',\n",
       "       'fairytail', 'film', 'fitness', 'flamenco', 'folk', 'folklore',\n",
       "       'folkmetal', 'folkrock', 'folktronica', 'forró', 'frankreich',\n",
       "       'französisch', 'french', 'funk', 'future', 'gangsta', 'garage',\n",
       "       'german', 'ghazal', 'gitarre', 'glitch', 'gospel', 'gothic',\n",
       "       'grime', 'grunge', 'gypsy', 'handsup', \"hard'n'heavy\", 'hardcore',\n",
       "       'hardstyle', 'hardtechno', 'hip', 'hip-hop', 'hiphop',\n",
       "       'historisch', 'holiday', 'hop', 'horror', 'house', 'hymn', 'idm',\n",
       "       'independent', 'indian', 'indie', 'indipop', 'industrial',\n",
       "       'inspirational', 'instrumental', 'international', 'irish', 'jam',\n",
       "       'japanese', 'jazz', 'jewish', 'jpop', 'jungle', 'k-pop',\n",
       "       'karadeniz', 'karaoke', 'kayokyoku', 'korean', 'laiko', 'latin',\n",
       "       'latino', 'leftfield', 'local', 'lounge', 'loungeelectronic',\n",
       "       'lovers', 'malaysian', 'mandopop', 'marschmusik', 'meditative',\n",
       "       'mediterranean', 'melodic', 'metal', 'metalcore', 'mexican',\n",
       "       'middle', 'minimal', 'miscellaneous', 'modern', 'mood', 'mpb',\n",
       "       'muslim', 'native', 'neoklassik', 'neue', 'new', 'newage',\n",
       "       'newwave', 'nu', 'nujazz', 'numetal', 'oceania', 'old', 'opera',\n",
       "       'orchestral', 'other', 'piano', 'podcasts', 'pop', 'popdance',\n",
       "       'popelectronic', 'popeurodance', 'poprussian', 'post',\n",
       "       'posthardcore', 'postrock', 'power', 'progmetal', 'progressive',\n",
       "       'psychedelic', 'punjabi', 'punk', 'quebecois', 'ragga', 'ram',\n",
       "       'rancheras', 'rap', 'rave', 'reggae', 'reggaeton', 'regional',\n",
       "       'relax', 'religious', 'retro', 'rhythm', 'rnb', 'rnr', 'rock',\n",
       "       'rockabilly', 'rockalternative', 'rockindie', 'rockother',\n",
       "       'romance', 'roots', 'ruspop', 'rusrap', 'rusrock', 'russian',\n",
       "       'salsa', 'samba', 'scenic', 'schlager', 'self', 'sertanejo',\n",
       "       'shanson', 'shoegazing', 'showtunes', 'singer', 'ska', 'skarock',\n",
       "       'slow', 'smooth', 'soft', 'soul', 'soulful', 'sound', 'soundtrack',\n",
       "       'southern', 'specialty', 'speech', 'spiritual', 'sport',\n",
       "       'stonerrock', 'surf', 'swing', 'synthpop', 'synthrock',\n",
       "       'sängerportrait', 'tango', 'tanzorchester', 'taraftar', 'tatar',\n",
       "       'tech', 'techno', 'teen', 'thrash', 'top', 'traditional',\n",
       "       'tradjazz', 'trance', 'tribal', 'trip', 'triphop', 'tropical',\n",
       "       'türk', 'türkçe', 'ukrrock', 'unknown', 'urban', 'uzbek',\n",
       "       'variété', 'vi', 'videogame', 'vocal', 'western', 'world',\n",
       "       'worldbeat', 'ïîï', 'электроника'], dtype=object)"
      ]
     },
     "execution_count": 33,
     "metadata": {},
     "output_type": "execute_result"
    }
   ],
   "source": [
    "\n",
    "df['genre'].sort_values().unique()\n",
    "\n",
    "# Просмотр уникальных названий жанров"
   ]
  },
  {
   "cell_type": "markdown",
   "metadata": {
    "deletable": false,
    "editable": false,
    "id": "qej-Qmuo_Zct",
    "tags": [
     "start_task"
    ]
   },
   "source": [
    "**Задание 16**\n",
    "\n",
    "Просмотрите список и найдите неявные дубликаты названия `hiphop`. Это могут быть названия с ошибками или альтернативные названия того же жанра.\n",
    "\n",
    "Вы увидите следующие неявные дубликаты:\n",
    "* *hip*,\n",
    "* *hop*,\n",
    "* *hip-hop*.\n",
    "\n",
    "Чтобы очистить от них таблицу, используйте метод `replace()` с двумя аргументами: списком строк-дубликатов (включающий *hip*, *hop* и *hip-hop*) и строкой с правильным значением. Вам нужно исправить колонку `genre` в таблице `df`: заменить каждое значение из списка дубликатов на верное. Вместо `hip`, `hop` и `hip-hop` в таблице должно быть значение `hiphop`:"
   ]
  },
  {
   "cell_type": "code",
   "execution_count": 34,
   "metadata": {
    "deletable": false,
    "id": "ErNDkmns_Zct"
   },
   "outputs": [],
   "source": [
    "df['genre']=df['genre'].replace('hip', 'hiphop')\n",
    "df['genre']=df['genre'].replace('hip-hop', 'hiphop')\n",
    "df['genre']=df['genre'].replace('hop', 'hiphop')"
   ]
  },
  {
   "cell_type": "markdown",
   "metadata": {
    "deletable": false,
    "editable": false,
    "id": "zQKF16_RG15m",
    "tags": [
     "start_task"
    ]
   },
   "source": [
    "**Задание 17**\n",
    "\n",
    "Проверьте, что заменили неправильные названия:\n",
    "\n",
    "*   *hip*,\n",
    "*   *hop*,\n",
    "*   *hip-hop*.\n",
    "\n",
    "Выведите отсортированный список уникальных значений столбца `genre`:"
   ]
  },
  {
   "cell_type": "code",
   "execution_count": 35,
   "metadata": {
    "deletable": false,
    "id": "wvixALnFG15m"
   },
   "outputs": [
    {
     "data": {
      "text/plain": [
       "array(['acid', 'acoustic', 'action', 'adult', 'africa', 'afrikaans',\n",
       "       'alternative', 'alternativepunk', 'ambient', 'americana',\n",
       "       'animated', 'anime', 'arabesk', 'arabic', 'arena',\n",
       "       'argentinetango', 'art', 'audiobook', 'author', 'avantgarde',\n",
       "       'axé', 'baile', 'balkan', 'beats', 'bigroom', 'black', 'bluegrass',\n",
       "       'blues', 'bollywood', 'bossa', 'brazilian', 'breakbeat', 'breaks',\n",
       "       'broadway', 'cantautori', 'cantopop', 'canzone', 'caribbean',\n",
       "       'caucasian', 'celtic', 'chamber', 'chanson', 'children', 'chill',\n",
       "       'chinese', 'choral', 'christian', 'christmas', 'classical',\n",
       "       'classicmetal', 'club', 'colombian', 'comedy', 'conjazz',\n",
       "       'contemporary', 'country', 'cuban', 'dance', 'dancehall',\n",
       "       'dancepop', 'dark', 'death', 'deep', 'deutschrock', 'deutschspr',\n",
       "       'dirty', 'disco', 'dnb', 'documentary', 'downbeat', 'downtempo',\n",
       "       'drum', 'dub', 'dubstep', 'eastern', 'easy', 'electronic',\n",
       "       'electropop', 'emo', 'entehno', 'epicmetal', 'estrada', 'ethnic',\n",
       "       'eurofolk', 'european', 'experimental', 'extrememetal', 'fado',\n",
       "       'fairytail', 'film', 'fitness', 'flamenco', 'folk', 'folklore',\n",
       "       'folkmetal', 'folkrock', 'folktronica', 'forró', 'frankreich',\n",
       "       'französisch', 'french', 'funk', 'future', 'gangsta', 'garage',\n",
       "       'german', 'ghazal', 'gitarre', 'glitch', 'gospel', 'gothic',\n",
       "       'grime', 'grunge', 'gypsy', 'handsup', \"hard'n'heavy\", 'hardcore',\n",
       "       'hardstyle', 'hardtechno', 'hiphop', 'historisch', 'holiday',\n",
       "       'horror', 'house', 'hymn', 'idm', 'independent', 'indian', 'indie',\n",
       "       'indipop', 'industrial', 'inspirational', 'instrumental',\n",
       "       'international', 'irish', 'jam', 'japanese', 'jazz', 'jewish',\n",
       "       'jpop', 'jungle', 'k-pop', 'karadeniz', 'karaoke', 'kayokyoku',\n",
       "       'korean', 'laiko', 'latin', 'latino', 'leftfield', 'local',\n",
       "       'lounge', 'loungeelectronic', 'lovers', 'malaysian', 'mandopop',\n",
       "       'marschmusik', 'meditative', 'mediterranean', 'melodic', 'metal',\n",
       "       'metalcore', 'mexican', 'middle', 'minimal', 'miscellaneous',\n",
       "       'modern', 'mood', 'mpb', 'muslim', 'native', 'neoklassik', 'neue',\n",
       "       'new', 'newage', 'newwave', 'nu', 'nujazz', 'numetal', 'oceania',\n",
       "       'old', 'opera', 'orchestral', 'other', 'piano', 'podcasts', 'pop',\n",
       "       'popdance', 'popelectronic', 'popeurodance', 'poprussian', 'post',\n",
       "       'posthardcore', 'postrock', 'power', 'progmetal', 'progressive',\n",
       "       'psychedelic', 'punjabi', 'punk', 'quebecois', 'ragga', 'ram',\n",
       "       'rancheras', 'rap', 'rave', 'reggae', 'reggaeton', 'regional',\n",
       "       'relax', 'religious', 'retro', 'rhythm', 'rnb', 'rnr', 'rock',\n",
       "       'rockabilly', 'rockalternative', 'rockindie', 'rockother',\n",
       "       'romance', 'roots', 'ruspop', 'rusrap', 'rusrock', 'russian',\n",
       "       'salsa', 'samba', 'scenic', 'schlager', 'self', 'sertanejo',\n",
       "       'shanson', 'shoegazing', 'showtunes', 'singer', 'ska', 'skarock',\n",
       "       'slow', 'smooth', 'soft', 'soul', 'soulful', 'sound', 'soundtrack',\n",
       "       'southern', 'specialty', 'speech', 'spiritual', 'sport',\n",
       "       'stonerrock', 'surf', 'swing', 'synthpop', 'synthrock',\n",
       "       'sängerportrait', 'tango', 'tanzorchester', 'taraftar', 'tatar',\n",
       "       'tech', 'techno', 'teen', 'thrash', 'top', 'traditional',\n",
       "       'tradjazz', 'trance', 'tribal', 'trip', 'triphop', 'tropical',\n",
       "       'türk', 'türkçe', 'ukrrock', 'unknown', 'urban', 'uzbek',\n",
       "       'variété', 'vi', 'videogame', 'vocal', 'western', 'world',\n",
       "       'worldbeat', 'ïîï', 'электроника'], dtype=object)"
      ]
     },
     "execution_count": 35,
     "metadata": {},
     "output_type": "execute_result"
    }
   ],
   "source": [
    "df['genre'].sort_values().unique() # Проверка на неявные дубликаты"
   ]
  },
  {
   "cell_type": "markdown",
   "metadata": {
    "deletable": false,
    "editable": false,
    "id": "jz6a9-7HQUDd"
   },
   "source": [
    "**Выводы**\n",
    "\n",
    "Предобработка обнаружила три проблемы в данных:\n",
    "\n",
    "- нарушения в стиле заголовков,\n",
    "- пропущенные значения,\n",
    "- дубликаты — явные и неявные.\n",
    "\n",
    "Вы исправили заголовки, чтобы упростить работу с таблицей. Без дубликатов исследование станет более точным.\n",
    "\n",
    "Пропущенные значения вы заменили на `'unknown'`. Ещё предстоит увидеть, не повредят ли исследованию пропуски в колонке `genre`.\n",
    "\n",
    "Теперь можно перейти к проверке гипотез."
   ]
  },
  {
   "cell_type": "markdown",
   "metadata": {
    "deletable": false,
    "editable": false,
    "id": "WttZHXH0SqKk"
   },
   "source": [
    "## Проверка гипотез"
   ]
  },
  {
   "cell_type": "markdown",
   "metadata": {
    "deletable": false,
    "editable": false,
    "id": "Im936VVi_Zcu"
   },
   "source": [
    "### Сравнение поведения пользователей двух столиц"
   ]
  },
  {
   "cell_type": "markdown",
   "metadata": {
    "deletable": false,
    "editable": false,
    "id": "nwt_MuaL_Zcu"
   },
   "source": [
    "Первая гипотеза утверждает, что пользователи по-разному слушают музыку в Москве и Санкт-Петербурге. Проверьте это предположение по данным о трёх днях недели — понедельнике, среде и пятнице. Для этого:\n",
    "\n",
    "* Разделите пользователей Москвы и Санкт-Петербурга.\n",
    "* Сравните, сколько треков послушала каждая группа пользователей в понедельник, среду и пятницу.\n"
   ]
  },
  {
   "cell_type": "markdown",
   "metadata": {
    "deletable": false,
    "editable": false,
    "id": "8Dw_YMmT_Zcu",
    "tags": [
     "start_task"
    ]
   },
   "source": [
    "**Задание 18**\n",
    "\n",
    "Для тренировки сначала выполните каждый из расчётов по отдельности.\n",
    "\n",
    "Оцените активность пользователей в каждом городе. Сгруппируйте данные по городу и посчитайте прослушивания в каждой группе.\n",
    "\n"
   ]
  },
  {
   "cell_type": "code",
   "execution_count": 37,
   "metadata": {
    "deletable": false,
    "id": "0_Qs96oh_Zcu"
   },
   "outputs": [
    {
     "data": {
      "text/plain": [
       "city\n",
       "Moscow              42741\n",
       "Saint-Petersburg    18512\n",
       "Name: user_id, dtype: int64"
      ]
     },
     "execution_count": 37,
     "metadata": {},
     "output_type": "execute_result"
    }
   ],
   "source": [
    "cities = df.groupby('city')['user_id'].count()\n",
    "cities # Подсчёт прослушиваний в каждом городе"
   ]
  },
  {
   "cell_type": "markdown",
   "metadata": {
    "deletable": false,
    "editable": false,
    "id": "dzli3w8o_Zcu",
    "tags": [
     "start_task"
    ]
   },
   "source": [
    "В Москве прослушиваний больше, чем в Петербурге. Из этого не следует, что московские пользователи чаще слушают музыку. Просто самих пользователей в Москве больше.\n",
    "\n",
    "**Задание 19**\n",
    "\n",
    "Теперь сгруппируйте данные по дню недели и посчитайте прослушивания в понедельник, среду и пятницу. Учтите, что в данных есть информация о прослушиваниях только за эти дни.\n"
   ]
  },
  {
   "cell_type": "code",
   "execution_count": 42,
   "metadata": {
    "deletable": false,
    "id": "uZMKjiJz_Zcu"
   },
   "outputs": [
    {
     "data": {
      "text/plain": [
       "day\n",
       "Friday       21840\n",
       "Monday       21354\n",
       "Wednesday    18059\n",
       "Name: time, dtype: int64"
      ]
     },
     "execution_count": 42,
     "metadata": {},
     "output_type": "execute_result"
    }
   ],
   "source": [
    "days=df.groupby('day')['time'].count()\n",
    "days\n"
   ]
  },
  {
   "cell_type": "markdown",
   "metadata": {
    "deletable": false,
    "editable": false,
    "id": "cC2tNrlL_Zcu"
   },
   "source": [
    "В среднем пользователи из двух городов менее активны по средам. Но картина может измениться, если рассмотреть каждый город в отдельности."
   ]
  },
  {
   "cell_type": "markdown",
   "metadata": {
    "deletable": false,
    "editable": false,
    "id": "POzs8bGa_Zcu",
    "tags": [
     "start_task"
    ]
   },
   "source": [
    "**Задание 20**\n",
    "\n",
    "\n",
    "Вы видели, как работает группировка по городу и по дням недели. Теперь напишите функцию, которая объединит два эти расчёта.\n",
    "\n",
    "Создайте функцию `number_tracks()`, которая посчитает прослушивания для заданного дня и города. Ей понадобятся два параметра:\n",
    "* день недели,\n",
    "* название города.\n",
    "\n",
    "В функции сохраните в переменную строки исходной таблицы, у которых значение:\n",
    "  * в колонке `day` равно параметру `day`,\n",
    "  * в колонке `city` равно параметру `city`.\n",
    "\n",
    "Для этого примените последовательную фильтрацию с логической индексацией (или сложные логические выражения в одну строку, если вы уже знакомы с ними).\n",
    "\n",
    "Затем посчитайте значения в столбце `user_id` получившейся таблицы. Результат сохраните в новую переменную. Верните эту переменную из функции."
   ]
  },
  {
   "cell_type": "code",
   "execution_count": 4,
   "metadata": {
    "deletable": false,
    "id": "Nz3GdQB1_Zcu"
   },
   "outputs": [],
   "source": [
    "def number_tracks(day,city):\n",
    "    track_list = df[(df['day']==day)&(df['city']==city)]\n",
    "    track_list_count= track_list['user_id'].count()\n",
    "    return track_list_count\n",
    "\n",
    "\n",
    "# С помощью последовательной фильтрации с логической индексацией она\n",
    "# сначала получит из исходной таблицы строки с нужным днём,\n",
    "# затем из результата отфильтрует строки с нужным городом,\n",
    "# методом count() посчитает количество значений в колонке user_id.\n",
    "# Это количество функция вернёт в качестве результата"
   ]
  },
  {
   "cell_type": "markdown",
   "metadata": {
    "deletable": false,
    "editable": false,
    "id": "ytf7xFrFJQ2r",
    "tags": [
     "start_task"
    ]
   },
   "source": [
    "**Задание 21**\n",
    "\n",
    "Вызовите `number_tracks()` шесть раз, меняя значение параметров — так, чтобы получить данные для каждого города в каждый из трёх дней."
   ]
  },
  {
   "cell_type": "code",
   "execution_count": 96,
   "metadata": {
    "deletable": false,
    "id": "rJcRATNQ_Zcu"
   },
   "outputs": [
    {
     "data": {
      "text/plain": [
       "15740"
      ]
     },
     "execution_count": 96,
     "metadata": {},
     "output_type": "execute_result"
    }
   ],
   "source": [
    "number_tracks('Monday', 'Moscow') # количество прослушиваний в Москве по понедельникам"
   ]
  },
  {
   "cell_type": "code",
   "execution_count": 89,
   "metadata": {
    "deletable": false,
    "id": "hq_ncZ5T_Zcu"
   },
   "outputs": [
    {
     "data": {
      "text/plain": [
       "5614"
      ]
     },
     "execution_count": 89,
     "metadata": {},
     "output_type": "execute_result"
    }
   ],
   "source": [
    "number_tracks('Monday', 'Saint-Petersburg') # количество прослушиваний в Санкт-Петербурге по понедельникам"
   ]
  },
  {
   "cell_type": "code",
   "execution_count": 90,
   "metadata": {
    "deletable": false,
    "id": "_NTy2VPU_Zcu"
   },
   "outputs": [
    {
     "data": {
      "text/plain": [
       "11056"
      ]
     },
     "execution_count": 90,
     "metadata": {},
     "output_type": "execute_result"
    }
   ],
   "source": [
    "number_tracks('Wednesday', 'Moscow')# количество прослушиваний в Москве по средам"
   ]
  },
  {
   "cell_type": "code",
   "execution_count": 91,
   "metadata": {
    "deletable": false,
    "id": "j2y3TAwo_Zcu"
   },
   "outputs": [
    {
     "data": {
      "text/plain": [
       "7003"
      ]
     },
     "execution_count": 91,
     "metadata": {},
     "output_type": "execute_result"
    }
   ],
   "source": [
    "number_tracks('Wednesday', 'Saint-Petersburg') # количество прослушиваний в Санкт-Петербурге по средам"
   ]
  },
  {
   "cell_type": "code",
   "execution_count": 92,
   "metadata": {
    "deletable": false,
    "id": "vYDw5u_K_Zcu"
   },
   "outputs": [
    {
     "data": {
      "text/plain": [
       "15945"
      ]
     },
     "execution_count": 92,
     "metadata": {},
     "output_type": "execute_result"
    }
   ],
   "source": [
    "number_tracks('Friday', 'Moscow') # количество прослушиваний в Москве по пятницам"
   ]
  },
  {
   "cell_type": "code",
   "execution_count": 93,
   "metadata": {
    "deletable": false,
    "id": "8_yzFtW3_Zcu"
   },
   "outputs": [
    {
     "data": {
      "text/plain": [
       "5895"
      ]
     },
     "execution_count": 93,
     "metadata": {},
     "output_type": "execute_result"
    }
   ],
   "source": [
    "number_tracks('Friday', 'Saint-Petersburg') # количество прослушиваний в Санкт-Петербурге по пятницам"
   ]
  },
  {
   "cell_type": "markdown",
   "metadata": {
    "deletable": false,
    "editable": false,
    "id": "7QXffbO-_Zcu",
    "tags": [
     "start_task"
    ]
   },
   "source": [
    "**Задание 22**\n",
    "\n",
    "С помощью конструктора `pd.DataFrame` создайте таблицу, где\n",
    "* названия колонок — `['city', 'monday', 'wednesday', 'friday']`;\n",
    "* данные — результаты, которые вы получили с помощью `number_tracks`."
   ]
  },
  {
   "cell_type": "code",
   "execution_count": 97,
   "metadata": {
    "deletable": false,
    "id": "APAcLpOr_Zcu"
   },
   "outputs": [
    {
     "data": {
      "text/html": [
       "<div>\n",
       "<style scoped>\n",
       "    .dataframe tbody tr th:only-of-type {\n",
       "        vertical-align: middle;\n",
       "    }\n",
       "\n",
       "    .dataframe tbody tr th {\n",
       "        vertical-align: top;\n",
       "    }\n",
       "\n",
       "    .dataframe thead th {\n",
       "        text-align: right;\n",
       "    }\n",
       "</style>\n",
       "<table border=\"1\" class=\"dataframe\">\n",
       "  <thead>\n",
       "    <tr style=\"text-align: right;\">\n",
       "      <th></th>\n",
       "      <th>city</th>\n",
       "      <th>monday</th>\n",
       "      <th>wednesday</th>\n",
       "      <th>friday</th>\n",
       "    </tr>\n",
       "  </thead>\n",
       "  <tbody>\n",
       "    <tr>\n",
       "      <th>0</th>\n",
       "      <td>Moscow</td>\n",
       "      <td>15740</td>\n",
       "      <td>11056</td>\n",
       "      <td>15945</td>\n",
       "    </tr>\n",
       "    <tr>\n",
       "      <th>1</th>\n",
       "      <td>Saint-Petersburg</td>\n",
       "      <td>5614</td>\n",
       "      <td>7003</td>\n",
       "      <td>5895</td>\n",
       "    </tr>\n",
       "  </tbody>\n",
       "</table>\n",
       "</div>"
      ],
      "text/plain": [
       "               city  monday  wednesday  friday\n",
       "0            Moscow   15740      11056   15945\n",
       "1  Saint-Petersburg    5614       7003    5895"
      ]
     },
     "execution_count": 97,
     "metadata": {},
     "output_type": "execute_result"
    }
   ],
   "source": [
    "data = [['Moscow', 15740, 11056, 15945],\n",
    "        ['Saint-Petersburg', 5614, 7003, 5895]]\n",
    "\n",
    "columns = ['city', 'monday','wednesday', 'friday' ]\n",
    "\n",
    "table = pd.DataFrame(data=data, columns=columns)\n",
    "\n",
    "table"
   ]
  },
  {
   "cell_type": "markdown",
   "metadata": {
    "deletable": false,
    "editable": false,
    "id": "-EgPIHYu_Zcu"
   },
   "source": [
    "**Выводы**\n",
    "\n",
    "Данные показывают разницу поведения пользователей:\n",
    "\n",
    "- В Москве пик прослушиваний приходится на понедельник и пятницу, а в среду заметен спад.\n",
    "- В Петербурге, наоборот, больше слушают музыку по средам. Активность в понедельник и пятницу здесь почти в равной мере уступает среде.\n",
    "\n",
    "Значит, данные говорят в пользу первой гипотезы."
   ]
  },
  {
   "cell_type": "markdown",
   "metadata": {
    "deletable": false,
    "editable": false,
    "id": "atZAxtq4_Zcu"
   },
   "source": [
    "### Музыка в начале и в конце недели"
   ]
  },
  {
   "cell_type": "markdown",
   "metadata": {
    "deletable": false,
    "editable": false,
    "id": "eXrQqXFH_Zcu"
   },
   "source": [
    "Согласно второй гипотезе, утром в понедельник в Москве преобладают одни жанры, а в Петербурге — другие. Так же и вечером пятницы преобладают разные жанры — в зависимости от города."
   ]
  },
  {
   "cell_type": "markdown",
   "metadata": {
    "deletable": false,
    "editable": false,
    "id": "S8UcW6Hw_Zcu",
    "tags": [
     "start_task"
    ]
   },
   "source": [
    "**Задание 23**\n",
    "\n",
    "Сохраните таблицы с данными в две переменные:\n",
    "* по Москве — в `moscow_general`;\n",
    "* по Санкт-Петербургу — в `spb_general`."
   ]
  },
  {
   "cell_type": "code",
   "execution_count": 107,
   "metadata": {
    "deletable": false,
    "id": "qeaFfM_P_Zcu"
   },
   "outputs": [],
   "source": [
    "moscow_general = df[df['city']== 'Moscow'] # получение таблицы moscow_general из тех строк таблицы df,\n",
    "# для которых значение в столбце 'city' равно 'Moscow'\n"
   ]
  },
  {
   "cell_type": "code",
   "execution_count": 108,
   "metadata": {
    "deletable": false,
    "id": "ORaVRKto_Zcu"
   },
   "outputs": [],
   "source": [
    "spb_general = df[df['city']== 'Saint-Petersburg'] # получение таблицы spb_general из тех строк таблицы df,\n",
    "# для которых значение в столбце 'city' равно 'Saint-Petersburg'\n"
   ]
  },
  {
   "cell_type": "markdown",
   "metadata": {
    "deletable": false,
    "id": "MEJV-CX2_Zcu",
    "tags": [
     "start_task"
    ]
   },
   "source": [
    "**Задание 24**\n",
    "\n",
    "Создайте функцию `genre_weekday()` с четырьмя параметрами:\n",
    "* таблица (датафрейм) с данными,\n",
    "* день недели,\n",
    "* начальная временная метка в формате 'hh:mm',\n",
    "* последняя временная метка в формате 'hh:mm'.\n",
    "\n",
    "Функция должна вернуть информацию о топ-10 жанров тех треков, которые прослушивали в указанный день, в промежутке между двумя отметками времени."
   ]
  },
  {
   "cell_type": "code",
   "execution_count": 5,
   "metadata": {
    "deletable": false,
    "id": "laJT9BYl_Zcu"
   },
   "outputs": [],
   "source": [
    "# Объявление функции genre_weekday() с параметрами df, day, time1, time2,\n",
    "# которая возвращает информацию о самых популярных жанрах в указанный день в\n",
    "# заданное время:\n",
    "# 1) в переменную genre_df сохраняются те строки переданного датафрейма df, для\n",
    "#    которых одновременно:\n",
    "#    - значение в столбце day равно значению аргумента day\n",
    "#    - значение в столбце time больше значения аргумента time1\n",
    "#    - значение в столбце time меньше значения аргумента time2\n",
    "#    Используйте последовательную фильтрацию с помощью логической индексации.\n",
    "# 2) сгруппировать датафрейм genre_df по столбцу genre, взять один из его\n",
    "#    столбцов и посчитать методом count() количество записей для каждого из\n",
    "#    присутствующих жанров, получившийся Series записать в переменную\n",
    "#    genre_df_grouped\n",
    "# 3) отсортировать genre_df_grouped по убыванию встречаемости и сохранить\n",
    "#    в переменную genre_df_sorted\n",
    "# 4) вернуть Series из 10 первых значений genre_df_sorted, это будут топ-10\n",
    "#    популярных жанров (в указанный день, в заданное время)\n",
    "\n",
    "def genre_weekday(df, day, time1, time2):\n",
    "    # последовательная фильтрация\n",
    "    # оставляем в genre_df только те строки df, у которых день равен day\n",
    "    genre_df = df[df['day']== day] # ваш код здесь\n",
    "    # оставляем в genre_df только те строки genre_df, у которых время меньше time2\n",
    "    genre_df = genre_df[genre_df['time'] < time2] # ваш код здесь\n",
    "    # оставляем в genre_df только те строки genre_df, у которых время больше time1\n",
    "    genre_df = genre_df[genre_df['time'] > time1 ]# ваш код здесь\n",
    "    # сгруппируем отфильтрованный датафрейм по столбцу с названиями жанров, возьмём столбец genre и посчитаем кол-во строк для каждого жанра методом count()\n",
    "    genre_df_grouped = genre_df.groupby('genre')['genre'].count() # ваш код здесь\n",
    "    # отсортируем результат по убыванию (чтобы в начале Series оказались самые популярные жанры)\n",
    "    genre_df_sorted = genre_df_grouped.sort_values(ascending=False)# ваш код здесь\n",
    "    # вернём Series с 10 самыми популярными жанрами в указанный отрезок времени заданного дня\n",
    "    return genre_df_sorted[:10]"
   ]
  },
  {
   "cell_type": "markdown",
   "metadata": {
    "deletable": false,
    "editable": false,
    "id": "la2s2_PF_Zcu",
    "tags": [
     "start_task"
    ]
   },
   "source": [
    "**Задание 25**\n",
    "\n",
    "\n",
    "Cравните результаты функции `genre_weekday()` для Москвы и Санкт-Петербурга в понедельник утром (с 7:00 до 11:00) и в пятницу вечером (с 17:00 до 23:00):"
   ]
  },
  {
   "cell_type": "code",
   "execution_count": 114,
   "metadata": {
    "deletable": false,
    "id": "yz7itPUQ_Zcu"
   },
   "outputs": [
    {
     "data": {
      "text/html": [
       "<div>\n",
       "<style scoped>\n",
       "    .dataframe tbody tr th:only-of-type {\n",
       "        vertical-align: middle;\n",
       "    }\n",
       "\n",
       "    .dataframe tbody tr th {\n",
       "        vertical-align: top;\n",
       "    }\n",
       "\n",
       "    .dataframe thead th {\n",
       "        text-align: right;\n",
       "    }\n",
       "</style>\n",
       "<table border=\"1\" class=\"dataframe\">\n",
       "  <thead>\n",
       "    <tr style=\"text-align: right;\">\n",
       "      <th></th>\n",
       "      <th>user_id</th>\n",
       "      <th>track</th>\n",
       "      <th>artist</th>\n",
       "      <th>genre</th>\n",
       "      <th>city</th>\n",
       "      <th>time</th>\n",
       "      <th>day</th>\n",
       "    </tr>\n",
       "  </thead>\n",
       "  <tbody>\n",
       "    <tr>\n",
       "      <th>8448</th>\n",
       "      <td>A439123F</td>\n",
       "      <td>Flip It</td>\n",
       "      <td>unknown</td>\n",
       "      <td>ïîï</td>\n",
       "      <td>Moscow</td>\n",
       "      <td>09:08:51</td>\n",
       "      <td>Friday</td>\n",
       "    </tr>\n",
       "    <tr>\n",
       "      <th>27939</th>\n",
       "      <td>D7FB50DA</td>\n",
       "      <td>Drumming Circle</td>\n",
       "      <td>Professor Trance</td>\n",
       "      <td>worldbeat</td>\n",
       "      <td>Moscow</td>\n",
       "      <td>09:30:47</td>\n",
       "      <td>Monday</td>\n",
       "    </tr>\n",
       "    <tr>\n",
       "      <th>39834</th>\n",
       "      <td>D9367DF3</td>\n",
       "      <td>Любовь без слов</td>\n",
       "      <td>unknown</td>\n",
       "      <td>world</td>\n",
       "      <td>Moscow</td>\n",
       "      <td>21:23:47</td>\n",
       "      <td>Friday</td>\n",
       "    </tr>\n",
       "    <tr>\n",
       "      <th>41270</th>\n",
       "      <td>B8E16D8</td>\n",
       "      <td>Салам алейкум</td>\n",
       "      <td>Лилия Шаулухова</td>\n",
       "      <td>world</td>\n",
       "      <td>Moscow</td>\n",
       "      <td>20:09:09</td>\n",
       "      <td>Wednesday</td>\n",
       "    </tr>\n",
       "    <tr>\n",
       "      <th>1731</th>\n",
       "      <td>C90A240D</td>\n",
       "      <td>Not That Type</td>\n",
       "      <td>gugudan</td>\n",
       "      <td>world</td>\n",
       "      <td>Moscow</td>\n",
       "      <td>09:25:23</td>\n",
       "      <td>Monday</td>\n",
       "    </tr>\n",
       "    <tr>\n",
       "      <th>18062</th>\n",
       "      <td>73E0C9DC</td>\n",
       "      <td>不再联系</td>\n",
       "      <td>程响</td>\n",
       "      <td>world</td>\n",
       "      <td>Moscow</td>\n",
       "      <td>09:31:26</td>\n",
       "      <td>Friday</td>\n",
       "    </tr>\n",
       "    <tr>\n",
       "      <th>41392</th>\n",
       "      <td>71BF1626</td>\n",
       "      <td>Alla Beni Pulla Beni</td>\n",
       "      <td>NEŞE TURAN</td>\n",
       "      <td>world</td>\n",
       "      <td>Moscow</td>\n",
       "      <td>14:52:29</td>\n",
       "      <td>Monday</td>\n",
       "    </tr>\n",
       "    <tr>\n",
       "      <th>6496</th>\n",
       "      <td>421D4DA8</td>\n",
       "      <td>Iza</td>\n",
       "      <td>Ducu Bertzi</td>\n",
       "      <td>world</td>\n",
       "      <td>Moscow</td>\n",
       "      <td>14:47:32</td>\n",
       "      <td>Monday</td>\n",
       "    </tr>\n",
       "    <tr>\n",
       "      <th>26460</th>\n",
       "      <td>76A558F9</td>\n",
       "      <td>Jaguar</td>\n",
       "      <td>Stribor Kusturica And The Poisoners</td>\n",
       "      <td>world</td>\n",
       "      <td>Moscow</td>\n",
       "      <td>13:22:56</td>\n",
       "      <td>Monday</td>\n",
       "    </tr>\n",
       "    <tr>\n",
       "      <th>41366</th>\n",
       "      <td>C22A0701</td>\n",
       "      <td>Arabic Nights \"El Habibi\"</td>\n",
       "      <td>EthnoDance</td>\n",
       "      <td>world</td>\n",
       "      <td>Moscow</td>\n",
       "      <td>21:35:37</td>\n",
       "      <td>Wednesday</td>\n",
       "    </tr>\n",
       "  </tbody>\n",
       "</table>\n",
       "</div>"
      ],
      "text/plain": [
       "        user_id                      track  \\\n",
       "8448   A439123F                    Flip It   \n",
       "27939  D7FB50DA            Drumming Circle   \n",
       "39834  D9367DF3            Любовь без слов   \n",
       "41270   B8E16D8              Салам алейкум   \n",
       "1731   C90A240D              Not That Type   \n",
       "18062  73E0C9DC                       不再联系   \n",
       "41392  71BF1626       Alla Beni Pulla Beni   \n",
       "6496   421D4DA8                        Iza   \n",
       "26460  76A558F9                     Jaguar   \n",
       "41366  C22A0701  Arabic Nights \"El Habibi\"   \n",
       "\n",
       "                                    artist      genre    city      time  \\\n",
       "8448                               unknown        ïîï  Moscow  09:08:51   \n",
       "27939                     Professor Trance  worldbeat  Moscow  09:30:47   \n",
       "39834                              unknown      world  Moscow  21:23:47   \n",
       "41270                      Лилия Шаулухова      world  Moscow  20:09:09   \n",
       "1731                               gugudan      world  Moscow  09:25:23   \n",
       "18062                                   程响      world  Moscow  09:31:26   \n",
       "41392                           NEŞE TURAN      world  Moscow  14:52:29   \n",
       "6496                           Ducu Bertzi      world  Moscow  14:47:32   \n",
       "26460  Stribor Kusturica And The Poisoners      world  Moscow  13:22:56   \n",
       "41366                           EthnoDance      world  Moscow  21:35:37   \n",
       "\n",
       "             day  \n",
       "8448      Friday  \n",
       "27939     Monday  \n",
       "39834     Friday  \n",
       "41270  Wednesday  \n",
       "1731      Monday  \n",
       "18062     Friday  \n",
       "41392     Monday  \n",
       "6496      Monday  \n",
       "26460     Monday  \n",
       "41366  Wednesday  "
      ]
     },
     "execution_count": 114,
     "metadata": {},
     "output_type": "execute_result"
    }
   ],
   "source": [
    "genre_weekday(moscow_general, 'Monday', '07:00', '11:00') # вызов функции для утра понедельника в Москве (вместо df — таблица moscow_general)\n",
    "# объекты, хранящие время, являются строками и сравниваются как строки\n",
    "# пример вызова: genre_weekday(moscow_general, 'Monday', '07:00', '11:00')"
   ]
  },
  {
   "cell_type": "code",
   "execution_count": 115,
   "metadata": {
    "deletable": false,
    "id": "kwUcHPdy_Zcu"
   },
   "outputs": [
    {
     "data": {
      "text/html": [
       "<div>\n",
       "<style scoped>\n",
       "    .dataframe tbody tr th:only-of-type {\n",
       "        vertical-align: middle;\n",
       "    }\n",
       "\n",
       "    .dataframe tbody tr th {\n",
       "        vertical-align: top;\n",
       "    }\n",
       "\n",
       "    .dataframe thead th {\n",
       "        text-align: right;\n",
       "    }\n",
       "</style>\n",
       "<table border=\"1\" class=\"dataframe\">\n",
       "  <thead>\n",
       "    <tr style=\"text-align: right;\">\n",
       "      <th></th>\n",
       "      <th>user_id</th>\n",
       "      <th>track</th>\n",
       "      <th>artist</th>\n",
       "      <th>genre</th>\n",
       "      <th>city</th>\n",
       "      <th>time</th>\n",
       "      <th>day</th>\n",
       "    </tr>\n",
       "  </thead>\n",
       "  <tbody>\n",
       "    <tr>\n",
       "      <th>6465</th>\n",
       "      <td>1D4661</td>\n",
       "      <td>Раз два три</td>\n",
       "      <td>Какао</td>\n",
       "      <td>электроника</td>\n",
       "      <td>Saint-Petersburg</td>\n",
       "      <td>08:54:15</td>\n",
       "      <td>Wednesday</td>\n",
       "    </tr>\n",
       "    <tr>\n",
       "      <th>39063</th>\n",
       "      <td>AA1730E8</td>\n",
       "      <td>Anu</td>\n",
       "      <td>Kailash Kokopelli</td>\n",
       "      <td>worldbeat</td>\n",
       "      <td>Saint-Petersburg</td>\n",
       "      <td>20:16:34</td>\n",
       "      <td>Wednesday</td>\n",
       "    </tr>\n",
       "    <tr>\n",
       "      <th>40711</th>\n",
       "      <td>529A338E</td>\n",
       "      <td>Ramy Sabry \"Ta'ali\"</td>\n",
       "      <td>DJ Nabil</td>\n",
       "      <td>world</td>\n",
       "      <td>Saint-Petersburg</td>\n",
       "      <td>21:21:07</td>\n",
       "      <td>Friday</td>\n",
       "    </tr>\n",
       "    <tr>\n",
       "      <th>57757</th>\n",
       "      <td>346725AB</td>\n",
       "      <td>Dolce vita</td>\n",
       "      <td>Ryan Paris</td>\n",
       "      <td>world</td>\n",
       "      <td>Saint-Petersburg</td>\n",
       "      <td>09:39:50</td>\n",
       "      <td>Wednesday</td>\n",
       "    </tr>\n",
       "    <tr>\n",
       "      <th>33468</th>\n",
       "      <td>7488FB3B</td>\n",
       "      <td>Ancient Sojourn</td>\n",
       "      <td>Greg Joy</td>\n",
       "      <td>world</td>\n",
       "      <td>Saint-Petersburg</td>\n",
       "      <td>08:55:26</td>\n",
       "      <td>Friday</td>\n",
       "    </tr>\n",
       "    <tr>\n",
       "      <th>1175</th>\n",
       "      <td>1FE61D61</td>\n",
       "      <td>Let It Roll (Come On Baby)</td>\n",
       "      <td>Come On Baby</td>\n",
       "      <td>world</td>\n",
       "      <td>Saint-Petersburg</td>\n",
       "      <td>14:45:25</td>\n",
       "      <td>Wednesday</td>\n",
       "    </tr>\n",
       "    <tr>\n",
       "      <th>57789</th>\n",
       "      <td>68CEE95E</td>\n",
       "      <td>The Golden Temple</td>\n",
       "      <td>Diane Arkenstone</td>\n",
       "      <td>world</td>\n",
       "      <td>Saint-Petersburg</td>\n",
       "      <td>21:48:46</td>\n",
       "      <td>Wednesday</td>\n",
       "    </tr>\n",
       "    <tr>\n",
       "      <th>49134</th>\n",
       "      <td>F3FB8127</td>\n",
       "      <td>Dari Lolo</td>\n",
       "      <td>Aravod</td>\n",
       "      <td>world</td>\n",
       "      <td>Saint-Petersburg</td>\n",
       "      <td>21:48:19</td>\n",
       "      <td>Friday</td>\n",
       "    </tr>\n",
       "    <tr>\n",
       "      <th>12864</th>\n",
       "      <td>143A3AAF</td>\n",
       "      <td>C'est si bon / Love Paris paname</td>\n",
       "      <td>Paul Mauriat</td>\n",
       "      <td>world</td>\n",
       "      <td>Saint-Petersburg</td>\n",
       "      <td>21:55:18</td>\n",
       "      <td>Friday</td>\n",
       "    </tr>\n",
       "    <tr>\n",
       "      <th>42064</th>\n",
       "      <td>7BCE2FD6</td>\n",
       "      <td>Marches</td>\n",
       "      <td>The Regimental Band Pipes And Drums Of The Bla...</td>\n",
       "      <td>world</td>\n",
       "      <td>Saint-Petersburg</td>\n",
       "      <td>08:04:51</td>\n",
       "      <td>Friday</td>\n",
       "    </tr>\n",
       "  </tbody>\n",
       "</table>\n",
       "</div>"
      ],
      "text/plain": [
       "        user_id                             track  \\\n",
       "6465     1D4661                       Раз два три   \n",
       "39063  AA1730E8                               Anu   \n",
       "40711  529A338E               Ramy Sabry \"Ta'ali\"   \n",
       "57757  346725AB                        Dolce vita   \n",
       "33468  7488FB3B                   Ancient Sojourn   \n",
       "1175   1FE61D61        Let It Roll (Come On Baby)   \n",
       "57789  68CEE95E                 The Golden Temple   \n",
       "49134  F3FB8127                         Dari Lolo   \n",
       "12864  143A3AAF  C'est si bon / Love Paris paname   \n",
       "42064  7BCE2FD6                           Marches   \n",
       "\n",
       "                                                  artist        genre  \\\n",
       "6465                                               Какао  электроника   \n",
       "39063                                  Kailash Kokopelli    worldbeat   \n",
       "40711                                           DJ Nabil        world   \n",
       "57757                                         Ryan Paris        world   \n",
       "33468                                           Greg Joy        world   \n",
       "1175                                        Come On Baby        world   \n",
       "57789                                   Diane Arkenstone        world   \n",
       "49134                                             Aravod        world   \n",
       "12864                                       Paul Mauriat        world   \n",
       "42064  The Regimental Band Pipes And Drums Of The Bla...        world   \n",
       "\n",
       "                   city      time        day  \n",
       "6465   Saint-Petersburg  08:54:15  Wednesday  \n",
       "39063  Saint-Petersburg  20:16:34  Wednesday  \n",
       "40711  Saint-Petersburg  21:21:07     Friday  \n",
       "57757  Saint-Petersburg  09:39:50  Wednesday  \n",
       "33468  Saint-Petersburg  08:55:26     Friday  \n",
       "1175   Saint-Petersburg  14:45:25  Wednesday  \n",
       "57789  Saint-Petersburg  21:48:46  Wednesday  \n",
       "49134  Saint-Petersburg  21:48:19     Friday  \n",
       "12864  Saint-Petersburg  21:55:18     Friday  \n",
       "42064  Saint-Petersburg  08:04:51     Friday  "
      ]
     },
     "execution_count": 115,
     "metadata": {},
     "output_type": "execute_result"
    }
   ],
   "source": [
    "genre_weekday(spb_general, 'Monday', '07:00', '11:00')# вызов функции для утра понедельника в Петербурге (вместо df — таблица spb_general)"
   ]
  },
  {
   "cell_type": "code",
   "execution_count": 116,
   "metadata": {
    "deletable": false,
    "id": "EzXVRE1o_Zcu"
   },
   "outputs": [
    {
     "data": {
      "text/html": [
       "<div>\n",
       "<style scoped>\n",
       "    .dataframe tbody tr th:only-of-type {\n",
       "        vertical-align: middle;\n",
       "    }\n",
       "\n",
       "    .dataframe tbody tr th {\n",
       "        vertical-align: top;\n",
       "    }\n",
       "\n",
       "    .dataframe thead th {\n",
       "        text-align: right;\n",
       "    }\n",
       "</style>\n",
       "<table border=\"1\" class=\"dataframe\">\n",
       "  <thead>\n",
       "    <tr style=\"text-align: right;\">\n",
       "      <th></th>\n",
       "      <th>user_id</th>\n",
       "      <th>track</th>\n",
       "      <th>artist</th>\n",
       "      <th>genre</th>\n",
       "      <th>city</th>\n",
       "      <th>time</th>\n",
       "      <th>day</th>\n",
       "    </tr>\n",
       "  </thead>\n",
       "  <tbody>\n",
       "    <tr>\n",
       "      <th>17603</th>\n",
       "      <td>C778450E</td>\n",
       "      <td>Bailando</td>\n",
       "      <td>Carlos Sylente</td>\n",
       "      <td>world</td>\n",
       "      <td>Moscow</td>\n",
       "      <td>21:22:30</td>\n",
       "      <td>Friday</td>\n",
       "    </tr>\n",
       "    <tr>\n",
       "      <th>12650</th>\n",
       "      <td>3C7EC2F5</td>\n",
       "      <td>Get Up (Rattle)</td>\n",
       "      <td>Radio waves</td>\n",
       "      <td>world</td>\n",
       "      <td>Moscow</td>\n",
       "      <td>20:56:29</td>\n",
       "      <td>Monday</td>\n",
       "    </tr>\n",
       "    <tr>\n",
       "      <th>58506</th>\n",
       "      <td>BC3F819D</td>\n",
       "      <td>Magic World</td>\n",
       "      <td>Tantra Tribe Unlimited</td>\n",
       "      <td>world</td>\n",
       "      <td>Moscow</td>\n",
       "      <td>21:49:35</td>\n",
       "      <td>Wednesday</td>\n",
       "    </tr>\n",
       "    <tr>\n",
       "      <th>11914</th>\n",
       "      <td>4FEB1B81</td>\n",
       "      <td>Mari Mariiko</td>\n",
       "      <td>Oratnitza</td>\n",
       "      <td>world</td>\n",
       "      <td>Moscow</td>\n",
       "      <td>20:47:37</td>\n",
       "      <td>Monday</td>\n",
       "    </tr>\n",
       "    <tr>\n",
       "      <th>44268</th>\n",
       "      <td>326B8997</td>\n",
       "      <td>Pizzica Dance</td>\n",
       "      <td>Antonio Semeraro</td>\n",
       "      <td>world</td>\n",
       "      <td>Moscow</td>\n",
       "      <td>20:08:38</td>\n",
       "      <td>Monday</td>\n",
       "    </tr>\n",
       "    <tr>\n",
       "      <th>58438</th>\n",
       "      <td>BBA71821</td>\n",
       "      <td>Я люблю грузина</td>\n",
       "      <td>Ангелина Каплан</td>\n",
       "      <td>world</td>\n",
       "      <td>Moscow</td>\n",
       "      <td>20:57:26</td>\n",
       "      <td>Wednesday</td>\n",
       "    </tr>\n",
       "    <tr>\n",
       "      <th>44238</th>\n",
       "      <td>2D8B2447</td>\n",
       "      <td>Sousta Politiki</td>\n",
       "      <td>Dalgas</td>\n",
       "      <td>world</td>\n",
       "      <td>Moscow</td>\n",
       "      <td>20:50:55</td>\n",
       "      <td>Friday</td>\n",
       "    </tr>\n",
       "    <tr>\n",
       "      <th>12245</th>\n",
       "      <td>613C79DF</td>\n",
       "      <td>Rak Mrid</td>\n",
       "      <td>Cheb Bilal</td>\n",
       "      <td>world</td>\n",
       "      <td>Moscow</td>\n",
       "      <td>21:58:55</td>\n",
       "      <td>Monday</td>\n",
       "    </tr>\n",
       "    <tr>\n",
       "      <th>58411</th>\n",
       "      <td>F1AC2E83</td>\n",
       "      <td>Rege Pe Deal</td>\n",
       "      <td>Subcarpaţi</td>\n",
       "      <td>world</td>\n",
       "      <td>Moscow</td>\n",
       "      <td>21:33:35</td>\n",
       "      <td>Monday</td>\n",
       "    </tr>\n",
       "    <tr>\n",
       "      <th>12427</th>\n",
       "      <td>6B22EFF3</td>\n",
       "      <td>São Coisas Nossas</td>\n",
       "      <td>Noel Rosa</td>\n",
       "      <td>world</td>\n",
       "      <td>Moscow</td>\n",
       "      <td>20:08:00</td>\n",
       "      <td>Friday</td>\n",
       "    </tr>\n",
       "  </tbody>\n",
       "</table>\n",
       "</div>"
      ],
      "text/plain": [
       "        user_id              track                  artist  genre    city  \\\n",
       "17603  C778450E           Bailando          Carlos Sylente  world  Moscow   \n",
       "12650  3C7EC2F5    Get Up (Rattle)             Radio waves  world  Moscow   \n",
       "58506  BC3F819D        Magic World  Tantra Tribe Unlimited  world  Moscow   \n",
       "11914  4FEB1B81       Mari Mariiko               Oratnitza  world  Moscow   \n",
       "44268  326B8997      Pizzica Dance        Antonio Semeraro  world  Moscow   \n",
       "58438  BBA71821    Я люблю грузина         Ангелина Каплан  world  Moscow   \n",
       "44238  2D8B2447    Sousta Politiki                  Dalgas  world  Moscow   \n",
       "12245  613C79DF           Rak Mrid              Cheb Bilal  world  Moscow   \n",
       "58411  F1AC2E83       Rege Pe Deal              Subcarpaţi  world  Moscow   \n",
       "12427  6B22EFF3  São Coisas Nossas               Noel Rosa  world  Moscow   \n",
       "\n",
       "           time        day  \n",
       "17603  21:22:30     Friday  \n",
       "12650  20:56:29     Monday  \n",
       "58506  21:49:35  Wednesday  \n",
       "11914  20:47:37     Monday  \n",
       "44268  20:08:38     Monday  \n",
       "58438  20:57:26  Wednesday  \n",
       "44238  20:50:55     Friday  \n",
       "12245  21:58:55     Monday  \n",
       "58411  21:33:35     Monday  \n",
       "12427  20:08:00     Friday  "
      ]
     },
     "execution_count": 116,
     "metadata": {},
     "output_type": "execute_result"
    }
   ],
   "source": [
    "genre_weekday(moscow_general, 'Friday', '17:00', '23:00') # вызов функции для вечера пятницы в Москве"
   ]
  },
  {
   "cell_type": "code",
   "execution_count": 119,
   "metadata": {
    "deletable": false,
    "id": "JZaEKu5v_Zcu"
   },
   "outputs": [
    {
     "data": {
      "text/html": [
       "<div>\n",
       "<style scoped>\n",
       "    .dataframe tbody tr th:only-of-type {\n",
       "        vertical-align: middle;\n",
       "    }\n",
       "\n",
       "    .dataframe tbody tr th {\n",
       "        vertical-align: top;\n",
       "    }\n",
       "\n",
       "    .dataframe thead th {\n",
       "        text-align: right;\n",
       "    }\n",
       "</style>\n",
       "<table border=\"1\" class=\"dataframe\">\n",
       "  <thead>\n",
       "    <tr style=\"text-align: right;\">\n",
       "      <th></th>\n",
       "      <th>user_id</th>\n",
       "      <th>track</th>\n",
       "      <th>artist</th>\n",
       "      <th>genre</th>\n",
       "      <th>city</th>\n",
       "      <th>time</th>\n",
       "      <th>day</th>\n",
       "    </tr>\n",
       "  </thead>\n",
       "  <tbody>\n",
       "    <tr>\n",
       "      <th>39063</th>\n",
       "      <td>AA1730E8</td>\n",
       "      <td>Anu</td>\n",
       "      <td>Kailash Kokopelli</td>\n",
       "      <td>worldbeat</td>\n",
       "      <td>Saint-Petersburg</td>\n",
       "      <td>20:16:34</td>\n",
       "      <td>Wednesday</td>\n",
       "    </tr>\n",
       "    <tr>\n",
       "      <th>24546</th>\n",
       "      <td>796F1578</td>\n",
       "      <td>Далеко далеко</td>\n",
       "      <td>Алёна Герасимова</td>\n",
       "      <td>world</td>\n",
       "      <td>Saint-Petersburg</td>\n",
       "      <td>21:54:49</td>\n",
       "      <td>Wednesday</td>\n",
       "    </tr>\n",
       "    <tr>\n",
       "      <th>41406</th>\n",
       "      <td>6878926B</td>\n",
       "      <td>Kolomeika</td>\n",
       "      <td>Klezgoyim</td>\n",
       "      <td>world</td>\n",
       "      <td>Saint-Petersburg</td>\n",
       "      <td>21:48:38</td>\n",
       "      <td>Friday</td>\n",
       "    </tr>\n",
       "    <tr>\n",
       "      <th>50604</th>\n",
       "      <td>FE98D66A</td>\n",
       "      <td>八千里路云和月</td>\n",
       "      <td>腾格尔</td>\n",
       "      <td>world</td>\n",
       "      <td>Saint-Petersburg</td>\n",
       "      <td>21:40:15</td>\n",
       "      <td>Wednesday</td>\n",
       "    </tr>\n",
       "    <tr>\n",
       "      <th>38780</th>\n",
       "      <td>BEA027C0</td>\n",
       "      <td>Sky Of Light</td>\n",
       "      <td>The Celtic Orchestra</td>\n",
       "      <td>world</td>\n",
       "      <td>Saint-Petersburg</td>\n",
       "      <td>20:01:45</td>\n",
       "      <td>Friday</td>\n",
       "    </tr>\n",
       "    <tr>\n",
       "      <th>1012</th>\n",
       "      <td>5C525738</td>\n",
       "      <td>橄榄树</td>\n",
       "      <td>华夏乐团</td>\n",
       "      <td>world</td>\n",
       "      <td>Saint-Petersburg</td>\n",
       "      <td>20:46:13</td>\n",
       "      <td>Friday</td>\n",
       "    </tr>\n",
       "    <tr>\n",
       "      <th>31773</th>\n",
       "      <td>AF2CEA77</td>\n",
       "      <td>Yalla Nefrah</td>\n",
       "      <td>DJ Osane</td>\n",
       "      <td>world</td>\n",
       "      <td>Saint-Petersburg</td>\n",
       "      <td>20:29:01</td>\n",
       "      <td>Monday</td>\n",
       "    </tr>\n",
       "    <tr>\n",
       "      <th>31760</th>\n",
       "      <td>31B9D6E</td>\n",
       "      <td>Kyom Min Sok Chet Te</td>\n",
       "      <td>Laura Mam</td>\n",
       "      <td>world</td>\n",
       "      <td>Saint-Petersburg</td>\n",
       "      <td>20:35:43</td>\n",
       "      <td>Monday</td>\n",
       "    </tr>\n",
       "    <tr>\n",
       "      <th>28074</th>\n",
       "      <td>34112946</td>\n",
       "      <td>Shashkın</td>\n",
       "      <td>Arto Tuncboyaciyan</td>\n",
       "      <td>world</td>\n",
       "      <td>Saint-Petersburg</td>\n",
       "      <td>20:06:14</td>\n",
       "      <td>Wednesday</td>\n",
       "    </tr>\n",
       "    <tr>\n",
       "      <th>1062</th>\n",
       "      <td>E5565F19</td>\n",
       "      <td>Toward the Light</td>\n",
       "      <td>Chris Spheeris &amp; Anthony Mazzella</td>\n",
       "      <td>world</td>\n",
       "      <td>Saint-Petersburg</td>\n",
       "      <td>20:07:03</td>\n",
       "      <td>Friday</td>\n",
       "    </tr>\n",
       "  </tbody>\n",
       "</table>\n",
       "</div>"
      ],
      "text/plain": [
       "        user_id                 track                             artist  \\\n",
       "39063  AA1730E8                   Anu                  Kailash Kokopelli   \n",
       "24546  796F1578         Далеко далеко                   Алёна Герасимова   \n",
       "41406  6878926B             Kolomeika                          Klezgoyim   \n",
       "50604  FE98D66A               八千里路云和月                                腾格尔   \n",
       "38780  BEA027C0          Sky Of Light               The Celtic Orchestra   \n",
       "1012   5C525738                   橄榄树                               华夏乐团   \n",
       "31773  AF2CEA77          Yalla Nefrah                           DJ Osane   \n",
       "31760   31B9D6E  Kyom Min Sok Chet Te                          Laura Mam   \n",
       "28074  34112946              Shashkın                 Arto Tuncboyaciyan   \n",
       "1062   E5565F19      Toward the Light  Chris Spheeris & Anthony Mazzella   \n",
       "\n",
       "           genre              city      time        day  \n",
       "39063  worldbeat  Saint-Petersburg  20:16:34  Wednesday  \n",
       "24546      world  Saint-Petersburg  21:54:49  Wednesday  \n",
       "41406      world  Saint-Petersburg  21:48:38     Friday  \n",
       "50604      world  Saint-Petersburg  21:40:15  Wednesday  \n",
       "38780      world  Saint-Petersburg  20:01:45     Friday  \n",
       "1012       world  Saint-Petersburg  20:46:13     Friday  \n",
       "31773      world  Saint-Petersburg  20:29:01     Monday  \n",
       "31760      world  Saint-Petersburg  20:35:43     Monday  \n",
       "28074      world  Saint-Petersburg  20:06:14  Wednesday  \n",
       "1062       world  Saint-Petersburg  20:07:03     Friday  "
      ]
     },
     "execution_count": 119,
     "metadata": {},
     "output_type": "execute_result"
    }
   ],
   "source": [
    "genre_weekday(spb_general, 'Friday', '17:00', '23:00') # вызов функции для вечера пятницы в Петербурге"
   ]
  },
  {
   "cell_type": "markdown",
   "metadata": {
    "deletable": false,
    "editable": false,
    "id": "wrCe4MNX_Zcu"
   },
   "source": [
    "**Выводы**\n",
    "\n",
    "Если сравнить топ-10 жанров в понедельник утром, можно сделать такие выводы:\n",
    "\n",
    "1. В Москве и Петербурге слушают похожую музыку. Единственное различие — в московский рейтинг вошёл жанр “world”, а в петербургский — джаз и классика.\n",
    "\n",
    "2. В Москве пропущенных значений оказалось так много, что значение `'unknown'` заняло десятое место среди самых популярных жанров. Значит, пропущенные значения занимают существенную долю в данных и угрожают достоверности исследования.\n",
    "\n",
    "Вечер пятницы не меняет эту картину. Некоторые жанры поднимаются немного выше, другие спускаются, но в целом топ-10 остаётся тем же самым.\n",
    "\n",
    "Таким образом, вторая гипотеза подтвердилась лишь частично:\n",
    "* Пользователи слушают похожую музыку в начале недели и в конце.\n",
    "* Разница между Москвой и Петербургом не слишком выражена. В Москве чаще слушают русскую популярную музыку, в Петербурге — джаз.\n",
    "\n",
    "Однако пропуски в данных ставят под сомнение этот результат. В Москве их так много, что рейтинг топ-10 мог бы выглядеть иначе, если бы не утерянные  данные о жанрах."
   ]
  },
  {
   "cell_type": "markdown",
   "metadata": {
    "deletable": false,
    "editable": false,
    "id": "JolODAqr_Zcu"
   },
   "source": [
    "### Жанровые предпочтения в Москве и Петербурге\n",
    "\n",
    "Гипотеза: Петербург — столица рэпа, музыку этого жанра там слушают чаще, чем в Москве.  А Москва — город контрастов, в котором, тем не менее, преобладает поп-музыка."
   ]
  },
  {
   "cell_type": "markdown",
   "metadata": {
    "deletable": false,
    "editable": false,
    "id": "DlegSvaT_Zcu",
    "tags": [
     "start_task"
    ]
   },
   "source": [
    "**Задание 26**\n",
    "\n",
    "Сгруппируйте таблицу `moscow_general` по жанру и посчитайте прослушивания треков каждого жанра методом `count()`. Затем отсортируйте результат в порядке убывания и сохраните его в таблице `moscow_genres`."
   ]
  },
  {
   "cell_type": "code",
   "execution_count": 129,
   "metadata": {
    "deletable": false,
    "id": "r19lIPke_Zcu"
   },
   "outputs": [],
   "source": [
    "moscow_genres = moscow_general.groupby('genre')['genre'].count().sort_values( ascending=False) \n",
    "\n",
    "    \n",
    "# сортировка получившегося Series в порядке убывания и сохранение в moscow_genres"
   ]
  },
  {
   "cell_type": "markdown",
   "metadata": {
    "deletable": false,
    "editable": false,
    "id": "6kMuomxTiIr8",
    "tags": [
     "start_task"
    ]
   },
   "source": [
    "**Задание 27**\n",
    "\n",
    "Выведите на экран первые десять строк `moscow_genres`:"
   ]
  },
  {
   "cell_type": "code",
   "execution_count": 130,
   "metadata": {
    "deletable": false,
    "id": "WhCSooF8_Zcv"
   },
   "outputs": [
    {
     "data": {
      "text/plain": [
       "genre\n",
       "pop            5892\n",
       "dance          4435\n",
       "rock           3965\n",
       "electronic     3786\n",
       "hiphop         2096\n",
       "classical      1616\n",
       "world          1432\n",
       "alternative    1379\n",
       "ruspop         1372\n",
       "rusrap         1161\n",
       "Name: genre, dtype: int64"
      ]
     },
     "execution_count": 130,
     "metadata": {},
     "output_type": "execute_result"
    }
   ],
   "source": [
    "moscow_genres.head(10) # просмотр первых 10 строк moscow_genres"
   ]
  },
  {
   "cell_type": "markdown",
   "metadata": {
    "deletable": false,
    "editable": false,
    "id": "cnPG2vnN_Zcv",
    "tags": [
     "start_task"
    ]
   },
   "source": [
    "**Задание 28**\n",
    "\n",
    "\n",
    "Теперь повторите то же и для Петербурга.\n",
    "\n",
    "Сгруппируйте таблицу `spb_general` по жанру. Посчитайте прослушивания треков каждого жанра. Результат отсортируйте в порядке убывания и сохраните в таблице `spb_genres`:\n"
   ]
  },
  {
   "cell_type": "code",
   "execution_count": 131,
   "metadata": {
    "deletable": false,
    "id": "gluLIpE7_Zcv"
   },
   "outputs": [],
   "source": [
    "spb_genres =spb_general.groupby('genre')['genre'].count().sort_values(ascending=False) # одной строкой: группировка таблицы spb_general по столбцу 'genre',\n",
    "# подсчёт числа значений 'genre' в этой группировке методом count(),\n",
    "# сортировка получившегося Series в порядке убывания и сохранение в spb_genres"
   ]
  },
  {
   "cell_type": "markdown",
   "metadata": {
    "deletable": false,
    "editable": false,
    "id": "5Doha_ODgyQ8",
    "tags": [
     "start_task"
    ]
   },
   "source": [
    "**Задание 29**\n",
    "\n",
    "Выведите на экран первые десять строк `spb_genres`:"
   ]
  },
  {
   "cell_type": "code",
   "execution_count": 132,
   "metadata": {
    "deletable": false,
    "id": "uaGJHjVU_Zcv"
   },
   "outputs": [
    {
     "data": {
      "text/plain": [
       "genre\n",
       "pop            2431\n",
       "dance          1932\n",
       "rock           1879\n",
       "electronic     1736\n",
       "hiphop          960\n",
       "alternative     649\n",
       "classical       646\n",
       "rusrap          564\n",
       "ruspop          538\n",
       "world           515\n",
       "Name: genre, dtype: int64"
      ]
     },
     "execution_count": 132,
     "metadata": {},
     "output_type": "execute_result"
    }
   ],
   "source": [
    "spb_genres.head(10) # просмотр первых 10 строк spb_genres"
   ]
  },
  {
   "cell_type": "markdown",
   "metadata": {
    "deletable": false,
    "editable": false,
    "id": "RY51YJYu_Zcv"
   },
   "source": [
    "**Выводы**"
   ]
  },
  {
   "cell_type": "markdown",
   "metadata": {
    "deletable": false,
    "editable": false,
    "id": "nVhnJEm__Zcv"
   },
   "source": [
    "Гипотеза частично подтвердилась:\n",
    "* Поп-музыка — самый популярный жанр в Москве, как и предполагала гипотеза. Более того, в топ-10 жанров встречается близкий жанр — русская популярная музыка.\n",
    "* Вопреки ожиданиям, рэп одинаково популярен в Москве и Петербурге.\n"
   ]
  },
  {
   "cell_type": "markdown",
   "metadata": {
    "deletable": false,
    "editable": false,
    "id": "ykKQ0N65_Zcv"
   },
   "source": [
    "## Итоги исследования"
   ]
  },
  {
   "cell_type": "markdown",
   "metadata": {
    "deletable": false,
    "editable": false,
    "id": "tjUwbHb3_Zcv"
   },
   "source": [
    "Вы проверили три гипотезы и установили:\n",
    "\n",
    "1. День недели по-разному влияет на активность пользователей в Москве и Петербурге.\n",
    "\n",
    "Первая гипотеза полностью подтвердилась.\n",
    "\n",
    "2. Музыкальные предпочтения не сильно меняются в течение недели — будь то Москва или Петербург. Небольшие различия заметны в начале недели, по понедельникам:\n",
    "* в Москве слушают музыку жанра “world”,\n",
    "* в Петербурге — джаз и классику.\n",
    "\n",
    "Таким образом, вторая гипотеза подтвердилась лишь отчасти. Этот результат мог оказаться иным, если бы не пропуски в данных.\n",
    "\n",
    "3. Во вкусах пользователей Москвы и Петербурга больше общего, чем различий. Вопреки ожиданиям, предпочтения жанров в Петербурге напоминают московские.\n",
    "\n",
    "Третья гипотеза не подтвердилась. Если различия в предпочтениях и существуют, на основной массе пользователей они незаметны.\n",
    "\n",
    "**На практике исследования содержат проверки статистических гипотез.**\n",
    "Из данных одного сервиса не всегда можно сделать вывод о всех жителях города.\n",
    "Проверки статистических гипотез покажут, насколько они достоверны, исходя из имеющихся данных.\n",
    "С методами проверок гипотез вы ещё познакомитесь в следующих темах."
   ]
  }
 ],
 "metadata": {
  "ExecuteTimeLog": [
   {
    "duration": 464,
    "start_time": "2023-09-23T16:04:15.099Z"
   },
   {
    "duration": 80,
    "start_time": "2023-09-23T16:05:23.493Z"
   },
   {
    "duration": 7,
    "start_time": "2023-09-23T16:05:54.839Z"
   },
   {
    "duration": 10,
    "start_time": "2023-09-23T16:06:01.422Z"
   },
   {
    "duration": 3,
    "start_time": "2023-09-23T16:06:08.531Z"
   },
   {
    "duration": 4,
    "start_time": "2023-09-23T16:06:19.234Z"
   },
   {
    "duration": 11,
    "start_time": "2023-09-23T16:06:26.937Z"
   },
   {
    "duration": 3,
    "start_time": "2023-09-23T16:07:11.451Z"
   },
   {
    "duration": 10,
    "start_time": "2023-09-23T16:07:34.740Z"
   },
   {
    "duration": 9,
    "start_time": "2023-09-23T16:08:02.731Z"
   },
   {
    "duration": 8,
    "start_time": "2023-09-23T16:08:31.238Z"
   },
   {
    "duration": 3,
    "start_time": "2023-09-23T16:08:55.026Z"
   },
   {
    "duration": 37,
    "start_time": "2023-09-23T16:08:55.032Z"
   },
   {
    "duration": 0,
    "start_time": "2023-09-23T16:08:55.071Z"
   },
   {
    "duration": 11,
    "start_time": "2023-09-23T16:09:33.976Z"
   },
   {
    "duration": 3,
    "start_time": "2023-09-23T16:09:41.604Z"
   },
   {
    "duration": 11,
    "start_time": "2023-09-23T16:09:41.610Z"
   },
   {
    "duration": 0,
    "start_time": "2023-09-23T16:09:41.622Z"
   },
   {
    "duration": 15,
    "start_time": "2023-09-23T16:09:45.382Z"
   },
   {
    "duration": 9,
    "start_time": "2023-09-23T16:10:16.724Z"
   },
   {
    "duration": 13,
    "start_time": "2023-09-23T16:11:20.593Z"
   },
   {
    "duration": 12,
    "start_time": "2023-09-23T16:11:37.242Z"
   },
   {
    "duration": 3,
    "start_time": "2023-09-23T16:11:54.731Z"
   },
   {
    "duration": 29,
    "start_time": "2023-09-23T16:11:54.736Z"
   },
   {
    "duration": 2,
    "start_time": "2023-09-23T16:12:13.633Z"
   },
   {
    "duration": 36,
    "start_time": "2023-09-23T16:12:13.637Z"
   },
   {
    "duration": 11,
    "start_time": "2023-09-23T16:12:43.094Z"
   },
   {
    "duration": 3,
    "start_time": "2023-09-23T16:12:59.940Z"
   },
   {
    "duration": 19,
    "start_time": "2023-09-23T16:12:59.945Z"
   },
   {
    "duration": 8,
    "start_time": "2023-09-23T16:13:29.253Z"
   },
   {
    "duration": 43,
    "start_time": "2023-09-23T16:13:29.267Z"
   },
   {
    "duration": 0,
    "start_time": "2023-09-23T16:13:29.312Z"
   },
   {
    "duration": 20,
    "start_time": "2023-09-23T16:14:01.674Z"
   },
   {
    "duration": 19,
    "start_time": "2023-09-23T16:15:15.489Z"
   },
   {
    "duration": 8,
    "start_time": "2023-09-23T16:15:42.029Z"
   },
   {
    "duration": 15,
    "start_time": "2023-09-23T16:15:57.588Z"
   },
   {
    "duration": 9,
    "start_time": "2023-09-23T16:16:43.513Z"
   },
   {
    "duration": 12,
    "start_time": "2023-09-23T16:16:55.089Z"
   },
   {
    "duration": 8,
    "start_time": "2023-09-23T16:19:18.632Z"
   },
   {
    "duration": 22,
    "start_time": "2023-09-23T16:20:43.086Z"
   },
   {
    "duration": 3,
    "start_time": "2023-09-23T16:20:47.336Z"
   },
   {
    "duration": 6,
    "start_time": "2023-09-23T16:20:53.593Z"
   },
   {
    "duration": 10,
    "start_time": "2023-09-23T16:20:53.602Z"
   },
   {
    "duration": 10,
    "start_time": "2023-09-23T16:21:32.132Z"
   },
   {
    "duration": 829,
    "start_time": "2023-09-23T16:23:07.634Z"
   },
   {
    "duration": 22,
    "start_time": "2023-09-23T16:23:15.621Z"
   },
   {
    "duration": 77,
    "start_time": "2023-09-23T16:23:30.637Z"
   },
   {
    "duration": 4,
    "start_time": "2023-09-23T16:25:42.153Z"
   },
   {
    "duration": 9,
    "start_time": "2023-09-23T16:26:41.441Z"
   },
   {
    "duration": 4,
    "start_time": "2023-09-23T16:27:04.249Z"
   },
   {
    "duration": 150,
    "start_time": "2023-09-23T16:29:03.776Z"
   },
   {
    "duration": 120,
    "start_time": "2023-09-23T16:29:51.149Z"
   },
   {
    "duration": 128,
    "start_time": "2023-09-23T16:30:12.705Z"
   },
   {
    "duration": 196,
    "start_time": "2023-09-23T16:31:28.732Z"
   },
   {
    "duration": 124,
    "start_time": "2023-09-23T16:33:20.845Z"
   },
   {
    "duration": 134,
    "start_time": "2023-09-23T16:36:58.315Z"
   },
   {
    "duration": 134,
    "start_time": "2023-09-23T16:39:55.353Z"
   },
   {
    "duration": 104,
    "start_time": "2023-09-23T16:40:49.609Z"
   },
   {
    "duration": 107,
    "start_time": "2023-09-23T16:42:35.810Z"
   },
   {
    "duration": 7,
    "start_time": "2023-09-23T16:42:48.599Z"
   },
   {
    "duration": 139,
    "start_time": "2023-09-23T16:43:13.346Z"
   },
   {
    "duration": 31,
    "start_time": "2023-09-23T16:43:25.598Z"
   },
   {
    "duration": 5,
    "start_time": "2023-09-23T16:43:36.904Z"
   },
   {
    "duration": 74,
    "start_time": "2023-09-23T16:45:52.473Z"
   },
   {
    "duration": 45,
    "start_time": "2023-09-23T16:46:47.598Z"
   },
   {
    "duration": 155,
    "start_time": "2023-09-23T16:57:28.575Z"
   },
   {
    "duration": 127,
    "start_time": "2023-09-23T16:58:06.775Z"
   },
   {
    "duration": 163,
    "start_time": "2023-09-23T16:58:20.718Z"
   },
   {
    "duration": 119,
    "start_time": "2023-09-23T16:58:43.209Z"
   },
   {
    "duration": 146,
    "start_time": "2023-09-23T16:59:08.475Z"
   },
   {
    "duration": 146,
    "start_time": "2023-09-23T17:02:33.784Z"
   },
   {
    "duration": 11,
    "start_time": "2023-09-23T17:02:50.312Z"
   },
   {
    "duration": 11,
    "start_time": "2023-09-23T17:03:15.127Z"
   },
   {
    "duration": 9,
    "start_time": "2023-09-23T17:04:06.445Z"
   },
   {
    "duration": 12,
    "start_time": "2023-09-23T17:11:09.228Z"
   },
   {
    "duration": 9,
    "start_time": "2023-09-23T17:11:24.935Z"
   },
   {
    "duration": 10,
    "start_time": "2023-09-23T17:13:03.309Z"
   },
   {
    "duration": 17,
    "start_time": "2023-09-23T17:13:46.980Z"
   },
   {
    "duration": 10,
    "start_time": "2023-09-23T17:14:51.886Z"
   },
   {
    "duration": 9,
    "start_time": "2023-09-23T17:21:13.811Z"
   },
   {
    "duration": 107,
    "start_time": "2023-09-23T17:21:44.606Z"
   },
   {
    "duration": 12,
    "start_time": "2023-09-23T17:22:05.653Z"
   },
   {
    "duration": 10,
    "start_time": "2023-09-23T17:22:40.880Z"
   },
   {
    "duration": 112,
    "start_time": "2023-09-23T17:23:11.798Z"
   },
   {
    "duration": 125,
    "start_time": "2023-09-23T17:26:20.983Z"
   },
   {
    "duration": 134,
    "start_time": "2023-09-23T17:26:49.551Z"
   },
   {
    "duration": 120,
    "start_time": "2023-09-23T17:27:02.800Z"
   },
   {
    "duration": 129,
    "start_time": "2023-09-23T17:28:01.689Z"
   },
   {
    "duration": 10,
    "start_time": "2023-09-23T17:39:45.769Z"
   },
   {
    "duration": 11,
    "start_time": "2023-09-23T17:40:32.503Z"
   },
   {
    "duration": 9,
    "start_time": "2023-09-23T17:41:02.028Z"
   },
   {
    "duration": 15,
    "start_time": "2023-09-23T17:42:18.778Z"
   },
   {
    "duration": 98,
    "start_time": "2023-09-23T17:48:17.802Z"
   },
   {
    "duration": 160,
    "start_time": "2023-09-23T17:48:49.067Z"
   },
   {
    "duration": 8,
    "start_time": "2023-09-23T17:49:11.376Z"
   },
   {
    "duration": 8,
    "start_time": "2023-09-23T17:55:43.917Z"
   },
   {
    "duration": 8,
    "start_time": "2023-09-23T17:56:17.302Z"
   },
   {
    "duration": 10,
    "start_time": "2023-09-23T17:56:32.404Z"
   },
   {
    "duration": 10,
    "start_time": "2023-09-23T17:57:08.770Z"
   },
   {
    "duration": 11,
    "start_time": "2023-09-23T17:57:17.374Z"
   },
   {
    "duration": 8,
    "start_time": "2023-09-23T17:58:33.977Z"
   },
   {
    "duration": 101,
    "start_time": "2023-09-23T18:08:13.997Z"
   },
   {
    "duration": 98,
    "start_time": "2023-09-23T18:08:49.517Z"
   },
   {
    "duration": 10,
    "start_time": "2023-09-23T18:09:14.673Z"
   },
   {
    "duration": 8,
    "start_time": "2023-09-23T18:11:02.099Z"
   },
   {
    "duration": 9,
    "start_time": "2023-09-23T18:11:16.877Z"
   },
   {
    "duration": 8,
    "start_time": "2023-09-23T18:11:35.298Z"
   },
   {
    "duration": 9,
    "start_time": "2023-09-23T18:11:43.837Z"
   },
   {
    "duration": 105,
    "start_time": "2023-09-23T18:13:54.182Z"
   },
   {
    "duration": 114,
    "start_time": "2023-09-23T18:14:22.135Z"
   },
   {
    "duration": 108,
    "start_time": "2023-09-23T18:14:39.180Z"
   },
   {
    "duration": 9,
    "start_time": "2023-09-23T18:16:53.334Z"
   },
   {
    "duration": 10,
    "start_time": "2023-09-23T18:32:39.596Z"
   },
   {
    "duration": 9,
    "start_time": "2023-09-23T18:32:48.990Z"
   },
   {
    "duration": 11,
    "start_time": "2023-09-23T18:33:00.780Z"
   },
   {
    "duration": 10,
    "start_time": "2023-09-23T18:33:19.752Z"
   },
   {
    "duration": 8,
    "start_time": "2023-09-23T18:33:51.704Z"
   },
   {
    "duration": 14,
    "start_time": "2023-09-23T18:52:47.971Z"
   },
   {
    "duration": 11,
    "start_time": "2023-09-23T18:53:18.977Z"
   },
   {
    "duration": 9,
    "start_time": "2023-09-23T18:54:02.770Z"
   },
   {
    "duration": 9,
    "start_time": "2023-09-23T18:54:17.584Z"
   },
   {
    "duration": 8,
    "start_time": "2023-09-23T18:54:47.178Z"
   },
   {
    "duration": 10,
    "start_time": "2023-09-23T19:00:36.578Z"
   },
   {
    "duration": 10,
    "start_time": "2023-09-23T19:00:55.574Z"
   },
   {
    "duration": 11,
    "start_time": "2023-09-23T19:04:01.682Z"
   },
   {
    "duration": 9,
    "start_time": "2023-09-23T19:04:48.498Z"
   },
   {
    "duration": 8,
    "start_time": "2023-09-23T19:05:26.170Z"
   },
   {
    "duration": 15,
    "start_time": "2023-09-23T19:12:11.754Z"
   },
   {
    "duration": 9,
    "start_time": "2023-09-23T19:12:49.734Z"
   },
   {
    "duration": 12,
    "start_time": "2023-09-23T19:13:08.886Z"
   },
   {
    "duration": 10,
    "start_time": "2023-09-23T19:13:23.513Z"
   },
   {
    "duration": 98,
    "start_time": "2023-09-23T19:19:05.397Z"
   },
   {
    "duration": 8,
    "start_time": "2023-09-23T19:26:09.702Z"
   },
   {
    "duration": 10,
    "start_time": "2023-09-23T19:26:53.218Z"
   },
   {
    "duration": 10,
    "start_time": "2023-09-23T19:27:20.597Z"
   },
   {
    "duration": 12,
    "start_time": "2023-09-23T19:27:36.998Z"
   },
   {
    "duration": 5,
    "start_time": "2023-09-23T19:56:53.549Z"
   },
   {
    "duration": 136,
    "start_time": "2023-09-23T19:58:15.999Z"
   },
   {
    "duration": 101,
    "start_time": "2023-09-23T19:58:29.473Z"
   },
   {
    "duration": 115,
    "start_time": "2023-09-23T19:58:49.356Z"
   },
   {
    "duration": 9,
    "start_time": "2023-09-23T19:59:00.903Z"
   },
   {
    "duration": 12,
    "start_time": "2023-09-23T20:16:03.179Z"
   },
   {
    "duration": 1954,
    "start_time": "2023-09-23T20:31:12.811Z"
   },
   {
    "duration": 1817,
    "start_time": "2023-09-23T20:32:06.889Z"
   },
   {
    "duration": 12,
    "start_time": "2023-09-23T20:40:19.085Z"
   },
   {
    "duration": 4,
    "start_time": "2023-09-23T20:44:51.220Z"
   },
   {
    "duration": 5,
    "start_time": "2023-09-23T20:45:06.419Z"
   },
   {
    "duration": 14,
    "start_time": "2023-09-23T20:48:31.283Z"
   },
   {
    "duration": 9,
    "start_time": "2023-09-23T20:49:07.173Z"
   },
   {
    "duration": 129,
    "start_time": "2023-09-23T20:50:18.042Z"
   },
   {
    "duration": 13,
    "start_time": "2023-09-23T20:50:32.575Z"
   },
   {
    "duration": 12,
    "start_time": "2023-09-23T20:50:38.078Z"
   },
   {
    "duration": 25,
    "start_time": "2023-09-23T20:51:10.973Z"
   },
   {
    "duration": 30,
    "start_time": "2023-09-23T20:51:28.098Z"
   },
   {
    "duration": 91,
    "start_time": "2023-09-23T20:52:01.720Z"
   },
   {
    "duration": 105,
    "start_time": "2023-09-23T20:52:29.498Z"
   },
   {
    "duration": 96,
    "start_time": "2023-09-23T20:54:27.891Z"
   },
   {
    "duration": 111,
    "start_time": "2023-09-23T20:54:45.221Z"
   },
   {
    "duration": 12,
    "start_time": "2023-09-23T21:07:36.892Z"
   },
   {
    "duration": 65,
    "start_time": "2023-09-23T21:07:48.149Z"
   },
   {
    "duration": 101,
    "start_time": "2023-09-23T21:16:54.374Z"
   },
   {
    "duration": 63,
    "start_time": "2023-09-23T21:17:25.894Z"
   },
   {
    "duration": 103,
    "start_time": "2023-09-23T21:18:20.590Z"
   },
   {
    "duration": 95,
    "start_time": "2023-09-23T21:18:30.600Z"
   },
   {
    "duration": 77,
    "start_time": "2023-09-23T21:19:04.573Z"
   },
   {
    "duration": 83,
    "start_time": "2023-09-23T21:19:23.181Z"
   },
   {
    "duration": 70,
    "start_time": "2023-09-23T21:23:35.663Z"
   },
   {
    "duration": 11,
    "start_time": "2023-09-23T21:23:58.639Z"
   },
   {
    "duration": 10,
    "start_time": "2023-09-23T21:24:05.031Z"
   },
   {
    "duration": 17,
    "start_time": "2023-09-23T21:34:30.549Z"
   },
   {
    "duration": 154,
    "start_time": "2023-09-23T21:34:58.430Z"
   },
   {
    "duration": 128,
    "start_time": "2023-09-23T21:35:13.018Z"
   },
   {
    "duration": 123,
    "start_time": "2023-09-23T21:35:21.185Z"
   },
   {
    "duration": 14,
    "start_time": "2023-09-23T21:40:32.087Z"
   },
   {
    "duration": 9,
    "start_time": "2023-09-23T21:41:24.189Z"
   },
   {
    "duration": 9,
    "start_time": "2023-09-23T21:41:55.431Z"
   },
   {
    "duration": 14,
    "start_time": "2023-09-23T21:42:09.875Z"
   },
   {
    "duration": 8,
    "start_time": "2023-09-23T21:42:54.076Z"
   },
   {
    "duration": 13,
    "start_time": "2023-09-23T21:43:26.983Z"
   },
   {
    "duration": 17,
    "start_time": "2023-09-23T21:43:36.256Z"
   },
   {
    "duration": 17,
    "start_time": "2023-09-23T21:45:19.962Z"
   },
   {
    "duration": 17,
    "start_time": "2023-09-23T21:45:47.710Z"
   },
   {
    "duration": 13,
    "start_time": "2023-09-23T21:46:25.941Z"
   },
   {
    "duration": 102,
    "start_time": "2023-09-23T21:46:53.390Z"
   },
   {
    "duration": 83,
    "start_time": "2023-09-23T21:47:57.837Z"
   },
   {
    "duration": 63,
    "start_time": "2023-09-23T21:49:07.795Z"
   },
   {
    "duration": 73,
    "start_time": "2023-09-23T21:49:16.334Z"
   },
   {
    "duration": 10,
    "start_time": "2023-09-23T21:50:48.822Z"
   },
   {
    "duration": 53,
    "start_time": "2023-09-23T21:51:27.090Z"
   },
   {
    "duration": 8,
    "start_time": "2023-09-23T21:51:44.911Z"
   },
   {
    "duration": 10,
    "start_time": "2023-09-23T21:51:55.837Z"
   },
   {
    "duration": 52,
    "start_time": "2023-09-23T21:54:59.175Z"
   },
   {
    "duration": 45,
    "start_time": "2023-09-23T21:55:10.009Z"
   },
   {
    "duration": 10,
    "start_time": "2023-09-23T21:59:05.508Z"
   },
   {
    "duration": 12,
    "start_time": "2023-09-23T21:59:13.151Z"
   },
   {
    "duration": 9,
    "start_time": "2023-09-23T21:59:28.701Z"
   },
   {
    "duration": 6,
    "start_time": "2023-09-23T22:01:24.900Z"
   },
   {
    "duration": 13,
    "start_time": "2023-09-23T22:02:03.359Z"
   },
   {
    "duration": 6,
    "start_time": "2023-09-23T22:02:22.521Z"
   },
   {
    "duration": 46,
    "start_time": "2023-09-23T22:02:54.797Z"
   },
   {
    "duration": 49,
    "start_time": "2023-09-23T22:03:14.076Z"
   },
   {
    "duration": 39,
    "start_time": "2023-09-23T22:03:25.779Z"
   },
   {
    "duration": 48,
    "start_time": "2023-09-23T22:03:42.245Z"
   },
   {
    "duration": 49,
    "start_time": "2023-09-23T22:03:55.077Z"
   },
   {
    "duration": 51,
    "start_time": "2023-09-23T22:04:02.633Z"
   },
   {
    "duration": 11,
    "start_time": "2023-09-23T22:04:08.095Z"
   },
   {
    "duration": 42,
    "start_time": "2023-09-23T22:04:21.689Z"
   },
   {
    "duration": 8,
    "start_time": "2023-09-23T22:04:55.629Z"
   },
   {
    "duration": 65,
    "start_time": "2023-09-23T22:05:11.364Z"
   },
   {
    "duration": 41,
    "start_time": "2023-09-23T22:05:32.874Z"
   },
   {
    "duration": 48,
    "start_time": "2023-09-23T22:05:45.739Z"
   },
   {
    "duration": 55,
    "start_time": "2023-09-23T22:08:21.940Z"
   },
   {
    "duration": 59,
    "start_time": "2023-09-23T22:08:39.137Z"
   },
   {
    "duration": 51,
    "start_time": "2023-09-23T22:08:45.156Z"
   },
   {
    "duration": 45,
    "start_time": "2023-09-23T22:09:42.513Z"
   },
   {
    "duration": 72,
    "start_time": "2023-09-23T22:09:52.317Z"
   },
   {
    "duration": 40,
    "start_time": "2023-09-23T22:10:07.076Z"
   },
   {
    "duration": 45,
    "start_time": "2023-09-23T22:10:19.592Z"
   },
   {
    "duration": 41,
    "start_time": "2023-09-23T22:10:31.218Z"
   },
   {
    "duration": 68,
    "start_time": "2023-09-23T22:11:02.986Z"
   },
   {
    "duration": 64,
    "start_time": "2023-09-23T22:11:21.830Z"
   },
   {
    "duration": 51,
    "start_time": "2023-09-23T22:11:41.300Z"
   },
   {
    "duration": 84,
    "start_time": "2023-09-23T22:12:39.910Z"
   },
   {
    "duration": 15,
    "start_time": "2023-09-23T22:18:50.773Z"
   },
   {
    "duration": 51,
    "start_time": "2023-09-23T22:19:33.550Z"
   },
   {
    "duration": 51,
    "start_time": "2023-09-24T05:18:57.110Z"
   },
   {
    "duration": 6,
    "start_time": "2023-09-24T05:19:17.238Z"
   },
   {
    "duration": 5,
    "start_time": "2023-09-24T05:21:40.210Z"
   },
   {
    "duration": 15,
    "start_time": "2023-09-24T05:21:57.772Z"
   },
   {
    "duration": 6,
    "start_time": "2023-09-24T05:22:10.111Z"
   },
   {
    "duration": 12,
    "start_time": "2023-09-24T05:28:32.157Z"
   },
   {
    "duration": 6,
    "start_time": "2023-09-24T05:29:48.403Z"
   },
   {
    "duration": 5,
    "start_time": "2023-09-24T05:29:58.541Z"
   },
   {
    "duration": 8,
    "start_time": "2023-09-24T05:30:23.831Z"
   },
   {
    "duration": 390,
    "start_time": "2023-09-24T05:31:02.685Z"
   },
   {
    "duration": 340,
    "start_time": "2023-09-24T05:31:03.078Z"
   },
   {
    "duration": 10,
    "start_time": "2023-09-24T05:31:03.420Z"
   },
   {
    "duration": 67,
    "start_time": "2023-09-24T05:31:03.432Z"
   },
   {
    "duration": 18,
    "start_time": "2023-09-24T05:31:03.501Z"
   },
   {
    "duration": 23,
    "start_time": "2023-09-24T05:31:03.520Z"
   },
   {
    "duration": 55,
    "start_time": "2023-09-24T05:31:03.545Z"
   },
   {
    "duration": 11,
    "start_time": "2023-09-24T05:31:03.601Z"
   },
   {
    "duration": 75,
    "start_time": "2023-09-24T05:31:03.613Z"
   },
   {
    "duration": 44,
    "start_time": "2023-09-24T05:31:03.690Z"
   },
   {
    "duration": 78,
    "start_time": "2023-09-24T05:31:03.735Z"
   },
   {
    "duration": 105,
    "start_time": "2023-09-24T05:31:03.814Z"
   },
   {
    "duration": 96,
    "start_time": "2023-09-24T05:31:03.921Z"
   },
   {
    "duration": 73,
    "start_time": "2023-09-24T05:31:04.019Z"
   },
   {
    "duration": 73,
    "start_time": "2023-09-24T05:31:04.093Z"
   },
   {
    "duration": 14,
    "start_time": "2023-09-24T05:31:04.168Z"
   },
   {
    "duration": 77,
    "start_time": "2023-09-24T05:31:04.187Z"
   },
   {
    "duration": 64,
    "start_time": "2023-09-24T05:31:04.268Z"
   },
   {
    "duration": 54,
    "start_time": "2023-09-24T05:31:33.919Z"
   },
   {
    "duration": 19,
    "start_time": "2023-09-24T05:32:08.866Z"
   },
   {
    "duration": 22,
    "start_time": "2023-09-24T05:32:37.749Z"
   },
   {
    "duration": 8,
    "start_time": "2023-09-24T05:35:12.697Z"
   },
   {
    "duration": 13,
    "start_time": "2023-09-24T05:35:25.068Z"
   },
   {
    "duration": 8,
    "start_time": "2023-09-24T05:35:30.011Z"
   },
   {
    "duration": 446,
    "start_time": "2023-09-24T13:27:19.923Z"
   },
   {
    "duration": 518,
    "start_time": "2023-09-24T13:27:20.372Z"
   },
   {
    "duration": 12,
    "start_time": "2023-09-24T13:27:20.891Z"
   },
   {
    "duration": 49,
    "start_time": "2023-09-24T13:27:20.905Z"
   },
   {
    "duration": 6,
    "start_time": "2023-09-24T13:27:20.957Z"
   },
   {
    "duration": 37,
    "start_time": "2023-09-24T13:27:20.964Z"
   },
   {
    "duration": 55,
    "start_time": "2023-09-24T13:27:21.004Z"
   },
   {
    "duration": 47,
    "start_time": "2023-09-24T13:27:21.061Z"
   },
   {
    "duration": 43,
    "start_time": "2023-09-24T13:27:21.109Z"
   },
   {
    "duration": 30,
    "start_time": "2023-09-24T13:27:21.154Z"
   },
   {
    "duration": 36,
    "start_time": "2023-09-24T13:27:21.186Z"
   },
   {
    "duration": 88,
    "start_time": "2023-09-24T13:27:21.223Z"
   },
   {
    "duration": 91,
    "start_time": "2023-09-24T13:27:21.313Z"
   },
   {
    "duration": 82,
    "start_time": "2023-09-24T13:27:21.407Z"
   },
   {
    "duration": 45,
    "start_time": "2023-09-24T13:27:21.491Z"
   },
   {
    "duration": 25,
    "start_time": "2023-09-24T13:27:21.538Z"
   },
   {
    "duration": 54,
    "start_time": "2023-09-24T13:27:21.565Z"
   },
   {
    "duration": 12,
    "start_time": "2023-09-24T13:27:21.621Z"
   },
   {
    "duration": 2,
    "start_time": "2023-09-24T13:27:35.898Z"
   },
   {
    "duration": 209,
    "start_time": "2023-09-24T13:27:35.902Z"
   },
   {
    "duration": 11,
    "start_time": "2023-09-24T13:27:36.114Z"
   },
   {
    "duration": 51,
    "start_time": "2023-09-24T13:27:36.126Z"
   },
   {
    "duration": 16,
    "start_time": "2023-09-24T13:27:36.179Z"
   },
   {
    "duration": 18,
    "start_time": "2023-09-24T13:27:36.197Z"
   },
   {
    "duration": 26,
    "start_time": "2023-09-24T13:27:36.217Z"
   },
   {
    "duration": 29,
    "start_time": "2023-09-24T13:27:36.244Z"
   },
   {
    "duration": 34,
    "start_time": "2023-09-24T13:27:36.274Z"
   },
   {
    "duration": 25,
    "start_time": "2023-09-24T13:27:36.310Z"
   },
   {
    "duration": 53,
    "start_time": "2023-09-24T13:27:36.336Z"
   },
   {
    "duration": 84,
    "start_time": "2023-09-24T13:27:36.391Z"
   },
   {
    "duration": 85,
    "start_time": "2023-09-24T13:27:36.477Z"
   },
   {
    "duration": 62,
    "start_time": "2023-09-24T13:27:36.565Z"
   },
   {
    "duration": 56,
    "start_time": "2023-09-24T13:27:36.629Z"
   },
   {
    "duration": 10,
    "start_time": "2023-09-24T13:27:36.687Z"
   },
   {
    "duration": 58,
    "start_time": "2023-09-24T13:27:36.699Z"
   },
   {
    "duration": 13,
    "start_time": "2023-09-24T13:27:36.759Z"
   },
   {
    "duration": 15,
    "start_time": "2023-09-24T13:29:32.794Z"
   },
   {
    "duration": 4,
    "start_time": "2023-09-24T13:37:46.434Z"
   },
   {
    "duration": 6,
    "start_time": "2023-09-24T13:37:52.624Z"
   },
   {
    "duration": 13,
    "start_time": "2023-09-24T13:38:04.480Z"
   },
   {
    "duration": 13,
    "start_time": "2023-09-24T13:38:34.020Z"
   },
   {
    "duration": 14,
    "start_time": "2023-09-24T13:38:48.107Z"
   },
   {
    "duration": 5,
    "start_time": "2023-09-24T15:47:40.573Z"
   },
   {
    "duration": 4,
    "start_time": "2023-09-24T15:48:45.706Z"
   },
   {
    "duration": 94,
    "start_time": "2023-09-24T16:05:34.236Z"
   },
   {
    "duration": 5,
    "start_time": "2023-09-24T16:05:56.666Z"
   },
   {
    "duration": 5,
    "start_time": "2023-09-24T16:06:01.695Z"
   },
   {
    "duration": 72,
    "start_time": "2023-09-24T16:08:09.205Z"
   },
   {
    "duration": 21,
    "start_time": "2023-09-24T16:08:25.205Z"
   },
   {
    "duration": 3,
    "start_time": "2023-09-24T16:10:46.718Z"
   },
   {
    "duration": 20,
    "start_time": "2023-09-24T16:10:50.245Z"
   },
   {
    "duration": 11,
    "start_time": "2023-09-24T16:11:09.006Z"
   },
   {
    "duration": 19,
    "start_time": "2023-09-24T16:11:30.277Z"
   },
   {
    "duration": 11,
    "start_time": "2023-09-24T16:12:25.015Z"
   },
   {
    "duration": 3,
    "start_time": "2023-09-24T16:12:44.807Z"
   },
   {
    "duration": 19,
    "start_time": "2023-09-24T16:12:46.698Z"
   },
   {
    "duration": 17,
    "start_time": "2023-09-24T16:12:50.455Z"
   },
   {
    "duration": 13,
    "start_time": "2023-09-24T16:12:57.390Z"
   },
   {
    "duration": 4,
    "start_time": "2023-09-24T16:13:04.025Z"
   },
   {
    "duration": 13,
    "start_time": "2023-09-24T16:13:05.216Z"
   },
   {
    "duration": 111,
    "start_time": "2023-09-24T16:14:01.405Z"
   },
   {
    "duration": 14,
    "start_time": "2023-09-24T16:14:13.645Z"
   },
   {
    "duration": 9,
    "start_time": "2023-09-24T16:15:03.342Z"
   },
   {
    "duration": 4,
    "start_time": "2023-09-24T16:15:06.988Z"
   },
   {
    "duration": 6,
    "start_time": "2023-09-24T16:15:22.159Z"
   },
   {
    "duration": 4,
    "start_time": "2023-09-24T16:16:13.579Z"
   },
   {
    "duration": 12,
    "start_time": "2023-09-24T16:17:09.283Z"
   },
   {
    "duration": 22,
    "start_time": "2023-09-24T16:17:11.469Z"
   },
   {
    "duration": 21,
    "start_time": "2023-09-24T16:17:14.408Z"
   },
   {
    "duration": 91,
    "start_time": "2023-09-24T16:18:19.497Z"
   },
   {
    "duration": 4,
    "start_time": "2023-09-24T16:18:29.395Z"
   },
   {
    "duration": 16,
    "start_time": "2023-09-24T16:18:30.876Z"
   },
   {
    "duration": 16,
    "start_time": "2023-09-24T16:18:31.851Z"
   },
   {
    "duration": 10,
    "start_time": "2023-09-24T16:19:19.188Z"
   },
   {
    "duration": 4,
    "start_time": "2023-09-24T16:19:22.129Z"
   },
   {
    "duration": 22,
    "start_time": "2023-09-24T16:19:23.258Z"
   },
   {
    "duration": 4,
    "start_time": "2023-09-24T16:20:16.507Z"
   },
   {
    "duration": 14,
    "start_time": "2023-09-24T16:20:17.687Z"
   },
   {
    "duration": 4,
    "start_time": "2023-09-24T16:20:24.812Z"
   },
   {
    "duration": 12,
    "start_time": "2023-09-24T16:20:25.931Z"
   },
   {
    "duration": 4,
    "start_time": "2023-09-24T16:22:28.207Z"
   },
   {
    "duration": 20,
    "start_time": "2023-09-24T16:22:29.526Z"
   },
   {
    "duration": 4,
    "start_time": "2023-09-24T16:27:14.555Z"
   },
   {
    "duration": 20,
    "start_time": "2023-09-24T16:27:15.741Z"
   },
   {
    "duration": 21,
    "start_time": "2023-09-24T16:27:59.770Z"
   },
   {
    "duration": 8,
    "start_time": "2023-09-24T16:28:24.839Z"
   },
   {
    "duration": 20,
    "start_time": "2023-09-24T16:28:25.315Z"
   },
   {
    "duration": 14,
    "start_time": "2023-09-24T16:28:26.008Z"
   },
   {
    "duration": 20,
    "start_time": "2023-09-24T16:28:35.488Z"
   },
   {
    "duration": 25,
    "start_time": "2023-09-24T16:29:10.257Z"
   },
   {
    "duration": 25,
    "start_time": "2023-09-24T16:29:49.469Z"
   },
   {
    "duration": 28,
    "start_time": "2023-09-24T16:30:19.955Z"
   },
   {
    "duration": 18,
    "start_time": "2023-09-24T16:30:37.526Z"
   },
   {
    "duration": 97,
    "start_time": "2023-09-24T16:32:35.662Z"
   },
   {
    "duration": 14,
    "start_time": "2023-09-24T16:35:57.416Z"
   },
   {
    "duration": 25,
    "start_time": "2023-09-24T16:36:01.948Z"
   },
   {
    "duration": 11,
    "start_time": "2023-09-24T16:37:25.641Z"
   },
   {
    "duration": 10,
    "start_time": "2023-09-24T16:40:38.527Z"
   },
   {
    "duration": 7,
    "start_time": "2023-09-24T16:57:19.675Z"
   },
   {
    "duration": 5,
    "start_time": "2023-09-24T16:57:22.185Z"
   },
   {
    "duration": 8,
    "start_time": "2023-09-24T16:58:57.389Z"
   },
   {
    "duration": 12,
    "start_time": "2023-09-24T17:00:32.637Z"
   },
   {
    "duration": 13,
    "start_time": "2023-09-24T17:00:33.311Z"
   },
   {
    "duration": 5,
    "start_time": "2023-09-24T17:00:35.105Z"
   },
   {
    "duration": 5,
    "start_time": "2023-09-24T17:01:13.590Z"
   },
   {
    "duration": 15,
    "start_time": "2023-09-24T17:03:34.793Z"
   },
   {
    "duration": 18,
    "start_time": "2023-09-24T17:05:32.409Z"
   },
   {
    "duration": 13,
    "start_time": "2023-09-24T17:05:32.898Z"
   },
   {
    "duration": 10,
    "start_time": "2023-09-24T17:05:33.691Z"
   },
   {
    "duration": 17,
    "start_time": "2023-09-24T17:05:34.062Z"
   },
   {
    "duration": 5,
    "start_time": "2023-09-24T17:07:01.487Z"
   },
   {
    "duration": 76,
    "start_time": "2023-09-24T17:07:02.232Z"
   },
   {
    "duration": 47,
    "start_time": "2023-09-24T17:11:25.570Z"
   },
   {
    "duration": 46,
    "start_time": "2023-09-24T17:12:04.076Z"
   },
   {
    "duration": 114,
    "start_time": "2023-09-24T17:12:33.854Z"
   },
   {
    "duration": 43,
    "start_time": "2023-09-24T17:12:44.478Z"
   },
   {
    "duration": 34,
    "start_time": "2023-09-24T17:13:02.378Z"
   },
   {
    "duration": 91,
    "start_time": "2023-09-24T17:14:27.316Z"
   },
   {
    "duration": 91,
    "start_time": "2023-09-24T17:14:50.913Z"
   },
   {
    "duration": 94,
    "start_time": "2023-09-24T17:15:34.603Z"
   },
   {
    "duration": 96,
    "start_time": "2023-09-24T17:16:14.345Z"
   },
   {
    "duration": 95,
    "start_time": "2023-09-24T17:16:59.418Z"
   },
   {
    "duration": 101,
    "start_time": "2023-09-24T17:17:37.765Z"
   },
   {
    "duration": 15,
    "start_time": "2023-09-24T17:18:02.355Z"
   },
   {
    "duration": 16,
    "start_time": "2023-09-24T17:19:46.041Z"
   },
   {
    "duration": 16,
    "start_time": "2023-09-24T17:19:56.008Z"
   },
   {
    "duration": 9,
    "start_time": "2023-09-24T17:20:39.532Z"
   },
   {
    "duration": 8,
    "start_time": "2023-09-24T17:21:12.582Z"
   },
   {
    "duration": 9,
    "start_time": "2023-09-24T17:23:06.482Z"
   },
   {
    "duration": 7,
    "start_time": "2023-09-24T17:23:25.977Z"
   },
   {
    "duration": 72,
    "start_time": "2023-09-24T17:27:58.206Z"
   },
   {
    "duration": 98,
    "start_time": "2023-09-24T17:37:05.142Z"
   },
   {
    "duration": 120,
    "start_time": "2023-09-24T17:37:26.815Z"
   },
   {
    "duration": 6,
    "start_time": "2023-09-24T17:40:04.445Z"
   },
   {
    "duration": 4,
    "start_time": "2023-09-24T17:40:40.452Z"
   },
   {
    "duration": 6,
    "start_time": "2023-09-24T17:44:45.193Z"
   }
  ],
  "colab": {
   "collapsed_sections": [
    "E0vqbgi9ay0H",
    "VUC88oWjTJw2"
   ],
   "provenance": []
  },
  "kernelspec": {
   "display_name": "Python 3 (ipykernel)",
   "language": "python",
   "name": "python3"
  },
  "language_info": {
   "codemirror_mode": {
    "name": "ipython",
    "version": 3
   },
   "file_extension": ".py",
   "mimetype": "text/x-python",
   "name": "python",
   "nbconvert_exporter": "python",
   "pygments_lexer": "ipython3",
   "version": "3.11.5"
  },
  "toc": {
   "base_numbering": 1,
   "nav_menu": {
    "height": "215px",
    "width": "403px"
   },
   "number_sections": true,
   "sideBar": true,
   "skip_h1_title": true,
   "title_cell": "Table of Contents",
   "title_sidebar": "Contents",
   "toc_cell": false,
   "toc_position": {
    "height": "calc(100% - 180px)",
    "left": "10px",
    "top": "150px",
    "width": "285.825px"
   },
   "toc_section_display": true,
   "toc_window_display": false
  }
 },
 "nbformat": 4,
 "nbformat_minor": 1
}
