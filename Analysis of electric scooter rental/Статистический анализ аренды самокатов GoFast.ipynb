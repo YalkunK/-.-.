{
 "cells": [
  {
   "cell_type": "markdown",
   "id": "80250bfc",
   "metadata": {},
   "source": [
    "#### GoFast - статистический анализ."
   ]
  },
  {
   "cell_type": "markdown",
   "id": "826a4e5d",
   "metadata": {},
   "source": [
    "Вы аналитик популярного сервиса аренды самокатов GoFast. Вам передали данные о некоторых пользователях из нескольких городов, а также об их поездках. Проанализируйте данные и проверьте некоторые гипотезы, которые могут помочь бизнесу вырасти.\n",
    "Чтобы совершать поездки по городу, пользователи сервиса GoFast пользуются мобильным приложением. \n",
    "Сервисом можно пользоваться:\n",
    "\n",
    "без подписки\n",
    "- абонентская плата отсутствует;\n",
    "- стоимость одной минуты поездки — 8 рублей;\n",
    "- стоимость старта (начала поездки) — 50 рублей;\n",
    "\n",
    "с подпиской Ultra\n",
    "- абонентская плата — 199 рублей в месяц;\n",
    "- стоимость одной минуты поездки — 6 рублей;\n",
    "- стоимость старта — бесплатно."
   ]
  },
  {
   "cell_type": "markdown",
   "id": "86910bf5",
   "metadata": {},
   "source": [
    "Пользователи — users_go.csv\n",
    "\n",
    "\n",
    "- user_id - уникальный идентификатор пользователя\n",
    "- name - имя пользователя\n",
    "- age - возраст\n",
    "- city - город\n",
    "- subscription_type - тип подписки (free, ultra)"
   ]
  },
  {
   "cell_type": "markdown",
   "id": "cd1c4b06",
   "metadata": {},
   "source": [
    "Поездки — rides_go.csv\n",
    "\n",
    "- user_id - уникальный идентификатор пользователя\n",
    "- distance - расстояние, которое пользователь проехал в текущей сессии (в метрах)\n",
    "- duration - продолжительность сессии (в минутах) — время с того момента, как пользователь нажал кнопку «Начать поездку» до - момента, как он нажал кнопку «Завершить поездку»\n",
    "- date - дата совершения поездки"
   ]
  },
  {
   "cell_type": "markdown",
   "id": "97bb6732",
   "metadata": {},
   "source": [
    "Подписки — subscriptions_go.csv\n",
    "\n",
    "- subscription_type - тип подписки\n",
    "- minute_price - стоимость одной минуты поездки по данной подписке\n",
    "- start_ride_price - стоимость начала поездки\n",
    "- subscription_fee - стоимость ежемесячного платежа"
   ]
  },
  {
   "cell_type": "markdown",
   "id": "c42cbe00",
   "metadata": {},
   "source": [
    "#### Шаг 1. Загрузка данных"
   ]
  },
  {
   "cell_type": "code",
   "execution_count": 2,
   "id": "eff9f206",
   "metadata": {},
   "outputs": [],
   "source": [
    "import pandas as pd\n",
    "import numpy as np\n",
    "import matplotlib.pyplot as plt\n",
    "from scipy import stats as st"
   ]
  },
  {
   "cell_type": "markdown",
   "id": "ce725eb8",
   "metadata": {},
   "source": [
    "#####  Считайте CSV-файлы с данными с помощью библиотеки pandas и сохраните их в датафреймы. Пути к файлам:\n",
    " - /datasets/users_go.csv\n",
    " - /datasets/rides_go.csv\n",
    " - /datasets/subscriptions_go.csv"
   ]
  },
  {
   "cell_type": "code",
   "execution_count": 3,
   "id": "4cd4b816",
   "metadata": {},
   "outputs": [],
   "source": [
    "users = pd.read_csv('/datasets/users_go.csv', sep=',')\n",
    "rides = pd.read_csv('/datasets/rides_go.csv', sep=',')\n",
    "subs = pd.read_csv('/datasets/subscriptions_go.csv', sep=',')"
   ]
  },
  {
   "cell_type": "markdown",
   "id": "8f1e8632",
   "metadata": {},
   "source": [
    "##### Выведите первые строки каждого набора данных. Изучите общую информацию о каждом датафрейме."
   ]
  },
  {
   "cell_type": "code",
   "execution_count": 4,
   "id": "3bb3623b",
   "metadata": {},
   "outputs": [
    {
     "name": "stdout",
     "output_type": "stream",
     "text": [
      "<class 'pandas.core.frame.DataFrame'>\n",
      "RangeIndex: 1565 entries, 0 to 1564\n",
      "Data columns (total 5 columns):\n",
      " #   Column             Non-Null Count  Dtype \n",
      "---  ------             --------------  ----- \n",
      " 0   user_id            1565 non-null   int64 \n",
      " 1   name               1565 non-null   object\n",
      " 2   age                1565 non-null   int64 \n",
      " 3   city               1565 non-null   object\n",
      " 4   subscription_type  1565 non-null   object\n",
      "dtypes: int64(2), object(3)\n",
      "memory usage: 61.3+ KB\n"
     ]
    },
    {
     "data": {
      "text/html": [
       "<div>\n",
       "<style scoped>\n",
       "    .dataframe tbody tr th:only-of-type {\n",
       "        vertical-align: middle;\n",
       "    }\n",
       "\n",
       "    .dataframe tbody tr th {\n",
       "        vertical-align: top;\n",
       "    }\n",
       "\n",
       "    .dataframe thead th {\n",
       "        text-align: right;\n",
       "    }\n",
       "</style>\n",
       "<table border=\"1\" class=\"dataframe\">\n",
       "  <thead>\n",
       "    <tr style=\"text-align: right;\">\n",
       "      <th></th>\n",
       "      <th>user_id</th>\n",
       "      <th>name</th>\n",
       "      <th>age</th>\n",
       "      <th>city</th>\n",
       "      <th>subscription_type</th>\n",
       "    </tr>\n",
       "  </thead>\n",
       "  <tbody>\n",
       "    <tr>\n",
       "      <th>0</th>\n",
       "      <td>1</td>\n",
       "      <td>Кира</td>\n",
       "      <td>22</td>\n",
       "      <td>Тюмень</td>\n",
       "      <td>ultra</td>\n",
       "    </tr>\n",
       "    <tr>\n",
       "      <th>1</th>\n",
       "      <td>2</td>\n",
       "      <td>Станислав</td>\n",
       "      <td>31</td>\n",
       "      <td>Омск</td>\n",
       "      <td>ultra</td>\n",
       "    </tr>\n",
       "    <tr>\n",
       "      <th>2</th>\n",
       "      <td>3</td>\n",
       "      <td>Алексей</td>\n",
       "      <td>20</td>\n",
       "      <td>Москва</td>\n",
       "      <td>ultra</td>\n",
       "    </tr>\n",
       "    <tr>\n",
       "      <th>3</th>\n",
       "      <td>4</td>\n",
       "      <td>Константин</td>\n",
       "      <td>26</td>\n",
       "      <td>Ростов-на-Дону</td>\n",
       "      <td>ultra</td>\n",
       "    </tr>\n",
       "    <tr>\n",
       "      <th>4</th>\n",
       "      <td>5</td>\n",
       "      <td>Адель</td>\n",
       "      <td>28</td>\n",
       "      <td>Омск</td>\n",
       "      <td>ultra</td>\n",
       "    </tr>\n",
       "  </tbody>\n",
       "</table>\n",
       "</div>"
      ],
      "text/plain": [
       "   user_id        name  age            city subscription_type\n",
       "0        1        Кира   22          Тюмень             ultra\n",
       "1        2   Станислав   31            Омск             ultra\n",
       "2        3     Алексей   20          Москва             ultra\n",
       "3        4  Константин   26  Ростов-на-Дону             ultra\n",
       "4        5       Адель   28            Омск             ultra"
      ]
     },
     "execution_count": 4,
     "metadata": {},
     "output_type": "execute_result"
    }
   ],
   "source": [
    "users.info()\n",
    "users.head()"
   ]
  },
  {
   "cell_type": "code",
   "execution_count": 5,
   "id": "90a6545c",
   "metadata": {},
   "outputs": [
    {
     "name": "stdout",
     "output_type": "stream",
     "text": [
      "<class 'pandas.core.frame.DataFrame'>\n",
      "RangeIndex: 18068 entries, 0 to 18067\n",
      "Data columns (total 4 columns):\n",
      " #   Column    Non-Null Count  Dtype  \n",
      "---  ------    --------------  -----  \n",
      " 0   user_id   18068 non-null  int64  \n",
      " 1   distance  18068 non-null  float64\n",
      " 2   duration  18068 non-null  float64\n",
      " 3   date      18068 non-null  object \n",
      "dtypes: float64(2), int64(1), object(1)\n",
      "memory usage: 564.8+ KB\n"
     ]
    },
    {
     "data": {
      "text/html": [
       "<div>\n",
       "<style scoped>\n",
       "    .dataframe tbody tr th:only-of-type {\n",
       "        vertical-align: middle;\n",
       "    }\n",
       "\n",
       "    .dataframe tbody tr th {\n",
       "        vertical-align: top;\n",
       "    }\n",
       "\n",
       "    .dataframe thead th {\n",
       "        text-align: right;\n",
       "    }\n",
       "</style>\n",
       "<table border=\"1\" class=\"dataframe\">\n",
       "  <thead>\n",
       "    <tr style=\"text-align: right;\">\n",
       "      <th></th>\n",
       "      <th>user_id</th>\n",
       "      <th>distance</th>\n",
       "      <th>duration</th>\n",
       "      <th>date</th>\n",
       "    </tr>\n",
       "  </thead>\n",
       "  <tbody>\n",
       "    <tr>\n",
       "      <th>0</th>\n",
       "      <td>1</td>\n",
       "      <td>4409.919140</td>\n",
       "      <td>25.599769</td>\n",
       "      <td>2021-01-01</td>\n",
       "    </tr>\n",
       "    <tr>\n",
       "      <th>1</th>\n",
       "      <td>1</td>\n",
       "      <td>2617.592153</td>\n",
       "      <td>15.816871</td>\n",
       "      <td>2021-01-18</td>\n",
       "    </tr>\n",
       "    <tr>\n",
       "      <th>2</th>\n",
       "      <td>1</td>\n",
       "      <td>754.159807</td>\n",
       "      <td>6.232113</td>\n",
       "      <td>2021-04-20</td>\n",
       "    </tr>\n",
       "    <tr>\n",
       "      <th>3</th>\n",
       "      <td>1</td>\n",
       "      <td>2694.783254</td>\n",
       "      <td>18.511000</td>\n",
       "      <td>2021-08-11</td>\n",
       "    </tr>\n",
       "    <tr>\n",
       "      <th>4</th>\n",
       "      <td>1</td>\n",
       "      <td>4028.687306</td>\n",
       "      <td>26.265803</td>\n",
       "      <td>2021-08-28</td>\n",
       "    </tr>\n",
       "  </tbody>\n",
       "</table>\n",
       "</div>"
      ],
      "text/plain": [
       "   user_id     distance   duration        date\n",
       "0        1  4409.919140  25.599769  2021-01-01\n",
       "1        1  2617.592153  15.816871  2021-01-18\n",
       "2        1   754.159807   6.232113  2021-04-20\n",
       "3        1  2694.783254  18.511000  2021-08-11\n",
       "4        1  4028.687306  26.265803  2021-08-28"
      ]
     },
     "execution_count": 5,
     "metadata": {},
     "output_type": "execute_result"
    }
   ],
   "source": [
    "rides.info()\n",
    "rides.head()"
   ]
  },
  {
   "cell_type": "code",
   "execution_count": 6,
   "id": "6cd93325",
   "metadata": {},
   "outputs": [
    {
     "name": "stdout",
     "output_type": "stream",
     "text": [
      "<class 'pandas.core.frame.DataFrame'>\n",
      "RangeIndex: 2 entries, 0 to 1\n",
      "Data columns (total 4 columns):\n",
      " #   Column             Non-Null Count  Dtype \n",
      "---  ------             --------------  ----- \n",
      " 0   subscription_type  2 non-null      object\n",
      " 1   minute_price       2 non-null      int64 \n",
      " 2   start_ride_price   2 non-null      int64 \n",
      " 3   subscription_fee   2 non-null      int64 \n",
      "dtypes: int64(3), object(1)\n",
      "memory usage: 192.0+ bytes\n"
     ]
    },
    {
     "data": {
      "text/html": [
       "<div>\n",
       "<style scoped>\n",
       "    .dataframe tbody tr th:only-of-type {\n",
       "        vertical-align: middle;\n",
       "    }\n",
       "\n",
       "    .dataframe tbody tr th {\n",
       "        vertical-align: top;\n",
       "    }\n",
       "\n",
       "    .dataframe thead th {\n",
       "        text-align: right;\n",
       "    }\n",
       "</style>\n",
       "<table border=\"1\" class=\"dataframe\">\n",
       "  <thead>\n",
       "    <tr style=\"text-align: right;\">\n",
       "      <th></th>\n",
       "      <th>subscription_type</th>\n",
       "      <th>minute_price</th>\n",
       "      <th>start_ride_price</th>\n",
       "      <th>subscription_fee</th>\n",
       "    </tr>\n",
       "  </thead>\n",
       "  <tbody>\n",
       "    <tr>\n",
       "      <th>0</th>\n",
       "      <td>free</td>\n",
       "      <td>8</td>\n",
       "      <td>50</td>\n",
       "      <td>0</td>\n",
       "    </tr>\n",
       "    <tr>\n",
       "      <th>1</th>\n",
       "      <td>ultra</td>\n",
       "      <td>6</td>\n",
       "      <td>0</td>\n",
       "      <td>199</td>\n",
       "    </tr>\n",
       "  </tbody>\n",
       "</table>\n",
       "</div>"
      ],
      "text/plain": [
       "  subscription_type  minute_price  start_ride_price  subscription_fee\n",
       "0              free             8                50                 0\n",
       "1             ultra             6                 0               199"
      ]
     },
     "execution_count": 6,
     "metadata": {},
     "output_type": "execute_result"
    }
   ],
   "source": [
    "subs.info()\n",
    "subs.head()"
   ]
  },
  {
   "cell_type": "markdown",
   "id": "3a098c36",
   "metadata": {},
   "source": [
    "- Данные впринципе в нормальном состоянии, есть небольшие обработки. У нас есть 2 категории пользователей ( с платной подпиской и бесплатной подспиской)."
   ]
  },
  {
   "cell_type": "markdown",
   "id": "b4978339",
   "metadata": {},
   "source": [
    "<div class=\"alert-success\" style=\"border-radius: 10px; padding: 20px\">\n",
    "<b>Комментарий ревьюера V2 ✔️</b>\n",
    "\n",
    "Хорошо! Можно также добавить информацию о размерах датафреймов, какие типы данных в них содержатся, набросать план по предобработке.</div>"
   ]
  },
  {
   "cell_type": "markdown",
   "id": "bbf66e5f",
   "metadata": {},
   "source": [
    "#### Шаг 2. Предобработка данных\n"
   ]
  },
  {
   "cell_type": "markdown",
   "id": "f6497262",
   "metadata": {},
   "source": [
    "##### Приведите столбец date к типу даты pandas."
   ]
  },
  {
   "cell_type": "code",
   "execution_count": 7,
   "id": "5a243daf",
   "metadata": {},
   "outputs": [],
   "source": [
    "rides['date'] = pd.to_datetime(rides['date'], format='%Y-%m-%dT%H:%M:%S')"
   ]
  },
  {
   "cell_type": "markdown",
   "id": "771924fc",
   "metadata": {},
   "source": [
    "##### Создайте новый столбец с номером месяца на основе столбца date."
   ]
  },
  {
   "cell_type": "code",
   "execution_count": 8,
   "id": "c6892a16",
   "metadata": {},
   "outputs": [
    {
     "data": {
      "text/html": [
       "<div>\n",
       "<style scoped>\n",
       "    .dataframe tbody tr th:only-of-type {\n",
       "        vertical-align: middle;\n",
       "    }\n",
       "\n",
       "    .dataframe tbody tr th {\n",
       "        vertical-align: top;\n",
       "    }\n",
       "\n",
       "    .dataframe thead th {\n",
       "        text-align: right;\n",
       "    }\n",
       "</style>\n",
       "<table border=\"1\" class=\"dataframe\">\n",
       "  <thead>\n",
       "    <tr style=\"text-align: right;\">\n",
       "      <th></th>\n",
       "      <th>user_id</th>\n",
       "      <th>distance</th>\n",
       "      <th>duration</th>\n",
       "      <th>date</th>\n",
       "      <th>month</th>\n",
       "    </tr>\n",
       "  </thead>\n",
       "  <tbody>\n",
       "    <tr>\n",
       "      <th>0</th>\n",
       "      <td>1</td>\n",
       "      <td>4409.919140</td>\n",
       "      <td>25.599769</td>\n",
       "      <td>2021-01-01</td>\n",
       "      <td>1</td>\n",
       "    </tr>\n",
       "    <tr>\n",
       "      <th>1</th>\n",
       "      <td>1</td>\n",
       "      <td>2617.592153</td>\n",
       "      <td>15.816871</td>\n",
       "      <td>2021-01-18</td>\n",
       "      <td>1</td>\n",
       "    </tr>\n",
       "    <tr>\n",
       "      <th>2</th>\n",
       "      <td>1</td>\n",
       "      <td>754.159807</td>\n",
       "      <td>6.232113</td>\n",
       "      <td>2021-04-20</td>\n",
       "      <td>4</td>\n",
       "    </tr>\n",
       "    <tr>\n",
       "      <th>3</th>\n",
       "      <td>1</td>\n",
       "      <td>2694.783254</td>\n",
       "      <td>18.511000</td>\n",
       "      <td>2021-08-11</td>\n",
       "      <td>8</td>\n",
       "    </tr>\n",
       "    <tr>\n",
       "      <th>4</th>\n",
       "      <td>1</td>\n",
       "      <td>4028.687306</td>\n",
       "      <td>26.265803</td>\n",
       "      <td>2021-08-28</td>\n",
       "      <td>8</td>\n",
       "    </tr>\n",
       "  </tbody>\n",
       "</table>\n",
       "</div>"
      ],
      "text/plain": [
       "   user_id     distance   duration       date  month\n",
       "0        1  4409.919140  25.599769 2021-01-01      1\n",
       "1        1  2617.592153  15.816871 2021-01-18      1\n",
       "2        1   754.159807   6.232113 2021-04-20      4\n",
       "3        1  2694.783254  18.511000 2021-08-11      8\n",
       "4        1  4028.687306  26.265803 2021-08-28      8"
      ]
     },
     "execution_count": 8,
     "metadata": {},
     "output_type": "execute_result"
    }
   ],
   "source": [
    "rides['month'] = rides['date'].dt.month\n",
    "rides.head()"
   ]
  },
  {
   "cell_type": "code",
   "execution_count": 9,
   "id": "6e5a0aab",
   "metadata": {},
   "outputs": [
    {
     "data": {
      "text/plain": [
       "Timestamp('2021-01-01 00:00:00')"
      ]
     },
     "metadata": {},
     "output_type": "display_data"
    },
    {
     "data": {
      "text/plain": [
       "Timestamp('2021-12-30 00:00:00')"
      ]
     },
     "metadata": {},
     "output_type": "display_data"
    },
    {
     "data": {
      "image/png": "[encoded data removed]",
      "text/plain": [
       "<Figure size 1080x360 with 1 Axes>"
      ]
     },
     "metadata": {
      "needs_background": "light"
     },
     "output_type": "display_data"
    }
   ],
   "source": [
    "display(rides['date'].min(), rides['date'].max())\n",
    "rides['date'].hist(bins = 150,figsize = (15,5))\n",
    "plt.xlabel('Период')\n",
    "plt.ylabel('Кол-во пользователей')\n",
    "plt.show()"
   ]
  },
  {
   "cell_type": "markdown",
   "id": "5079bd0b",
   "metadata": {},
   "source": [
    "- Судя по графику, данные предоставлены за год с 1 Января 2021 по 1 Января 2022."
   ]
  },
  {
   "cell_type": "markdown",
   "id": "6986f6a9",
   "metadata": {},
   "source": [
    "<div class=\"alert-success\" style=\"padding: 20px; border-radius: 10px\">\n",
    "<b>Комментарий ревьюера ✔️</b>\n",
    "\n",
    "Это хорошая проверка, теперь мы знаем, что помесячные данные не задублируются при агрегации данных по месяцам."
   ]
  },
  {
   "cell_type": "markdown",
   "id": "21179b8e",
   "metadata": {},
   "source": [
    "##### Проверьте наличие пропущенных значений и дубликатов в датафреймах. Обработайте их, если такие значения присутствуют."
   ]
  },
  {
   "cell_type": "code",
   "execution_count": 10,
   "id": "3b5ae6a0",
   "metadata": {},
   "outputs": [
    {
     "data": {
      "text/plain": [
       "user_id              0\n",
       "name                 0\n",
       "age                  0\n",
       "city                 0\n",
       "subscription_type    0\n",
       "dtype: int64"
      ]
     },
     "execution_count": 10,
     "metadata": {},
     "output_type": "execute_result"
    }
   ],
   "source": [
    "users.isna().sum()"
   ]
  },
  {
   "cell_type": "code",
   "execution_count": 11,
   "id": "8dc3239c",
   "metadata": {},
   "outputs": [
    {
     "data": {
      "text/plain": [
       "user_id     0\n",
       "distance    0\n",
       "duration    0\n",
       "date        0\n",
       "month       0\n",
       "dtype: int64"
      ]
     },
     "execution_count": 11,
     "metadata": {},
     "output_type": "execute_result"
    }
   ],
   "source": [
    "rides.isna().sum()"
   ]
  },
  {
   "cell_type": "code",
   "execution_count": 12,
   "id": "5c254dd9",
   "metadata": {},
   "outputs": [
    {
     "data": {
      "text/plain": [
       "subscription_type    0\n",
       "minute_price         0\n",
       "start_ride_price     0\n",
       "subscription_fee     0\n",
       "dtype: int64"
      ]
     },
     "execution_count": 12,
     "metadata": {},
     "output_type": "execute_result"
    }
   ],
   "source": [
    "subs.isna().sum()"
   ]
  },
  {
   "cell_type": "markdown",
   "id": "373634c7",
   "metadata": {},
   "source": [
    "- Пропущенных значений нет,это уже хорошо."
   ]
  },
  {
   "cell_type": "markdown",
   "id": "5fc3f902",
   "metadata": {},
   "source": [
    "- Проверим на дубликаты."
   ]
  },
  {
   "cell_type": "code",
   "execution_count": 13,
   "id": "073d8d29",
   "metadata": {},
   "outputs": [
    {
     "data": {
      "text/plain": [
       "31"
      ]
     },
     "execution_count": 13,
     "metadata": {},
     "output_type": "execute_result"
    }
   ],
   "source": [
    "users.duplicated().sum()"
   ]
  },
  {
   "cell_type": "code",
   "execution_count": 14,
   "id": "1ffca139",
   "metadata": {},
   "outputs": [
    {
     "data": {
      "text/plain": [
       "0"
      ]
     },
     "execution_count": 14,
     "metadata": {},
     "output_type": "execute_result"
    }
   ],
   "source": [
    "rides.duplicated().sum()"
   ]
  },
  {
   "cell_type": "code",
   "execution_count": 15,
   "id": "00670f29",
   "metadata": {
    "scrolled": true
   },
   "outputs": [
    {
     "data": {
      "text/plain": [
       "0"
      ]
     },
     "execution_count": 15,
     "metadata": {},
     "output_type": "execute_result"
    }
   ],
   "source": [
    "subs.duplicated().sum()"
   ]
  },
  {
   "cell_type": "markdown",
   "id": "4ebe80a7",
   "metadata": {},
   "source": [
    "- Имеются дуюликаты в users, удаляем."
   ]
  },
  {
   "cell_type": "code",
   "execution_count": 16,
   "id": "291f51a8",
   "metadata": {},
   "outputs": [
    {
     "data": {
      "text/plain": [
       "0"
      ]
     },
     "execution_count": 16,
     "metadata": {},
     "output_type": "execute_result"
    }
   ],
   "source": [
    "users = users.drop_duplicates()\n",
    "users.duplicated().sum()"
   ]
  },
  {
   "cell_type": "markdown",
   "id": "10b867bb",
   "metadata": {},
   "source": [
    "<div class=\"alert-success\" style=\"padding: 20px; border-radius: 10px\">\n",
    "<b>Комментарий ревьюера ✔️</b>\n",
    "\n",
    "Молодец, отлично справился с предобработкой данных!"
   ]
  },
  {
   "cell_type": "markdown",
   "id": "212593c7",
   "metadata": {},
   "source": [
    "#### Шаг 3. Исследовательский анализ данных\n",
    "Опишите и визуализируйте общую информацию о пользователях и поездках:\n",
    "- 3.1 частота встречаемости городов;\n",
    "- 3.2 соотношение пользователей с подпиской и без подписки;\n",
    "- 3.3 возраст пользователей;\n",
    "- 3.4 расстояние, которое пользователь преодолел за одну поездку;\n",
    "- 3.5 продолжительность поездок.\n"
   ]
  },
  {
   "cell_type": "markdown",
   "id": "f1825457",
   "metadata": {},
   "source": [
    "##### частота встречаемости городов;"
   ]
  },
  {
   "cell_type": "code",
   "execution_count": 17,
   "id": "f975eaa6",
   "metadata": {},
   "outputs": [
    {
     "data": {
      "text/html": [
       "<div>\n",
       "<style scoped>\n",
       "    .dataframe tbody tr th:only-of-type {\n",
       "        vertical-align: middle;\n",
       "    }\n",
       "\n",
       "    .dataframe tbody tr th {\n",
       "        vertical-align: top;\n",
       "    }\n",
       "\n",
       "    .dataframe thead th {\n",
       "        text-align: right;\n",
       "    }\n",
       "</style>\n",
       "<table border=\"1\" class=\"dataframe\">\n",
       "  <thead>\n",
       "    <tr style=\"text-align: right;\">\n",
       "      <th></th>\n",
       "      <th>user_id</th>\n",
       "    </tr>\n",
       "    <tr>\n",
       "      <th>city</th>\n",
       "      <th></th>\n",
       "    </tr>\n",
       "  </thead>\n",
       "  <tbody>\n",
       "    <tr>\n",
       "      <th>Пятигорск</th>\n",
       "      <td>219</td>\n",
       "    </tr>\n",
       "    <tr>\n",
       "      <th>Екатеринбург</th>\n",
       "      <td>204</td>\n",
       "    </tr>\n",
       "    <tr>\n",
       "      <th>Ростов-на-Дону</th>\n",
       "      <td>198</td>\n",
       "    </tr>\n",
       "    <tr>\n",
       "      <th>Краснодар</th>\n",
       "      <td>193</td>\n",
       "    </tr>\n",
       "    <tr>\n",
       "      <th>Сочи</th>\n",
       "      <td>189</td>\n",
       "    </tr>\n",
       "    <tr>\n",
       "      <th>Омск</th>\n",
       "      <td>183</td>\n",
       "    </tr>\n",
       "    <tr>\n",
       "      <th>Тюмень</th>\n",
       "      <td>180</td>\n",
       "    </tr>\n",
       "    <tr>\n",
       "      <th>Москва</th>\n",
       "      <td>168</td>\n",
       "    </tr>\n",
       "  </tbody>\n",
       "</table>\n",
       "</div>"
      ],
      "text/plain": [
       "                user_id\n",
       "city                   \n",
       "Пятигорск           219\n",
       "Екатеринбург        204\n",
       "Ростов-на-Дону      198\n",
       "Краснодар           193\n",
       "Сочи                189\n",
       "Омск                183\n",
       "Тюмень              180\n",
       "Москва              168"
      ]
     },
     "execution_count": 17,
     "metadata": {},
     "output_type": "execute_result"
    }
   ],
   "source": [
    "user_city = users.pivot_table(index='city', values='user_id', aggfunc='count')\n",
    "user_city.sort_values(by= 'user_id',ascending = False)"
   ]
  },
  {
   "cell_type": "code",
   "execution_count": 37,
   "id": "d10dfb91",
   "metadata": {},
   "outputs": [
    {
     "data": {
      "image/png": "[encoded data removed]",
      "text/plain": [
       "<Figure size 1080x360 with 1 Axes>"
      ]
     },
     "metadata": {
      "needs_background": "light"
     },
     "output_type": "display_data"
    }
   ],
   "source": [
    "user_city = user_city.sort_values(by = 'user_id',ascending = False)\n",
    "user_city.plot(title = 'Частота встречаемости городов',\n",
    "               kind = 'bar',\n",
    "               grid = True, \n",
    "               figsize = (15,5), \n",
    "               style = 'o-',\n",
    "               rot = 0,\n",
    "               legend = None)\n",
    "\n",
    "plt.xlabel('Город')\n",
    "plt.ylabel('Кол-во пользователей')\n",
    "plt.show()"
   ]
  },
  {
   "cell_type": "markdown",
   "id": "a0529d8f",
   "metadata": {},
   "source": [
    "- В Пятигорске самое большое количество поездок по сравнениею с остальными городами."
   ]
  },
  {
   "cell_type": "markdown",
   "id": "89fe124f",
   "metadata": {},
   "source": [
    "##### соотношение пользователей с подпиской и без подписки;"
   ]
  },
  {
   "cell_type": "code",
   "execution_count": 19,
   "id": "fb5a8381",
   "metadata": {},
   "outputs": [
    {
     "data": {
      "text/html": [
       "<div>\n",
       "<style scoped>\n",
       "    .dataframe tbody tr th:only-of-type {\n",
       "        vertical-align: middle;\n",
       "    }\n",
       "\n",
       "    .dataframe tbody tr th {\n",
       "        vertical-align: top;\n",
       "    }\n",
       "\n",
       "    .dataframe thead th {\n",
       "        text-align: right;\n",
       "    }\n",
       "</style>\n",
       "<table border=\"1\" class=\"dataframe\">\n",
       "  <thead>\n",
       "    <tr style=\"text-align: right;\">\n",
       "      <th></th>\n",
       "      <th>subscription_type</th>\n",
       "      <th>user_id</th>\n",
       "      <th>percent</th>\n",
       "    </tr>\n",
       "  </thead>\n",
       "  <tbody>\n",
       "    <tr>\n",
       "      <th>0</th>\n",
       "      <td>free</td>\n",
       "      <td>835</td>\n",
       "      <td>54.432855</td>\n",
       "    </tr>\n",
       "    <tr>\n",
       "      <th>1</th>\n",
       "      <td>ultra</td>\n",
       "      <td>699</td>\n",
       "      <td>45.567145</td>\n",
       "    </tr>\n",
       "  </tbody>\n",
       "</table>\n",
       "</div>"
      ],
      "text/plain": [
       "  subscription_type  user_id    percent\n",
       "0              free      835  54.432855\n",
       "1             ultra      699  45.567145"
      ]
     },
     "execution_count": 19,
     "metadata": {},
     "output_type": "execute_result"
    }
   ],
   "source": [
    "user_sub = users.pivot_table(index='subscription_type', values='user_id', aggfunc='count')\n",
    "user_sub['percent'] = user_sub['user_id'] / user_sub['user_id'].sum() * 100\n",
    "user_sub = user_sub.reset_index()\n",
    "user_sub"
   ]
  },
  {
   "cell_type": "code",
   "execution_count": 20,
   "id": "22f4bcd0",
   "metadata": {},
   "outputs": [
    {
     "data": {
      "image/png": "[encoded data removed]",
      "text/plain": [
       "<Figure size 1080x360 with 1 Axes>"
      ]
     },
     "metadata": {},
     "output_type": "display_data"
    }
   ],
   "source": [
    "user_sub.plot(y = 'percent',\n",
    "              title = 'Соотношение пользователей с подпиской и без подписки',\n",
    "              figsize = (15,5), \n",
    "              kind = 'pie',\n",
    "              autopct = '%.2f')\n",
    "plt.show()"
   ]
  },
  {
   "cell_type": "markdown",
   "id": "6b58be22",
   "metadata": {},
   "source": [
    "<div class=\"alert-success\" style=\"border-radius: 10px; padding: 20px\">\n",
    "<b>Комментарий ревьюера V2 ✔️</b>\n",
    "\n",
    "Теперь график оформлен правильно!"
   ]
  },
  {
   "cell_type": "markdown",
   "id": "49931972",
   "metadata": {},
   "source": [
    "- Пользователей с бесплатной подпиской больше чем с платной."
   ]
  },
  {
   "cell_type": "markdown",
   "id": "40621b74",
   "metadata": {},
   "source": [
    "##### возраст пользователей;"
   ]
  },
  {
   "cell_type": "code",
   "execution_count": 21,
   "id": "609dcbbf",
   "metadata": {},
   "outputs": [
    {
     "data": {
      "text/html": [
       "<div>\n",
       "<style scoped>\n",
       "    .dataframe tbody tr th:only-of-type {\n",
       "        vertical-align: middle;\n",
       "    }\n",
       "\n",
       "    .dataframe tbody tr th {\n",
       "        vertical-align: top;\n",
       "    }\n",
       "\n",
       "    .dataframe thead th {\n",
       "        text-align: right;\n",
       "    }\n",
       "</style>\n",
       "<table border=\"1\" class=\"dataframe\">\n",
       "  <thead>\n",
       "    <tr style=\"text-align: right;\">\n",
       "      <th></th>\n",
       "      <th>user_id</th>\n",
       "    </tr>\n",
       "    <tr>\n",
       "      <th>age</th>\n",
       "      <th></th>\n",
       "    </tr>\n",
       "  </thead>\n",
       "  <tbody>\n",
       "    <tr>\n",
       "      <th>12</th>\n",
       "      <td>4</td>\n",
       "    </tr>\n",
       "    <tr>\n",
       "      <th>13</th>\n",
       "      <td>8</td>\n",
       "    </tr>\n",
       "    <tr>\n",
       "      <th>14</th>\n",
       "      <td>9</td>\n",
       "    </tr>\n",
       "    <tr>\n",
       "      <th>15</th>\n",
       "      <td>13</td>\n",
       "    </tr>\n",
       "    <tr>\n",
       "      <th>16</th>\n",
       "      <td>19</td>\n",
       "    </tr>\n",
       "    <tr>\n",
       "      <th>17</th>\n",
       "      <td>26</td>\n",
       "    </tr>\n",
       "    <tr>\n",
       "      <th>18</th>\n",
       "      <td>46</td>\n",
       "    </tr>\n",
       "    <tr>\n",
       "      <th>19</th>\n",
       "      <td>47</td>\n",
       "    </tr>\n",
       "    <tr>\n",
       "      <th>20</th>\n",
       "      <td>71</td>\n",
       "    </tr>\n",
       "    <tr>\n",
       "      <th>21</th>\n",
       "      <td>93</td>\n",
       "    </tr>\n",
       "    <tr>\n",
       "      <th>22</th>\n",
       "      <td>119</td>\n",
       "    </tr>\n",
       "    <tr>\n",
       "      <th>23</th>\n",
       "      <td>129</td>\n",
       "    </tr>\n",
       "    <tr>\n",
       "      <th>24</th>\n",
       "      <td>132</td>\n",
       "    </tr>\n",
       "    <tr>\n",
       "      <th>25</th>\n",
       "      <td>145</td>\n",
       "    </tr>\n",
       "    <tr>\n",
       "      <th>26</th>\n",
       "      <td>131</td>\n",
       "    </tr>\n",
       "    <tr>\n",
       "      <th>27</th>\n",
       "      <td>119</td>\n",
       "    </tr>\n",
       "    <tr>\n",
       "      <th>28</th>\n",
       "      <td>112</td>\n",
       "    </tr>\n",
       "    <tr>\n",
       "      <th>29</th>\n",
       "      <td>68</td>\n",
       "    </tr>\n",
       "    <tr>\n",
       "      <th>30</th>\n",
       "      <td>68</td>\n",
       "    </tr>\n",
       "    <tr>\n",
       "      <th>31</th>\n",
       "      <td>48</td>\n",
       "    </tr>\n",
       "    <tr>\n",
       "      <th>32</th>\n",
       "      <td>41</td>\n",
       "    </tr>\n",
       "    <tr>\n",
       "      <th>33</th>\n",
       "      <td>39</td>\n",
       "    </tr>\n",
       "    <tr>\n",
       "      <th>34</th>\n",
       "      <td>19</td>\n",
       "    </tr>\n",
       "    <tr>\n",
       "      <th>35</th>\n",
       "      <td>15</td>\n",
       "    </tr>\n",
       "    <tr>\n",
       "      <th>36</th>\n",
       "      <td>6</td>\n",
       "    </tr>\n",
       "    <tr>\n",
       "      <th>37</th>\n",
       "      <td>2</td>\n",
       "    </tr>\n",
       "    <tr>\n",
       "      <th>38</th>\n",
       "      <td>3</td>\n",
       "    </tr>\n",
       "    <tr>\n",
       "      <th>39</th>\n",
       "      <td>1</td>\n",
       "    </tr>\n",
       "    <tr>\n",
       "      <th>43</th>\n",
       "      <td>1</td>\n",
       "    </tr>\n",
       "  </tbody>\n",
       "</table>\n",
       "</div>"
      ],
      "text/plain": [
       "     user_id\n",
       "age         \n",
       "12         4\n",
       "13         8\n",
       "14         9\n",
       "15        13\n",
       "16        19\n",
       "17        26\n",
       "18        46\n",
       "19        47\n",
       "20        71\n",
       "21        93\n",
       "22       119\n",
       "23       129\n",
       "24       132\n",
       "25       145\n",
       "26       131\n",
       "27       119\n",
       "28       112\n",
       "29        68\n",
       "30        68\n",
       "31        48\n",
       "32        41\n",
       "33        39\n",
       "34        19\n",
       "35        15\n",
       "36         6\n",
       "37         2\n",
       "38         3\n",
       "39         1\n",
       "43         1"
      ]
     },
     "execution_count": 21,
     "metadata": {},
     "output_type": "execute_result"
    }
   ],
   "source": [
    "user_age = users.pivot_table(index='age', values='user_id', aggfunc='count')\n",
    "user_age"
   ]
  },
  {
   "cell_type": "code",
   "execution_count": 22,
   "id": "7ba72c91",
   "metadata": {},
   "outputs": [
    {
     "data": {
      "image/png": "[encoded data removed]",
      "text/plain": [
       "<Figure size 1080x360 with 1 Axes>"
      ]
     },
     "metadata": {
      "needs_background": "light"
     },
     "output_type": "display_data"
    },
    {
     "data": {
      "text/plain": [
       "count    1534.000000\n",
       "mean       24.903520\n",
       "std         4.572367\n",
       "min        12.000000\n",
       "25%        22.000000\n",
       "50%        25.000000\n",
       "75%        28.000000\n",
       "max        43.000000\n",
       "Name: age, dtype: float64"
      ]
     },
     "execution_count": 22,
     "metadata": {},
     "output_type": "execute_result"
    }
   ],
   "source": [
    "user_age.plot(title = 'возраст пользователей',\n",
    "              kind = 'bar',\n",
    "              grid = True, \n",
    "              figsize = (15,5))\n",
    "plt.xlabel('Возраст')\n",
    "plt.ylabel('Кол-во пользователей')\n",
    "plt.show()\n",
    "users['age'].describe()"
   ]
  },
  {
   "cell_type": "markdown",
   "id": "4581a8f4",
   "metadata": {},
   "source": [
    "- Основная категория клиентов в возрасте от 20 до 30 лет."
   ]
  },
  {
   "cell_type": "markdown",
   "id": "128ed489",
   "metadata": {},
   "source": [
    "##### расстояние, которое пользователь преодолел за одну поездку;"
   ]
  },
  {
   "cell_type": "code",
   "execution_count": 23,
   "id": "4a59bceb",
   "metadata": {},
   "outputs": [
    {
     "data": {
      "image/png": "[encoded data removed]",
      "text/plain": [
       "<Figure size 1080x360 with 1 Axes>"
      ]
     },
     "metadata": {
      "needs_background": "light"
     },
     "output_type": "display_data"
    }
   ],
   "source": [
    "rides.plot(y = 'distance',\n",
    "               kind = 'hist',\n",
    "               title = 'Расстояние, которое пользователь преодолел за одну поездку',\n",
    "               grid = True,\n",
    "               bins = 100,\n",
    "               figsize = (15,5),\n",
    "               )\n",
    "plt.xlabel('Дистанция поездок')\n",
    "plt.ylabel('Кол-во пользователей')\n",
    "plt.show()"
   ]
  },
  {
   "cell_type": "markdown",
   "id": "921d044e",
   "metadata": {},
   "source": [
    "- Дистанция одной поездки от 2200 до 4200 метров."
   ]
  },
  {
   "cell_type": "markdown",
   "id": "5865cc3b",
   "metadata": {},
   "source": [
    "##### продолжительность поездок."
   ]
  },
  {
   "cell_type": "code",
   "execution_count": 24,
   "id": "9a787b9d",
   "metadata": {},
   "outputs": [
    {
     "data": {
      "image/png": "[encoded data removed]",
      "text/plain": [
       "<Figure size 1080x360 with 1 Axes>"
      ]
     },
     "metadata": {
      "needs_background": "light"
     },
     "output_type": "display_data"
    },
    {
     "data": {
      "text/plain": [
       "count    18068.000000\n",
       "mean        17.805011\n",
       "std          6.091051\n",
       "min          0.500000\n",
       "25%         13.597563\n",
       "50%         17.678395\n",
       "75%         21.724800\n",
       "max         40.823963\n",
       "Name: duration, dtype: float64"
      ]
     },
     "execution_count": 24,
     "metadata": {},
     "output_type": "execute_result"
    }
   ],
   "source": [
    "rides.plot(y = 'duration',\n",
    "              kind = 'hist',\n",
    "              title = 'Расстояние, которое пользователь преодолел за одну поездку',\n",
    "              grid = True,\n",
    "              bins = 100,\n",
    "              figsize = (15,5),\n",
    "               )\n",
    "plt.xlabel('Средняя продолжительность')\n",
    "plt.ylabel('Кол-во пользователей')\n",
    "plt.show()\n",
    "rides['duration'].describe()"
   ]
  },
  {
   "cell_type": "markdown",
   "id": "156553a0",
   "metadata": {},
   "source": [
    "- Продолжительность поездки от 10-25 минуты."
   ]
  },
  {
   "cell_type": "markdown",
   "id": "4ef51331",
   "metadata": {},
   "source": [
    "#### Шаг 4. Объединение данных\n",
    "- 4.1 Объедините данные о пользователях, поездках и подписках в один датафрейм. Для этого воспользуйтесь методом merge().\n",
    "- 4.2 Создайте ещё два датафрейма из датафрейма, созданного на этапе 4.1:\n",
    "    - c данными о пользователях без подписки;\n",
    "    - с данными о пользователях с подпиской.\n",
    "- 4.3 Визуализируйте информацию о расстоянии и времени поездок для пользователей обеих категорий."
   ]
  },
  {
   "cell_type": "markdown",
   "id": "374f5a95",
   "metadata": {},
   "source": [
    "##### Объедините данные о пользователях, поездках и подписках в один датафрейм. Для этого воспользуйтесь методом merge()."
   ]
  },
  {
   "cell_type": "code",
   "execution_count": 25,
   "id": "eb4347f1",
   "metadata": {},
   "outputs": [
    {
     "data": {
      "text/html": [
       "<div>\n",
       "<style scoped>\n",
       "    .dataframe tbody tr th:only-of-type {\n",
       "        vertical-align: middle;\n",
       "    }\n",
       "\n",
       "    .dataframe tbody tr th {\n",
       "        vertical-align: top;\n",
       "    }\n",
       "\n",
       "    .dataframe thead th {\n",
       "        text-align: right;\n",
       "    }\n",
       "</style>\n",
       "<table border=\"1\" class=\"dataframe\">\n",
       "  <thead>\n",
       "    <tr style=\"text-align: right;\">\n",
       "      <th></th>\n",
       "      <th>user_id</th>\n",
       "      <th>name</th>\n",
       "      <th>age</th>\n",
       "      <th>city</th>\n",
       "      <th>subscription_type</th>\n",
       "      <th>distance</th>\n",
       "      <th>duration</th>\n",
       "      <th>date</th>\n",
       "      <th>month</th>\n",
       "      <th>minute_price</th>\n",
       "      <th>start_ride_price</th>\n",
       "      <th>subscription_fee</th>\n",
       "    </tr>\n",
       "  </thead>\n",
       "  <tbody>\n",
       "    <tr>\n",
       "      <th>0</th>\n",
       "      <td>1</td>\n",
       "      <td>Кира</td>\n",
       "      <td>22</td>\n",
       "      <td>Тюмень</td>\n",
       "      <td>ultra</td>\n",
       "      <td>4409.919140</td>\n",
       "      <td>25.599769</td>\n",
       "      <td>2021-01-01</td>\n",
       "      <td>1</td>\n",
       "      <td>6</td>\n",
       "      <td>0</td>\n",
       "      <td>199</td>\n",
       "    </tr>\n",
       "    <tr>\n",
       "      <th>1</th>\n",
       "      <td>1</td>\n",
       "      <td>Кира</td>\n",
       "      <td>22</td>\n",
       "      <td>Тюмень</td>\n",
       "      <td>ultra</td>\n",
       "      <td>2617.592153</td>\n",
       "      <td>15.816871</td>\n",
       "      <td>2021-01-18</td>\n",
       "      <td>1</td>\n",
       "      <td>6</td>\n",
       "      <td>0</td>\n",
       "      <td>199</td>\n",
       "    </tr>\n",
       "    <tr>\n",
       "      <th>2</th>\n",
       "      <td>1</td>\n",
       "      <td>Кира</td>\n",
       "      <td>22</td>\n",
       "      <td>Тюмень</td>\n",
       "      <td>ultra</td>\n",
       "      <td>754.159807</td>\n",
       "      <td>6.232113</td>\n",
       "      <td>2021-04-20</td>\n",
       "      <td>4</td>\n",
       "      <td>6</td>\n",
       "      <td>0</td>\n",
       "      <td>199</td>\n",
       "    </tr>\n",
       "    <tr>\n",
       "      <th>3</th>\n",
       "      <td>1</td>\n",
       "      <td>Кира</td>\n",
       "      <td>22</td>\n",
       "      <td>Тюмень</td>\n",
       "      <td>ultra</td>\n",
       "      <td>2694.783254</td>\n",
       "      <td>18.511000</td>\n",
       "      <td>2021-08-11</td>\n",
       "      <td>8</td>\n",
       "      <td>6</td>\n",
       "      <td>0</td>\n",
       "      <td>199</td>\n",
       "    </tr>\n",
       "    <tr>\n",
       "      <th>4</th>\n",
       "      <td>1</td>\n",
       "      <td>Кира</td>\n",
       "      <td>22</td>\n",
       "      <td>Тюмень</td>\n",
       "      <td>ultra</td>\n",
       "      <td>4028.687306</td>\n",
       "      <td>26.265803</td>\n",
       "      <td>2021-08-28</td>\n",
       "      <td>8</td>\n",
       "      <td>6</td>\n",
       "      <td>0</td>\n",
       "      <td>199</td>\n",
       "    </tr>\n",
       "    <tr>\n",
       "      <th>...</th>\n",
       "      <td>...</td>\n",
       "      <td>...</td>\n",
       "      <td>...</td>\n",
       "      <td>...</td>\n",
       "      <td>...</td>\n",
       "      <td>...</td>\n",
       "      <td>...</td>\n",
       "      <td>...</td>\n",
       "      <td>...</td>\n",
       "      <td>...</td>\n",
       "      <td>...</td>\n",
       "      <td>...</td>\n",
       "    </tr>\n",
       "    <tr>\n",
       "      <th>18063</th>\n",
       "      <td>1534</td>\n",
       "      <td>Альберт</td>\n",
       "      <td>25</td>\n",
       "      <td>Краснодар</td>\n",
       "      <td>free</td>\n",
       "      <td>3781.098080</td>\n",
       "      <td>19.822962</td>\n",
       "      <td>2021-11-04</td>\n",
       "      <td>11</td>\n",
       "      <td>8</td>\n",
       "      <td>50</td>\n",
       "      <td>0</td>\n",
       "    </tr>\n",
       "    <tr>\n",
       "      <th>18064</th>\n",
       "      <td>1534</td>\n",
       "      <td>Альберт</td>\n",
       "      <td>25</td>\n",
       "      <td>Краснодар</td>\n",
       "      <td>free</td>\n",
       "      <td>2840.423057</td>\n",
       "      <td>21.409799</td>\n",
       "      <td>2021-11-16</td>\n",
       "      <td>11</td>\n",
       "      <td>8</td>\n",
       "      <td>50</td>\n",
       "      <td>0</td>\n",
       "    </tr>\n",
       "    <tr>\n",
       "      <th>18065</th>\n",
       "      <td>1534</td>\n",
       "      <td>Альберт</td>\n",
       "      <td>25</td>\n",
       "      <td>Краснодар</td>\n",
       "      <td>free</td>\n",
       "      <td>3826.185507</td>\n",
       "      <td>18.435051</td>\n",
       "      <td>2021-11-18</td>\n",
       "      <td>11</td>\n",
       "      <td>8</td>\n",
       "      <td>50</td>\n",
       "      <td>0</td>\n",
       "    </tr>\n",
       "    <tr>\n",
       "      <th>18066</th>\n",
       "      <td>1534</td>\n",
       "      <td>Альберт</td>\n",
       "      <td>25</td>\n",
       "      <td>Краснодар</td>\n",
       "      <td>free</td>\n",
       "      <td>2902.308661</td>\n",
       "      <td>16.674362</td>\n",
       "      <td>2021-11-27</td>\n",
       "      <td>11</td>\n",
       "      <td>8</td>\n",
       "      <td>50</td>\n",
       "      <td>0</td>\n",
       "    </tr>\n",
       "    <tr>\n",
       "      <th>18067</th>\n",
       "      <td>1534</td>\n",
       "      <td>Альберт</td>\n",
       "      <td>25</td>\n",
       "      <td>Краснодар</td>\n",
       "      <td>free</td>\n",
       "      <td>2371.711192</td>\n",
       "      <td>15.893917</td>\n",
       "      <td>2021-12-29</td>\n",
       "      <td>12</td>\n",
       "      <td>8</td>\n",
       "      <td>50</td>\n",
       "      <td>0</td>\n",
       "    </tr>\n",
       "  </tbody>\n",
       "</table>\n",
       "<p>18068 rows × 12 columns</p>\n",
       "</div>"
      ],
      "text/plain": [
       "       user_id     name  age       city subscription_type     distance  \\\n",
       "0            1     Кира   22     Тюмень             ultra  4409.919140   \n",
       "1            1     Кира   22     Тюмень             ultra  2617.592153   \n",
       "2            1     Кира   22     Тюмень             ultra   754.159807   \n",
       "3            1     Кира   22     Тюмень             ultra  2694.783254   \n",
       "4            1     Кира   22     Тюмень             ultra  4028.687306   \n",
       "...        ...      ...  ...        ...               ...          ...   \n",
       "18063     1534  Альберт   25  Краснодар              free  3781.098080   \n",
       "18064     1534  Альберт   25  Краснодар              free  2840.423057   \n",
       "18065     1534  Альберт   25  Краснодар              free  3826.185507   \n",
       "18066     1534  Альберт   25  Краснодар              free  2902.308661   \n",
       "18067     1534  Альберт   25  Краснодар              free  2371.711192   \n",
       "\n",
       "        duration       date  month  minute_price  start_ride_price  \\\n",
       "0      25.599769 2021-01-01      1             6                 0   \n",
       "1      15.816871 2021-01-18      1             6                 0   \n",
       "2       6.232113 2021-04-20      4             6                 0   \n",
       "3      18.511000 2021-08-11      8             6                 0   \n",
       "4      26.265803 2021-08-28      8             6                 0   \n",
       "...          ...        ...    ...           ...               ...   \n",
       "18063  19.822962 2021-11-04     11             8                50   \n",
       "18064  21.409799 2021-11-16     11             8                50   \n",
       "18065  18.435051 2021-11-18     11             8                50   \n",
       "18066  16.674362 2021-11-27     11             8                50   \n",
       "18067  15.893917 2021-12-29     12             8                50   \n",
       "\n",
       "       subscription_fee  \n",
       "0                   199  \n",
       "1                   199  \n",
       "2                   199  \n",
       "3                   199  \n",
       "4                   199  \n",
       "...                 ...  \n",
       "18063                 0  \n",
       "18064                 0  \n",
       "18065                 0  \n",
       "18066                 0  \n",
       "18067                 0  \n",
       "\n",
       "[18068 rows x 12 columns]"
      ]
     },
     "execution_count": 25,
     "metadata": {},
     "output_type": "execute_result"
    }
   ],
   "source": [
    "u_d_s =pd.merge(users, rides, on='user_id')\n",
    "u_d_s = pd.merge(u_d_s, subs, on='subscription_type')\n",
    "u_d_s"
   ]
  },
  {
   "cell_type": "code",
   "execution_count": 26,
   "id": "fea0f6b3",
   "metadata": {},
   "outputs": [
    {
     "data": {
      "text/plain": [
       "user_id              0\n",
       "name                 0\n",
       "age                  0\n",
       "city                 0\n",
       "subscription_type    0\n",
       "distance             0\n",
       "duration             0\n",
       "date                 0\n",
       "month                0\n",
       "minute_price         0\n",
       "start_ride_price     0\n",
       "subscription_fee     0\n",
       "dtype: int64"
      ]
     },
     "execution_count": 26,
     "metadata": {},
     "output_type": "execute_result"
    }
   ],
   "source": [
    "u_d_s.isna().sum()"
   ]
  },
  {
   "cell_type": "markdown",
   "id": "a73aed02",
   "metadata": {},
   "source": [
    "##### Создайте ещё два датафрейма из датафрейма, созданного на этапе 4.1:\n",
    "- c данными о пользователях без подписки;\n",
    "- с данными о пользователях с подпиской."
   ]
  },
  {
   "cell_type": "code",
   "execution_count": 27,
   "id": "e86eaec4",
   "metadata": {},
   "outputs": [
    {
     "data": {
      "text/html": [
       "<div>\n",
       "<style scoped>\n",
       "    .dataframe tbody tr th:only-of-type {\n",
       "        vertical-align: middle;\n",
       "    }\n",
       "\n",
       "    .dataframe tbody tr th {\n",
       "        vertical-align: top;\n",
       "    }\n",
       "\n",
       "    .dataframe thead th {\n",
       "        text-align: right;\n",
       "    }\n",
       "</style>\n",
       "<table border=\"1\" class=\"dataframe\">\n",
       "  <thead>\n",
       "    <tr style=\"text-align: right;\">\n",
       "      <th></th>\n",
       "      <th>user_id</th>\n",
       "      <th>name</th>\n",
       "      <th>age</th>\n",
       "      <th>city</th>\n",
       "      <th>subscription_type</th>\n",
       "      <th>distance</th>\n",
       "      <th>duration</th>\n",
       "      <th>date</th>\n",
       "      <th>month</th>\n",
       "      <th>minute_price</th>\n",
       "      <th>start_ride_price</th>\n",
       "      <th>subscription_fee</th>\n",
       "    </tr>\n",
       "  </thead>\n",
       "  <tbody>\n",
       "    <tr>\n",
       "      <th>6500</th>\n",
       "      <td>700</td>\n",
       "      <td>Айдар</td>\n",
       "      <td>22</td>\n",
       "      <td>Омск</td>\n",
       "      <td>free</td>\n",
       "      <td>2515.690719</td>\n",
       "      <td>14.944286</td>\n",
       "      <td>2021-01-02</td>\n",
       "      <td>1</td>\n",
       "      <td>8</td>\n",
       "      <td>50</td>\n",
       "      <td>0</td>\n",
       "    </tr>\n",
       "    <tr>\n",
       "      <th>6501</th>\n",
       "      <td>700</td>\n",
       "      <td>Айдар</td>\n",
       "      <td>22</td>\n",
       "      <td>Омск</td>\n",
       "      <td>free</td>\n",
       "      <td>846.932642</td>\n",
       "      <td>16.234663</td>\n",
       "      <td>2021-02-01</td>\n",
       "      <td>2</td>\n",
       "      <td>8</td>\n",
       "      <td>50</td>\n",
       "      <td>0</td>\n",
       "    </tr>\n",
       "    <tr>\n",
       "      <th>6502</th>\n",
       "      <td>700</td>\n",
       "      <td>Айдар</td>\n",
       "      <td>22</td>\n",
       "      <td>Омск</td>\n",
       "      <td>free</td>\n",
       "      <td>4004.434142</td>\n",
       "      <td>20.016628</td>\n",
       "      <td>2021-02-04</td>\n",
       "      <td>2</td>\n",
       "      <td>8</td>\n",
       "      <td>50</td>\n",
       "      <td>0</td>\n",
       "    </tr>\n",
       "    <tr>\n",
       "      <th>6503</th>\n",
       "      <td>700</td>\n",
       "      <td>Айдар</td>\n",
       "      <td>22</td>\n",
       "      <td>Омск</td>\n",
       "      <td>free</td>\n",
       "      <td>1205.911290</td>\n",
       "      <td>9.782872</td>\n",
       "      <td>2021-02-10</td>\n",
       "      <td>2</td>\n",
       "      <td>8</td>\n",
       "      <td>50</td>\n",
       "      <td>0</td>\n",
       "    </tr>\n",
       "    <tr>\n",
       "      <th>6504</th>\n",
       "      <td>700</td>\n",
       "      <td>Айдар</td>\n",
       "      <td>22</td>\n",
       "      <td>Омск</td>\n",
       "      <td>free</td>\n",
       "      <td>3047.379435</td>\n",
       "      <td>17.427673</td>\n",
       "      <td>2021-02-14</td>\n",
       "      <td>2</td>\n",
       "      <td>8</td>\n",
       "      <td>50</td>\n",
       "      <td>0</td>\n",
       "    </tr>\n",
       "    <tr>\n",
       "      <th>...</th>\n",
       "      <td>...</td>\n",
       "      <td>...</td>\n",
       "      <td>...</td>\n",
       "      <td>...</td>\n",
       "      <td>...</td>\n",
       "      <td>...</td>\n",
       "      <td>...</td>\n",
       "      <td>...</td>\n",
       "      <td>...</td>\n",
       "      <td>...</td>\n",
       "      <td>...</td>\n",
       "      <td>...</td>\n",
       "    </tr>\n",
       "    <tr>\n",
       "      <th>18063</th>\n",
       "      <td>1534</td>\n",
       "      <td>Альберт</td>\n",
       "      <td>25</td>\n",
       "      <td>Краснодар</td>\n",
       "      <td>free</td>\n",
       "      <td>3781.098080</td>\n",
       "      <td>19.822962</td>\n",
       "      <td>2021-11-04</td>\n",
       "      <td>11</td>\n",
       "      <td>8</td>\n",
       "      <td>50</td>\n",
       "      <td>0</td>\n",
       "    </tr>\n",
       "    <tr>\n",
       "      <th>18064</th>\n",
       "      <td>1534</td>\n",
       "      <td>Альберт</td>\n",
       "      <td>25</td>\n",
       "      <td>Краснодар</td>\n",
       "      <td>free</td>\n",
       "      <td>2840.423057</td>\n",
       "      <td>21.409799</td>\n",
       "      <td>2021-11-16</td>\n",
       "      <td>11</td>\n",
       "      <td>8</td>\n",
       "      <td>50</td>\n",
       "      <td>0</td>\n",
       "    </tr>\n",
       "    <tr>\n",
       "      <th>18065</th>\n",
       "      <td>1534</td>\n",
       "      <td>Альберт</td>\n",
       "      <td>25</td>\n",
       "      <td>Краснодар</td>\n",
       "      <td>free</td>\n",
       "      <td>3826.185507</td>\n",
       "      <td>18.435051</td>\n",
       "      <td>2021-11-18</td>\n",
       "      <td>11</td>\n",
       "      <td>8</td>\n",
       "      <td>50</td>\n",
       "      <td>0</td>\n",
       "    </tr>\n",
       "    <tr>\n",
       "      <th>18066</th>\n",
       "      <td>1534</td>\n",
       "      <td>Альберт</td>\n",
       "      <td>25</td>\n",
       "      <td>Краснодар</td>\n",
       "      <td>free</td>\n",
       "      <td>2902.308661</td>\n",
       "      <td>16.674362</td>\n",
       "      <td>2021-11-27</td>\n",
       "      <td>11</td>\n",
       "      <td>8</td>\n",
       "      <td>50</td>\n",
       "      <td>0</td>\n",
       "    </tr>\n",
       "    <tr>\n",
       "      <th>18067</th>\n",
       "      <td>1534</td>\n",
       "      <td>Альберт</td>\n",
       "      <td>25</td>\n",
       "      <td>Краснодар</td>\n",
       "      <td>free</td>\n",
       "      <td>2371.711192</td>\n",
       "      <td>15.893917</td>\n",
       "      <td>2021-12-29</td>\n",
       "      <td>12</td>\n",
       "      <td>8</td>\n",
       "      <td>50</td>\n",
       "      <td>0</td>\n",
       "    </tr>\n",
       "  </tbody>\n",
       "</table>\n",
       "<p>11568 rows × 12 columns</p>\n",
       "</div>"
      ],
      "text/plain": [
       "       user_id     name  age       city subscription_type     distance  \\\n",
       "6500       700    Айдар   22       Омск              free  2515.690719   \n",
       "6501       700    Айдар   22       Омск              free   846.932642   \n",
       "6502       700    Айдар   22       Омск              free  4004.434142   \n",
       "6503       700    Айдар   22       Омск              free  1205.911290   \n",
       "6504       700    Айдар   22       Омск              free  3047.379435   \n",
       "...        ...      ...  ...        ...               ...          ...   \n",
       "18063     1534  Альберт   25  Краснодар              free  3781.098080   \n",
       "18064     1534  Альберт   25  Краснодар              free  2840.423057   \n",
       "18065     1534  Альберт   25  Краснодар              free  3826.185507   \n",
       "18066     1534  Альберт   25  Краснодар              free  2902.308661   \n",
       "18067     1534  Альберт   25  Краснодар              free  2371.711192   \n",
       "\n",
       "        duration       date  month  minute_price  start_ride_price  \\\n",
       "6500   14.944286 2021-01-02      1             8                50   \n",
       "6501   16.234663 2021-02-01      2             8                50   \n",
       "6502   20.016628 2021-02-04      2             8                50   \n",
       "6503    9.782872 2021-02-10      2             8                50   \n",
       "6504   17.427673 2021-02-14      2             8                50   \n",
       "...          ...        ...    ...           ...               ...   \n",
       "18063  19.822962 2021-11-04     11             8                50   \n",
       "18064  21.409799 2021-11-16     11             8                50   \n",
       "18065  18.435051 2021-11-18     11             8                50   \n",
       "18066  16.674362 2021-11-27     11             8                50   \n",
       "18067  15.893917 2021-12-29     12             8                50   \n",
       "\n",
       "       subscription_fee  \n",
       "6500                  0  \n",
       "6501                  0  \n",
       "6502                  0  \n",
       "6503                  0  \n",
       "6504                  0  \n",
       "...                 ...  \n",
       "18063                 0  \n",
       "18064                 0  \n",
       "18065                 0  \n",
       "18066                 0  \n",
       "18067                 0  \n",
       "\n",
       "[11568 rows x 12 columns]"
      ]
     },
     "execution_count": 27,
     "metadata": {},
     "output_type": "execute_result"
    }
   ],
   "source": [
    "sub_free = u_d_s.query('subscription_type == \"free\"')\n",
    "sub_free"
   ]
  },
  {
   "cell_type": "code",
   "execution_count": 28,
   "id": "d0144337",
   "metadata": {},
   "outputs": [
    {
     "data": {
      "text/html": [
       "<div>\n",
       "<style scoped>\n",
       "    .dataframe tbody tr th:only-of-type {\n",
       "        vertical-align: middle;\n",
       "    }\n",
       "\n",
       "    .dataframe tbody tr th {\n",
       "        vertical-align: top;\n",
       "    }\n",
       "\n",
       "    .dataframe thead th {\n",
       "        text-align: right;\n",
       "    }\n",
       "</style>\n",
       "<table border=\"1\" class=\"dataframe\">\n",
       "  <thead>\n",
       "    <tr style=\"text-align: right;\">\n",
       "      <th></th>\n",
       "      <th>user_id</th>\n",
       "      <th>name</th>\n",
       "      <th>age</th>\n",
       "      <th>city</th>\n",
       "      <th>subscription_type</th>\n",
       "      <th>distance</th>\n",
       "      <th>duration</th>\n",
       "      <th>date</th>\n",
       "      <th>month</th>\n",
       "      <th>minute_price</th>\n",
       "      <th>start_ride_price</th>\n",
       "      <th>subscription_fee</th>\n",
       "    </tr>\n",
       "  </thead>\n",
       "  <tbody>\n",
       "    <tr>\n",
       "      <th>0</th>\n",
       "      <td>1</td>\n",
       "      <td>Кира</td>\n",
       "      <td>22</td>\n",
       "      <td>Тюмень</td>\n",
       "      <td>ultra</td>\n",
       "      <td>4409.919140</td>\n",
       "      <td>25.599769</td>\n",
       "      <td>2021-01-01</td>\n",
       "      <td>1</td>\n",
       "      <td>6</td>\n",
       "      <td>0</td>\n",
       "      <td>199</td>\n",
       "    </tr>\n",
       "    <tr>\n",
       "      <th>1</th>\n",
       "      <td>1</td>\n",
       "      <td>Кира</td>\n",
       "      <td>22</td>\n",
       "      <td>Тюмень</td>\n",
       "      <td>ultra</td>\n",
       "      <td>2617.592153</td>\n",
       "      <td>15.816871</td>\n",
       "      <td>2021-01-18</td>\n",
       "      <td>1</td>\n",
       "      <td>6</td>\n",
       "      <td>0</td>\n",
       "      <td>199</td>\n",
       "    </tr>\n",
       "    <tr>\n",
       "      <th>2</th>\n",
       "      <td>1</td>\n",
       "      <td>Кира</td>\n",
       "      <td>22</td>\n",
       "      <td>Тюмень</td>\n",
       "      <td>ultra</td>\n",
       "      <td>754.159807</td>\n",
       "      <td>6.232113</td>\n",
       "      <td>2021-04-20</td>\n",
       "      <td>4</td>\n",
       "      <td>6</td>\n",
       "      <td>0</td>\n",
       "      <td>199</td>\n",
       "    </tr>\n",
       "    <tr>\n",
       "      <th>3</th>\n",
       "      <td>1</td>\n",
       "      <td>Кира</td>\n",
       "      <td>22</td>\n",
       "      <td>Тюмень</td>\n",
       "      <td>ultra</td>\n",
       "      <td>2694.783254</td>\n",
       "      <td>18.511000</td>\n",
       "      <td>2021-08-11</td>\n",
       "      <td>8</td>\n",
       "      <td>6</td>\n",
       "      <td>0</td>\n",
       "      <td>199</td>\n",
       "    </tr>\n",
       "    <tr>\n",
       "      <th>4</th>\n",
       "      <td>1</td>\n",
       "      <td>Кира</td>\n",
       "      <td>22</td>\n",
       "      <td>Тюмень</td>\n",
       "      <td>ultra</td>\n",
       "      <td>4028.687306</td>\n",
       "      <td>26.265803</td>\n",
       "      <td>2021-08-28</td>\n",
       "      <td>8</td>\n",
       "      <td>6</td>\n",
       "      <td>0</td>\n",
       "      <td>199</td>\n",
       "    </tr>\n",
       "    <tr>\n",
       "      <th>...</th>\n",
       "      <td>...</td>\n",
       "      <td>...</td>\n",
       "      <td>...</td>\n",
       "      <td>...</td>\n",
       "      <td>...</td>\n",
       "      <td>...</td>\n",
       "      <td>...</td>\n",
       "      <td>...</td>\n",
       "      <td>...</td>\n",
       "      <td>...</td>\n",
       "      <td>...</td>\n",
       "      <td>...</td>\n",
       "    </tr>\n",
       "    <tr>\n",
       "      <th>6495</th>\n",
       "      <td>699</td>\n",
       "      <td>Оксана</td>\n",
       "      <td>22</td>\n",
       "      <td>Москва</td>\n",
       "      <td>ultra</td>\n",
       "      <td>3973.046497</td>\n",
       "      <td>24.671163</td>\n",
       "      <td>2021-08-29</td>\n",
       "      <td>8</td>\n",
       "      <td>6</td>\n",
       "      <td>0</td>\n",
       "      <td>199</td>\n",
       "    </tr>\n",
       "    <tr>\n",
       "      <th>6496</th>\n",
       "      <td>699</td>\n",
       "      <td>Оксана</td>\n",
       "      <td>22</td>\n",
       "      <td>Москва</td>\n",
       "      <td>ultra</td>\n",
       "      <td>3288.702563</td>\n",
       "      <td>15.892886</td>\n",
       "      <td>2021-09-12</td>\n",
       "      <td>9</td>\n",
       "      <td>6</td>\n",
       "      <td>0</td>\n",
       "      <td>199</td>\n",
       "    </tr>\n",
       "    <tr>\n",
       "      <th>6497</th>\n",
       "      <td>699</td>\n",
       "      <td>Оксана</td>\n",
       "      <td>22</td>\n",
       "      <td>Москва</td>\n",
       "      <td>ultra</td>\n",
       "      <td>3076.159348</td>\n",
       "      <td>14.389525</td>\n",
       "      <td>2021-09-26</td>\n",
       "      <td>9</td>\n",
       "      <td>6</td>\n",
       "      <td>0</td>\n",
       "      <td>199</td>\n",
       "    </tr>\n",
       "    <tr>\n",
       "      <th>6498</th>\n",
       "      <td>699</td>\n",
       "      <td>Оксана</td>\n",
       "      <td>22</td>\n",
       "      <td>Москва</td>\n",
       "      <td>ultra</td>\n",
       "      <td>4707.845501</td>\n",
       "      <td>15.839579</td>\n",
       "      <td>2021-10-17</td>\n",
       "      <td>10</td>\n",
       "      <td>6</td>\n",
       "      <td>0</td>\n",
       "      <td>199</td>\n",
       "    </tr>\n",
       "    <tr>\n",
       "      <th>6499</th>\n",
       "      <td>699</td>\n",
       "      <td>Оксана</td>\n",
       "      <td>22</td>\n",
       "      <td>Москва</td>\n",
       "      <td>ultra</td>\n",
       "      <td>3202.890770</td>\n",
       "      <td>25.217345</td>\n",
       "      <td>2021-12-03</td>\n",
       "      <td>12</td>\n",
       "      <td>6</td>\n",
       "      <td>0</td>\n",
       "      <td>199</td>\n",
       "    </tr>\n",
       "  </tbody>\n",
       "</table>\n",
       "<p>6500 rows × 12 columns</p>\n",
       "</div>"
      ],
      "text/plain": [
       "      user_id    name  age    city subscription_type     distance   duration  \\\n",
       "0           1    Кира   22  Тюмень             ultra  4409.919140  25.599769   \n",
       "1           1    Кира   22  Тюмень             ultra  2617.592153  15.816871   \n",
       "2           1    Кира   22  Тюмень             ultra   754.159807   6.232113   \n",
       "3           1    Кира   22  Тюмень             ultra  2694.783254  18.511000   \n",
       "4           1    Кира   22  Тюмень             ultra  4028.687306  26.265803   \n",
       "...       ...     ...  ...     ...               ...          ...        ...   \n",
       "6495      699  Оксана   22  Москва             ultra  3973.046497  24.671163   \n",
       "6496      699  Оксана   22  Москва             ultra  3288.702563  15.892886   \n",
       "6497      699  Оксана   22  Москва             ultra  3076.159348  14.389525   \n",
       "6498      699  Оксана   22  Москва             ultra  4707.845501  15.839579   \n",
       "6499      699  Оксана   22  Москва             ultra  3202.890770  25.217345   \n",
       "\n",
       "           date  month  minute_price  start_ride_price  subscription_fee  \n",
       "0    2021-01-01      1             6                 0               199  \n",
       "1    2021-01-18      1             6                 0               199  \n",
       "2    2021-04-20      4             6                 0               199  \n",
       "3    2021-08-11      8             6                 0               199  \n",
       "4    2021-08-28      8             6                 0               199  \n",
       "...         ...    ...           ...               ...               ...  \n",
       "6495 2021-08-29      8             6                 0               199  \n",
       "6496 2021-09-12      9             6                 0               199  \n",
       "6497 2021-09-26      9             6                 0               199  \n",
       "6498 2021-10-17     10             6                 0               199  \n",
       "6499 2021-12-03     12             6                 0               199  \n",
       "\n",
       "[6500 rows x 12 columns]"
      ]
     },
     "execution_count": 28,
     "metadata": {},
     "output_type": "execute_result"
    }
   ],
   "source": [
    "sub_ultra = u_d_s.query('subscription_type == \"ultra\" ')\n",
    "sub_ultra"
   ]
  },
  {
   "cell_type": "markdown",
   "id": "e73b10c2",
   "metadata": {},
   "source": [
    "<div class=\"alert-success\" style=\"padding: 20px; border-radius: 10px\">\n",
    "<b>Комментарий ревьюера ✔️</b>\n",
    "\n",
    "Данные объединены верно и отдельные датафреймы созданы правильно. 👍</div>"
   ]
  },
  {
   "cell_type": "markdown",
   "id": "499a929a",
   "metadata": {},
   "source": [
    "##### Визуализируйте информацию о расстоянии и времени поездок для пользователей обеих категорий."
   ]
  },
  {
   "cell_type": "markdown",
   "id": "49f5d579",
   "metadata": {},
   "source": []
  },
  {
   "cell_type": "markdown",
   "id": "ad8c5624",
   "metadata": {},
   "source": [
    "- А дистанция у платных подписок "
   ]
  },
  {
   "cell_type": "code",
   "execution_count": 29,
   "id": "05281f7d",
   "metadata": {},
   "outputs": [
    {
     "data": {
      "image/png": "[encoded data removed]",
      "text/plain": [
       "<Figure size 432x288 with 1 Axes>"
      ]
     },
     "metadata": {
      "needs_background": "light"
     },
     "output_type": "display_data"
    }
   ],
   "source": [
    "plt.hist(sub_free['distance'], label = 'Бесплатная подписка', bins = 50)\n",
    "plt.hist(sub_ultra['distance'],label = 'Платная подписка', bins = 50)\n",
    "plt.xlabel('Дистанция поездок')\n",
    "plt.ylabel('Кол-во пользователей')\n",
    "plt.title('Расстояние, которое пользователь преодолел за одну поездку')\n",
    "plt.legend()\n",
    "plt.show()"
   ]
  },
  {
   "cell_type": "code",
   "execution_count": 30,
   "id": "2fcdbe7f",
   "metadata": {},
   "outputs": [
    {
     "data": {
      "image/png": "[encoded data removed]",
      "text/plain": [
       "<Figure size 432x288 with 1 Axes>"
      ]
     },
     "metadata": {
      "needs_background": "light"
     },
     "output_type": "display_data"
    }
   ],
   "source": [
    "plt.hist(sub_free['duration'], label = 'Бесплатная подписка', bins = 50)\n",
    "plt.hist(sub_ultra['duration'],label = 'Платная подписка', bins = 50)\n",
    "plt.xlabel('Продолжительность поездок')\n",
    "plt.ylabel('Кол-во пользователей')\n",
    "plt.title('Время, которое пользователь преодолел за одну поездку')\n",
    "plt.legend()\n",
    "plt.show()"
   ]
  },
  {
   "cell_type": "markdown",
   "id": "d8690428",
   "metadata": {},
   "source": [
    "- Сонгласно приведенным графикам, дистанция у пользователей с бесплатной подпиской от 2000 до 4500, так как у пользователей с платной подпиской от 2500 до 3600.\n",
    "- Так же согласно данным продолжительность поездки в среднем у пользователей с бесплатной подпиской от 10 до 25 минут, так как у пользователей с платной подпиской в среднем от 11 до 24 минут."
   ]
  },
  {
   "cell_type": "markdown",
   "id": "a0e9ec30",
   "metadata": {},
   "source": [
    "<div class=\"alert-success\" style=\"border-radius: 10px; padding: 20px\">\n",
    "<b>Комментарий ревьюера V2 ✔️</b>\n",
    "\n",
    "Со сравнением согласен. В целом, можно отметить, что профили пользователей обеих категорий похожи."
   ]
  },
  {
   "cell_type": "markdown",
   "id": "402d620f",
   "metadata": {},
   "source": [
    "#### Шаг 5. Подсчёт выручки\n",
    "- 5.1 Создайте датафрейм с агрегированными данными о поездках на основе датафрейма с объединёнными данными из шага 4: найдите суммарное расстояние, количество поездок и суммарное время для каждого пользователя за каждый месяц.\n",
    "- 5.2 В этот же датафрейм добавьте столбец с помесячной выручкой, которую принёс каждый пользователь. Для этого обратитесь к информации об условиях оплаты для подписчиков и тех, у кого нет подписки. Продолжительность каждой поездки в каждой строке исходного датафрейма для подсчёта стоимости округляется до следующего целого числа: например, значения 25.3,25.5 и 26.0 должны быть преобразованы к 26."
   ]
  },
  {
   "cell_type": "markdown",
   "id": "77472c77",
   "metadata": {},
   "source": [
    "##### Создайте датафрейм с агрегированными данными о поездках на основе датафрейма с объединёнными данными из шага 4: найдите суммарное расстояние, количество поездок и суммарное время для каждого пользователя за каждый месяц."
   ]
  },
  {
   "cell_type": "code",
   "execution_count": 31,
   "id": "53049e0a",
   "metadata": {},
   "outputs": [
    {
     "data": {
      "text/html": [
       "<div>\n",
       "<style scoped>\n",
       "    .dataframe tbody tr th:only-of-type {\n",
       "        vertical-align: middle;\n",
       "    }\n",
       "\n",
       "    .dataframe tbody tr th {\n",
       "        vertical-align: top;\n",
       "    }\n",
       "\n",
       "    .dataframe thead th {\n",
       "        text-align: right;\n",
       "    }\n",
       "</style>\n",
       "<table border=\"1\" class=\"dataframe\">\n",
       "  <thead>\n",
       "    <tr style=\"text-align: right;\">\n",
       "      <th></th>\n",
       "      <th>user_id</th>\n",
       "      <th>month</th>\n",
       "      <th>total_distance</th>\n",
       "      <th>total_trips</th>\n",
       "      <th>total_duration</th>\n",
       "      <th>subscription_type</th>\n",
       "    </tr>\n",
       "  </thead>\n",
       "  <tbody>\n",
       "    <tr>\n",
       "      <th>0</th>\n",
       "      <td>1</td>\n",
       "      <td>1</td>\n",
       "      <td>7027.511294</td>\n",
       "      <td>2</td>\n",
       "      <td>42.0</td>\n",
       "      <td>ultra</td>\n",
       "    </tr>\n",
       "    <tr>\n",
       "      <th>1</th>\n",
       "      <td>1</td>\n",
       "      <td>4</td>\n",
       "      <td>754.159807</td>\n",
       "      <td>1</td>\n",
       "      <td>7.0</td>\n",
       "      <td>ultra</td>\n",
       "    </tr>\n",
       "    <tr>\n",
       "      <th>2</th>\n",
       "      <td>1</td>\n",
       "      <td>8</td>\n",
       "      <td>6723.470560</td>\n",
       "      <td>2</td>\n",
       "      <td>46.0</td>\n",
       "      <td>ultra</td>\n",
       "    </tr>\n",
       "    <tr>\n",
       "      <th>3</th>\n",
       "      <td>1</td>\n",
       "      <td>10</td>\n",
       "      <td>5809.911100</td>\n",
       "      <td>2</td>\n",
       "      <td>32.0</td>\n",
       "      <td>ultra</td>\n",
       "    </tr>\n",
       "    <tr>\n",
       "      <th>4</th>\n",
       "      <td>1</td>\n",
       "      <td>11</td>\n",
       "      <td>7003.499363</td>\n",
       "      <td>3</td>\n",
       "      <td>56.0</td>\n",
       "      <td>ultra</td>\n",
       "    </tr>\n",
       "    <tr>\n",
       "      <th>...</th>\n",
       "      <td>...</td>\n",
       "      <td>...</td>\n",
       "      <td>...</td>\n",
       "      <td>...</td>\n",
       "      <td>...</td>\n",
       "      <td>...</td>\n",
       "    </tr>\n",
       "    <tr>\n",
       "      <th>11326</th>\n",
       "      <td>1534</td>\n",
       "      <td>6</td>\n",
       "      <td>3409.468534</td>\n",
       "      <td>2</td>\n",
       "      <td>26.0</td>\n",
       "      <td>free</td>\n",
       "    </tr>\n",
       "    <tr>\n",
       "      <th>11327</th>\n",
       "      <td>1534</td>\n",
       "      <td>8</td>\n",
       "      <td>7622.453034</td>\n",
       "      <td>2</td>\n",
       "      <td>48.0</td>\n",
       "      <td>free</td>\n",
       "    </tr>\n",
       "    <tr>\n",
       "      <th>11328</th>\n",
       "      <td>1534</td>\n",
       "      <td>9</td>\n",
       "      <td>4928.173852</td>\n",
       "      <td>1</td>\n",
       "      <td>23.0</td>\n",
       "      <td>free</td>\n",
       "    </tr>\n",
       "    <tr>\n",
       "      <th>11329</th>\n",
       "      <td>1534</td>\n",
       "      <td>11</td>\n",
       "      <td>13350.015305</td>\n",
       "      <td>4</td>\n",
       "      <td>78.0</td>\n",
       "      <td>free</td>\n",
       "    </tr>\n",
       "    <tr>\n",
       "      <th>11330</th>\n",
       "      <td>1534</td>\n",
       "      <td>12</td>\n",
       "      <td>2371.711192</td>\n",
       "      <td>1</td>\n",
       "      <td>16.0</td>\n",
       "      <td>free</td>\n",
       "    </tr>\n",
       "  </tbody>\n",
       "</table>\n",
       "<p>11331 rows × 6 columns</p>\n",
       "</div>"
      ],
      "text/plain": [
       "       user_id  month  total_distance  total_trips  total_duration  \\\n",
       "0            1      1     7027.511294            2            42.0   \n",
       "1            1      4      754.159807            1             7.0   \n",
       "2            1      8     6723.470560            2            46.0   \n",
       "3            1     10     5809.911100            2            32.0   \n",
       "4            1     11     7003.499363            3            56.0   \n",
       "...        ...    ...             ...          ...             ...   \n",
       "11326     1534      6     3409.468534            2            26.0   \n",
       "11327     1534      8     7622.453034            2            48.0   \n",
       "11328     1534      9     4928.173852            1            23.0   \n",
       "11329     1534     11    13350.015305            4            78.0   \n",
       "11330     1534     12     2371.711192            1            16.0   \n",
       "\n",
       "      subscription_type  \n",
       "0                 ultra  \n",
       "1                 ultra  \n",
       "2                 ultra  \n",
       "3                 ultra  \n",
       "4                 ultra  \n",
       "...                 ...  \n",
       "11326              free  \n",
       "11327              free  \n",
       "11328              free  \n",
       "11329              free  \n",
       "11330              free  \n",
       "\n",
       "[11331 rows x 6 columns]"
      ]
     },
     "execution_count": 31,
     "metadata": {},
     "output_type": "execute_result"
    }
   ],
   "source": [
    "u_d_s['duration'] = np.ceil(u_d_s['duration'])\n",
    "user_by_month = u_d_s.groupby(['user_id', 'month']).agg(\n",
    "    total_distance=('distance', 'sum'),\n",
    "    total_trips=('distance', 'count'),\n",
    "    total_duration=('duration', 'sum'),\n",
    ").reset_index()\n",
    "user_by_month = pd.merge(user_by_month, users[['user_id', 'subscription_type']], on='user_id')\n",
    "\n",
    "user_by_month"
   ]
  },
  {
   "cell_type": "markdown",
   "id": "944811e9",
   "metadata": {},
   "source": [
    "##### В этот же датафрейм добавьте столбец с помесячной выручкой, которую принёс каждый пользователь. Для этого обратитесь к информации об условиях оплаты для подписчиков и тех, у кого нет подписки. Продолжительность каждой поездки в каждой строке исходного датафрейма для подсчёта стоимости округляется до следующего целого числа: например, значения 25.3,25.5 и 26.0 должны быть преобразованы к 26."
   ]
  },
  {
   "cell_type": "code",
   "execution_count": 32,
   "id": "762975e6",
   "metadata": {},
   "outputs": [
    {
     "data": {
      "text/html": [
       "<div>\n",
       "<style scoped>\n",
       "    .dataframe tbody tr th:only-of-type {\n",
       "        vertical-align: middle;\n",
       "    }\n",
       "\n",
       "    .dataframe tbody tr th {\n",
       "        vertical-align: top;\n",
       "    }\n",
       "\n",
       "    .dataframe thead th {\n",
       "        text-align: right;\n",
       "    }\n",
       "</style>\n",
       "<table border=\"1\" class=\"dataframe\">\n",
       "  <thead>\n",
       "    <tr style=\"text-align: right;\">\n",
       "      <th></th>\n",
       "      <th>user_id</th>\n",
       "      <th>month</th>\n",
       "      <th>total_distance</th>\n",
       "      <th>total_trips</th>\n",
       "      <th>total_duration</th>\n",
       "      <th>subscription_type</th>\n",
       "      <th>trip_cost</th>\n",
       "    </tr>\n",
       "  </thead>\n",
       "  <tbody>\n",
       "    <tr>\n",
       "      <th>0</th>\n",
       "      <td>1</td>\n",
       "      <td>1</td>\n",
       "      <td>7027.511294</td>\n",
       "      <td>2</td>\n",
       "      <td>42.0</td>\n",
       "      <td>ultra</td>\n",
       "      <td>451.0</td>\n",
       "    </tr>\n",
       "    <tr>\n",
       "      <th>1</th>\n",
       "      <td>1</td>\n",
       "      <td>4</td>\n",
       "      <td>754.159807</td>\n",
       "      <td>1</td>\n",
       "      <td>7.0</td>\n",
       "      <td>ultra</td>\n",
       "      <td>241.0</td>\n",
       "    </tr>\n",
       "    <tr>\n",
       "      <th>2</th>\n",
       "      <td>1</td>\n",
       "      <td>8</td>\n",
       "      <td>6723.470560</td>\n",
       "      <td>2</td>\n",
       "      <td>46.0</td>\n",
       "      <td>ultra</td>\n",
       "      <td>475.0</td>\n",
       "    </tr>\n",
       "    <tr>\n",
       "      <th>3</th>\n",
       "      <td>1</td>\n",
       "      <td>10</td>\n",
       "      <td>5809.911100</td>\n",
       "      <td>2</td>\n",
       "      <td>32.0</td>\n",
       "      <td>ultra</td>\n",
       "      <td>391.0</td>\n",
       "    </tr>\n",
       "    <tr>\n",
       "      <th>4</th>\n",
       "      <td>1</td>\n",
       "      <td>11</td>\n",
       "      <td>7003.499363</td>\n",
       "      <td>3</td>\n",
       "      <td>56.0</td>\n",
       "      <td>ultra</td>\n",
       "      <td>535.0</td>\n",
       "    </tr>\n",
       "    <tr>\n",
       "      <th>...</th>\n",
       "      <td>...</td>\n",
       "      <td>...</td>\n",
       "      <td>...</td>\n",
       "      <td>...</td>\n",
       "      <td>...</td>\n",
       "      <td>...</td>\n",
       "      <td>...</td>\n",
       "    </tr>\n",
       "    <tr>\n",
       "      <th>11326</th>\n",
       "      <td>1534</td>\n",
       "      <td>6</td>\n",
       "      <td>3409.468534</td>\n",
       "      <td>2</td>\n",
       "      <td>26.0</td>\n",
       "      <td>free</td>\n",
       "      <td>308.0</td>\n",
       "    </tr>\n",
       "    <tr>\n",
       "      <th>11327</th>\n",
       "      <td>1534</td>\n",
       "      <td>8</td>\n",
       "      <td>7622.453034</td>\n",
       "      <td>2</td>\n",
       "      <td>48.0</td>\n",
       "      <td>free</td>\n",
       "      <td>484.0</td>\n",
       "    </tr>\n",
       "    <tr>\n",
       "      <th>11328</th>\n",
       "      <td>1534</td>\n",
       "      <td>9</td>\n",
       "      <td>4928.173852</td>\n",
       "      <td>1</td>\n",
       "      <td>23.0</td>\n",
       "      <td>free</td>\n",
       "      <td>234.0</td>\n",
       "    </tr>\n",
       "    <tr>\n",
       "      <th>11329</th>\n",
       "      <td>1534</td>\n",
       "      <td>11</td>\n",
       "      <td>13350.015305</td>\n",
       "      <td>4</td>\n",
       "      <td>78.0</td>\n",
       "      <td>free</td>\n",
       "      <td>824.0</td>\n",
       "    </tr>\n",
       "    <tr>\n",
       "      <th>11330</th>\n",
       "      <td>1534</td>\n",
       "      <td>12</td>\n",
       "      <td>2371.711192</td>\n",
       "      <td>1</td>\n",
       "      <td>16.0</td>\n",
       "      <td>free</td>\n",
       "      <td>178.0</td>\n",
       "    </tr>\n",
       "  </tbody>\n",
       "</table>\n",
       "<p>11331 rows × 7 columns</p>\n",
       "</div>"
      ],
      "text/plain": [
       "       user_id  month  total_distance  total_trips  total_duration  \\\n",
       "0            1      1     7027.511294            2            42.0   \n",
       "1            1      4      754.159807            1             7.0   \n",
       "2            1      8     6723.470560            2            46.0   \n",
       "3            1     10     5809.911100            2            32.0   \n",
       "4            1     11     7003.499363            3            56.0   \n",
       "...        ...    ...             ...          ...             ...   \n",
       "11326     1534      6     3409.468534            2            26.0   \n",
       "11327     1534      8     7622.453034            2            48.0   \n",
       "11328     1534      9     4928.173852            1            23.0   \n",
       "11329     1534     11    13350.015305            4            78.0   \n",
       "11330     1534     12     2371.711192            1            16.0   \n",
       "\n",
       "      subscription_type  trip_cost  \n",
       "0                 ultra      451.0  \n",
       "1                 ultra      241.0  \n",
       "2                 ultra      475.0  \n",
       "3                 ultra      391.0  \n",
       "4                 ultra      535.0  \n",
       "...                 ...        ...  \n",
       "11326              free      308.0  \n",
       "11327              free      484.0  \n",
       "11328              free      234.0  \n",
       "11329              free      824.0  \n",
       "11330              free      178.0  \n",
       "\n",
       "[11331 rows x 7 columns]"
      ]
     },
     "execution_count": 32,
     "metadata": {},
     "output_type": "execute_result"
    }
   ],
   "source": [
    "def calculate_trip_cost(row):\n",
    "    if row['subscription_type'] == 'free':\n",
    "        return (subs['start_ride_price'][0] * row['total_trips']) + (subs['minute_price'][0] * row['total_duration'])\n",
    "    else:\n",
    "        return (subs['minute_price'][1] * row['total_duration']) + subs['subscription_fee'][1]\n",
    "    \n",
    "user_by_month['trip_cost'] = user_by_month.apply(calculate_trip_cost, axis=1)\n",
    "\n",
    "user_by_month"
   ]
  },
  {
   "cell_type": "code",
   "execution_count": 33,
   "id": "a2c58e5c",
   "metadata": {},
   "outputs": [
    {
     "data": {
      "text/plain": [
       "subscription_type\n",
       "free     328.641365\n",
       "ultra    362.792191\n",
       "Name: trip_cost, dtype: float64"
      ]
     },
     "execution_count": 33,
     "metadata": {},
     "output_type": "execute_result"
    }
   ],
   "source": [
    "user_by_month.groupby('subscription_type')['trip_cost'].mean()"
   ]
  },
  {
   "cell_type": "markdown",
   "id": "e095b964",
   "metadata": {},
   "source": [
    "<div class=\"alert-success\" style=\"border-radius: 10px; padding: 20px\">\n",
    "<b>Комментарий ревьюера V2 ✔️</b>\n",
    "\n",
    "Теперь выручка рассчитана верно!"
   ]
  },
  {
   "cell_type": "markdown",
   "id": "41545ac0",
   "metadata": {},
   "source": [
    "#### Шаг 6. Проверка гипотез\n",
    "- Продакт-менеджеры сервиса хотят увеличить количество пользователей с подпиской. Для этого они будут проводить различные акции, но сначала нужно выяснить несколько важных моментов."
   ]
  },
  {
   "cell_type": "markdown",
   "id": "e7e5df94",
   "metadata": {},
   "source": [
    "##### Гипотеза "
   ]
  },
  {
   "cell_type": "markdown",
   "id": "e45b9a22",
   "metadata": {},
   "source": [
    "- Важно понять, тратят ли пользователи с подпиской больше времени на поездки? Если да, то пользователи с подпиской могут быть «выгоднее» для компании. Проверьте гипотезу. Используйте исходные данные о продолжительности каждой сессии — отдельно для подписчиков и тех, у кого нет подписки.\n"
   ]
  },
  {
   "cell_type": "markdown",
   "id": "6293425d",
   "metadata": {},
   "source": [
    "- Н0: Пользователи с подпиской тратят меньше или столько же,сколько пользователи без подписки.\n",
    "- Н1: Пользователи с подпиской тратят больше пользователей без подписки.."
   ]
  },
  {
   "cell_type": "code",
   "execution_count": 34,
   "id": "23ea867b",
   "metadata": {},
   "outputs": [
    {
     "name": "stdout",
     "output_type": "stream",
     "text": [
      "p-значение: 2.4959453720736625e-34\n",
      "Отвергаем нулевую гипотезу: Пользователи с подпиской тратят меньше или столько же\n"
     ]
    }
   ],
   "source": [
    "alpha = 0.05\n",
    "\n",
    "subs_dur = u_d_s[u_d_s['subscription_type'] == 'ultra']['duration']\n",
    "\n",
    "non_subs_dur = u_d_s[u_d_s['subscription_type'] == 'free']['duration']\n",
    "\n",
    "results = st.ttest_ind(subs_dur, non_subs_dur, alternative = 'greater')\n",
    "\n",
    "print('p-значение:', results.pvalue)\n",
    "\n",
    "if results.pvalue < alpha:\n",
    "    print('Отвергаем нулевую гипотезу: Пользователи с подпиской тратят меньше или столько же')\n",
    "else:\n",
    "    print('Не получилось отвергнуть нулевую гипотезу: Пользователи с подпиской тратят больше')"
   ]
  },
  {
   "cell_type": "markdown",
   "id": "6b4db29c",
   "metadata": {},
   "source": [
    "- Исходя из проведенного теста на сравнение средних значений продолжительности поездок между пользователями с подпиской и пользователями без подписки, было выявлено, что существует статистически значимое различие в продолжительности поездок между этими двуми группами. Пользователи с подпиской демонстрируют другой уровень продолжительности поездок по сравнению с пользователями без подписки."
   ]
  },
  {
   "cell_type": "markdown",
   "id": "c6602d6c",
   "metadata": {},
   "source": [
    "<div class=\"alert-success\" style=\"border-radius: 10px; padding: 20px\">\n",
    "<b>Комментарий ревьюера V2 ✔️</b>\n",
    "\n",
    "Гипотеза сформулирована и проверена правильно."
   ]
  },
  {
   "cell_type": "markdown",
   "id": "4d965fd5",
   "metadata": {},
   "source": [
    "##### Гипотеза"
   ]
  },
  {
   "cell_type": "markdown",
   "id": "434f57a7",
   "metadata": {},
   "source": [
    "- Расстояние одной поездки в 3130 метров — оптимальное с точки зрения износа самоката. Можно ли сказать, что среднее расстояние, которое проезжают пользователи с подпиской за одну поездку, не превышает 3130 метров? Проверьте гипотезу и сделайте выводы."
   ]
  },
  {
   "cell_type": "markdown",
   "id": "c0b6401e",
   "metadata": {},
   "source": [
    "- H0: Среднее расстояние, которое проезжают пользователи с подпиской за одну поездку, не превышает 3130 метров.\n",
    "- H1: Среднее расстояние, которое проезжают пользователи с подпиской за одну поездку, превышает 3130 метров."
   ]
  },
  {
   "cell_type": "code",
   "execution_count": 35,
   "id": "1b3ae8df",
   "metadata": {},
   "outputs": [
    {
     "name": "stdout",
     "output_type": "stream",
     "text": [
      "p-значение: 0.9195368847849785\n",
      "Не получилось отвергнуть нулевую гипотезу: Среднее расстояние, которое проезжают пользователи с подпиской за одну поездку, не превышает 3130 метров.\n"
     ]
    }
   ],
   "source": [
    "subs_dist = u_d_s[u_d_s['subscription_type'] == 'ultra']['distance']\n",
    "\n",
    "interested_value = 3130\n",
    "\n",
    "results =  st.ttest_1samp(subs_dist, 3130, alternative='greater')\n",
    "\n",
    "print('p-значение:', results.pvalue)\n",
    "\n",
    "if results.pvalue < alpha:\n",
    "    print('Отвергаем нулевую гипотезу: Среднее расстояние, которое проезжают пользователи с подпиской за одну поездку, превышает 3130 метров.')\n",
    "else:\n",
    "    print('Не получилось отвергнуть нулевую гипотезу: Среднее расстояние, которое проезжают пользователи с подпиской за одну поездку, не превышает 3130 метров.')\n"
   ]
  },
  {
   "cell_type": "markdown",
   "id": "68f78dfb",
   "metadata": {},
   "source": [
    "- Согласно проведенному анализу, нет возможности доказать что клиенты с платной подпиской проезжают больше 3130 метров."
   ]
  },
  {
   "cell_type": "markdown",
   "id": "440c7f73",
   "metadata": {},
   "source": [
    "##### Гипотеза"
   ]
  },
  {
   "cell_type": "markdown",
   "id": "17ee4d59",
   "metadata": {},
   "source": [
    "- Проверьте гипотезу о том, будет ли помесячная выручка от пользователей с подпиской по месяцам выше, чем выручка от пользователей без подписки. Сделайте вывод."
   ]
  },
  {
   "cell_type": "markdown",
   "id": "292ea8f1",
   "metadata": {},
   "source": [
    "- H0: Средняя помесячная выручка от пользователей с подпиской по месяцам не отличается от средней выручки от пользователей без подписки.\n",
    "- H1: Средняя помесячная выручка от пользователей с подпиской по месяцам выше, чем средняя выручка от пользователей без подписки."
   ]
  },
  {
   "cell_type": "code",
   "execution_count": 36,
   "id": "ebda5907",
   "metadata": {},
   "outputs": [
    {
     "name": "stdout",
     "output_type": "stream",
     "text": [
      "p-значение: 1.8850394384715216e-31\n",
      "Отвергаем нулевую гипотезу: Средняя помесячная выручка от пользователей с подпиской по месяцам выше, чем средняя выручка от пользователей без подписки.\n"
     ]
    }
   ],
   "source": [
    "subs_rev = user_by_month[user_by_month['subscription_type'] == 'ultra']['trip_cost']\n",
    "non_subs_rev = user_by_month[user_by_month['subscription_type'] == 'free']['trip_cost']\n",
    "\n",
    "results = st.ttest_ind(subs_rev, non_subs_rev, alternative='greater')\n",
    "\n",
    "print('p-значение:', results.pvalue)\n",
    "\n",
    "if results.pvalue < alpha:\n",
    "    print('Отвергаем нулевую гипотезу: Средняя помесячная выручка от пользователей с подпиской по месяцам выше, чем средняя выручка от пользователей без подписки.')\n",
    "else:\n",
    "    print('Не получилось отвергнуть нулевую гипотезу: Средняя помесячная выручка от пользователей с подпиской по месяцам не отличается от средней выручки от пользователей без подписки.')"
   ]
  },
  {
   "cell_type": "markdown",
   "id": "636c1042",
   "metadata": {},
   "source": [
    "- Согласно проведенному анализу, есть разница между выручкой с подпиской и без подписки. Клиенты имеющие подписку приносят больше помесячной выручки чем без подписки."
   ]
  },
  {
   "cell_type": "markdown",
   "id": "cb2f6752",
   "metadata": {},
   "source": [
    "<div class=\"alert-success\" style=\"border-radius: 10px; padding: 20px\">\n",
    "<b>Комментарий ревьюера V2 ✔️</b>\n",
    "\n",
    "Верно, есть основания утверждать, что подписчики в среднем приносят больше выручки в месяц."
   ]
  },
  {
   "cell_type": "markdown",
   "id": "0a279fff",
   "metadata": {},
   "source": [
    "- Представьте такую ситуацию: техническая команда сервиса обновила сервера, с которыми взаимодействует мобильное приложение. Она надеется, что из-за этого количество обращений в техподдержку значимо снизилось. Некоторый файл содержит для каждого пользователя данные о количестве обращений до обновления и после него. Какой тест вам понадобился бы для проверки этой гипотезы?"
   ]
  },
  {
   "cell_type": "markdown",
   "id": "78eccd19",
   "metadata": {},
   "source": [
    "Я думаю что при проверке данной гипотезы мы можем использовать парный t-тест(st.ttest_rel)),двусторонняя гипотеза, так как у нас есть данные до обновления и после."
   ]
  },
  {
   "cell_type": "markdown",
   "id": "2e57a584",
   "metadata": {},
   "source": [
    "#### Итоговый вывод по проведенному анализу данных:"
   ]
  },
  {
   "cell_type": "markdown",
   "id": "e0fcf623",
   "metadata": {},
   "source": [
    "- Согласно полученным данным, в среднем пользователи в возрасте от 22 до 28 лет.\n",
    "- Так же средняя дистанция поездки составляет 2200 - 4200 метров, а продолжительность поезки 10-25 минут.\n",
    "- Согласно статистичекому анализу, пользователи имеющую платную подписку показывают различие по продолжительности поездки по сравнению с пользователями с бесплатной подпиской. \n",
    "- Согласно статистическому анализу, расстояние поездок пользователей с подпиской за одну поездку, не показывает превышение оптимальных значений.\n",
    "- Согласно статистическому анализу, помесячная выручка с подпиской превышает помесячной выручки без подписки, в связи с этим, необходимо увеличить число подписок. Возможно, предложить бесплатные минуты поездкок, при первичной платной подписки. Так же можно предложить 'кэш-бэк' минут после 3 месячной подписки.\n",
    "- Согласно подсчету выручки, то клиенты с платной подпиской более выгоднее компании, так как они больше приносят выручки в среднем помесячно 363 р., а у пользователи с бесплатной подпиской в среднем 329 р."
   ]
  },
  {
   "cell_type": "markdown",
   "id": "61213c5e",
   "metadata": {},
   "source": [
    "#### Шаг 7. Распределения"
   ]
  },
  {
   "cell_type": "markdown",
   "id": "69396a30",
   "metadata": {},
   "source": [
    "<div style=\"border:solid steelblue 3px; padding: 20px; border-radius: 10px\">\n",
    "\n",
    "<h5><b>🏁 Общий комментарий ревьюера</b></h5>\n",
    "\n",
    "Ты хорошо поработал над проектом. Но нужно кое-что поправить, чтобы я его принял.\n",
    "\n",
    "Критические замечания я добавил в меню **Contents** слева.\n",
    "\n",
    "Также, постарайся отработать желтые комментарии.\n",
    "\n",
    "Буду ждать твой доработанный проект. ⌛️"
   ]
  },
  {
   "cell_type": "markdown",
   "id": "e6c90c35",
   "metadata": {},
   "source": [
    "<div style=\"border:solid steelblue 3px; padding: 20px; border-radius: 10px\">\n",
    "\n",
    "<h5><b>🏁 Общий комментарий ревьюера V2:</b></h5>\n",
    "\n",
    "Спасибо, что доработал проект! Критических замечаний больше нет, получилась очень хорошая работа.\n",
    "\n",
    "Успехов в дальнейшем обучении! 🏆\n",
    "\n",
    "</div>"
   ]
  },
  {
   "cell_type": "code",
   "execution_count": null,
   "id": "27586fa6",
   "metadata": {},
   "outputs": [],
   "source": []
  }
 ],
 "metadata": {
  "ExecuteTimeLog": [
   {
    "duration": 46,
    "start_time": "2023-10-26T07:28:55.336Z"
   },
   {
    "duration": 916,
    "start_time": "2023-10-26T07:29:01.150Z"
   },
   {
    "duration": 297,
    "start_time": "2023-10-26T07:29:02.068Z"
   },
   {
    "duration": 55,
    "start_time": "2023-10-26T07:29:35.478Z"
   },
   {
    "duration": 11,
    "start_time": "2023-10-26T07:29:39.102Z"
   },
   {
    "duration": 14,
    "start_time": "2023-10-26T07:30:11.046Z"
   },
   {
    "duration": 9,
    "start_time": "2023-10-26T07:30:24.906Z"
   },
   {
    "duration": 7,
    "start_time": "2023-10-26T07:30:36.878Z"
   },
   {
    "duration": 12,
    "start_time": "2023-10-26T07:31:51.904Z"
   },
   {
    "duration": 13,
    "start_time": "2023-10-26T07:32:21.440Z"
   },
   {
    "duration": 13,
    "start_time": "2023-10-26T07:32:48.186Z"
   },
   {
    "duration": 145,
    "start_time": "2023-10-26T07:33:05.000Z"
   },
   {
    "duration": 14,
    "start_time": "2023-10-26T07:33:12.400Z"
   },
   {
    "duration": 17,
    "start_time": "2023-10-26T07:33:32.213Z"
   },
   {
    "duration": 14,
    "start_time": "2023-10-26T07:33:43.257Z"
   },
   {
    "duration": 7,
    "start_time": "2023-10-26T07:36:11.615Z"
   },
   {
    "duration": 8,
    "start_time": "2023-10-26T07:36:40.678Z"
   },
   {
    "duration": 5,
    "start_time": "2023-10-26T07:36:57.112Z"
   },
   {
    "duration": 6,
    "start_time": "2023-10-26T07:38:40.012Z"
   },
   {
    "duration": 9,
    "start_time": "2023-10-26T07:39:01.679Z"
   },
   {
    "duration": 5,
    "start_time": "2023-10-26T07:39:17.745Z"
   },
   {
    "duration": 10,
    "start_time": "2023-10-26T07:40:47.532Z"
   },
   {
    "duration": 15,
    "start_time": "2023-10-26T07:45:11.007Z"
   },
   {
    "duration": 5,
    "start_time": "2023-10-26T07:45:32.339Z"
   },
   {
    "duration": 7,
    "start_time": "2023-10-26T07:45:48.615Z"
   },
   {
    "duration": 13,
    "start_time": "2023-10-26T07:55:37.445Z"
   },
   {
    "duration": 10,
    "start_time": "2023-10-26T07:56:24.709Z"
   },
   {
    "duration": 718,
    "start_time": "2023-10-26T08:03:32.609Z"
   },
   {
    "duration": 249,
    "start_time": "2023-10-26T08:05:04.117Z"
   },
   {
    "duration": 15,
    "start_time": "2023-10-26T08:05:06.244Z"
   },
   {
    "duration": 5,
    "start_time": "2023-10-26T08:05:06.956Z"
   },
   {
    "duration": 170,
    "start_time": "2023-10-26T08:05:07.586Z"
   },
   {
    "duration": 200,
    "start_time": "2023-10-26T08:05:48.923Z"
   },
   {
    "duration": 242,
    "start_time": "2023-10-26T08:05:59.165Z"
   },
   {
    "duration": 343,
    "start_time": "2023-10-26T08:06:04.782Z"
   },
   {
    "duration": 11,
    "start_time": "2023-10-26T08:07:11.016Z"
   },
   {
    "duration": 4,
    "start_time": "2023-10-26T08:24:45.046Z"
   },
   {
    "duration": 105,
    "start_time": "2023-10-26T08:24:45.051Z"
   },
   {
    "duration": 16,
    "start_time": "2023-10-26T08:24:45.158Z"
   },
   {
    "duration": 24,
    "start_time": "2023-10-26T08:24:45.176Z"
   },
   {
    "duration": 12,
    "start_time": "2023-10-26T08:24:45.203Z"
   },
   {
    "duration": 13,
    "start_time": "2023-10-26T08:24:45.217Z"
   },
   {
    "duration": 39,
    "start_time": "2023-10-26T08:24:45.231Z"
   },
   {
    "duration": 11,
    "start_time": "2023-10-26T08:24:45.272Z"
   },
   {
    "duration": 14,
    "start_time": "2023-10-26T08:24:45.284Z"
   },
   {
    "duration": 34,
    "start_time": "2023-10-26T08:24:45.300Z"
   },
   {
    "duration": 7,
    "start_time": "2023-10-26T08:24:45.336Z"
   },
   {
    "duration": 16,
    "start_time": "2023-10-26T08:24:45.345Z"
   },
   {
    "duration": 16,
    "start_time": "2023-10-26T08:24:45.363Z"
   },
   {
    "duration": 18,
    "start_time": "2023-10-26T08:24:45.382Z"
   },
   {
    "duration": 296,
    "start_time": "2023-10-26T08:24:45.402Z"
   },
   {
    "duration": 9,
    "start_time": "2023-10-26T08:26:49.577Z"
   },
   {
    "duration": 8,
    "start_time": "2023-10-26T08:26:54.756Z"
   },
   {
    "duration": 9,
    "start_time": "2023-10-26T08:27:02.618Z"
   },
   {
    "duration": 156,
    "start_time": "2023-10-26T08:28:14.626Z"
   },
   {
    "duration": 172,
    "start_time": "2023-10-26T08:28:21.883Z"
   },
   {
    "duration": 11,
    "start_time": "2023-10-26T08:29:10.402Z"
   },
   {
    "duration": 11,
    "start_time": "2023-10-26T08:29:17.904Z"
   },
   {
    "duration": 178,
    "start_time": "2023-10-26T08:29:33.073Z"
   },
   {
    "duration": 15,
    "start_time": "2023-10-26T08:29:52.471Z"
   },
   {
    "duration": 165,
    "start_time": "2023-10-26T08:30:13.474Z"
   },
   {
    "duration": 136,
    "start_time": "2023-10-26T08:30:28.187Z"
   },
   {
    "duration": 145,
    "start_time": "2023-10-26T08:30:41.530Z"
   },
   {
    "duration": 8,
    "start_time": "2023-10-26T08:31:05.163Z"
   },
   {
    "duration": 164,
    "start_time": "2023-10-26T08:31:12.273Z"
   },
   {
    "duration": 245,
    "start_time": "2023-10-26T08:32:14.836Z"
   },
   {
    "duration": 155,
    "start_time": "2023-10-26T08:32:43.270Z"
   },
   {
    "duration": 182,
    "start_time": "2023-10-26T08:33:03.275Z"
   },
   {
    "duration": 12,
    "start_time": "2023-10-26T08:33:58.989Z"
   },
   {
    "duration": 9,
    "start_time": "2023-10-26T08:34:05.678Z"
   },
   {
    "duration": 13,
    "start_time": "2023-10-26T08:34:17.344Z"
   },
   {
    "duration": 15,
    "start_time": "2023-10-26T08:34:50.288Z"
   },
   {
    "duration": 16,
    "start_time": "2023-10-26T08:35:09.605Z"
   },
   {
    "duration": 16,
    "start_time": "2023-10-26T08:35:56.446Z"
   },
   {
    "duration": 17,
    "start_time": "2023-10-26T08:35:59.605Z"
   },
   {
    "duration": 13,
    "start_time": "2023-10-26T08:36:09.470Z"
   },
   {
    "duration": 14,
    "start_time": "2023-10-26T08:36:19.911Z"
   },
   {
    "duration": 180,
    "start_time": "2023-10-26T08:39:35.830Z"
   },
   {
    "duration": 18,
    "start_time": "2023-10-26T08:40:20.383Z"
   },
   {
    "duration": 2371,
    "start_time": "2023-10-26T08:44:53.673Z"
   },
   {
    "duration": 20,
    "start_time": "2023-10-26T08:45:33.739Z"
   },
   {
    "duration": 13,
    "start_time": "2023-10-26T08:45:43.231Z"
   },
   {
    "duration": 10,
    "start_time": "2023-10-26T08:45:47.166Z"
   },
   {
    "duration": 203,
    "start_time": "2023-10-26T08:46:36.862Z"
   },
   {
    "duration": 145,
    "start_time": "2023-10-26T08:47:40.983Z"
   },
   {
    "duration": 150,
    "start_time": "2023-10-26T08:48:17.947Z"
   },
   {
    "duration": 211,
    "start_time": "2023-10-26T08:54:14.690Z"
   },
   {
    "duration": 249,
    "start_time": "2023-10-26T08:55:01.385Z"
   },
   {
    "duration": 144,
    "start_time": "2023-10-26T08:55:49.543Z"
   },
   {
    "duration": 166,
    "start_time": "2023-10-26T08:55:56.070Z"
   },
   {
    "duration": 205,
    "start_time": "2023-10-26T08:56:06.432Z"
   },
   {
    "duration": 137,
    "start_time": "2023-10-26T08:59:56.175Z"
   },
   {
    "duration": 192,
    "start_time": "2023-10-26T09:00:40.174Z"
   },
   {
    "duration": 120,
    "start_time": "2023-10-26T09:01:15.874Z"
   },
   {
    "duration": 141,
    "start_time": "2023-10-26T09:01:21.674Z"
   },
   {
    "duration": 129,
    "start_time": "2023-10-26T09:01:32.307Z"
   },
   {
    "duration": 124,
    "start_time": "2023-10-26T09:01:38.283Z"
   },
   {
    "duration": 193,
    "start_time": "2023-10-26T09:02:16.698Z"
   },
   {
    "duration": 165,
    "start_time": "2023-10-26T09:06:56.370Z"
   },
   {
    "duration": 144,
    "start_time": "2023-10-26T09:07:10.875Z"
   },
   {
    "duration": 192,
    "start_time": "2023-10-26T09:10:57.656Z"
   },
   {
    "duration": 18,
    "start_time": "2023-10-26T09:15:41.079Z"
   },
   {
    "duration": 4,
    "start_time": "2023-10-26T09:17:25.977Z"
   },
   {
    "duration": 6,
    "start_time": "2023-10-26T09:17:31.270Z"
   },
   {
    "duration": 384,
    "start_time": "2023-10-26T09:18:04.119Z"
   },
   {
    "duration": 10,
    "start_time": "2023-10-26T09:20:09.291Z"
   },
   {
    "duration": 162,
    "start_time": "2023-10-26T09:23:32.306Z"
   },
   {
    "duration": 631,
    "start_time": "2023-10-26T09:24:11.202Z"
   },
   {
    "duration": 143,
    "start_time": "2023-10-26T09:24:25.471Z"
   },
   {
    "duration": 128,
    "start_time": "2023-10-26T09:26:49.611Z"
   },
   {
    "duration": 16,
    "start_time": "2023-10-26T09:28:42.164Z"
   },
   {
    "duration": 219,
    "start_time": "2023-10-26T09:30:34.670Z"
   },
   {
    "duration": 276,
    "start_time": "2023-10-26T09:30:55.078Z"
   },
   {
    "duration": 296,
    "start_time": "2023-10-26T09:31:11.197Z"
   },
   {
    "duration": 317,
    "start_time": "2023-10-26T09:31:29.551Z"
   },
   {
    "duration": 332,
    "start_time": "2023-10-26T09:32:16.182Z"
   },
   {
    "duration": 4,
    "start_time": "2023-10-26T09:38:22.570Z"
   },
   {
    "duration": 107,
    "start_time": "2023-10-26T09:38:22.576Z"
   },
   {
    "duration": 18,
    "start_time": "2023-10-26T09:38:22.686Z"
   },
   {
    "duration": 22,
    "start_time": "2023-10-26T09:38:22.706Z"
   },
   {
    "duration": 16,
    "start_time": "2023-10-26T09:38:22.730Z"
   },
   {
    "duration": 30,
    "start_time": "2023-10-26T09:38:22.747Z"
   },
   {
    "duration": 14,
    "start_time": "2023-10-26T09:38:22.779Z"
   },
   {
    "duration": 8,
    "start_time": "2023-10-26T09:38:22.794Z"
   },
   {
    "duration": 24,
    "start_time": "2023-10-26T09:38:22.803Z"
   },
   {
    "duration": 7,
    "start_time": "2023-10-26T09:38:22.829Z"
   },
   {
    "duration": 5,
    "start_time": "2023-10-26T09:38:22.838Z"
   },
   {
    "duration": 23,
    "start_time": "2023-10-26T09:38:22.853Z"
   },
   {
    "duration": 14,
    "start_time": "2023-10-26T09:38:22.878Z"
   },
   {
    "duration": 22,
    "start_time": "2023-10-26T09:38:22.893Z"
   },
   {
    "duration": 340,
    "start_time": "2023-10-26T09:38:22.916Z"
   },
   {
    "duration": 18,
    "start_time": "2023-10-26T09:38:23.261Z"
   },
   {
    "duration": 309,
    "start_time": "2023-10-26T09:38:23.280Z"
   },
   {
    "duration": 15,
    "start_time": "2023-10-26T09:38:23.590Z"
   },
   {
    "duration": 165,
    "start_time": "2023-10-26T09:38:23.607Z"
   },
   {
    "duration": 15,
    "start_time": "2023-10-26T09:38:23.774Z"
   },
   {
    "duration": 349,
    "start_time": "2023-10-26T09:38:23.790Z"
   },
   {
    "duration": 36,
    "start_time": "2023-10-26T09:38:24.149Z"
   },
   {
    "duration": 199,
    "start_time": "2023-10-26T09:39:13.600Z"
   },
   {
    "duration": 222,
    "start_time": "2023-10-26T09:40:04.673Z"
   },
   {
    "duration": 199,
    "start_time": "2023-10-26T09:40:46.686Z"
   },
   {
    "duration": 159,
    "start_time": "2023-10-26T09:41:59.636Z"
   },
   {
    "duration": 210,
    "start_time": "2023-10-26T09:42:33.516Z"
   },
   {
    "duration": 130,
    "start_time": "2023-10-26T09:43:52.194Z"
   },
   {
    "duration": 384,
    "start_time": "2023-10-26T09:43:56.212Z"
   },
   {
    "duration": 498,
    "start_time": "2023-10-26T09:44:08.766Z"
   },
   {
    "duration": 12,
    "start_time": "2023-10-26T09:45:03.523Z"
   },
   {
    "duration": 160,
    "start_time": "2023-10-26T09:45:14.461Z"
   },
   {
    "duration": 156,
    "start_time": "2023-10-26T09:45:19.221Z"
   },
   {
    "duration": 236,
    "start_time": "2023-10-26T09:45:35.370Z"
   },
   {
    "duration": 213,
    "start_time": "2023-10-26T09:46:23.570Z"
   },
   {
    "duration": 24490,
    "start_time": "2023-10-26T09:46:46.909Z"
   },
   {
    "duration": 214,
    "start_time": "2023-10-26T09:47:27.934Z"
   },
   {
    "duration": 2559,
    "start_time": "2023-10-26T09:49:10.613Z"
   },
   {
    "duration": 247,
    "start_time": "2023-10-26T09:49:38.347Z"
   },
   {
    "duration": 203,
    "start_time": "2023-10-26T09:49:52.420Z"
   },
   {
    "duration": 206,
    "start_time": "2023-10-26T09:50:22.874Z"
   },
   {
    "duration": 218,
    "start_time": "2023-10-26T09:50:40.315Z"
   },
   {
    "duration": 15,
    "start_time": "2023-10-26T09:52:46.967Z"
   },
   {
    "duration": 170,
    "start_time": "2023-10-26T09:52:54.808Z"
   },
   {
    "duration": 156,
    "start_time": "2023-10-26T09:59:05.653Z"
   },
   {
    "duration": 212,
    "start_time": "2023-10-26T09:59:11.965Z"
   },
   {
    "duration": 1615,
    "start_time": "2023-10-26T13:21:17.682Z"
   },
   {
    "duration": 331,
    "start_time": "2023-10-26T13:21:19.300Z"
   },
   {
    "duration": 43,
    "start_time": "2023-10-26T13:21:19.632Z"
   },
   {
    "duration": 35,
    "start_time": "2023-10-26T13:21:19.677Z"
   },
   {
    "duration": 15,
    "start_time": "2023-10-26T13:21:19.714Z"
   },
   {
    "duration": 27,
    "start_time": "2023-10-26T13:21:19.731Z"
   },
   {
    "duration": 42,
    "start_time": "2023-10-26T13:21:19.760Z"
   },
   {
    "duration": 40,
    "start_time": "2023-10-26T13:21:19.804Z"
   },
   {
    "duration": 30,
    "start_time": "2023-10-26T13:21:19.847Z"
   },
   {
    "duration": 30,
    "start_time": "2023-10-26T13:21:19.880Z"
   },
   {
    "duration": 20,
    "start_time": "2023-10-26T13:21:19.913Z"
   },
   {
    "duration": 47,
    "start_time": "2023-10-26T13:21:19.935Z"
   },
   {
    "duration": 21,
    "start_time": "2023-10-26T13:21:19.984Z"
   },
   {
    "duration": 62,
    "start_time": "2023-10-26T13:21:20.007Z"
   },
   {
    "duration": 497,
    "start_time": "2023-10-26T13:21:20.071Z"
   },
   {
    "duration": 15,
    "start_time": "2023-10-26T13:21:20.570Z"
   },
   {
    "duration": 216,
    "start_time": "2023-10-26T13:21:20.586Z"
   },
   {
    "duration": 15,
    "start_time": "2023-10-26T13:21:20.804Z"
   },
   {
    "duration": 165,
    "start_time": "2023-10-26T13:21:20.821Z"
   },
   {
    "duration": 12,
    "start_time": "2023-10-26T13:21:20.988Z"
   },
   {
    "duration": 366,
    "start_time": "2023-10-26T13:21:21.002Z"
   },
   {
    "duration": 16,
    "start_time": "2023-10-26T13:21:21.370Z"
   },
   {
    "duration": 259,
    "start_time": "2023-10-26T13:21:21.388Z"
   },
   {
    "duration": 271,
    "start_time": "2023-10-26T13:21:44.997Z"
   },
   {
    "duration": 122,
    "start_time": "2023-10-26T13:24:45.270Z"
   },
   {
    "duration": 323,
    "start_time": "2023-10-26T13:26:13.306Z"
   },
   {
    "duration": 12,
    "start_time": "2023-10-26T13:28:09.651Z"
   },
   {
    "duration": 14,
    "start_time": "2023-10-26T13:28:25.544Z"
   },
   {
    "duration": 104,
    "start_time": "2023-10-26T13:28:51.733Z"
   },
   {
    "duration": 329,
    "start_time": "2023-10-26T13:28:55.022Z"
   },
   {
    "duration": 606,
    "start_time": "2023-10-26T13:30:44.869Z"
   },
   {
    "duration": 280,
    "start_time": "2023-10-26T13:30:47.937Z"
   },
   {
    "duration": 218,
    "start_time": "2023-10-26T13:31:09.406Z"
   },
   {
    "duration": 4395,
    "start_time": "2023-10-26T13:31:43.257Z"
   },
   {
    "duration": 295,
    "start_time": "2023-10-26T13:32:01.420Z"
   },
   {
    "duration": 23,
    "start_time": "2023-10-26T13:33:37.385Z"
   },
   {
    "duration": 17,
    "start_time": "2023-10-26T13:33:47.917Z"
   },
   {
    "duration": 243,
    "start_time": "2023-10-26T13:34:10.930Z"
   },
   {
    "duration": 267,
    "start_time": "2023-10-26T13:35:47.146Z"
   },
   {
    "duration": 247,
    "start_time": "2023-10-26T13:35:52.582Z"
   },
   {
    "duration": 167,
    "start_time": "2023-10-26T13:38:22.326Z"
   },
   {
    "duration": 740,
    "start_time": "2023-10-26T13:39:04.730Z"
   },
   {
    "duration": 136,
    "start_time": "2023-10-26T13:40:14.427Z"
   },
   {
    "duration": 351,
    "start_time": "2023-10-26T13:40:20.920Z"
   },
   {
    "duration": 307,
    "start_time": "2023-10-26T13:40:40.453Z"
   },
   {
    "duration": 722,
    "start_time": "2023-10-26T13:40:58.786Z"
   },
   {
    "duration": 625,
    "start_time": "2023-10-26T13:41:07.430Z"
   },
   {
    "duration": 684,
    "start_time": "2023-10-26T13:41:31.616Z"
   },
   {
    "duration": 3,
    "start_time": "2023-10-26T13:43:07.950Z"
   },
   {
    "duration": 40,
    "start_time": "2023-10-26T13:44:59.182Z"
   },
   {
    "duration": 7939,
    "start_time": "2023-10-26T13:45:33.119Z"
   },
   {
    "duration": 409,
    "start_time": "2023-10-26T13:45:53.335Z"
   },
   {
    "duration": 83,
    "start_time": "2023-10-26T13:53:46.407Z"
   },
   {
    "duration": 16,
    "start_time": "2023-10-26T13:55:27.017Z"
   },
   {
    "duration": 36,
    "start_time": "2023-10-26T13:55:36.184Z"
   },
   {
    "duration": 34,
    "start_time": "2023-10-26T13:56:47.202Z"
   },
   {
    "duration": 611,
    "start_time": "2023-10-26T13:58:50.693Z"
   },
   {
    "duration": 877,
    "start_time": "2023-10-26T14:01:22.643Z"
   },
   {
    "duration": 59,
    "start_time": "2023-10-26T14:07:31.700Z"
   },
   {
    "duration": 541,
    "start_time": "2023-10-26T14:08:47.757Z"
   },
   {
    "duration": 560,
    "start_time": "2023-10-26T14:17:06.242Z"
   },
   {
    "duration": 20,
    "start_time": "2023-10-26T14:37:36.587Z"
   },
   {
    "duration": 4,
    "start_time": "2023-10-26T14:53:58.568Z"
   },
   {
    "duration": 86,
    "start_time": "2023-10-26T14:53:58.576Z"
   },
   {
    "duration": 29,
    "start_time": "2023-10-26T14:53:58.665Z"
   },
   {
    "duration": 16,
    "start_time": "2023-10-26T14:53:58.696Z"
   },
   {
    "duration": 25,
    "start_time": "2023-10-26T14:53:58.714Z"
   },
   {
    "duration": 30,
    "start_time": "2023-10-26T14:53:58.740Z"
   },
   {
    "duration": 99,
    "start_time": "2023-10-26T14:53:58.773Z"
   },
   {
    "duration": 54,
    "start_time": "2023-10-26T14:53:58.874Z"
   },
   {
    "duration": 57,
    "start_time": "2023-10-26T14:53:58.932Z"
   },
   {
    "duration": 13,
    "start_time": "2023-10-26T14:53:58.992Z"
   },
   {
    "duration": 13,
    "start_time": "2023-10-26T14:53:59.007Z"
   },
   {
    "duration": 54,
    "start_time": "2023-10-26T14:53:59.022Z"
   },
   {
    "duration": 9,
    "start_time": "2023-10-26T14:53:59.090Z"
   },
   {
    "duration": 32,
    "start_time": "2023-10-26T14:53:59.101Z"
   },
   {
    "duration": 433,
    "start_time": "2023-10-26T14:53:59.135Z"
   },
   {
    "duration": 20,
    "start_time": "2023-10-26T14:53:59.570Z"
   },
   {
    "duration": 236,
    "start_time": "2023-10-26T14:53:59.592Z"
   },
   {
    "duration": 30,
    "start_time": "2023-10-26T14:53:59.830Z"
   },
   {
    "duration": 184,
    "start_time": "2023-10-26T14:53:59.864Z"
   },
   {
    "duration": 33,
    "start_time": "2023-10-26T14:54:00.050Z"
   },
   {
    "duration": 408,
    "start_time": "2023-10-26T14:54:00.086Z"
   },
   {
    "duration": 33,
    "start_time": "2023-10-26T14:54:00.496Z"
   },
   {
    "duration": 402,
    "start_time": "2023-10-26T14:54:00.532Z"
   },
   {
    "duration": 44,
    "start_time": "2023-10-26T14:54:00.937Z"
   },
   {
    "duration": 435,
    "start_time": "2023-10-26T14:54:00.983Z"
   },
   {
    "duration": 52,
    "start_time": "2023-10-26T14:54:01.420Z"
   },
   {
    "duration": 32,
    "start_time": "2023-10-26T14:54:01.474Z"
   },
   {
    "duration": 49,
    "start_time": "2023-10-26T14:54:01.508Z"
   },
   {
    "duration": 656,
    "start_time": "2023-10-26T14:54:01.576Z"
   },
   {
    "duration": 442,
    "start_time": "2023-10-26T14:54:02.234Z"
   },
   {
    "duration": 41,
    "start_time": "2023-10-26T14:54:02.686Z"
   },
   {
    "duration": 397,
    "start_time": "2023-10-26T14:54:02.729Z"
   },
   {
    "duration": 24,
    "start_time": "2023-10-26T14:54:03.128Z"
   },
   {
    "duration": 6,
    "start_time": "2023-10-26T14:59:41.560Z"
   },
   {
    "duration": 13,
    "start_time": "2023-10-26T15:04:28.986Z"
   },
   {
    "duration": 16,
    "start_time": "2023-10-26T15:17:11.808Z"
   },
   {
    "duration": 15,
    "start_time": "2023-10-26T15:34:35.495Z"
   },
   {
    "duration": 398,
    "start_time": "2023-10-26T15:36:41.870Z"
   },
   {
    "duration": 12,
    "start_time": "2023-10-26T15:36:45.710Z"
   },
   {
    "duration": 351,
    "start_time": "2023-10-26T15:36:45.897Z"
   },
   {
    "duration": 228,
    "start_time": "2023-10-26T16:12:21.367Z"
   },
   {
    "duration": 360,
    "start_time": "2023-10-26T16:13:51.465Z"
   },
   {
    "duration": 357,
    "start_time": "2023-10-26T16:14:52.171Z"
   },
   {
    "duration": 622,
    "start_time": "2023-10-26T16:15:38.842Z"
   },
   {
    "duration": 351,
    "start_time": "2023-10-26T16:15:51.973Z"
   },
   {
    "duration": 383,
    "start_time": "2023-10-26T16:16:57.943Z"
   },
   {
    "duration": 385,
    "start_time": "2023-10-26T16:17:58.008Z"
   },
   {
    "duration": 1390,
    "start_time": "2023-10-27T06:34:35.153Z"
   },
   {
    "duration": 203,
    "start_time": "2023-10-27T06:34:36.547Z"
   },
   {
    "duration": 25,
    "start_time": "2023-10-27T06:34:36.751Z"
   },
   {
    "duration": 24,
    "start_time": "2023-10-27T06:34:36.778Z"
   },
   {
    "duration": 43,
    "start_time": "2023-10-27T06:34:36.804Z"
   },
   {
    "duration": 9,
    "start_time": "2023-10-27T06:34:36.848Z"
   },
   {
    "duration": 19,
    "start_time": "2023-10-27T06:34:36.859Z"
   },
   {
    "duration": 422,
    "start_time": "2023-10-27T06:34:36.880Z"
   },
   {
    "duration": 7,
    "start_time": "2023-10-27T06:34:37.304Z"
   },
   {
    "duration": 14,
    "start_time": "2023-10-27T06:34:37.312Z"
   },
   {
    "duration": 21,
    "start_time": "2023-10-27T06:34:37.328Z"
   },
   {
    "duration": 6,
    "start_time": "2023-10-27T06:34:37.351Z"
   },
   {
    "duration": 48,
    "start_time": "2023-10-27T06:34:37.359Z"
   },
   {
    "duration": 5,
    "start_time": "2023-10-27T06:34:37.410Z"
   },
   {
    "duration": 24,
    "start_time": "2023-10-27T06:34:37.416Z"
   },
   {
    "duration": 15,
    "start_time": "2023-10-27T06:34:37.442Z"
   },
   {
    "duration": 202,
    "start_time": "2023-10-27T06:34:37.459Z"
   },
   {
    "duration": 15,
    "start_time": "2023-10-27T06:34:37.663Z"
   },
   {
    "duration": 170,
    "start_time": "2023-10-27T06:34:37.679Z"
   },
   {
    "duration": 13,
    "start_time": "2023-10-27T06:34:37.851Z"
   },
   {
    "duration": 339,
    "start_time": "2023-10-27T06:34:37.865Z"
   },
   {
    "duration": 16,
    "start_time": "2023-10-27T06:34:38.206Z"
   },
   {
    "duration": 348,
    "start_time": "2023-10-27T06:34:38.224Z"
   },
   {
    "duration": 14,
    "start_time": "2023-10-27T06:34:38.574Z"
   },
   {
    "duration": 459,
    "start_time": "2023-10-27T06:34:38.590Z"
   },
   {
    "duration": 44,
    "start_time": "2023-10-27T06:34:39.052Z"
   },
   {
    "duration": 24,
    "start_time": "2023-10-27T06:34:39.098Z"
   },
   {
    "duration": 46,
    "start_time": "2023-10-27T06:34:39.124Z"
   },
   {
    "duration": 369,
    "start_time": "2023-10-27T06:34:39.172Z"
   },
   {
    "duration": 369,
    "start_time": "2023-10-27T06:34:39.543Z"
   },
   {
    "duration": 45,
    "start_time": "2023-10-27T06:34:39.914Z"
   },
   {
    "duration": 324,
    "start_time": "2023-10-27T06:34:39.961Z"
   },
   {
    "duration": 12,
    "start_time": "2023-10-27T06:34:40.286Z"
   },
   {
    "duration": 16,
    "start_time": "2023-10-27T06:34:40.299Z"
   },
   {
    "duration": 30,
    "start_time": "2023-10-27T06:34:40.317Z"
   },
   {
    "duration": 72,
    "start_time": "2023-10-27T06:40:13.299Z"
   },
   {
    "duration": 201,
    "start_time": "2023-10-27T06:49:17.863Z"
   },
   {
    "duration": 8,
    "start_time": "2023-10-27T06:50:10.186Z"
   },
   {
    "duration": 696,
    "start_time": "2023-10-27T07:03:29.686Z"
   },
   {
    "duration": 50,
    "start_time": "2023-10-27T07:03:33.990Z"
   },
   {
    "duration": 1499,
    "start_time": "2023-10-27T07:11:31.470Z"
   },
   {
    "duration": 253,
    "start_time": "2023-10-27T07:11:32.982Z"
   },
   {
    "duration": 39,
    "start_time": "2023-10-27T07:11:34.741Z"
   },
   {
    "duration": 19,
    "start_time": "2023-10-27T07:11:36.290Z"
   },
   {
    "duration": 17,
    "start_time": "2023-10-27T07:11:37.667Z"
   },
   {
    "duration": 93,
    "start_time": "2023-10-27T07:16:38.229Z"
   },
   {
    "duration": 5880,
    "start_time": "2023-10-27T07:16:53.075Z"
   },
   {
    "duration": 31,
    "start_time": "2023-10-27T07:17:06.335Z"
   },
   {
    "duration": 6244,
    "start_time": "2023-10-27T07:17:39.640Z"
   },
   {
    "duration": 5874,
    "start_time": "2023-10-27T07:17:56.923Z"
   },
   {
    "duration": 6026,
    "start_time": "2023-10-27T07:18:14.385Z"
   },
   {
    "duration": 27,
    "start_time": "2023-10-27T07:18:55.146Z"
   },
   {
    "duration": 6142,
    "start_time": "2023-10-27T07:18:55.341Z"
   },
   {
    "duration": 3,
    "start_time": "2023-10-27T07:19:04.997Z"
   },
   {
    "duration": 81,
    "start_time": "2023-10-27T07:19:05.787Z"
   },
   {
    "duration": 32,
    "start_time": "2023-10-27T07:19:06.151Z"
   },
   {
    "duration": 20,
    "start_time": "2023-10-27T07:19:06.518Z"
   },
   {
    "duration": 17,
    "start_time": "2023-10-27T07:19:06.796Z"
   },
   {
    "duration": 9,
    "start_time": "2023-10-27T07:19:08.921Z"
   },
   {
    "duration": 14,
    "start_time": "2023-10-27T07:19:09.780Z"
   },
   {
    "duration": 446,
    "start_time": "2023-10-27T07:19:10.694Z"
   },
   {
    "duration": 348,
    "start_time": "2023-10-27T07:20:53.172Z"
   },
   {
    "duration": 7,
    "start_time": "2023-10-27T07:21:47.275Z"
   },
   {
    "duration": 7,
    "start_time": "2023-10-27T07:21:47.432Z"
   },
   {
    "duration": 7,
    "start_time": "2023-10-27T07:21:47.576Z"
   },
   {
    "duration": 10,
    "start_time": "2023-10-27T07:21:49.154Z"
   },
   {
    "duration": 12,
    "start_time": "2023-10-27T07:21:49.671Z"
   },
   {
    "duration": 7,
    "start_time": "2023-10-27T07:21:50.065Z"
   },
   {
    "duration": 19,
    "start_time": "2023-10-27T07:21:50.942Z"
   },
   {
    "duration": 20,
    "start_time": "2023-10-27T07:21:53.383Z"
   },
   {
    "duration": 247,
    "start_time": "2023-10-27T07:21:54.531Z"
   },
   {
    "duration": 398,
    "start_time": "2023-10-27T07:23:35.136Z"
   },
   {
    "duration": 230,
    "start_time": "2023-10-27T07:24:20.994Z"
   },
   {
    "duration": 216,
    "start_time": "2023-10-27T07:24:57.697Z"
   },
   {
    "duration": 230,
    "start_time": "2023-10-27T07:25:07.925Z"
   },
   {
    "duration": 229,
    "start_time": "2023-10-27T07:25:54.780Z"
   },
   {
    "duration": 224,
    "start_time": "2023-10-27T07:26:26.483Z"
   },
   {
    "duration": 238,
    "start_time": "2023-10-27T07:27:13.984Z"
   },
   {
    "duration": 237,
    "start_time": "2023-10-27T07:29:25.536Z"
   },
   {
    "duration": 285,
    "start_time": "2023-10-27T07:32:08.987Z"
   },
   {
    "duration": 231,
    "start_time": "2023-10-27T07:32:47.499Z"
   },
   {
    "duration": 18,
    "start_time": "2023-10-27T07:33:20.183Z"
   },
   {
    "duration": 179,
    "start_time": "2023-10-27T07:33:21.004Z"
   },
   {
    "duration": 176,
    "start_time": "2023-10-27T07:34:12.199Z"
   },
   {
    "duration": 13,
    "start_time": "2023-10-27T07:34:45.386Z"
   },
   {
    "duration": 213,
    "start_time": "2023-10-27T07:34:48.395Z"
   },
   {
    "duration": 161,
    "start_time": "2023-10-27T07:34:53.982Z"
   },
   {
    "duration": 187,
    "start_time": "2023-10-27T07:36:21.477Z"
   },
   {
    "duration": 163,
    "start_time": "2023-10-27T07:36:51.541Z"
   },
   {
    "duration": 176,
    "start_time": "2023-10-27T07:37:02.702Z"
   },
   {
    "duration": 201,
    "start_time": "2023-10-27T07:37:24.067Z"
   },
   {
    "duration": 168,
    "start_time": "2023-10-27T07:38:18.796Z"
   },
   {
    "duration": 187,
    "start_time": "2023-10-27T07:39:53.381Z"
   },
   {
    "duration": 25,
    "start_time": "2023-10-27T07:40:25.271Z"
   },
   {
    "duration": 20,
    "start_time": "2023-10-27T07:40:31.310Z"
   },
   {
    "duration": 240,
    "start_time": "2023-10-27T07:40:31.495Z"
   },
   {
    "duration": 258,
    "start_time": "2023-10-27T07:41:18.731Z"
   },
   {
    "duration": 229,
    "start_time": "2023-10-27T07:41:25.189Z"
   },
   {
    "duration": 160,
    "start_time": "2023-10-27T07:41:46.253Z"
   },
   {
    "duration": 217,
    "start_time": "2023-10-27T07:41:48.848Z"
   },
   {
    "duration": 174,
    "start_time": "2023-10-27T07:42:21.011Z"
   },
   {
    "duration": 408,
    "start_time": "2023-10-27T07:42:24.814Z"
   },
   {
    "duration": 360,
    "start_time": "2023-10-27T07:42:32.342Z"
   },
   {
    "duration": 111,
    "start_time": "2023-10-27T07:44:05.786Z"
   },
   {
    "duration": 391,
    "start_time": "2023-10-27T07:44:08.633Z"
   },
   {
    "duration": 26,
    "start_time": "2023-10-27T07:44:45.701Z"
   },
   {
    "duration": 519,
    "start_time": "2023-10-27T07:44:49.206Z"
   },
   {
    "duration": 27,
    "start_time": "2023-10-27T07:45:02.442Z"
   },
   {
    "duration": 444,
    "start_time": "2023-10-27T07:45:03.409Z"
   },
   {
    "duration": 378,
    "start_time": "2023-10-27T07:45:57.978Z"
   },
   {
    "duration": 444,
    "start_time": "2023-10-27T07:46:03.992Z"
   },
   {
    "duration": 344,
    "start_time": "2023-10-27T07:46:08.202Z"
   },
   {
    "duration": 616,
    "start_time": "2023-10-27T07:46:11.199Z"
   },
   {
    "duration": 522,
    "start_time": "2023-10-27T07:46:48.404Z"
   },
   {
    "duration": 405,
    "start_time": "2023-10-27T07:47:43.706Z"
   },
   {
    "duration": 442,
    "start_time": "2023-10-27T07:50:49.733Z"
   },
   {
    "duration": 462,
    "start_time": "2023-10-27T07:53:04.387Z"
   },
   {
    "duration": 460,
    "start_time": "2023-10-27T07:53:24.873Z"
   },
   {
    "duration": 11,
    "start_time": "2023-10-27T07:55:38.230Z"
   },
   {
    "duration": 68,
    "start_time": "2023-10-27T07:55:45.435Z"
   },
   {
    "duration": 16,
    "start_time": "2023-10-27T07:55:46.475Z"
   },
   {
    "duration": 15,
    "start_time": "2023-10-27T08:01:19.671Z"
   },
   {
    "duration": 4,
    "start_time": "2023-10-27T08:01:46.630Z"
   },
   {
    "duration": 99,
    "start_time": "2023-10-27T08:01:46.636Z"
   },
   {
    "duration": 28,
    "start_time": "2023-10-27T08:01:46.737Z"
   },
   {
    "duration": 23,
    "start_time": "2023-10-27T08:01:46.768Z"
   },
   {
    "duration": 24,
    "start_time": "2023-10-27T08:01:46.794Z"
   },
   {
    "duration": 47,
    "start_time": "2023-10-27T08:01:46.820Z"
   },
   {
    "duration": 13,
    "start_time": "2023-10-27T08:01:46.873Z"
   },
   {
    "duration": 423,
    "start_time": "2023-10-27T08:01:46.888Z"
   },
   {
    "duration": 9,
    "start_time": "2023-10-27T08:01:47.313Z"
   },
   {
    "duration": 41,
    "start_time": "2023-10-27T08:01:47.324Z"
   },
   {
    "duration": 13,
    "start_time": "2023-10-27T08:01:47.370Z"
   },
   {
    "duration": 14,
    "start_time": "2023-10-27T08:01:47.385Z"
   },
   {
    "duration": 24,
    "start_time": "2023-10-27T08:01:47.401Z"
   },
   {
    "duration": 6,
    "start_time": "2023-10-27T08:01:47.428Z"
   },
   {
    "duration": 14,
    "start_time": "2023-10-27T08:01:47.435Z"
   },
   {
    "duration": 31,
    "start_time": "2023-10-27T08:01:47.451Z"
   },
   {
    "duration": 464,
    "start_time": "2023-10-27T08:01:47.484Z"
   },
   {
    "duration": 27,
    "start_time": "2023-10-27T08:01:47.949Z"
   },
   {
    "duration": 193,
    "start_time": "2023-10-27T08:01:47.978Z"
   },
   {
    "duration": 15,
    "start_time": "2023-10-27T08:01:48.173Z"
   },
   {
    "duration": 397,
    "start_time": "2023-10-27T08:01:48.189Z"
   },
   {
    "duration": 440,
    "start_time": "2023-10-27T08:01:48.589Z"
   },
   {
    "duration": 484,
    "start_time": "2023-10-27T08:01:49.032Z"
   },
   {
    "duration": 62,
    "start_time": "2023-10-27T08:01:49.518Z"
   },
   {
    "duration": 12,
    "start_time": "2023-10-27T08:01:49.582Z"
   },
   {
    "duration": 26,
    "start_time": "2023-10-27T08:01:49.597Z"
   },
   {
    "duration": 43,
    "start_time": "2023-10-27T08:01:49.647Z"
   },
   {
    "duration": 434,
    "start_time": "2023-10-27T08:01:49.692Z"
   },
   {
    "duration": 1041,
    "start_time": "2023-10-27T08:01:50.128Z"
   },
   {
    "duration": 1115,
    "start_time": "2023-10-27T08:02:14.305Z"
   },
   {
    "duration": 368,
    "start_time": "2023-10-27T08:02:57.529Z"
   },
   {
    "duration": 476,
    "start_time": "2023-10-27T08:03:15.080Z"
   },
   {
    "duration": 15,
    "start_time": "2023-10-27T08:04:31.886Z"
   },
   {
    "duration": 19,
    "start_time": "2023-10-27T08:05:03.407Z"
   },
   {
    "duration": 534,
    "start_time": "2023-10-27T08:10:54.676Z"
   },
   {
    "duration": 651,
    "start_time": "2023-10-27T08:11:08.907Z"
   },
   {
    "duration": 3,
    "start_time": "2023-10-27T08:11:38.695Z"
   },
   {
    "duration": 88,
    "start_time": "2023-10-27T08:11:38.701Z"
   },
   {
    "duration": 21,
    "start_time": "2023-10-27T08:11:38.792Z"
   },
   {
    "duration": 18,
    "start_time": "2023-10-27T08:11:38.816Z"
   },
   {
    "duration": 35,
    "start_time": "2023-10-27T08:11:38.851Z"
   },
   {
    "duration": 11,
    "start_time": "2023-10-27T08:11:38.888Z"
   },
   {
    "duration": 21,
    "start_time": "2023-10-27T08:11:38.901Z"
   },
   {
    "duration": 486,
    "start_time": "2023-10-27T08:11:38.924Z"
   },
   {
    "duration": 8,
    "start_time": "2023-10-27T08:11:39.412Z"
   },
   {
    "duration": 32,
    "start_time": "2023-10-27T08:11:39.424Z"
   },
   {
    "duration": 26,
    "start_time": "2023-10-27T08:11:39.459Z"
   },
   {
    "duration": 9,
    "start_time": "2023-10-27T08:11:39.487Z"
   },
   {
    "duration": 12,
    "start_time": "2023-10-27T08:11:39.499Z"
   },
   {
    "duration": 6,
    "start_time": "2023-10-27T08:11:39.514Z"
   },
   {
    "duration": 11,
    "start_time": "2023-10-27T08:11:39.521Z"
   },
   {
    "duration": 34,
    "start_time": "2023-10-27T08:11:39.533Z"
   },
   {
    "duration": 232,
    "start_time": "2023-10-27T08:11:39.569Z"
   },
   {
    "duration": 18,
    "start_time": "2023-10-27T08:11:39.803Z"
   },
   {
    "duration": 194,
    "start_time": "2023-10-27T08:11:39.823Z"
   },
   {
    "duration": 15,
    "start_time": "2023-10-27T08:11:40.019Z"
   },
   {
    "duration": 467,
    "start_time": "2023-10-27T08:11:40.036Z"
   },
   {
    "duration": 432,
    "start_time": "2023-10-27T08:11:40.505Z"
   },
   {
    "duration": 416,
    "start_time": "2023-10-27T08:11:40.939Z"
   },
   {
    "duration": 40,
    "start_time": "2023-10-27T08:11:41.359Z"
   },
   {
    "duration": 12,
    "start_time": "2023-10-27T08:11:41.401Z"
   },
   {
    "duration": 70,
    "start_time": "2023-10-27T08:11:41.415Z"
   },
   {
    "duration": 24,
    "start_time": "2023-10-27T08:11:41.488Z"
   },
   {
    "duration": 446,
    "start_time": "2023-10-27T08:11:41.515Z"
   },
   {
    "duration": 652,
    "start_time": "2023-10-27T08:11:41.967Z"
   },
   {
    "duration": 269,
    "start_time": "2023-10-27T08:11:42.622Z"
   },
   {
    "duration": 327,
    "start_time": "2023-10-27T08:15:03.365Z"
   },
   {
    "duration": 333,
    "start_time": "2023-10-27T08:15:48.687Z"
   },
   {
    "duration": 565,
    "start_time": "2023-10-27T08:16:15.339Z"
   },
   {
    "duration": 394,
    "start_time": "2023-10-27T08:16:55.186Z"
   },
   {
    "duration": 343,
    "start_time": "2023-10-27T08:17:02.219Z"
   },
   {
    "duration": 9,
    "start_time": "2023-10-27T08:23:16.418Z"
   },
   {
    "duration": 10,
    "start_time": "2023-10-27T08:24:25.798Z"
   },
   {
    "duration": 2376,
    "start_time": "2023-10-27T08:25:59.678Z"
   },
   {
    "duration": 38,
    "start_time": "2023-10-27T08:27:44.605Z"
   },
   {
    "duration": 383,
    "start_time": "2023-10-27T08:27:51.805Z"
   },
   {
    "duration": 7,
    "start_time": "2023-10-27T08:28:03.598Z"
   },
   {
    "duration": 14,
    "start_time": "2023-10-27T08:33:51.123Z"
   },
   {
    "duration": 107,
    "start_time": "2023-10-27T08:34:09.672Z"
   },
   {
    "duration": 13,
    "start_time": "2023-10-27T08:34:19.678Z"
   },
   {
    "duration": 16,
    "start_time": "2023-10-27T08:34:34.834Z"
   },
   {
    "duration": 15,
    "start_time": "2023-10-27T08:40:20.005Z"
   },
   {
    "duration": 3,
    "start_time": "2023-10-27T08:41:02.690Z"
   },
   {
    "duration": 200,
    "start_time": "2023-10-27T08:41:02.695Z"
   },
   {
    "duration": 23,
    "start_time": "2023-10-27T08:41:02.897Z"
   },
   {
    "duration": 44,
    "start_time": "2023-10-27T08:41:02.921Z"
   },
   {
    "duration": 21,
    "start_time": "2023-10-27T08:41:02.967Z"
   },
   {
    "duration": 9,
    "start_time": "2023-10-27T08:41:02.990Z"
   },
   {
    "duration": 433,
    "start_time": "2023-10-27T08:41:03.001Z"
   },
   {
    "duration": 780,
    "start_time": "2023-10-27T08:41:03.436Z"
   },
   {
    "duration": 8,
    "start_time": "2023-10-27T08:41:04.218Z"
   },
   {
    "duration": 52,
    "start_time": "2023-10-27T08:41:04.228Z"
   },
   {
    "duration": 68,
    "start_time": "2023-10-27T08:41:04.283Z"
   },
   {
    "duration": 82,
    "start_time": "2023-10-27T08:41:04.355Z"
   },
   {
    "duration": 16,
    "start_time": "2023-10-27T08:41:04.438Z"
   },
   {
    "duration": 5,
    "start_time": "2023-10-27T08:41:04.458Z"
   },
   {
    "duration": 14,
    "start_time": "2023-10-27T08:41:04.465Z"
   },
   {
    "duration": 18,
    "start_time": "2023-10-27T08:41:04.484Z"
   },
   {
    "duration": 237,
    "start_time": "2023-10-27T08:41:04.504Z"
   },
   {
    "duration": 38,
    "start_time": "2023-10-27T08:41:04.742Z"
   },
   {
    "duration": 201,
    "start_time": "2023-10-27T08:41:04.782Z"
   },
   {
    "duration": 14,
    "start_time": "2023-10-27T08:41:04.985Z"
   },
   {
    "duration": 483,
    "start_time": "2023-10-27T08:41:05.001Z"
   },
   {
    "duration": 544,
    "start_time": "2023-10-27T08:41:05.485Z"
   },
   {
    "duration": 429,
    "start_time": "2023-10-27T08:41:06.031Z"
   },
   {
    "duration": 39,
    "start_time": "2023-10-27T08:41:06.462Z"
   },
   {
    "duration": 12,
    "start_time": "2023-10-27T08:41:06.503Z"
   },
   {
    "duration": 62,
    "start_time": "2023-10-27T08:41:06.518Z"
   },
   {
    "duration": 24,
    "start_time": "2023-10-27T08:41:06.582Z"
   },
   {
    "duration": 465,
    "start_time": "2023-10-27T08:41:06.608Z"
   },
   {
    "duration": 383,
    "start_time": "2023-10-27T08:41:07.075Z"
   },
   {
    "duration": 407,
    "start_time": "2023-10-27T08:42:23.314Z"
   },
   {
    "duration": 614,
    "start_time": "2023-10-27T08:42:28.499Z"
   },
   {
    "duration": 1681,
    "start_time": "2023-10-27T10:10:26.119Z"
   },
   {
    "duration": 200,
    "start_time": "2023-10-27T10:10:27.802Z"
   },
   {
    "duration": 25,
    "start_time": "2023-10-27T10:10:28.004Z"
   },
   {
    "duration": 42,
    "start_time": "2023-10-27T10:10:28.031Z"
   },
   {
    "duration": 30,
    "start_time": "2023-10-27T10:10:28.077Z"
   },
   {
    "duration": 10,
    "start_time": "2023-10-27T10:10:28.108Z"
   },
   {
    "duration": 14,
    "start_time": "2023-10-27T10:10:28.120Z"
   },
   {
    "duration": 603,
    "start_time": "2023-10-27T10:10:28.136Z"
   },
   {
    "duration": 27,
    "start_time": "2023-10-27T10:10:28.753Z"
   },
   {
    "duration": 13,
    "start_time": "2023-10-27T10:10:28.792Z"
   },
   {
    "duration": 9,
    "start_time": "2023-10-27T10:10:28.807Z"
   },
   {
    "duration": 8,
    "start_time": "2023-10-27T10:10:28.818Z"
   },
   {
    "duration": 7,
    "start_time": "2023-10-27T10:10:28.828Z"
   },
   {
    "duration": 14,
    "start_time": "2023-10-27T10:10:28.838Z"
   },
   {
    "duration": 14,
    "start_time": "2023-10-27T10:10:28.854Z"
   },
   {
    "duration": 25,
    "start_time": "2023-10-27T10:10:28.869Z"
   },
   {
    "duration": 240,
    "start_time": "2023-10-27T10:10:28.896Z"
   },
   {
    "duration": 41,
    "start_time": "2023-10-27T10:10:29.138Z"
   },
   {
    "duration": 184,
    "start_time": "2023-10-27T10:10:29.184Z"
   },
   {
    "duration": 25,
    "start_time": "2023-10-27T10:10:29.376Z"
   },
   {
    "duration": 362,
    "start_time": "2023-10-27T10:10:29.404Z"
   },
   {
    "duration": 417,
    "start_time": "2023-10-27T10:10:29.768Z"
   },
   {
    "duration": 517,
    "start_time": "2023-10-27T10:10:30.187Z"
   },
   {
    "duration": 48,
    "start_time": "2023-10-27T10:10:30.705Z"
   },
   {
    "duration": 28,
    "start_time": "2023-10-27T10:10:30.755Z"
   },
   {
    "duration": 85,
    "start_time": "2023-10-27T10:10:30.792Z"
   },
   {
    "duration": 194,
    "start_time": "2023-10-27T10:10:30.878Z"
   },
   {
    "duration": 544,
    "start_time": "2023-10-27T10:10:31.073Z"
   },
   {
    "duration": 382,
    "start_time": "2023-10-27T10:10:31.618Z"
   },
   {
    "duration": 34,
    "start_time": "2023-10-27T10:10:32.004Z"
   },
   {
    "duration": 383,
    "start_time": "2023-10-27T10:10:32.040Z"
   },
   {
    "duration": 19,
    "start_time": "2023-10-27T10:10:32.430Z"
   },
   {
    "duration": 44,
    "start_time": "2023-10-27T10:10:32.456Z"
   },
   {
    "duration": 34,
    "start_time": "2023-10-27T10:10:32.502Z"
   },
   {
    "duration": 51,
    "start_time": "2023-10-27T10:10:32.538Z"
   },
   {
    "duration": 48,
    "start_time": "2023-10-27T10:11:11.969Z"
   },
   {
    "duration": 463,
    "start_time": "2023-10-27T10:11:15.265Z"
   },
   {
    "duration": 13,
    "start_time": "2023-10-27T10:11:20.836Z"
   },
   {
    "duration": 50,
    "start_time": "2023-10-27T10:11:33.927Z"
   },
   {
    "duration": 409,
    "start_time": "2023-10-27T10:11:36.602Z"
   },
   {
    "duration": 8,
    "start_time": "2023-10-27T10:11:38.329Z"
   },
   {
    "duration": 211,
    "start_time": "2023-10-27T10:13:02.978Z"
   },
   {
    "duration": 221,
    "start_time": "2023-10-27T10:14:58.793Z"
   },
   {
    "duration": 291,
    "start_time": "2023-10-27T10:17:02.693Z"
   },
   {
    "duration": 95,
    "start_time": "2023-10-27T10:18:51.807Z"
   },
   {
    "duration": 324,
    "start_time": "2023-10-27T10:19:05.294Z"
   },
   {
    "duration": 172,
    "start_time": "2023-10-27T10:19:31.910Z"
   },
   {
    "duration": 363,
    "start_time": "2023-10-27T10:19:55.101Z"
   },
   {
    "duration": 294,
    "start_time": "2023-10-27T10:20:14.839Z"
   },
   {
    "duration": 248,
    "start_time": "2023-10-27T10:20:26.081Z"
   },
   {
    "duration": 1271,
    "start_time": "2023-10-27T11:49:51.995Z"
   },
   {
    "duration": 208,
    "start_time": "2023-10-27T11:49:53.268Z"
   },
   {
    "duration": 21,
    "start_time": "2023-10-27T11:49:53.478Z"
   },
   {
    "duration": 41,
    "start_time": "2023-10-27T11:49:53.501Z"
   },
   {
    "duration": 48,
    "start_time": "2023-10-27T11:49:53.544Z"
   },
   {
    "duration": 39,
    "start_time": "2023-10-27T11:49:53.594Z"
   },
   {
    "duration": 74,
    "start_time": "2023-10-27T11:49:53.635Z"
   },
   {
    "duration": 518,
    "start_time": "2023-10-27T11:49:53.711Z"
   },
   {
    "duration": 6,
    "start_time": "2023-10-27T11:49:54.230Z"
   },
   {
    "duration": 45,
    "start_time": "2023-10-27T11:49:54.244Z"
   },
   {
    "duration": 23,
    "start_time": "2023-10-27T11:49:54.291Z"
   },
   {
    "duration": 40,
    "start_time": "2023-10-27T11:49:54.315Z"
   },
   {
    "duration": 26,
    "start_time": "2023-10-27T11:49:54.357Z"
   },
   {
    "duration": 23,
    "start_time": "2023-10-27T11:49:54.387Z"
   },
   {
    "duration": 38,
    "start_time": "2023-10-27T11:49:54.412Z"
   },
   {
    "duration": 21,
    "start_time": "2023-10-27T11:49:54.452Z"
   },
   {
    "duration": 254,
    "start_time": "2023-10-27T11:49:54.475Z"
   },
   {
    "duration": 21,
    "start_time": "2023-10-27T11:49:54.731Z"
   },
   {
    "duration": 182,
    "start_time": "2023-10-27T11:49:54.754Z"
   },
   {
    "duration": 14,
    "start_time": "2023-10-27T11:49:54.938Z"
   },
   {
    "duration": 328,
    "start_time": "2023-10-27T11:49:54.954Z"
   },
   {
    "duration": 335,
    "start_time": "2023-10-27T11:49:55.284Z"
   },
   {
    "duration": 398,
    "start_time": "2023-10-27T11:49:55.621Z"
   },
   {
    "duration": 39,
    "start_time": "2023-10-27T11:49:56.021Z"
   },
   {
    "duration": 9,
    "start_time": "2023-10-27T11:49:56.062Z"
   },
   {
    "duration": 29,
    "start_time": "2023-10-27T11:49:56.072Z"
   },
   {
    "duration": 24,
    "start_time": "2023-10-27T11:49:56.103Z"
   },
   {
    "duration": 337,
    "start_time": "2023-10-27T11:49:56.129Z"
   },
   {
    "duration": 317,
    "start_time": "2023-10-27T11:49:56.467Z"
   },
   {
    "duration": 232,
    "start_time": "2023-10-27T11:49:56.786Z"
   },
   {
    "duration": 43,
    "start_time": "2023-10-27T11:49:57.020Z"
   },
   {
    "duration": 298,
    "start_time": "2023-10-27T11:49:57.065Z"
   },
   {
    "duration": 9,
    "start_time": "2023-10-27T11:49:57.365Z"
   },
   {
    "duration": 13,
    "start_time": "2023-10-27T11:49:57.376Z"
   },
   {
    "duration": 14,
    "start_time": "2023-10-27T11:49:57.391Z"
   },
   {
    "duration": 13,
    "start_time": "2023-10-27T11:49:57.407Z"
   },
   {
    "duration": 265,
    "start_time": "2023-10-27T11:50:53.639Z"
   },
   {
    "duration": 231,
    "start_time": "2023-10-27T11:52:20.608Z"
   },
   {
    "duration": 342,
    "start_time": "2023-10-27T11:53:23.577Z"
   },
   {
    "duration": 386,
    "start_time": "2023-10-27T11:53:39.669Z"
   },
   {
    "duration": 326,
    "start_time": "2023-10-27T11:54:16.584Z"
   },
   {
    "duration": 252,
    "start_time": "2023-10-27T11:54:42.796Z"
   },
   {
    "duration": 245,
    "start_time": "2023-10-27T11:54:51.189Z"
   },
   {
    "duration": 292,
    "start_time": "2023-10-27T11:56:20.383Z"
   },
   {
    "duration": 392,
    "start_time": "2023-10-27T11:56:36.665Z"
   },
   {
    "duration": 299,
    "start_time": "2023-10-27T11:56:52.108Z"
   },
   {
    "duration": 310,
    "start_time": "2023-10-27T11:59:21.029Z"
   },
   {
    "duration": 307,
    "start_time": "2023-10-27T12:00:00.567Z"
   },
   {
    "duration": 299,
    "start_time": "2023-10-27T12:00:08.574Z"
   },
   {
    "duration": 309,
    "start_time": "2023-10-27T12:01:50.294Z"
   },
   {
    "duration": 387,
    "start_time": "2023-10-27T12:03:37.526Z"
   },
   {
    "duration": 323,
    "start_time": "2023-10-27T12:03:46.894Z"
   },
   {
    "duration": 298,
    "start_time": "2023-10-27T12:03:52.454Z"
   },
   {
    "duration": 323,
    "start_time": "2023-10-27T12:03:58.485Z"
   },
   {
    "duration": 312,
    "start_time": "2023-10-27T12:04:51.554Z"
   },
   {
    "duration": 409,
    "start_time": "2023-10-27T12:04:52.084Z"
   },
   {
    "duration": 12,
    "start_time": "2023-10-27T12:14:36.491Z"
   },
   {
    "duration": 11,
    "start_time": "2023-10-27T12:16:13.230Z"
   },
   {
    "duration": 11,
    "start_time": "2023-10-27T12:17:01.054Z"
   },
   {
    "duration": 11,
    "start_time": "2023-10-27T12:17:09.188Z"
   },
   {
    "duration": 11,
    "start_time": "2023-10-27T12:19:10.538Z"
   },
   {
    "duration": 16,
    "start_time": "2023-10-27T12:19:14.406Z"
   },
   {
    "duration": 8,
    "start_time": "2023-10-27T12:21:52.792Z"
   },
   {
    "duration": 301,
    "start_time": "2023-10-27T12:35:55.567Z"
   },
   {
    "duration": 291,
    "start_time": "2023-10-27T12:36:31.293Z"
   },
   {
    "duration": 1477,
    "start_time": "2023-10-27T15:14:37.671Z"
   },
   {
    "duration": 307,
    "start_time": "2023-10-27T15:14:39.150Z"
   },
   {
    "duration": 21,
    "start_time": "2023-10-27T15:14:39.459Z"
   },
   {
    "duration": 19,
    "start_time": "2023-10-27T15:14:39.482Z"
   },
   {
    "duration": 14,
    "start_time": "2023-10-27T15:14:39.502Z"
   },
   {
    "duration": 25,
    "start_time": "2023-10-27T15:14:39.517Z"
   },
   {
    "duration": 13,
    "start_time": "2023-10-27T15:14:39.544Z"
   },
   {
    "duration": 458,
    "start_time": "2023-10-27T15:14:39.558Z"
   },
   {
    "duration": 6,
    "start_time": "2023-10-27T15:14:40.018Z"
   },
   {
    "duration": 30,
    "start_time": "2023-10-27T15:14:40.026Z"
   },
   {
    "duration": 22,
    "start_time": "2023-10-27T15:14:40.057Z"
   },
   {
    "duration": 23,
    "start_time": "2023-10-27T15:14:40.080Z"
   },
   {
    "duration": 31,
    "start_time": "2023-10-27T15:14:40.104Z"
   },
   {
    "duration": 11,
    "start_time": "2023-10-27T15:14:40.136Z"
   },
   {
    "duration": 19,
    "start_time": "2023-10-27T15:14:40.149Z"
   },
   {
    "duration": 38,
    "start_time": "2023-10-27T15:14:40.169Z"
   },
   {
    "duration": 179,
    "start_time": "2023-10-27T15:14:40.209Z"
   },
   {
    "duration": 15,
    "start_time": "2023-10-27T15:14:40.389Z"
   },
   {
    "duration": 147,
    "start_time": "2023-10-27T15:14:40.406Z"
   },
   {
    "duration": 12,
    "start_time": "2023-10-27T15:14:40.555Z"
   },
   {
    "duration": 311,
    "start_time": "2023-10-27T15:14:40.569Z"
   },
   {
    "duration": 359,
    "start_time": "2023-10-27T15:14:40.881Z"
   },
   {
    "duration": 421,
    "start_time": "2023-10-27T15:14:41.242Z"
   },
   {
    "duration": 28,
    "start_time": "2023-10-27T15:14:41.664Z"
   },
   {
    "duration": 12,
    "start_time": "2023-10-27T15:14:41.693Z"
   },
   {
    "duration": 42,
    "start_time": "2023-10-27T15:14:41.706Z"
   },
   {
    "duration": 20,
    "start_time": "2023-10-27T15:14:41.750Z"
   },
   {
    "duration": 333,
    "start_time": "2023-10-27T15:14:41.774Z"
   },
   {
    "duration": 314,
    "start_time": "2023-10-27T15:14:42.109Z"
   },
   {
    "duration": 44,
    "start_time": "2023-10-27T15:14:42.425Z"
   },
   {
    "duration": 309,
    "start_time": "2023-10-27T15:14:42.471Z"
   },
   {
    "duration": 7,
    "start_time": "2023-10-27T15:14:42.781Z"
   },
   {
    "duration": 20,
    "start_time": "2023-10-27T15:14:42.789Z"
   },
   {
    "duration": 12,
    "start_time": "2023-10-27T15:14:42.811Z"
   },
   {
    "duration": 21,
    "start_time": "2023-10-27T15:14:42.825Z"
   },
   {
    "duration": 773,
    "start_time": "2023-10-27T15:21:56.438Z"
   },
   {
    "duration": 339,
    "start_time": "2023-10-27T15:26:44.096Z"
   },
   {
    "duration": 44,
    "start_time": "2023-10-27T15:35:27.720Z"
   },
   {
    "duration": 1351,
    "start_time": "2023-10-27T15:35:35.617Z"
   },
   {
    "duration": 195,
    "start_time": "2023-10-27T15:35:36.970Z"
   },
   {
    "duration": 20,
    "start_time": "2023-10-27T15:35:37.167Z"
   },
   {
    "duration": 23,
    "start_time": "2023-10-27T15:35:37.188Z"
   },
   {
    "duration": 19,
    "start_time": "2023-10-27T15:35:37.213Z"
   },
   {
    "duration": 38,
    "start_time": "2023-10-27T15:35:37.234Z"
   },
   {
    "duration": 33,
    "start_time": "2023-10-27T15:35:37.274Z"
   },
   {
    "duration": 479,
    "start_time": "2023-10-27T15:35:37.309Z"
   },
   {
    "duration": 7,
    "start_time": "2023-10-27T15:35:37.789Z"
   },
   {
    "duration": 6,
    "start_time": "2023-10-27T15:35:37.809Z"
   },
   {
    "duration": 21,
    "start_time": "2023-10-27T15:35:37.816Z"
   },
   {
    "duration": 29,
    "start_time": "2023-10-27T15:35:37.838Z"
   },
   {
    "duration": 29,
    "start_time": "2023-10-27T15:35:37.869Z"
   },
   {
    "duration": 13,
    "start_time": "2023-10-27T15:35:37.899Z"
   },
   {
    "duration": 18,
    "start_time": "2023-10-27T15:35:37.914Z"
   },
   {
    "duration": 12,
    "start_time": "2023-10-27T15:35:37.934Z"
   },
   {
    "duration": 203,
    "start_time": "2023-10-27T15:35:37.948Z"
   },
   {
    "duration": 15,
    "start_time": "2023-10-27T15:35:38.153Z"
   },
   {
    "duration": 174,
    "start_time": "2023-10-27T15:35:38.169Z"
   },
   {
    "duration": 12,
    "start_time": "2023-10-27T15:35:38.345Z"
   },
   {
    "duration": 310,
    "start_time": "2023-10-27T15:35:38.359Z"
   },
   {
    "duration": 320,
    "start_time": "2023-10-27T15:35:38.671Z"
   },
   {
    "duration": 418,
    "start_time": "2023-10-27T15:35:38.993Z"
   },
   {
    "duration": 30,
    "start_time": "2023-10-27T15:35:39.412Z"
   },
   {
    "duration": 9,
    "start_time": "2023-10-27T15:35:39.443Z"
   },
   {
    "duration": 50,
    "start_time": "2023-10-27T15:35:39.453Z"
   },
   {
    "duration": 44,
    "start_time": "2023-10-27T15:35:39.505Z"
   },
   {
    "duration": 293,
    "start_time": "2023-10-27T15:35:39.552Z"
   },
   {
    "duration": 337,
    "start_time": "2023-10-27T15:35:39.846Z"
   },
   {
    "duration": 42,
    "start_time": "2023-10-27T15:35:40.185Z"
   },
   {
    "duration": 278,
    "start_time": "2023-10-27T15:35:40.229Z"
   },
   {
    "duration": 6,
    "start_time": "2023-10-27T15:35:40.508Z"
   },
   {
    "duration": 21,
    "start_time": "2023-10-27T15:35:40.516Z"
   },
   {
    "duration": 22,
    "start_time": "2023-10-27T15:35:40.538Z"
   },
   {
    "duration": 31,
    "start_time": "2023-10-27T15:35:40.562Z"
   },
   {
    "duration": 155,
    "start_time": "2023-10-27T15:37:30.577Z"
   }
  ],
  "kernelspec": {
   "display_name": "Python 3 (ipykernel)",
   "language": "python",
   "name": "python3"
  },
  "language_info": {
   "codemirror_mode": {
    "name": "ipython",
    "version": 3
   },
   "file_extension": ".py",
   "mimetype": "text/x-python",
   "name": "python",
   "nbconvert_exporter": "python",
   "pygments_lexer": "ipython3",
   "version": "3.9.5"
  },
  "toc": {
   "base_numbering": 1,
   "nav_menu": {},
   "number_sections": true,
   "sideBar": true,
   "skip_h1_title": true,
   "title_cell": "Table of Contents",
   "title_sidebar": "Contents",
   "toc_cell": false,
   "toc_position": {
    "height": "calc(100% - 180px)",
    "left": "10px",
    "top": "150px",
    "width": "280px"
   },
   "toc_section_display": true,
   "toc_window_display": true
  }
 },
 "nbformat": 4,
 "nbformat_minor": 5
}
