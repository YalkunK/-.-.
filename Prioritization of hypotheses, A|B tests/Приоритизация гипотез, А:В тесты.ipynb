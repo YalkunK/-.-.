{
 "cells": [
  {
   "cell_type": "markdown",
   "metadata": {},
   "source": [
    "## Проект  \"Интернет-Магазин\""
   ]
  },
  {
   "cell_type": "markdown",
   "metadata": {},
   "source": [
    "### Описание проекта\n",
    "\n",
    " Контекст\n",
    "\n",
    "Вы — аналитик крупного интернет-магазина. Вместе с отделом маркетинга вы подготовили список гипотез для увеличения выручки.\n",
    "Приоритизируйте гипотезы, запустите A/B-тест и проанализируйте результаты."
   ]
  },
  {
   "cell_type": "markdown",
   "metadata": {},
   "source": [
    "### Описание данных\n",
    "\n",
    "#### Данные для первой части\n",
    "\n",
    "Файл /datasets/hypothesis.csv. \n",
    "* Hypothesis — краткое описание гипотезы;\n",
    "* Reach — охват пользователей по 10-балльной шкале;\n",
    "* Impact — влияние на пользователей по 10-балльной шкале;\n",
    "* Confidence — уверенность в гипотезе по 10-балльной шкале;\n",
    "* Efforts — затраты ресурсов на проверку гипотезы по 10-балльной шкале. Чем больше значение Efforts, тем дороже проверка гипотезы."
   ]
  },
  {
   "cell_type": "markdown",
   "metadata": {},
   "source": [
    "##### Задача\n",
    "\n",
    "* Примените фреймворк ICE для приоритизации гипотез. Отсортируйте их по убыванию приоритета.\n",
    "* Примените фреймворк RICE для приоритизации гипотез. Отсортируйте их по убыванию приоритета.\n",
    "* Укажите, как изменилась приоритизация гипотез при применении RICE вместо ICE. Объясните, почему так произошло"
   ]
  },
  {
   "cell_type": "markdown",
   "metadata": {},
   "source": [
    "#### Данные для второй части\n",
    "\n",
    "Файл /datasets/orders.csv.\n",
    "* transactionId — идентификатор заказа;\n",
    "* visitorId — идентификатор пользователя, совершившего заказ;\n",
    "* date — дата, когда был совершён заказ;\n",
    "* revenue — выручка заказа;\n",
    "* group — группа A/B-теста, в которую попал заказ.\n",
    "\n",
    "Файл /datasets/visitors.csv.\n",
    "* date — дата;\n",
    "* group — группа A/B-теста;\n",
    "* visitors — количество пользователей в указанную дату в указанной группе A/B-теста"
   ]
  },
  {
   "cell_type": "markdown",
   "metadata": {},
   "source": [
    "##### Задача\n",
    "\n",
    "Проанализируйте A/B-тест:\n",
    "\n",
    "* Постройте график кумулятивной выручки по группам. Сделайте выводы и предположения.\n",
    "* Постройте график кумулятивного среднего чека по группам. Сделайте выводы и предположения.\n",
    "* Постройте график относительного изменения кумулятивного среднего чека группы B к группе A. Сделайте выводы и предположения.\n",
    "* Постройте график кумулятивного среднего количества заказов на посетителя по группам. Сделайте выводы и предположения.\n",
    "* Постройте график относительного изменения кумулятивного среднего количества заказов на посетителя группы B к группе A. Сделайте выводы и предположения.\n",
    "* Постройте точечный график количества заказов по пользователям. Сделайте выводы и предположения.\n",
    "* Посчитайте 95-й и 99-й перцентили количества заказов на пользователя. Выберите границу для определения аномальных пользователей.\n",
    "* Постройте точечный график стоимостей заказов. Сделайте выводы и предположения.\n",
    "* Посчитайте 95-й и 99-й перцентили стоимости заказов. Выберите границу для определения аномальных заказов.\n",
    "* Посчитайте статистическую значимость различий в среднем количестве заказов на посетителя между группами по «сырым» данным. Сделайте выводы и предположения.\n",
    "* Посчитайте статистическую значимость различий в среднем чеке заказа между группами по «сырым» данным. Сделайте выводы и предположения.\n",
    "* Посчитайте статистическую значимость различий в среднем количестве заказов на посетителя между группами по «очищенным» данным. Сделайте выводы и предположения.\n",
    "* Посчитайте статистическую значимость различий в среднем чеке заказа между группами по «очищенным» данным. Сделайте выводы и предположения.\n",
    "* Примите решение по результатам теста и объясните его. Варианты решений: 1. Остановить тест, зафиксировать победу одной из групп. 2. Остановить тест, зафиксировать отсутствие различий между группами. 3. Продолжить тест."
   ]
  },
  {
   "cell_type": "markdown",
   "metadata": {},
   "source": [
    "<div class=\"alert alert-block alert-success\">\n",
    "    \n",
    "<b>Комментарий от ревьюера</b> \n",
    "    \n",
    "Хорошо, что во вступительной части ты указываешь всю важную информацию о проекте.\n",
    "</div>"
   ]
  },
  {
   "cell_type": "markdown",
   "metadata": {},
   "source": [
    "## Импорт библиотек"
   ]
  },
  {
   "cell_type": "code",
   "execution_count": 1,
   "metadata": {},
   "outputs": [],
   "source": [
    "import pandas as pd\n",
    "import numpy as np\n",
    "import matplotlib.pyplot as plt\n",
    "import seaborn as sns\n",
    "import math\n",
    "import datetime as dt\n",
    "from scipy import stats as st\n",
    "import warnings\n",
    "warnings.simplefilter(\"ignore\")"
   ]
  },
  {
   "cell_type": "markdown",
   "metadata": {},
   "source": [
    "<div class=\"alert alert-block alert-success\">\n",
    "    \n",
    "<b>Комментарий от ревьюера</b> \n",
    "    \n",
    "Все нужные библиотеки загружены, отлично.\n",
    "</div>"
   ]
  },
  {
   "cell_type": "code",
   "execution_count": 2,
   "metadata": {},
   "outputs": [],
   "source": [
    "pd.set_option('display.max_columns', None)\n",
    "pd.set_option('max_colwidth', 200)"
   ]
  },
  {
   "cell_type": "markdown",
   "metadata": {},
   "source": [
    "## Выгрузка и обзор данных"
   ]
  },
  {
   "cell_type": "code",
   "execution_count": 3,
   "metadata": {},
   "outputs": [],
   "source": [
    "hypothesis = pd.read_csv('/datasets/hypothesis.csv')\n",
    "orders = pd.read_csv('/datasets/orders.csv')\n",
    "visitors = pd.read_csv('/datasets/visitors.csv')"
   ]
  },
  {
   "cell_type": "code",
   "execution_count": 4,
   "metadata": {},
   "outputs": [
    {
     "name": "stdout",
     "output_type": "stream",
     "text": [
      "<class 'pandas.core.frame.DataFrame'>\n",
      "RangeIndex: 9 entries, 0 to 8\n",
      "Data columns (total 5 columns):\n",
      " #   Column      Non-Null Count  Dtype \n",
      "---  ------      --------------  ----- \n",
      " 0   Hypothesis  9 non-null      object\n",
      " 1   Reach       9 non-null      int64 \n",
      " 2   Impact      9 non-null      int64 \n",
      " 3   Confidence  9 non-null      int64 \n",
      " 4   Efforts     9 non-null      int64 \n",
      "dtypes: int64(4), object(1)\n",
      "memory usage: 488.0+ bytes\n"
     ]
    },
    {
     "data": {
      "text/html": [
       "<div>\n",
       "<style scoped>\n",
       "    .dataframe tbody tr th:only-of-type {\n",
       "        vertical-align: middle;\n",
       "    }\n",
       "\n",
       "    .dataframe tbody tr th {\n",
       "        vertical-align: top;\n",
       "    }\n",
       "\n",
       "    .dataframe thead th {\n",
       "        text-align: right;\n",
       "    }\n",
       "</style>\n",
       "<table border=\"1\" class=\"dataframe\">\n",
       "  <thead>\n",
       "    <tr style=\"text-align: right;\">\n",
       "      <th></th>\n",
       "      <th>Hypothesis</th>\n",
       "      <th>Reach</th>\n",
       "      <th>Impact</th>\n",
       "      <th>Confidence</th>\n",
       "      <th>Efforts</th>\n",
       "    </tr>\n",
       "  </thead>\n",
       "  <tbody>\n",
       "    <tr>\n",
       "      <th>0</th>\n",
       "      <td>Добавить два новых канала привлечения трафика, что позволит привлекать на 30% больше пользователей</td>\n",
       "      <td>3</td>\n",
       "      <td>10</td>\n",
       "      <td>8</td>\n",
       "      <td>6</td>\n",
       "    </tr>\n",
       "    <tr>\n",
       "      <th>1</th>\n",
       "      <td>Запустить собственную службу доставки, что сократит срок доставки заказов</td>\n",
       "      <td>2</td>\n",
       "      <td>5</td>\n",
       "      <td>4</td>\n",
       "      <td>10</td>\n",
       "    </tr>\n",
       "    <tr>\n",
       "      <th>2</th>\n",
       "      <td>Добавить блоки рекомендаций товаров на сайт интернет магазина, чтобы повысить конверсию и средний чек заказа</td>\n",
       "      <td>8</td>\n",
       "      <td>3</td>\n",
       "      <td>7</td>\n",
       "      <td>3</td>\n",
       "    </tr>\n",
       "    <tr>\n",
       "      <th>3</th>\n",
       "      <td>Изменить структура категорий, что увеличит конверсию, т.к. пользователи быстрее найдут нужный товар</td>\n",
       "      <td>8</td>\n",
       "      <td>3</td>\n",
       "      <td>3</td>\n",
       "      <td>8</td>\n",
       "    </tr>\n",
       "    <tr>\n",
       "      <th>4</th>\n",
       "      <td>Изменить цвет фона главной страницы, чтобы увеличить вовлеченность пользователей</td>\n",
       "      <td>3</td>\n",
       "      <td>1</td>\n",
       "      <td>1</td>\n",
       "      <td>1</td>\n",
       "    </tr>\n",
       "    <tr>\n",
       "      <th>5</th>\n",
       "      <td>Добавить страницу отзывов клиентов о магазине, что позволит увеличить количество заказов</td>\n",
       "      <td>3</td>\n",
       "      <td>2</td>\n",
       "      <td>2</td>\n",
       "      <td>3</td>\n",
       "    </tr>\n",
       "    <tr>\n",
       "      <th>6</th>\n",
       "      <td>Показать на главной странице баннеры с актуальными акциями и распродажами, чтобы увеличить конверсию</td>\n",
       "      <td>5</td>\n",
       "      <td>3</td>\n",
       "      <td>8</td>\n",
       "      <td>3</td>\n",
       "    </tr>\n",
       "    <tr>\n",
       "      <th>7</th>\n",
       "      <td>Добавить форму подписки на все основные страницы, чтобы собрать базу клиентов для email-рассылок</td>\n",
       "      <td>10</td>\n",
       "      <td>7</td>\n",
       "      <td>8</td>\n",
       "      <td>5</td>\n",
       "    </tr>\n",
       "    <tr>\n",
       "      <th>8</th>\n",
       "      <td>Запустить акцию, дающую скидку на товар в день рождения</td>\n",
       "      <td>1</td>\n",
       "      <td>9</td>\n",
       "      <td>9</td>\n",
       "      <td>5</td>\n",
       "    </tr>\n",
       "  </tbody>\n",
       "</table>\n",
       "</div>"
      ],
      "text/plain": [
       "                                                                                                     Hypothesis  \\\n",
       "0            Добавить два новых канала привлечения трафика, что позволит привлекать на 30% больше пользователей   \n",
       "1                                     Запустить собственную службу доставки, что сократит срок доставки заказов   \n",
       "2  Добавить блоки рекомендаций товаров на сайт интернет магазина, чтобы повысить конверсию и средний чек заказа   \n",
       "3           Изменить структура категорий, что увеличит конверсию, т.к. пользователи быстрее найдут нужный товар   \n",
       "4                              Изменить цвет фона главной страницы, чтобы увеличить вовлеченность пользователей   \n",
       "5                      Добавить страницу отзывов клиентов о магазине, что позволит увеличить количество заказов   \n",
       "6          Показать на главной странице баннеры с актуальными акциями и распродажами, чтобы увеличить конверсию   \n",
       "7              Добавить форму подписки на все основные страницы, чтобы собрать базу клиентов для email-рассылок   \n",
       "8                                                       Запустить акцию, дающую скидку на товар в день рождения   \n",
       "\n",
       "   Reach  Impact  Confidence  Efforts  \n",
       "0      3      10           8        6  \n",
       "1      2       5           4       10  \n",
       "2      8       3           7        3  \n",
       "3      8       3           3        8  \n",
       "4      3       1           1        1  \n",
       "5      3       2           2        3  \n",
       "6      5       3           8        3  \n",
       "7     10       7           8        5  \n",
       "8      1       9           9        5  "
      ]
     },
     "execution_count": 4,
     "metadata": {},
     "output_type": "execute_result"
    }
   ],
   "source": [
    "hypothesis.info()\n",
    "hypothesis"
   ]
  },
  {
   "cell_type": "code",
   "execution_count": 5,
   "metadata": {},
   "outputs": [
    {
     "name": "stdout",
     "output_type": "stream",
     "text": [
      "<class 'pandas.core.frame.DataFrame'>\n",
      "RangeIndex: 1197 entries, 0 to 1196\n",
      "Data columns (total 5 columns):\n",
      " #   Column         Non-Null Count  Dtype \n",
      "---  ------         --------------  ----- \n",
      " 0   transactionId  1197 non-null   int64 \n",
      " 1   visitorId      1197 non-null   int64 \n",
      " 2   date           1197 non-null   object\n",
      " 3   revenue        1197 non-null   int64 \n",
      " 4   group          1197 non-null   object\n",
      "dtypes: int64(3), object(2)\n",
      "memory usage: 46.9+ KB\n"
     ]
    },
    {
     "data": {
      "text/html": [
       "<div>\n",
       "<style scoped>\n",
       "    .dataframe tbody tr th:only-of-type {\n",
       "        vertical-align: middle;\n",
       "    }\n",
       "\n",
       "    .dataframe tbody tr th {\n",
       "        vertical-align: top;\n",
       "    }\n",
       "\n",
       "    .dataframe thead th {\n",
       "        text-align: right;\n",
       "    }\n",
       "</style>\n",
       "<table border=\"1\" class=\"dataframe\">\n",
       "  <thead>\n",
       "    <tr style=\"text-align: right;\">\n",
       "      <th></th>\n",
       "      <th>transactionId</th>\n",
       "      <th>visitorId</th>\n",
       "      <th>date</th>\n",
       "      <th>revenue</th>\n",
       "      <th>group</th>\n",
       "    </tr>\n",
       "  </thead>\n",
       "  <tbody>\n",
       "    <tr>\n",
       "      <th>0</th>\n",
       "      <td>3667963787</td>\n",
       "      <td>3312258926</td>\n",
       "      <td>2019-08-15</td>\n",
       "      <td>1650</td>\n",
       "      <td>B</td>\n",
       "    </tr>\n",
       "    <tr>\n",
       "      <th>1</th>\n",
       "      <td>2804400009</td>\n",
       "      <td>3642806036</td>\n",
       "      <td>2019-08-15</td>\n",
       "      <td>730</td>\n",
       "      <td>B</td>\n",
       "    </tr>\n",
       "    <tr>\n",
       "      <th>2</th>\n",
       "      <td>2961555356</td>\n",
       "      <td>4069496402</td>\n",
       "      <td>2019-08-15</td>\n",
       "      <td>400</td>\n",
       "      <td>A</td>\n",
       "    </tr>\n",
       "    <tr>\n",
       "      <th>3</th>\n",
       "      <td>3797467345</td>\n",
       "      <td>1196621759</td>\n",
       "      <td>2019-08-15</td>\n",
       "      <td>9759</td>\n",
       "      <td>B</td>\n",
       "    </tr>\n",
       "    <tr>\n",
       "      <th>4</th>\n",
       "      <td>2282983706</td>\n",
       "      <td>2322279887</td>\n",
       "      <td>2019-08-15</td>\n",
       "      <td>2308</td>\n",
       "      <td>B</td>\n",
       "    </tr>\n",
       "    <tr>\n",
       "      <th>...</th>\n",
       "      <td>...</td>\n",
       "      <td>...</td>\n",
       "      <td>...</td>\n",
       "      <td>...</td>\n",
       "      <td>...</td>\n",
       "    </tr>\n",
       "    <tr>\n",
       "      <th>1192</th>\n",
       "      <td>2662137336</td>\n",
       "      <td>3733762160</td>\n",
       "      <td>2019-08-14</td>\n",
       "      <td>6490</td>\n",
       "      <td>B</td>\n",
       "    </tr>\n",
       "    <tr>\n",
       "      <th>1193</th>\n",
       "      <td>2203539145</td>\n",
       "      <td>370388673</td>\n",
       "      <td>2019-08-14</td>\n",
       "      <td>3190</td>\n",
       "      <td>A</td>\n",
       "    </tr>\n",
       "    <tr>\n",
       "      <th>1194</th>\n",
       "      <td>1807773912</td>\n",
       "      <td>573423106</td>\n",
       "      <td>2019-08-14</td>\n",
       "      <td>10550</td>\n",
       "      <td>A</td>\n",
       "    </tr>\n",
       "    <tr>\n",
       "      <th>1195</th>\n",
       "      <td>1947021204</td>\n",
       "      <td>1614305549</td>\n",
       "      <td>2019-08-14</td>\n",
       "      <td>100</td>\n",
       "      <td>A</td>\n",
       "    </tr>\n",
       "    <tr>\n",
       "      <th>1196</th>\n",
       "      <td>3936777065</td>\n",
       "      <td>2108080724</td>\n",
       "      <td>2019-08-15</td>\n",
       "      <td>202740</td>\n",
       "      <td>B</td>\n",
       "    </tr>\n",
       "  </tbody>\n",
       "</table>\n",
       "<p>1197 rows × 5 columns</p>\n",
       "</div>"
      ],
      "text/plain": [
       "      transactionId   visitorId        date  revenue group\n",
       "0        3667963787  3312258926  2019-08-15     1650     B\n",
       "1        2804400009  3642806036  2019-08-15      730     B\n",
       "2        2961555356  4069496402  2019-08-15      400     A\n",
       "3        3797467345  1196621759  2019-08-15     9759     B\n",
       "4        2282983706  2322279887  2019-08-15     2308     B\n",
       "...             ...         ...         ...      ...   ...\n",
       "1192     2662137336  3733762160  2019-08-14     6490     B\n",
       "1193     2203539145   370388673  2019-08-14     3190     A\n",
       "1194     1807773912   573423106  2019-08-14    10550     A\n",
       "1195     1947021204  1614305549  2019-08-14      100     A\n",
       "1196     3936777065  2108080724  2019-08-15   202740     B\n",
       "\n",
       "[1197 rows x 5 columns]"
      ]
     },
     "execution_count": 5,
     "metadata": {},
     "output_type": "execute_result"
    }
   ],
   "source": [
    "orders.info()\n",
    "orders"
   ]
  },
  {
   "cell_type": "code",
   "execution_count": 6,
   "metadata": {},
   "outputs": [
    {
     "name": "stdout",
     "output_type": "stream",
     "text": [
      "<class 'pandas.core.frame.DataFrame'>\n",
      "RangeIndex: 62 entries, 0 to 61\n",
      "Data columns (total 3 columns):\n",
      " #   Column    Non-Null Count  Dtype \n",
      "---  ------    --------------  ----- \n",
      " 0   date      62 non-null     object\n",
      " 1   group     62 non-null     object\n",
      " 2   visitors  62 non-null     int64 \n",
      "dtypes: int64(1), object(2)\n",
      "memory usage: 1.6+ KB\n"
     ]
    },
    {
     "data": {
      "text/html": [
       "<div>\n",
       "<style scoped>\n",
       "    .dataframe tbody tr th:only-of-type {\n",
       "        vertical-align: middle;\n",
       "    }\n",
       "\n",
       "    .dataframe tbody tr th {\n",
       "        vertical-align: top;\n",
       "    }\n",
       "\n",
       "    .dataframe thead th {\n",
       "        text-align: right;\n",
       "    }\n",
       "</style>\n",
       "<table border=\"1\" class=\"dataframe\">\n",
       "  <thead>\n",
       "    <tr style=\"text-align: right;\">\n",
       "      <th></th>\n",
       "      <th>date</th>\n",
       "      <th>group</th>\n",
       "      <th>visitors</th>\n",
       "    </tr>\n",
       "  </thead>\n",
       "  <tbody>\n",
       "    <tr>\n",
       "      <th>0</th>\n",
       "      <td>2019-08-01</td>\n",
       "      <td>A</td>\n",
       "      <td>719</td>\n",
       "    </tr>\n",
       "    <tr>\n",
       "      <th>1</th>\n",
       "      <td>2019-08-02</td>\n",
       "      <td>A</td>\n",
       "      <td>619</td>\n",
       "    </tr>\n",
       "    <tr>\n",
       "      <th>2</th>\n",
       "      <td>2019-08-03</td>\n",
       "      <td>A</td>\n",
       "      <td>507</td>\n",
       "    </tr>\n",
       "    <tr>\n",
       "      <th>3</th>\n",
       "      <td>2019-08-04</td>\n",
       "      <td>A</td>\n",
       "      <td>717</td>\n",
       "    </tr>\n",
       "    <tr>\n",
       "      <th>4</th>\n",
       "      <td>2019-08-05</td>\n",
       "      <td>A</td>\n",
       "      <td>756</td>\n",
       "    </tr>\n",
       "    <tr>\n",
       "      <th>...</th>\n",
       "      <td>...</td>\n",
       "      <td>...</td>\n",
       "      <td>...</td>\n",
       "    </tr>\n",
       "    <tr>\n",
       "      <th>57</th>\n",
       "      <td>2019-08-27</td>\n",
       "      <td>B</td>\n",
       "      <td>720</td>\n",
       "    </tr>\n",
       "    <tr>\n",
       "      <th>58</th>\n",
       "      <td>2019-08-28</td>\n",
       "      <td>B</td>\n",
       "      <td>654</td>\n",
       "    </tr>\n",
       "    <tr>\n",
       "      <th>59</th>\n",
       "      <td>2019-08-29</td>\n",
       "      <td>B</td>\n",
       "      <td>531</td>\n",
       "    </tr>\n",
       "    <tr>\n",
       "      <th>60</th>\n",
       "      <td>2019-08-30</td>\n",
       "      <td>B</td>\n",
       "      <td>490</td>\n",
       "    </tr>\n",
       "    <tr>\n",
       "      <th>61</th>\n",
       "      <td>2019-08-31</td>\n",
       "      <td>B</td>\n",
       "      <td>718</td>\n",
       "    </tr>\n",
       "  </tbody>\n",
       "</table>\n",
       "<p>62 rows × 3 columns</p>\n",
       "</div>"
      ],
      "text/plain": [
       "          date group  visitors\n",
       "0   2019-08-01     A       719\n",
       "1   2019-08-02     A       619\n",
       "2   2019-08-03     A       507\n",
       "3   2019-08-04     A       717\n",
       "4   2019-08-05     A       756\n",
       "..         ...   ...       ...\n",
       "57  2019-08-27     B       720\n",
       "58  2019-08-28     B       654\n",
       "59  2019-08-29     B       531\n",
       "60  2019-08-30     B       490\n",
       "61  2019-08-31     B       718\n",
       "\n",
       "[62 rows x 3 columns]"
      ]
     },
     "execution_count": 6,
     "metadata": {},
     "output_type": "execute_result"
    }
   ],
   "source": [
    "visitors.info()\n",
    "visitors"
   ]
  },
  {
   "cell_type": "markdown",
   "metadata": {},
   "source": [
    "### Вывод:\n",
    "\n",
    "* Видим что количество Гипотез 9 и оценены по 0-10 бальной шкале.\n",
    "* Пользователи разделены на 2 группы A и В.\n",
    "* Необходимо провести небольшую предобработку данных:\n",
    "    * Привести дату к нужному типу,\n",
    "    * Привести наименование столбцов к удобному формату для работы."
   ]
  },
  {
   "cell_type": "markdown",
   "metadata": {},
   "source": [
    "<div class=\"alert alert-block alert-success\">\n",
    "    \n",
    "<b>Комментарий от ревьюера</b> \n",
    "    \n",
    "Всё верно, можно переходить к предобработке.\n",
    "</div>"
   ]
  },
  {
   "cell_type": "markdown",
   "metadata": {},
   "source": [
    "## Предобработка данных"
   ]
  },
  {
   "cell_type": "markdown",
   "metadata": {},
   "source": [
    "### Таблица Hypothesis"
   ]
  },
  {
   "cell_type": "code",
   "execution_count": 7,
   "metadata": {},
   "outputs": [
    {
     "name": "stdout",
     "output_type": "stream",
     "text": [
      "<class 'pandas.core.frame.DataFrame'>\n",
      "RangeIndex: 9 entries, 0 to 8\n",
      "Data columns (total 5 columns):\n",
      " #   Column      Non-Null Count  Dtype \n",
      "---  ------      --------------  ----- \n",
      " 0   Hypothesis  9 non-null      object\n",
      " 1   Reach       9 non-null      int64 \n",
      " 2   Impact      9 non-null      int64 \n",
      " 3   Confidence  9 non-null      int64 \n",
      " 4   Efforts     9 non-null      int64 \n",
      "dtypes: int64(4), object(1)\n",
      "memory usage: 488.0+ bytes\n"
     ]
    },
    {
     "data": {
      "text/html": [
       "<div>\n",
       "<style scoped>\n",
       "    .dataframe tbody tr th:only-of-type {\n",
       "        vertical-align: middle;\n",
       "    }\n",
       "\n",
       "    .dataframe tbody tr th {\n",
       "        vertical-align: top;\n",
       "    }\n",
       "\n",
       "    .dataframe thead th {\n",
       "        text-align: right;\n",
       "    }\n",
       "</style>\n",
       "<table border=\"1\" class=\"dataframe\">\n",
       "  <thead>\n",
       "    <tr style=\"text-align: right;\">\n",
       "      <th></th>\n",
       "      <th>Reach</th>\n",
       "      <th>Impact</th>\n",
       "      <th>Confidence</th>\n",
       "      <th>Efforts</th>\n",
       "    </tr>\n",
       "  </thead>\n",
       "  <tbody>\n",
       "    <tr>\n",
       "      <th>count</th>\n",
       "      <td>9.000000</td>\n",
       "      <td>9.000000</td>\n",
       "      <td>9.000000</td>\n",
       "      <td>9.000000</td>\n",
       "    </tr>\n",
       "    <tr>\n",
       "      <th>mean</th>\n",
       "      <td>4.777778</td>\n",
       "      <td>4.777778</td>\n",
       "      <td>5.555556</td>\n",
       "      <td>4.888889</td>\n",
       "    </tr>\n",
       "    <tr>\n",
       "      <th>std</th>\n",
       "      <td>3.153481</td>\n",
       "      <td>3.192874</td>\n",
       "      <td>3.045944</td>\n",
       "      <td>2.803767</td>\n",
       "    </tr>\n",
       "    <tr>\n",
       "      <th>min</th>\n",
       "      <td>1.000000</td>\n",
       "      <td>1.000000</td>\n",
       "      <td>1.000000</td>\n",
       "      <td>1.000000</td>\n",
       "    </tr>\n",
       "    <tr>\n",
       "      <th>25%</th>\n",
       "      <td>3.000000</td>\n",
       "      <td>3.000000</td>\n",
       "      <td>3.000000</td>\n",
       "      <td>3.000000</td>\n",
       "    </tr>\n",
       "    <tr>\n",
       "      <th>50%</th>\n",
       "      <td>3.000000</td>\n",
       "      <td>3.000000</td>\n",
       "      <td>7.000000</td>\n",
       "      <td>5.000000</td>\n",
       "    </tr>\n",
       "    <tr>\n",
       "      <th>75%</th>\n",
       "      <td>8.000000</td>\n",
       "      <td>7.000000</td>\n",
       "      <td>8.000000</td>\n",
       "      <td>6.000000</td>\n",
       "    </tr>\n",
       "    <tr>\n",
       "      <th>max</th>\n",
       "      <td>10.000000</td>\n",
       "      <td>10.000000</td>\n",
       "      <td>9.000000</td>\n",
       "      <td>10.000000</td>\n",
       "    </tr>\n",
       "  </tbody>\n",
       "</table>\n",
       "</div>"
      ],
      "text/plain": [
       "           Reach     Impact  Confidence    Efforts\n",
       "count   9.000000   9.000000    9.000000   9.000000\n",
       "mean    4.777778   4.777778    5.555556   4.888889\n",
       "std     3.153481   3.192874    3.045944   2.803767\n",
       "min     1.000000   1.000000    1.000000   1.000000\n",
       "25%     3.000000   3.000000    3.000000   3.000000\n",
       "50%     3.000000   3.000000    7.000000   5.000000\n",
       "75%     8.000000   7.000000    8.000000   6.000000\n",
       "max    10.000000  10.000000    9.000000  10.000000"
      ]
     },
     "execution_count": 7,
     "metadata": {},
     "output_type": "execute_result"
    }
   ],
   "source": [
    "hypothesis.info()\n",
    "hypothesis.describe()"
   ]
  },
  {
   "cell_type": "code",
   "execution_count": 8,
   "metadata": {},
   "outputs": [
    {
     "data": {
      "text/plain": [
       "Index(['Hypothesis', 'Reach', 'Impact', 'Confidence', 'Efforts'], dtype='object')"
      ]
     },
     "execution_count": 8,
     "metadata": {},
     "output_type": "execute_result"
    }
   ],
   "source": [
    "hypothesis.columns"
   ]
  },
  {
   "cell_type": "code",
   "execution_count": 9,
   "metadata": {},
   "outputs": [],
   "source": [
    "hypothesis.columns = hypothesis.columns.str.lower()"
   ]
  },
  {
   "cell_type": "code",
   "execution_count": 10,
   "metadata": {},
   "outputs": [
    {
     "name": "stdout",
     "output_type": "stream",
     "text": [
      "<class 'pandas.core.frame.DataFrame'>\n",
      "RangeIndex: 9 entries, 0 to 8\n",
      "Data columns (total 5 columns):\n",
      " #   Column      Non-Null Count  Dtype \n",
      "---  ------      --------------  ----- \n",
      " 0   hypothesis  9 non-null      object\n",
      " 1   reach       9 non-null      int64 \n",
      " 2   impact      9 non-null      int64 \n",
      " 3   confidence  9 non-null      int64 \n",
      " 4   efforts     9 non-null      int64 \n",
      "dtypes: int64(4), object(1)\n",
      "memory usage: 488.0+ bytes\n"
     ]
    }
   ],
   "source": [
    "hypothesis.info()\n"
   ]
  },
  {
   "cell_type": "code",
   "execution_count": 11,
   "metadata": {},
   "outputs": [
    {
     "data": {
      "text/plain": [
       "0"
      ]
     },
     "execution_count": 11,
     "metadata": {},
     "output_type": "execute_result"
    }
   ],
   "source": [
    "hypothesis.duplicated().sum()"
   ]
  },
  {
   "cell_type": "code",
   "execution_count": 12,
   "metadata": {},
   "outputs": [
    {
     "data": {
      "text/plain": [
       "hypothesis    0\n",
       "reach         0\n",
       "impact        0\n",
       "confidence    0\n",
       "efforts       0\n",
       "dtype: int64"
      ]
     },
     "execution_count": 12,
     "metadata": {},
     "output_type": "execute_result"
    }
   ],
   "source": [
    "hypothesis.isna().sum()"
   ]
  },
  {
   "cell_type": "markdown",
   "metadata": {},
   "source": [
    "<div class=\"alert alert-block alert-success\">\n",
    "    \n",
    "**Комментарий от ревьюера**\n",
    "\n",
    "Молодец, что делаешь проверку на пропуски и дубликаты.\n",
    "</div>"
   ]
  },
  {
   "cell_type": "markdown",
   "metadata": {},
   "source": [
    "### Таблица Orders"
   ]
  },
  {
   "cell_type": "code",
   "execution_count": 13,
   "metadata": {},
   "outputs": [
    {
     "name": "stdout",
     "output_type": "stream",
     "text": [
      "<class 'pandas.core.frame.DataFrame'>\n",
      "RangeIndex: 1197 entries, 0 to 1196\n",
      "Data columns (total 5 columns):\n",
      " #   Column         Non-Null Count  Dtype \n",
      "---  ------         --------------  ----- \n",
      " 0   transactionId  1197 non-null   int64 \n",
      " 1   visitorId      1197 non-null   int64 \n",
      " 2   date           1197 non-null   object\n",
      " 3   revenue        1197 non-null   int64 \n",
      " 4   group          1197 non-null   object\n",
      "dtypes: int64(3), object(2)\n",
      "memory usage: 46.9+ KB\n"
     ]
    },
    {
     "data": {
      "text/html": [
       "<div>\n",
       "<style scoped>\n",
       "    .dataframe tbody tr th:only-of-type {\n",
       "        vertical-align: middle;\n",
       "    }\n",
       "\n",
       "    .dataframe tbody tr th {\n",
       "        vertical-align: top;\n",
       "    }\n",
       "\n",
       "    .dataframe thead th {\n",
       "        text-align: right;\n",
       "    }\n",
       "</style>\n",
       "<table border=\"1\" class=\"dataframe\">\n",
       "  <thead>\n",
       "    <tr style=\"text-align: right;\">\n",
       "      <th></th>\n",
       "      <th>transactionId</th>\n",
       "      <th>visitorId</th>\n",
       "      <th>revenue</th>\n",
       "    </tr>\n",
       "  </thead>\n",
       "  <tbody>\n",
       "    <tr>\n",
       "      <th>count</th>\n",
       "      <td>1.197000e+03</td>\n",
       "      <td>1.197000e+03</td>\n",
       "      <td>1.197000e+03</td>\n",
       "    </tr>\n",
       "    <tr>\n",
       "      <th>mean</th>\n",
       "      <td>2.155621e+09</td>\n",
       "      <td>2.165960e+09</td>\n",
       "      <td>8.348006e+03</td>\n",
       "    </tr>\n",
       "    <tr>\n",
       "      <th>std</th>\n",
       "      <td>1.229085e+09</td>\n",
       "      <td>1.236014e+09</td>\n",
       "      <td>3.919113e+04</td>\n",
       "    </tr>\n",
       "    <tr>\n",
       "      <th>min</th>\n",
       "      <td>1.062393e+06</td>\n",
       "      <td>5.114589e+06</td>\n",
       "      <td>5.000000e+01</td>\n",
       "    </tr>\n",
       "    <tr>\n",
       "      <th>25%</th>\n",
       "      <td>1.166776e+09</td>\n",
       "      <td>1.111826e+09</td>\n",
       "      <td>1.220000e+03</td>\n",
       "    </tr>\n",
       "    <tr>\n",
       "      <th>50%</th>\n",
       "      <td>2.145194e+09</td>\n",
       "      <td>2.217985e+09</td>\n",
       "      <td>2.978000e+03</td>\n",
       "    </tr>\n",
       "    <tr>\n",
       "      <th>75%</th>\n",
       "      <td>3.237740e+09</td>\n",
       "      <td>3.177606e+09</td>\n",
       "      <td>8.290000e+03</td>\n",
       "    </tr>\n",
       "    <tr>\n",
       "      <th>max</th>\n",
       "      <td>4.293856e+09</td>\n",
       "      <td>4.283872e+09</td>\n",
       "      <td>1.294500e+06</td>\n",
       "    </tr>\n",
       "  </tbody>\n",
       "</table>\n",
       "</div>"
      ],
      "text/plain": [
       "       transactionId     visitorId       revenue\n",
       "count   1.197000e+03  1.197000e+03  1.197000e+03\n",
       "mean    2.155621e+09  2.165960e+09  8.348006e+03\n",
       "std     1.229085e+09  1.236014e+09  3.919113e+04\n",
       "min     1.062393e+06  5.114589e+06  5.000000e+01\n",
       "25%     1.166776e+09  1.111826e+09  1.220000e+03\n",
       "50%     2.145194e+09  2.217985e+09  2.978000e+03\n",
       "75%     3.237740e+09  3.177606e+09  8.290000e+03\n",
       "max     4.293856e+09  4.283872e+09  1.294500e+06"
      ]
     },
     "execution_count": 13,
     "metadata": {},
     "output_type": "execute_result"
    }
   ],
   "source": [
    "orders.info()\n",
    "orders.describe()"
   ]
  },
  {
   "cell_type": "code",
   "execution_count": 14,
   "metadata": {},
   "outputs": [
    {
     "data": {
      "text/plain": [
       "Index(['transactionId', 'visitorId', 'date', 'revenue', 'group'], dtype='object')"
      ]
     },
     "execution_count": 14,
     "metadata": {},
     "output_type": "execute_result"
    }
   ],
   "source": [
    "orders.columns"
   ]
  },
  {
   "cell_type": "code",
   "execution_count": 15,
   "metadata": {},
   "outputs": [],
   "source": [
    "orders.columns = ['transaction_id', 'visitor_id', 'date', 'revenue', 'group']\n",
    "orders['date'] = pd.to_datetime(orders['date'])"
   ]
  },
  {
   "cell_type": "code",
   "execution_count": 16,
   "metadata": {},
   "outputs": [
    {
     "name": "stdout",
     "output_type": "stream",
     "text": [
      "<class 'pandas.core.frame.DataFrame'>\n",
      "RangeIndex: 1197 entries, 0 to 1196\n",
      "Data columns (total 5 columns):\n",
      " #   Column          Non-Null Count  Dtype         \n",
      "---  ------          --------------  -----         \n",
      " 0   transaction_id  1197 non-null   int64         \n",
      " 1   visitor_id      1197 non-null   int64         \n",
      " 2   date            1197 non-null   datetime64[ns]\n",
      " 3   revenue         1197 non-null   int64         \n",
      " 4   group           1197 non-null   object        \n",
      "dtypes: datetime64[ns](1), int64(3), object(1)\n",
      "memory usage: 46.9+ KB\n"
     ]
    }
   ],
   "source": [
    "orders.info()"
   ]
  },
  {
   "cell_type": "code",
   "execution_count": 17,
   "metadata": {},
   "outputs": [
    {
     "data": {
      "text/plain": [
       "0"
      ]
     },
     "execution_count": 17,
     "metadata": {},
     "output_type": "execute_result"
    }
   ],
   "source": [
    "orders.duplicated().sum()"
   ]
  },
  {
   "cell_type": "code",
   "execution_count": 18,
   "metadata": {},
   "outputs": [
    {
     "data": {
      "text/plain": [
       "transaction_id    0\n",
       "visitor_id        0\n",
       "date              0\n",
       "revenue           0\n",
       "group             0\n",
       "dtype: int64"
      ]
     },
     "execution_count": 18,
     "metadata": {},
     "output_type": "execute_result"
    }
   ],
   "source": [
    "orders.isna().sum()"
   ]
  },
  {
   "cell_type": "markdown",
   "metadata": {},
   "source": [
    "### Таблица Visitors"
   ]
  },
  {
   "cell_type": "code",
   "execution_count": 19,
   "metadata": {},
   "outputs": [
    {
     "name": "stdout",
     "output_type": "stream",
     "text": [
      "<class 'pandas.core.frame.DataFrame'>\n",
      "RangeIndex: 62 entries, 0 to 61\n",
      "Data columns (total 3 columns):\n",
      " #   Column    Non-Null Count  Dtype \n",
      "---  ------    --------------  ----- \n",
      " 0   date      62 non-null     object\n",
      " 1   group     62 non-null     object\n",
      " 2   visitors  62 non-null     int64 \n",
      "dtypes: int64(1), object(2)\n",
      "memory usage: 1.6+ KB\n"
     ]
    }
   ],
   "source": [
    "visitors.info()"
   ]
  },
  {
   "cell_type": "code",
   "execution_count": 20,
   "metadata": {},
   "outputs": [],
   "source": [
    "visitors['date'] = pd.to_datetime(visitors['date'])"
   ]
  },
  {
   "cell_type": "markdown",
   "metadata": {},
   "source": [
    "<div class=\"alert alert-block alert-success\">\n",
    "    \n",
    "**Комментарий от ревьюера**\n",
    "\n",
    "Да, здесь нужно поменять формат даты.\n",
    "</div>"
   ]
  },
  {
   "cell_type": "code",
   "execution_count": 21,
   "metadata": {},
   "outputs": [
    {
     "data": {
      "text/plain": [
       "0"
      ]
     },
     "execution_count": 21,
     "metadata": {},
     "output_type": "execute_result"
    }
   ],
   "source": [
    "visitors.duplicated().sum()"
   ]
  },
  {
   "cell_type": "code",
   "execution_count": 22,
   "metadata": {},
   "outputs": [
    {
     "data": {
      "text/plain": [
       "date        0\n",
       "group       0\n",
       "visitors    0\n",
       "dtype: int64"
      ]
     },
     "execution_count": 22,
     "metadata": {},
     "output_type": "execute_result"
    }
   ],
   "source": [
    "visitors.isna().sum()"
   ]
  },
  {
   "cell_type": "code",
   "execution_count": 23,
   "metadata": {},
   "outputs": [
    {
     "name": "stdout",
     "output_type": "stream",
     "text": [
      "<class 'pandas.core.frame.DataFrame'>\n",
      "RangeIndex: 62 entries, 0 to 61\n",
      "Data columns (total 3 columns):\n",
      " #   Column    Non-Null Count  Dtype         \n",
      "---  ------    --------------  -----         \n",
      " 0   date      62 non-null     datetime64[ns]\n",
      " 1   group     62 non-null     object        \n",
      " 2   visitors  62 non-null     int64         \n",
      "dtypes: datetime64[ns](1), int64(1), object(1)\n",
      "memory usage: 1.6+ KB\n"
     ]
    }
   ],
   "source": [
    "visitors.info()"
   ]
  },
  {
   "cell_type": "markdown",
   "metadata": {},
   "source": [
    "### Вывод:\n",
    "\n",
    "* Привели наименование столбцов и тип данных в нужный формат для работы,\n",
    "* Так же проверили данные на наличие пропусков и дубликатов."
   ]
  },
  {
   "cell_type": "markdown",
   "metadata": {},
   "source": [
    "## Первая часть"
   ]
  },
  {
   "cell_type": "markdown",
   "metadata": {},
   "source": [
    "### Примените фреймворк ICE для приоритизации гипотез. Отсортируйте их по убыванию приоритета."
   ]
  },
  {
   "cell_type": "code",
   "execution_count": 24,
   "metadata": {},
   "outputs": [
    {
     "data": {
      "text/html": [
       "<div>\n",
       "<style scoped>\n",
       "    .dataframe tbody tr th:only-of-type {\n",
       "        vertical-align: middle;\n",
       "    }\n",
       "\n",
       "    .dataframe tbody tr th {\n",
       "        vertical-align: top;\n",
       "    }\n",
       "\n",
       "    .dataframe thead th {\n",
       "        text-align: right;\n",
       "    }\n",
       "</style>\n",
       "<table border=\"1\" class=\"dataframe\">\n",
       "  <thead>\n",
       "    <tr style=\"text-align: right;\">\n",
       "      <th></th>\n",
       "      <th>hypothesis</th>\n",
       "      <th>ICE</th>\n",
       "    </tr>\n",
       "  </thead>\n",
       "  <tbody>\n",
       "    <tr>\n",
       "      <th>8</th>\n",
       "      <td>Запустить акцию, дающую скидку на товар в день рождения</td>\n",
       "      <td>16.20</td>\n",
       "    </tr>\n",
       "    <tr>\n",
       "      <th>0</th>\n",
       "      <td>Добавить два новых канала привлечения трафика, что позволит привлекать на 30% больше пользователей</td>\n",
       "      <td>13.33</td>\n",
       "    </tr>\n",
       "    <tr>\n",
       "      <th>7</th>\n",
       "      <td>Добавить форму подписки на все основные страницы, чтобы собрать базу клиентов для email-рассылок</td>\n",
       "      <td>11.20</td>\n",
       "    </tr>\n",
       "    <tr>\n",
       "      <th>6</th>\n",
       "      <td>Показать на главной странице баннеры с актуальными акциями и распродажами, чтобы увеличить конверсию</td>\n",
       "      <td>8.00</td>\n",
       "    </tr>\n",
       "    <tr>\n",
       "      <th>2</th>\n",
       "      <td>Добавить блоки рекомендаций товаров на сайт интернет магазина, чтобы повысить конверсию и средний чек заказа</td>\n",
       "      <td>7.00</td>\n",
       "    </tr>\n",
       "    <tr>\n",
       "      <th>1</th>\n",
       "      <td>Запустить собственную службу доставки, что сократит срок доставки заказов</td>\n",
       "      <td>2.00</td>\n",
       "    </tr>\n",
       "    <tr>\n",
       "      <th>5</th>\n",
       "      <td>Добавить страницу отзывов клиентов о магазине, что позволит увеличить количество заказов</td>\n",
       "      <td>1.33</td>\n",
       "    </tr>\n",
       "    <tr>\n",
       "      <th>3</th>\n",
       "      <td>Изменить структура категорий, что увеличит конверсию, т.к. пользователи быстрее найдут нужный товар</td>\n",
       "      <td>1.12</td>\n",
       "    </tr>\n",
       "    <tr>\n",
       "      <th>4</th>\n",
       "      <td>Изменить цвет фона главной страницы, чтобы увеличить вовлеченность пользователей</td>\n",
       "      <td>1.00</td>\n",
       "    </tr>\n",
       "  </tbody>\n",
       "</table>\n",
       "</div>"
      ],
      "text/plain": [
       "                                                                                                     hypothesis  \\\n",
       "8                                                       Запустить акцию, дающую скидку на товар в день рождения   \n",
       "0            Добавить два новых канала привлечения трафика, что позволит привлекать на 30% больше пользователей   \n",
       "7              Добавить форму подписки на все основные страницы, чтобы собрать базу клиентов для email-рассылок   \n",
       "6          Показать на главной странице баннеры с актуальными акциями и распродажами, чтобы увеличить конверсию   \n",
       "2  Добавить блоки рекомендаций товаров на сайт интернет магазина, чтобы повысить конверсию и средний чек заказа   \n",
       "1                                     Запустить собственную службу доставки, что сократит срок доставки заказов   \n",
       "5                      Добавить страницу отзывов клиентов о магазине, что позволит увеличить количество заказов   \n",
       "3           Изменить структура категорий, что увеличит конверсию, т.к. пользователи быстрее найдут нужный товар   \n",
       "4                              Изменить цвет фона главной страницы, чтобы увеличить вовлеченность пользователей   \n",
       "\n",
       "     ICE  \n",
       "8  16.20  \n",
       "0  13.33  \n",
       "7  11.20  \n",
       "6   8.00  \n",
       "2   7.00  \n",
       "1   2.00  \n",
       "5   1.33  \n",
       "3   1.12  \n",
       "4   1.00  "
      ]
     },
     "execution_count": 24,
     "metadata": {},
     "output_type": "execute_result"
    }
   ],
   "source": [
    "hypothesis['ICE'] = (hypothesis['impact'] * hypothesis['confidence'] / hypothesis['efforts']).round(2)\n",
    "hypothesis[['hypothesis', 'ICE']].sort_values(by = 'ICE',ascending = False)\n"
   ]
  },
  {
   "cell_type": "markdown",
   "metadata": {},
   "source": [
    "<div class=\"alert alert-success\">\n",
    "<b> Комментарий от ревьюера 2</b>\n",
    "\n",
    "Молодец, что отредактировал таблицу, теперь можно легко сравнить гипотезы. \n",
    "\n",
    "</div>"
   ]
  },
  {
   "cell_type": "code",
   "execution_count": 25,
   "metadata": {},
   "outputs": [
    {
     "data": {
      "image/png": "[encoded data removed]",
      "text/plain": [
       "<Figure size 1368x432 with 1 Axes>"
      ]
     },
     "metadata": {
      "needs_background": "light"
     },
     "output_type": "display_data"
    }
   ],
   "source": [
    "hypothesis[['hypothesis', 'ICE']].set_index('hypothesis')\\\n",
    "                                .sort_values('ICE',ascending = False)\\\n",
    "                                .plot(kind = 'barh',grid = True,color = 'c',figsize = (19,6))\n",
    "plt.title('Приоритезация гипотез ICE')\n",
    "plt.ylabel(' ')\n",
    "plt.xlabel('ICE')\n",
    "plt.show()"
   ]
  },
  {
   "cell_type": "markdown",
   "metadata": {},
   "source": [
    "Наиболее перспективные гипотезы по ICE "
   ]
  },
  {
   "cell_type": "markdown",
   "metadata": {},
   "source": [
    "### Примените фреймворк RICE для приоритизации гипотез. Отсортируйте их по убыванию приоритета."
   ]
  },
  {
   "cell_type": "code",
   "execution_count": 26,
   "metadata": {},
   "outputs": [
    {
     "data": {
      "text/html": [
       "<div>\n",
       "<style scoped>\n",
       "    .dataframe tbody tr th:only-of-type {\n",
       "        vertical-align: middle;\n",
       "    }\n",
       "\n",
       "    .dataframe tbody tr th {\n",
       "        vertical-align: top;\n",
       "    }\n",
       "\n",
       "    .dataframe thead th {\n",
       "        text-align: right;\n",
       "    }\n",
       "</style>\n",
       "<table border=\"1\" class=\"dataframe\">\n",
       "  <thead>\n",
       "    <tr style=\"text-align: right;\">\n",
       "      <th></th>\n",
       "      <th>hypothesis</th>\n",
       "      <th>RICE</th>\n",
       "    </tr>\n",
       "  </thead>\n",
       "  <tbody>\n",
       "    <tr>\n",
       "      <th>7</th>\n",
       "      <td>Добавить форму подписки на все основные страницы, чтобы собрать базу клиентов для email-рассылок</td>\n",
       "      <td>112.0</td>\n",
       "    </tr>\n",
       "    <tr>\n",
       "      <th>2</th>\n",
       "      <td>Добавить блоки рекомендаций товаров на сайт интернет магазина, чтобы повысить конверсию и средний чек заказа</td>\n",
       "      <td>56.0</td>\n",
       "    </tr>\n",
       "    <tr>\n",
       "      <th>0</th>\n",
       "      <td>Добавить два новых канала привлечения трафика, что позволит привлекать на 30% больше пользователей</td>\n",
       "      <td>40.0</td>\n",
       "    </tr>\n",
       "    <tr>\n",
       "      <th>6</th>\n",
       "      <td>Показать на главной странице баннеры с актуальными акциями и распродажами, чтобы увеличить конверсию</td>\n",
       "      <td>40.0</td>\n",
       "    </tr>\n",
       "    <tr>\n",
       "      <th>8</th>\n",
       "      <td>Запустить акцию, дающую скидку на товар в день рождения</td>\n",
       "      <td>16.2</td>\n",
       "    </tr>\n",
       "    <tr>\n",
       "      <th>3</th>\n",
       "      <td>Изменить структура категорий, что увеличит конверсию, т.к. пользователи быстрее найдут нужный товар</td>\n",
       "      <td>9.0</td>\n",
       "    </tr>\n",
       "    <tr>\n",
       "      <th>1</th>\n",
       "      <td>Запустить собственную службу доставки, что сократит срок доставки заказов</td>\n",
       "      <td>4.0</td>\n",
       "    </tr>\n",
       "    <tr>\n",
       "      <th>5</th>\n",
       "      <td>Добавить страницу отзывов клиентов о магазине, что позволит увеличить количество заказов</td>\n",
       "      <td>4.0</td>\n",
       "    </tr>\n",
       "    <tr>\n",
       "      <th>4</th>\n",
       "      <td>Изменить цвет фона главной страницы, чтобы увеличить вовлеченность пользователей</td>\n",
       "      <td>3.0</td>\n",
       "    </tr>\n",
       "  </tbody>\n",
       "</table>\n",
       "</div>"
      ],
      "text/plain": [
       "                                                                                                     hypothesis  \\\n",
       "7              Добавить форму подписки на все основные страницы, чтобы собрать базу клиентов для email-рассылок   \n",
       "2  Добавить блоки рекомендаций товаров на сайт интернет магазина, чтобы повысить конверсию и средний чек заказа   \n",
       "0            Добавить два новых канала привлечения трафика, что позволит привлекать на 30% больше пользователей   \n",
       "6          Показать на главной странице баннеры с актуальными акциями и распродажами, чтобы увеличить конверсию   \n",
       "8                                                       Запустить акцию, дающую скидку на товар в день рождения   \n",
       "3           Изменить структура категорий, что увеличит конверсию, т.к. пользователи быстрее найдут нужный товар   \n",
       "1                                     Запустить собственную службу доставки, что сократит срок доставки заказов   \n",
       "5                      Добавить страницу отзывов клиентов о магазине, что позволит увеличить количество заказов   \n",
       "4                              Изменить цвет фона главной страницы, чтобы увеличить вовлеченность пользователей   \n",
       "\n",
       "    RICE  \n",
       "7  112.0  \n",
       "2   56.0  \n",
       "0   40.0  \n",
       "6   40.0  \n",
       "8   16.2  \n",
       "3    9.0  \n",
       "1    4.0  \n",
       "5    4.0  \n",
       "4    3.0  "
      ]
     },
     "execution_count": 26,
     "metadata": {},
     "output_type": "execute_result"
    }
   ],
   "source": [
    "hypothesis['RICE'] = hypothesis['reach'] * hypothesis['impact'] * hypothesis['confidence'] / hypothesis['efforts']\n",
    "hypothesis[['hypothesis','RICE']].sort_values(by = 'RICE', ascending = False)"
   ]
  },
  {
   "cell_type": "markdown",
   "metadata": {},
   "source": [
    "<div class=\"alert alert-block alert-success\">\n",
    "    \n",
    "**Комментарий от ревьюера**\n",
    "\n",
    "Молодец, что выводишь таблицу дважды, каждый раз с сортировкой по одному из фреймворков - так различия в их работе максимально наглядны.\n",
    "</div>"
   ]
  },
  {
   "cell_type": "code",
   "execution_count": 27,
   "metadata": {},
   "outputs": [
    {
     "data": {
      "image/png": "[encoded data removed]",
      "text/plain": [
       "<Figure size 1368x432 with 1 Axes>"
      ]
     },
     "metadata": {
      "needs_background": "light"
     },
     "output_type": "display_data"
    }
   ],
   "source": [
    "hypothesis[['hypothesis','RICE']].set_index('hypothesis')\\\n",
    "                                .sort_values('RICE',ascending = False)\\\n",
    "                                .plot(kind = 'barh',grid = True,color = 'c',figsize = (19,6))\n",
    "plt.title('Приоритезация гипотез RICE')\n",
    "plt.ylabel(' ')\n",
    "plt.xlabel('RICE')\n",
    "plt.show()"
   ]
  },
  {
   "cell_type": "markdown",
   "metadata": {},
   "source": [
    "### Укажите, как изменилась приоритизация гипотез при применении RICE вместо ICE. Объясните, почему так произошло"
   ]
  },
  {
   "cell_type": "code",
   "execution_count": 28,
   "metadata": {},
   "outputs": [
    {
     "data": {
      "text/html": [
       "<div>\n",
       "<style scoped>\n",
       "    .dataframe tbody tr th:only-of-type {\n",
       "        vertical-align: middle;\n",
       "    }\n",
       "\n",
       "    .dataframe tbody tr th {\n",
       "        vertical-align: top;\n",
       "    }\n",
       "\n",
       "    .dataframe thead th {\n",
       "        text-align: right;\n",
       "    }\n",
       "</style>\n",
       "<table border=\"1\" class=\"dataframe\">\n",
       "  <thead>\n",
       "    <tr style=\"text-align: right;\">\n",
       "      <th></th>\n",
       "      <th>hypothesis</th>\n",
       "      <th>reach</th>\n",
       "      <th>impact</th>\n",
       "      <th>confidence</th>\n",
       "      <th>efforts</th>\n",
       "      <th>ICE</th>\n",
       "      <th>RICE</th>\n",
       "    </tr>\n",
       "  </thead>\n",
       "  <tbody>\n",
       "    <tr>\n",
       "      <th>7</th>\n",
       "      <td>Добавить форму подписки на все основные страницы, чтобы собрать базу клиентов для email-рассылок</td>\n",
       "      <td>10</td>\n",
       "      <td>7</td>\n",
       "      <td>8</td>\n",
       "      <td>5</td>\n",
       "      <td>11.20</td>\n",
       "      <td>112.0</td>\n",
       "    </tr>\n",
       "    <tr>\n",
       "      <th>2</th>\n",
       "      <td>Добавить блоки рекомендаций товаров на сайт интернет магазина, чтобы повысить конверсию и средний чек заказа</td>\n",
       "      <td>8</td>\n",
       "      <td>3</td>\n",
       "      <td>7</td>\n",
       "      <td>3</td>\n",
       "      <td>7.00</td>\n",
       "      <td>56.0</td>\n",
       "    </tr>\n",
       "    <tr>\n",
       "      <th>0</th>\n",
       "      <td>Добавить два новых канала привлечения трафика, что позволит привлекать на 30% больше пользователей</td>\n",
       "      <td>3</td>\n",
       "      <td>10</td>\n",
       "      <td>8</td>\n",
       "      <td>6</td>\n",
       "      <td>13.33</td>\n",
       "      <td>40.0</td>\n",
       "    </tr>\n",
       "    <tr>\n",
       "      <th>6</th>\n",
       "      <td>Показать на главной странице баннеры с актуальными акциями и распродажами, чтобы увеличить конверсию</td>\n",
       "      <td>5</td>\n",
       "      <td>3</td>\n",
       "      <td>8</td>\n",
       "      <td>3</td>\n",
       "      <td>8.00</td>\n",
       "      <td>40.0</td>\n",
       "    </tr>\n",
       "    <tr>\n",
       "      <th>8</th>\n",
       "      <td>Запустить акцию, дающую скидку на товар в день рождения</td>\n",
       "      <td>1</td>\n",
       "      <td>9</td>\n",
       "      <td>9</td>\n",
       "      <td>5</td>\n",
       "      <td>16.20</td>\n",
       "      <td>16.2</td>\n",
       "    </tr>\n",
       "    <tr>\n",
       "      <th>3</th>\n",
       "      <td>Изменить структура категорий, что увеличит конверсию, т.к. пользователи быстрее найдут нужный товар</td>\n",
       "      <td>8</td>\n",
       "      <td>3</td>\n",
       "      <td>3</td>\n",
       "      <td>8</td>\n",
       "      <td>1.12</td>\n",
       "      <td>9.0</td>\n",
       "    </tr>\n",
       "    <tr>\n",
       "      <th>1</th>\n",
       "      <td>Запустить собственную службу доставки, что сократит срок доставки заказов</td>\n",
       "      <td>2</td>\n",
       "      <td>5</td>\n",
       "      <td>4</td>\n",
       "      <td>10</td>\n",
       "      <td>2.00</td>\n",
       "      <td>4.0</td>\n",
       "    </tr>\n",
       "    <tr>\n",
       "      <th>5</th>\n",
       "      <td>Добавить страницу отзывов клиентов о магазине, что позволит увеличить количество заказов</td>\n",
       "      <td>3</td>\n",
       "      <td>2</td>\n",
       "      <td>2</td>\n",
       "      <td>3</td>\n",
       "      <td>1.33</td>\n",
       "      <td>4.0</td>\n",
       "    </tr>\n",
       "    <tr>\n",
       "      <th>4</th>\n",
       "      <td>Изменить цвет фона главной страницы, чтобы увеличить вовлеченность пользователей</td>\n",
       "      <td>3</td>\n",
       "      <td>1</td>\n",
       "      <td>1</td>\n",
       "      <td>1</td>\n",
       "      <td>1.00</td>\n",
       "      <td>3.0</td>\n",
       "    </tr>\n",
       "  </tbody>\n",
       "</table>\n",
       "</div>"
      ],
      "text/plain": [
       "                                                                                                     hypothesis  \\\n",
       "7              Добавить форму подписки на все основные страницы, чтобы собрать базу клиентов для email-рассылок   \n",
       "2  Добавить блоки рекомендаций товаров на сайт интернет магазина, чтобы повысить конверсию и средний чек заказа   \n",
       "0            Добавить два новых канала привлечения трафика, что позволит привлекать на 30% больше пользователей   \n",
       "6          Показать на главной странице баннеры с актуальными акциями и распродажами, чтобы увеличить конверсию   \n",
       "8                                                       Запустить акцию, дающую скидку на товар в день рождения   \n",
       "3           Изменить структура категорий, что увеличит конверсию, т.к. пользователи быстрее найдут нужный товар   \n",
       "1                                     Запустить собственную службу доставки, что сократит срок доставки заказов   \n",
       "5                      Добавить страницу отзывов клиентов о магазине, что позволит увеличить количество заказов   \n",
       "4                              Изменить цвет фона главной страницы, чтобы увеличить вовлеченность пользователей   \n",
       "\n",
       "   reach  impact  confidence  efforts    ICE   RICE  \n",
       "7     10       7           8        5  11.20  112.0  \n",
       "2      8       3           7        3   7.00   56.0  \n",
       "0      3      10           8        6  13.33   40.0  \n",
       "6      5       3           8        3   8.00   40.0  \n",
       "8      1       9           9        5  16.20   16.2  \n",
       "3      8       3           3        8   1.12    9.0  \n",
       "1      2       5           4       10   2.00    4.0  \n",
       "5      3       2           2        3   1.33    4.0  \n",
       "4      3       1           1        1   1.00    3.0  "
      ]
     },
     "execution_count": 28,
     "metadata": {},
     "output_type": "execute_result"
    }
   ],
   "source": [
    "hypothesis.sort_values(by = 'RICE',ascending = False)"
   ]
  },
  {
   "cell_type": "markdown",
   "metadata": {},
   "source": [
    "Согласно анализу по фреймворку ICE, более переспективные гипотезы :\n",
    "* Запустить акцию, дающую скидку на товар в день рождения,\n",
    "* Добавить два новых канала привлечения трафика, что позволит привлекать на 30% больше пользователей,\n",
    "* Добавить форму подписки на все основные страницы, чтобы собрать базу клиентов для email-рассылок,\n",
    "* Показать на главной странице баннеры с актуальными акциями и распродажами, чтобы увеличить конверсию,\n",
    "* Добавить блоки рекомендаций товаров на сайт интернет магазина, чтобы повысить конверсию и средний чек заказа.\n",
    "\n",
    "А после анализа по фреймворку RICE:\n",
    "* Добавить форму подписки на все основные страницы, чтобы собрать базу клиентов для email-рассылок,\n",
    "* Добавить блоки рекомендаций товаров на сайт интернет магазина, чтобы повысить конверсию и средний чек заказа,\n",
    "* Добавить два новых канала привлечения трафика, что позволит привлекать на 30% больше пользователей,\n",
    "* Показать на главной странице баннеры с актуальными акциями и распродажами, чтобы увеличить конверсию,\n",
    "* Запустить акцию, дающую скидку на товар в день рождения.\n",
    "\n",
    "Различия в данных формулах в том что RICE учитывает количество пользователей, которых затронет данная гепотеза.\n",
    "\n",
    "Гипотезы остались те же, но изменился порядок приоритета. Видим что гипотеза \"Запустить акцию, дающую скидку на товар в день рождения.\" по ICE была на первом месте а по RICE на 5, это в связи с тем что Охват пользователей равен - 1 баллу, и я думаю можно исключить данную гепотезу из переспективных гипотез.\n",
    "\n",
    "Таким образом, более перспективные гепотезы:\n",
    "\n",
    "- Добавить форму подписки на все основные страницы, чтобы собрать базу клиентов для email-рассылок;\n",
    "- Добавить блоки рекомендаций товаров на сайт интернет магазина, чтобы повысить конверсию и средний чек заказа;\n",
    "- Добавить два новых канала привлечения трафика, что позволит привлекать на 30% больше пользователей;\n",
    "- Показать на главной странице баннеры с актуальными акциями и распродажами, чтобы увеличить конверсию.\n"
   ]
  },
  {
   "cell_type": "markdown",
   "metadata": {},
   "source": [
    "<div class=\"alert alert-block alert-success\">\n",
    "<b>Комментарий от ревьюера 2</b> \n",
    "    \n",
    "Здорово, теперь в выводе есть все что нужно.\n",
    "</div>"
   ]
  },
  {
   "cell_type": "markdown",
   "metadata": {},
   "source": [
    "## Вторая часть"
   ]
  },
  {
   "cell_type": "markdown",
   "metadata": {},
   "source": [
    "### Постройте график кумулятивной выручки по группам. Сделайте выводы и предположения"
   ]
  },
  {
   "cell_type": "code",
   "execution_count": 29,
   "metadata": {},
   "outputs": [],
   "source": [
    "dateGroup = orders[['date', 'group']].drop_duplicates()\n",
    "\n",
    "ordersAgg = dateGroup.apply(\n",
    "    lambda x: orders[np.logical_and(orders['date'] <= x['date'], orders['group'] == x['group'])].agg({\n",
    "'date' : 'max',\n",
    "'group' : 'max',\n",
    "'transaction_id' : pd.Series.nunique,\n",
    "'visitor_id' : pd.Series.nunique,\n",
    "'revenue' : 'sum'}), axis=1).sort_values(by=['date','group'])\n",
    "\n",
    "visitorsAgg = dateGroup.apply(\n",
    "    lambda x: visitors[np.logical_and(visitors['date'] <= x['date'], visitors['group'] == x['group'])].agg({\n",
    "'date' : 'max',\n",
    "'group' : 'max',\n",
    "'visitors' : 'sum'}), axis=1).sort_values(by=['date','group'])"
   ]
  },
  {
   "cell_type": "code",
   "execution_count": 30,
   "metadata": {},
   "outputs": [
    {
     "data": {
      "text/html": [
       "<div>\n",
       "<style scoped>\n",
       "    .dataframe tbody tr th:only-of-type {\n",
       "        vertical-align: middle;\n",
       "    }\n",
       "\n",
       "    .dataframe tbody tr th {\n",
       "        vertical-align: top;\n",
       "    }\n",
       "\n",
       "    .dataframe thead th {\n",
       "        text-align: right;\n",
       "    }\n",
       "</style>\n",
       "<table border=\"1\" class=\"dataframe\">\n",
       "  <thead>\n",
       "    <tr style=\"text-align: right;\">\n",
       "      <th></th>\n",
       "      <th>date</th>\n",
       "      <th>group</th>\n",
       "      <th>orders</th>\n",
       "      <th>buyers</th>\n",
       "      <th>revenue</th>\n",
       "      <th>visitors</th>\n",
       "    </tr>\n",
       "  </thead>\n",
       "  <tbody>\n",
       "    <tr>\n",
       "      <th>0</th>\n",
       "      <td>2019-08-01</td>\n",
       "      <td>A</td>\n",
       "      <td>24</td>\n",
       "      <td>20</td>\n",
       "      <td>148579</td>\n",
       "      <td>719</td>\n",
       "    </tr>\n",
       "    <tr>\n",
       "      <th>1</th>\n",
       "      <td>2019-08-01</td>\n",
       "      <td>B</td>\n",
       "      <td>21</td>\n",
       "      <td>20</td>\n",
       "      <td>101217</td>\n",
       "      <td>713</td>\n",
       "    </tr>\n",
       "    <tr>\n",
       "      <th>2</th>\n",
       "      <td>2019-08-02</td>\n",
       "      <td>A</td>\n",
       "      <td>44</td>\n",
       "      <td>38</td>\n",
       "      <td>242401</td>\n",
       "      <td>1338</td>\n",
       "    </tr>\n",
       "    <tr>\n",
       "      <th>3</th>\n",
       "      <td>2019-08-02</td>\n",
       "      <td>B</td>\n",
       "      <td>45</td>\n",
       "      <td>43</td>\n",
       "      <td>266748</td>\n",
       "      <td>1294</td>\n",
       "    </tr>\n",
       "    <tr>\n",
       "      <th>4</th>\n",
       "      <td>2019-08-03</td>\n",
       "      <td>A</td>\n",
       "      <td>68</td>\n",
       "      <td>62</td>\n",
       "      <td>354874</td>\n",
       "      <td>1845</td>\n",
       "    </tr>\n",
       "  </tbody>\n",
       "</table>\n",
       "</div>"
      ],
      "text/plain": [
       "        date group  orders  buyers  revenue  visitors\n",
       "0 2019-08-01     A      24      20   148579       719\n",
       "1 2019-08-01     B      21      20   101217       713\n",
       "2 2019-08-02     A      44      38   242401      1338\n",
       "3 2019-08-02     B      45      43   266748      1294\n",
       "4 2019-08-03     A      68      62   354874      1845"
      ]
     },
     "execution_count": 30,
     "metadata": {},
     "output_type": "execute_result"
    }
   ],
   "source": [
    "cumulativeData = ordersAgg.merge(visitorsAgg,left_on = ['date','group'],right_on = ['date', 'group'])\n",
    "cumulativeData.columns = ['date', 'group', 'orders', 'buyers', 'revenue', 'visitors']\n",
    "cumulativeData.head()"
   ]
  },
  {
   "cell_type": "markdown",
   "metadata": {},
   "source": [
    "<div class=\"alert alert-info\">\n",
    "    \n",
    "готово\n",
    "</div>"
   ]
  },
  {
   "cell_type": "markdown",
   "metadata": {},
   "source": [
    "<div class=\"alert alert-block alert-success\">\n",
    "<b>Комментарий от ревьюера 2</b> \n",
    "    \n",
    "Теперь таблица получилась верная.\n",
    "</div>"
   ]
  },
  {
   "cell_type": "code",
   "execution_count": 31,
   "metadata": {},
   "outputs": [
    {
     "data": {
      "image/png": "[encoded data removed]",
      "text/plain": [
       "<Figure size 720x432 with 1 Axes>"
      ]
     },
     "metadata": {
      "needs_background": "light"
     },
     "output_type": "display_data"
    }
   ],
   "source": [
    "cumulativeRevenueA = cumulativeData[cumulativeData['group'] == 'A'][['date', 'revenue', 'orders']]\n",
    "cumulativeRevenueB = cumulativeData[cumulativeData['group'] == 'B'][['date', 'revenue', 'orders']]\n",
    "\n",
    "plt.figure(figsize = (10,6))\n",
    "plt.plot(cumulativeRevenueA['date'], cumulativeRevenueA['revenue'], label = 'A',marker = 'o')\n",
    "plt.plot(cumulativeRevenueB['date'], cumulativeRevenueB['revenue'], label = 'B',marker = 'o')\n",
    "plt.title('Кумулятивная выручка по группам')\n",
    "plt.xlabel('Дата')\n",
    "plt.ylabel('Выручка')\n",
    "plt.xticks(rotation=45)\n",
    "plt.grid(True)\n",
    "plt.legend()\n",
    "plt.show()"
   ]
  },
  {
   "cell_type": "markdown",
   "metadata": {},
   "source": [
    "На графике видно что у группы В есть отклонения(возможно аномалии), а у группы А растет равномерно."
   ]
  },
  {
   "cell_type": "markdown",
   "metadata": {},
   "source": [
    "<div class=\"alert alert-block alert-success\">\n",
    "    \n",
    "**Комментарий от ревьюера**\n",
    "\n",
    "Верно, скачок в группе B может быть связан с аномалиями.\n",
    "</div>"
   ]
  },
  {
   "cell_type": "markdown",
   "metadata": {},
   "source": [
    "### Постройте график кумулятивного среднего чека по группам. Сделайте выводы и предположения."
   ]
  },
  {
   "cell_type": "code",
   "execution_count": 32,
   "metadata": {},
   "outputs": [
    {
     "data": {
      "image/png": "[encoded data removed]",
      "text/plain": [
       "<Figure size 720x432 with 1 Axes>"
      ]
     },
     "metadata": {
      "needs_background": "light"
     },
     "output_type": "display_data"
    }
   ],
   "source": [
    "plt.figure(figsize = (10,6))\n",
    "plt.plot(cumulativeRevenueA['date'], cumulativeRevenueA['revenue']/cumulativeRevenueA['orders'], label='A', marker = 'o')\n",
    "plt.plot(cumulativeRevenueB['date'], cumulativeRevenueB['revenue']/cumulativeRevenueB['orders'], label='B', marker = 'o')\n",
    "plt.title('Кумулятивная среднего чека')\n",
    "plt.xlabel('Дата')\n",
    "plt.ylabel('Средникй чек')\n",
    "plt.xticks(rotation=45)\n",
    "plt.grid(True)\n",
    "plt.legend()\n",
    "plt.show()"
   ]
  },
  {
   "cell_type": "markdown",
   "metadata": {},
   "source": [
    "В группе А был не большой скачок 13.08.2019 по средним чекам и остановился примерно на том же уровне, а в группе В был значительный скачок 19.08.2019 но со временем немного шел на понижение но в целом уровень оставался больше чем у группы А."
   ]
  },
  {
   "cell_type": "markdown",
   "metadata": {},
   "source": [
    "<div class=\"alert alert-block alert-success\">\n",
    "    \n",
    "**Комментарий от ревьюера**\n",
    "    \n",
    "Да, резкий рост происходит в ту же дату, что и на предыдущем графике.\n",
    "</div>"
   ]
  },
  {
   "cell_type": "markdown",
   "metadata": {},
   "source": [
    "### Постройте график относительного изменения кумулятивного среднего чека группы B к группе A. Сделайте выводы и предположения."
   ]
  },
  {
   "cell_type": "code",
   "execution_count": 33,
   "metadata": {},
   "outputs": [
    {
     "data": {
      "image/png": "[encoded data removed]",
      "text/plain": [
       "<Figure size 720x432 with 1 Axes>"
      ]
     },
     "metadata": {
      "needs_background": "light"
     },
     "output_type": "display_data"
    }
   ],
   "source": [
    "mergedCumulativeRevenue = cumulativeRevenueA.merge(cumulativeRevenueB, left_on='date', \\\n",
    "                                                   right_on='date', how='left', suffixes=['A', 'B'])\n",
    "\n",
    "plt.figure(figsize = (10,6))\n",
    "plt.plot(mergedCumulativeRevenue['date'], (mergedCumulativeRevenue['revenueB']/mergedCumulativeRevenue['ordersB'])\\\n",
    "         /(mergedCumulativeRevenue['revenueA']/mergedCumulativeRevenue['ordersA'])-1,marker = 'o')\n",
    "plt.axhline(y=0, color = 'black')\n",
    "plt.title('Относительные изменения кумулятивного среднего чека')\n",
    "plt.xlabel('Дата')\n",
    "plt.ylabel('Относительное изменение')\n",
    "plt.xticks(rotation=45)\n",
    "plt.grid(True)\n",
    "plt.show()"
   ]
  },
  {
   "cell_type": "markdown",
   "metadata": {},
   "source": [
    "Здесь виден большой скачок продаж 19.08.2019, с чем это связано пока не известно, возможно это связано с крупными заказами."
   ]
  },
  {
   "cell_type": "markdown",
   "metadata": {},
   "source": [
    "### Постройте график кумулятивного среднего количества заказов на посетителя по группам. Сделайте выводы и предположения."
   ]
  },
  {
   "cell_type": "code",
   "execution_count": 34,
   "metadata": {},
   "outputs": [
    {
     "data": {
      "image/png": "[encoded data removed]",
      "text/plain": [
       "<Figure size 720x432 with 1 Axes>"
      ]
     },
     "metadata": {
      "needs_background": "light"
     },
     "output_type": "display_data"
    }
   ],
   "source": [
    "cumulativeData['conversion'] = cumulativeData['orders']/cumulativeData['visitors']\n",
    "\n",
    "cumulativeDataA = cumulativeData[cumulativeData['group'] == 'A']\n",
    "cumulativeDataB = cumulativeData[cumulativeData['group'] == 'B']\n",
    "\n",
    "plt.figure(figsize = (10,6))\n",
    "plt.plot(cumulativeDataA['date'], cumulativeDataA['conversion'], label = 'A')\n",
    "plt.plot(cumulativeDataB['date'], cumulativeDataB['conversion'], label = 'B')\n",
    "plt.title('Кумулятивная среднего количества заказов по группам')\n",
    "plt.xlabel('Дата')\n",
    "plt.ylabel('Среднее количество заказов')\n",
    "plt.xticks(rotation=45)\n",
    "plt.grid(True)\n",
    "plt.legend()\n",
    "plt.show()"
   ]
  },
  {
   "cell_type": "markdown",
   "metadata": {},
   "source": [
    "Кумулятивная среднего количества заказов по группам не сильно отличается друг от друга, но у группы В немного лучше."
   ]
  },
  {
   "cell_type": "markdown",
   "metadata": {},
   "source": [
    "### Постройте график относительного изменения кумулятивного среднего количества заказов на посетителя группы B к группе A. Сделайте выводы и предположения."
   ]
  },
  {
   "cell_type": "code",
   "execution_count": 35,
   "metadata": {},
   "outputs": [
    {
     "data": {
      "image/png": "[encoded data removed]",
      "text/plain": [
       "<Figure size 720x432 with 1 Axes>"
      ]
     },
     "metadata": {
      "needs_background": "light"
     },
     "output_type": "display_data"
    }
   ],
   "source": [
    "mergedCumulativeConversions = cumulativeDataA[['date','conversion']]\\\n",
    ".merge(cumulativeDataB[['date','conversion']],\\\n",
    "left_on = 'date', right_on = 'date', how = 'left', suffixes = ['A','B'])\n",
    "\n",
    "plt.figure(figsize = (10,6))\n",
    "plt.plot(mergedCumulativeConversions['date'], mergedCumulativeConversions['conversionB']/mergedCumulativeConversions['conversionA']-1, marker = 'o')\n",
    "plt.axis([cumulativeData['date'].min(), cumulativeData['date'].max(), -0.4, 0.4]) \n",
    "plt.axhline(y=0, color='black', linestyle='--')\n",
    "plt.title('Отностительное изменение кумулятивного среднего количества заказов по группам')\n",
    "plt.xlabel('Дата')\n",
    "plt.ylabel('Среднее количество заказов')\n",
    "plt.xticks(rotation=45)\n",
    "plt.grid(True)\n",
    "plt.show()"
   ]
  },
  {
   "cell_type": "markdown",
   "metadata": {},
   "source": [
    "Кумулятивная среднего количества заказов у группы В лучше.Рост начинается примерно со 06.08.2019."
   ]
  },
  {
   "cell_type": "markdown",
   "metadata": {},
   "source": [
    "### Постройте точечный график количества заказов по пользователям. Сделайте выводы и предположения."
   ]
  },
  {
   "cell_type": "code",
   "execution_count": 36,
   "metadata": {},
   "outputs": [
    {
     "data": {
      "text/html": [
       "<div>\n",
       "<style scoped>\n",
       "    .dataframe tbody tr th:only-of-type {\n",
       "        vertical-align: middle;\n",
       "    }\n",
       "\n",
       "    .dataframe tbody tr th {\n",
       "        vertical-align: top;\n",
       "    }\n",
       "\n",
       "    .dataframe thead th {\n",
       "        text-align: right;\n",
       "    }\n",
       "</style>\n",
       "<table border=\"1\" class=\"dataframe\">\n",
       "  <thead>\n",
       "    <tr style=\"text-align: right;\">\n",
       "      <th></th>\n",
       "      <th>visitor_id</th>\n",
       "      <th>transaction_id</th>\n",
       "    </tr>\n",
       "  </thead>\n",
       "  <tbody>\n",
       "    <tr>\n",
       "      <th>1023</th>\n",
       "      <td>4256040402</td>\n",
       "      <td>11</td>\n",
       "    </tr>\n",
       "    <tr>\n",
       "      <th>591</th>\n",
       "      <td>2458001652</td>\n",
       "      <td>11</td>\n",
       "    </tr>\n",
       "    <tr>\n",
       "      <th>569</th>\n",
       "      <td>2378935119</td>\n",
       "      <td>9</td>\n",
       "    </tr>\n",
       "    <tr>\n",
       "      <th>487</th>\n",
       "      <td>2038680547</td>\n",
       "      <td>8</td>\n",
       "    </tr>\n",
       "    <tr>\n",
       "      <th>44</th>\n",
       "      <td>199603092</td>\n",
       "      <td>5</td>\n",
       "    </tr>\n",
       "    <tr>\n",
       "      <th>...</th>\n",
       "      <td>...</td>\n",
       "      <td>...</td>\n",
       "    </tr>\n",
       "    <tr>\n",
       "      <th>359</th>\n",
       "      <td>1484903144</td>\n",
       "      <td>1</td>\n",
       "    </tr>\n",
       "    <tr>\n",
       "      <th>360</th>\n",
       "      <td>1485964287</td>\n",
       "      <td>1</td>\n",
       "    </tr>\n",
       "    <tr>\n",
       "      <th>361</th>\n",
       "      <td>1494664757</td>\n",
       "      <td>1</td>\n",
       "    </tr>\n",
       "    <tr>\n",
       "      <th>362</th>\n",
       "      <td>1495112755</td>\n",
       "      <td>1</td>\n",
       "    </tr>\n",
       "    <tr>\n",
       "      <th>1030</th>\n",
       "      <td>4283872382</td>\n",
       "      <td>1</td>\n",
       "    </tr>\n",
       "  </tbody>\n",
       "</table>\n",
       "<p>1031 rows × 2 columns</p>\n",
       "</div>"
      ],
      "text/plain": [
       "      visitor_id  transaction_id\n",
       "1023  4256040402              11\n",
       "591   2458001652              11\n",
       "569   2378935119               9\n",
       "487   2038680547               8\n",
       "44     199603092               5\n",
       "...          ...             ...\n",
       "359   1484903144               1\n",
       "360   1485964287               1\n",
       "361   1494664757               1\n",
       "362   1495112755               1\n",
       "1030  4283872382               1\n",
       "\n",
       "[1031 rows x 2 columns]"
      ]
     },
     "execution_count": 36,
     "metadata": {},
     "output_type": "execute_result"
    }
   ],
   "source": [
    "ordersByUsers = orders.groupby('visitor_id', as_index = False).agg({'transaction_id': 'nunique'})\n",
    "\n",
    "ordersByUsers.columns = ['visitor_id','transaction_id']\n",
    "ordersByUsers .sort_values(by = 'transaction_id', ascending = False)"
   ]
  },
  {
   "cell_type": "code",
   "execution_count": 37,
   "metadata": {},
   "outputs": [
    {
     "data": {
      "image/png": "[encoded data removed]",
      "text/plain": [
       "<Figure size 432x288 with 1 Axes>"
      ]
     },
     "metadata": {
      "needs_background": "light"
     },
     "output_type": "display_data"
    }
   ],
   "source": [
    "plt.hist(ordersByUsers['transaction_id'])\n",
    "plt.show()"
   ]
  },
  {
   "cell_type": "code",
   "execution_count": 38,
   "metadata": {},
   "outputs": [
    {
     "data": {
      "image/png": "[encoded data removed]",
      "text/plain": [
       "<Figure size 720x432 with 1 Axes>"
      ]
     },
     "metadata": {
      "needs_background": "light"
     },
     "output_type": "display_data"
    }
   ],
   "source": [
    "x_values = pd.Series(range(0, len(ordersByUsers)))\n",
    "\n",
    "plt.figure(figsize = (10,6))\n",
    "plt.scatter(x = x_values, y = ordersByUsers['transaction_id'])\n",
    "plt.title('Количество заказов по пользователям')\n",
    "plt.xlabel('Пользователи')\n",
    "plt.ylabel('Количество заказов')\n",
    "plt.grid(True)\n",
    "plt.show()"
   ]
  },
  {
   "cell_type": "markdown",
   "metadata": {},
   "source": [
    "Основное количество заказов у пользователей от 2 до 4, но есть пользователи у которых больше 10 заказов."
   ]
  },
  {
   "cell_type": "markdown",
   "metadata": {},
   "source": [
    "### Посчитайте 95-й и 99-й перцентили количества заказов на пользователя. Выберите границу для определения аномальных пользователей."
   ]
  },
  {
   "cell_type": "code",
   "execution_count": 39,
   "metadata": {},
   "outputs": [
    {
     "data": {
      "text/plain": [
       "array([2., 4.])"
      ]
     },
     "execution_count": 39,
     "metadata": {},
     "output_type": "execute_result"
    }
   ],
   "source": [
    "per_t = np.percentile(ordersByUsers['transaction_id'], [95,99])\n",
    "per_t"
   ]
  },
  {
   "cell_type": "markdown",
   "metadata": {},
   "source": [
    "### Постройте точечный график стоимостей заказов. Сделайте выводы и предположения."
   ]
  },
  {
   "cell_type": "code",
   "execution_count": 40,
   "metadata": {},
   "outputs": [
    {
     "data": {
      "text/html": [
       "<div>\n",
       "<style scoped>\n",
       "    .dataframe tbody tr th:only-of-type {\n",
       "        vertical-align: middle;\n",
       "    }\n",
       "\n",
       "    .dataframe tbody tr th {\n",
       "        vertical-align: top;\n",
       "    }\n",
       "\n",
       "    .dataframe thead th {\n",
       "        text-align: right;\n",
       "    }\n",
       "</style>\n",
       "<table border=\"1\" class=\"dataframe\">\n",
       "  <thead>\n",
       "    <tr style=\"text-align: right;\">\n",
       "      <th></th>\n",
       "      <th>transaction_id</th>\n",
       "      <th>visitor_id</th>\n",
       "      <th>date</th>\n",
       "      <th>revenue</th>\n",
       "      <th>group</th>\n",
       "    </tr>\n",
       "  </thead>\n",
       "  <tbody>\n",
       "    <tr>\n",
       "      <th>425</th>\n",
       "      <td>590470918</td>\n",
       "      <td>1920142716</td>\n",
       "      <td>2019-08-19</td>\n",
       "      <td>1294500</td>\n",
       "      <td>B</td>\n",
       "    </tr>\n",
       "    <tr>\n",
       "      <th>1196</th>\n",
       "      <td>3936777065</td>\n",
       "      <td>2108080724</td>\n",
       "      <td>2019-08-15</td>\n",
       "      <td>202740</td>\n",
       "      <td>B</td>\n",
       "    </tr>\n",
       "    <tr>\n",
       "      <th>858</th>\n",
       "      <td>192721366</td>\n",
       "      <td>1316129916</td>\n",
       "      <td>2019-08-27</td>\n",
       "      <td>93940</td>\n",
       "      <td>A</td>\n",
       "    </tr>\n",
       "    <tr>\n",
       "      <th>1136</th>\n",
       "      <td>666610489</td>\n",
       "      <td>1307669133</td>\n",
       "      <td>2019-08-13</td>\n",
       "      <td>92550</td>\n",
       "      <td>A</td>\n",
       "    </tr>\n",
       "    <tr>\n",
       "      <th>744</th>\n",
       "      <td>3668308183</td>\n",
       "      <td>888512513</td>\n",
       "      <td>2019-08-27</td>\n",
       "      <td>86620</td>\n",
       "      <td>B</td>\n",
       "    </tr>\n",
       "    <tr>\n",
       "      <th>...</th>\n",
       "      <td>...</td>\n",
       "      <td>...</td>\n",
       "      <td>...</td>\n",
       "      <td>...</td>\n",
       "      <td>...</td>\n",
       "    </tr>\n",
       "    <tr>\n",
       "      <th>933</th>\n",
       "      <td>3760662696</td>\n",
       "      <td>3577713868</td>\n",
       "      <td>2019-08-27</td>\n",
       "      <td>60</td>\n",
       "      <td>B</td>\n",
       "    </tr>\n",
       "    <tr>\n",
       "      <th>459</th>\n",
       "      <td>863448794</td>\n",
       "      <td>2738601405</td>\n",
       "      <td>2019-08-19</td>\n",
       "      <td>50</td>\n",
       "      <td>B</td>\n",
       "    </tr>\n",
       "    <tr>\n",
       "      <th>756</th>\n",
       "      <td>125335873</td>\n",
       "      <td>3423937755</td>\n",
       "      <td>2019-08-30</td>\n",
       "      <td>50</td>\n",
       "      <td>B</td>\n",
       "    </tr>\n",
       "    <tr>\n",
       "      <th>584</th>\n",
       "      <td>1126146019</td>\n",
       "      <td>2705308997</td>\n",
       "      <td>2019-08-20</td>\n",
       "      <td>50</td>\n",
       "      <td>A</td>\n",
       "    </tr>\n",
       "    <tr>\n",
       "      <th>1091</th>\n",
       "      <td>750632879</td>\n",
       "      <td>4256040402</td>\n",
       "      <td>2019-08-12</td>\n",
       "      <td>50</td>\n",
       "      <td>A</td>\n",
       "    </tr>\n",
       "  </tbody>\n",
       "</table>\n",
       "<p>1197 rows × 5 columns</p>\n",
       "</div>"
      ],
      "text/plain": [
       "      transaction_id  visitor_id       date  revenue group\n",
       "425        590470918  1920142716 2019-08-19  1294500     B\n",
       "1196      3936777065  2108080724 2019-08-15   202740     B\n",
       "858        192721366  1316129916 2019-08-27    93940     A\n",
       "1136       666610489  1307669133 2019-08-13    92550     A\n",
       "744       3668308183   888512513 2019-08-27    86620     B\n",
       "...              ...         ...        ...      ...   ...\n",
       "933       3760662696  3577713868 2019-08-27       60     B\n",
       "459        863448794  2738601405 2019-08-19       50     B\n",
       "756        125335873  3423937755 2019-08-30       50     B\n",
       "584       1126146019  2705308997 2019-08-20       50     A\n",
       "1091       750632879  4256040402 2019-08-12       50     A\n",
       "\n",
       "[1197 rows x 5 columns]"
      ]
     },
     "execution_count": 40,
     "metadata": {},
     "output_type": "execute_result"
    }
   ],
   "source": [
    "orders.sort_values(by='revenue', ascending=False)"
   ]
  },
  {
   "cell_type": "code",
   "execution_count": 41,
   "metadata": {},
   "outputs": [
    {
     "data": {
      "image/png": "[encoded data removed]",
      "text/plain": [
       "<Figure size 720x432 with 1 Axes>"
      ]
     },
     "metadata": {
      "needs_background": "light"
     },
     "output_type": "display_data"
    }
   ],
   "source": [
    "x_values = pd.Series(range(0, len(orders['revenue'])))\n",
    "\n",
    "plt.figure(figsize = (10,6))\n",
    "plt.scatter(x  = x_values, y = orders['revenue'])\n",
    "plt.title('Стоимость заказов')\n",
    "plt.xlabel('Пользователи')\n",
    "plt.ylabel('Сумма заказов')\n",
    "plt.grid(True)\n",
    "plt.show()"
   ]
  },
  {
   "cell_type": "markdown",
   "metadata": {},
   "source": [
    "### Посчитайте 95-й и 99-й перцентили стоимости заказов. Выберите границу для определения аномальных заказов."
   ]
  },
  {
   "cell_type": "code",
   "execution_count": 42,
   "metadata": {},
   "outputs": [
    {
     "data": {
      "text/plain": [
       "array([28000. , 58233.2])"
      ]
     },
     "execution_count": 42,
     "metadata": {},
     "output_type": "execute_result"
    }
   ],
   "source": [
    "per_o = np.percentile(orders['revenue'],[95,99])\n",
    "per_o"
   ]
  },
  {
   "cell_type": "code",
   "execution_count": 43,
   "metadata": {},
   "outputs": [
    {
     "data": {
      "text/plain": [
       "93940"
      ]
     },
     "execution_count": 43,
     "metadata": {},
     "output_type": "execute_result"
    }
   ],
   "source": [
    "max_revenueA = orders[orders['group'] == 'A']['revenue'].max()\n",
    "max_revenueA"
   ]
  },
  {
   "cell_type": "code",
   "execution_count": 44,
   "metadata": {},
   "outputs": [
    {
     "data": {
      "text/plain": [
       "1294500"
      ]
     },
     "execution_count": 44,
     "metadata": {},
     "output_type": "execute_result"
    }
   ],
   "source": [
    "max_revenueB = orders[orders['group'] == 'B']['revenue'].max()\n",
    "max_revenueB"
   ]
  },
  {
   "cell_type": "markdown",
   "metadata": {},
   "source": [
    "95% пользователей осуществили не больше 2 заказов и 99% пользователей осуществили не более 4 заказов, тем самым все что выше 2 - 3 заказов и кто совершил заказ не более 58 233.2 рубля, можно считать аномалиями. Так же мы видим что в группе А сумма максимального чека не более 93 940 рублей, в то время у группы В 1 294 500 рубля."
   ]
  },
  {
   "cell_type": "markdown",
   "metadata": {},
   "source": [
    "<div class=\"alert alert-block alert-success\">\n",
    "    \n",
    "**Комментарий от ревьюера**\n",
    "    \n",
    "Такое определение выбросов для количества заказов корректно.\n",
    "</div>"
   ]
  },
  {
   "cell_type": "markdown",
   "metadata": {},
   "source": [
    "### Посчитайте статистическую значимость различий в среднем количестве заказов на посетителя между группами по «сырым» данным. Сделайте выводы и предположения."
   ]
  },
  {
   "cell_type": "code",
   "execution_count": 45,
   "metadata": {},
   "outputs": [],
   "source": [
    "visitorsADaily = visitors[visitors['group'] == 'A'][['date', 'visitors']]\n",
    "visitorsADaily.columns = ['date', 'visitorsPerDateA']\n",
    "\n",
    "visitorsACummulative = visitorsADaily.apply(\n",
    "    lambda x: visitorsADaily[visitorsADaily['date'] <= x['date']].agg(\n",
    "        {'date': 'max', 'visitorsPerDateA': 'sum'}\n",
    "    ),\n",
    "    axis=1,\n",
    ")\n",
    "visitorsACummulative.columns = ['date', 'visitorsCummulativeA']"
   ]
  },
  {
   "cell_type": "code",
   "execution_count": 46,
   "metadata": {},
   "outputs": [],
   "source": [
    "visitorsBDaily = visitors[visitors['group'] == 'B'][['date', 'visitors']]\n",
    "visitorsBDaily.columns = ['date', 'visitorsPerDateB']\n",
    "\n",
    "visitorsBCummulative = visitorsBDaily.apply(\n",
    "    lambda x: visitorsBDaily[visitorsBDaily['date'] <= x['date']].agg(\n",
    "        {'date': 'max', 'visitorsPerDateB': 'sum'}\n",
    "    ),\n",
    "    axis=1,\n",
    ")\n",
    "visitorsBCummulative.columns = ['date', 'visitorsCummulativeB']"
   ]
  },
  {
   "cell_type": "code",
   "execution_count": 47,
   "metadata": {},
   "outputs": [],
   "source": [
    "ordersADaily = (\n",
    "    orders[orders['group'] == 'A'][['date', 'transaction_id', 'visitor_id', 'revenue']]\n",
    "    .groupby('date', as_index=False)\n",
    "    .agg({'transaction_id': pd.Series.nunique, 'revenue': 'sum'})\n",
    ")\n",
    "ordersADaily.columns = ['date', 'ordersPerDateA', 'revenuePerDateA']\n",
    "\n",
    "ordersACummulative = ordersADaily.apply(\n",
    "    lambda x: ordersADaily[ordersADaily['date'] <= x['date']].agg(\n",
    "        {'date': 'max', 'ordersPerDateA': 'sum', 'revenuePerDateA': 'sum'}\n",
    "    ),\n",
    "    axis=1,\n",
    ").sort_values(by=['date'])\n",
    "ordersACummulative.columns = [\n",
    "    'date',\n",
    "    'ordersCummulativeA',\n",
    "    'revenueCummulativeA',\n",
    "]"
   ]
  },
  {
   "cell_type": "code",
   "execution_count": 48,
   "metadata": {},
   "outputs": [],
   "source": [
    "ordersBDaily = (\n",
    "    orders[orders['group'] == 'B'][['date', 'transaction_id', 'visitor_id', 'revenue']]\n",
    "    .groupby('date', as_index=False)\n",
    "    .agg({'transaction_id': pd.Series.nunique, 'revenue': 'sum'})\n",
    ")\n",
    "ordersBDaily.columns = ['date', 'ordersPerDateB', 'revenuePerDateB']\n",
    "\n",
    "ordersBCummulative = ordersBDaily.apply(\n",
    "    lambda x: ordersBDaily[ordersBDaily['date'] <= x['date']].agg(\n",
    "        {'date': 'max', 'ordersPerDateB': 'sum', 'revenuePerDateB': 'sum'}\n",
    "    ),\n",
    "    axis=1,\n",
    ").sort_values(by=['date'])\n",
    "ordersBCummulative.columns = [\n",
    "    'date',\n",
    "    'ordersCummulativeB',\n",
    "    'revenueCummulativeB',\n",
    "]"
   ]
  },
  {
   "cell_type": "code",
   "execution_count": 49,
   "metadata": {},
   "outputs": [],
   "source": [
    "data = (\n",
    "    ordersADaily.merge(\n",
    "        ordersBDaily, left_on='date', right_on='date', how='left'\n",
    "    )\n",
    "    .merge(ordersACummulative, left_on='date', right_on='date', how='left')\n",
    "    .merge(ordersBCummulative, left_on='date', right_on='date', how='left')\n",
    "    .merge(visitorsADaily, left_on='date', right_on='date', how='left')\n",
    "    .merge(visitorsBDaily, left_on='date', right_on='date', how='left')\n",
    "    .merge(visitorsACummulative, left_on='date', right_on='date', how='left')\n",
    "    .merge(visitorsBCummulative, left_on='date', right_on='date', how='left')\n",
    ")"
   ]
  },
  {
   "cell_type": "code",
   "execution_count": 50,
   "metadata": {},
   "outputs": [],
   "source": [
    "ordersByUsersA = (\n",
    "    orders[orders['group'] == 'A']\n",
    "    .groupby('visitor_id', as_index=False)\n",
    "    .agg({'transaction_id':pd.Series.nunique})\n",
    ")\n",
    "ordersByUsersA.columns = ['visitor_id', 'orders']"
   ]
  },
  {
   "cell_type": "code",
   "execution_count": 51,
   "metadata": {},
   "outputs": [],
   "source": [
    "ordersByUsersB = (\n",
    "    orders[orders['group'] == 'B']\n",
    "    .groupby('visitor_id', as_index=False)\n",
    "    .agg({'transaction_id':pd.Series.nunique})\n",
    ")\n",
    "ordersByUsersB.columns = ['visitor_id', 'orders']"
   ]
  },
  {
   "cell_type": "code",
   "execution_count": 52,
   "metadata": {},
   "outputs": [],
   "source": [
    "[ordersByUsersA['orders'],pd.Series(0, index = np.arange(data['visitorsPerDateA'].sum()\\\n",
    "                                                         -len(ordersByUsersA['orders'])), name='orders')]\n",
    "\n",
    "sampleA = pd.concat([ordersByUsersA['orders'],pd.Series(0, index = \\\n",
    "np.arange(data['visitorsPerDateA'].sum()- len(ordersByUsersA['orders'])),name = 'orders')], axis = 0)\n",
    "\n",
    "sampleB = pd.concat([ordersByUsersB['orders'],pd.Series(0, index = \\\n",
    "np.arange(data['visitorsPerDateB'].sum() - len(ordersByUsersB['orders'])),name = 'orders')], axis = 0)"
   ]
  },
  {
   "cell_type": "markdown",
   "metadata": {},
   "source": [
    "alpha = 0.05 критический уровень статистической значимости"
   ]
  },
  {
   "cell_type": "markdown",
   "metadata": {},
   "source": [
    "В данном тесте мы будем использовать метод st.mannwhitneyu() (от англ. «U-критерий Манна-Уитни»). Данный метод подходит подходит для данных при малом количестве выбросов а также для сравнения двух выборок."
   ]
  },
  {
   "cell_type": "markdown",
   "metadata": {},
   "source": [
    "- H0: 'Статистически значимых различий в среднем количестве заказов между группами нет'\n",
    "- H1: 'Статистически значимые различия есть'"
   ]
  },
  {
   "cell_type": "markdown",
   "metadata": {},
   "source": [
    "<div class=\"alert alert-info\">\n",
    "    \n",
    "готово\n",
    "</div>"
   ]
  },
  {
   "cell_type": "markdown",
   "metadata": {},
   "source": [
    "<div class=\"alert alert-block alert-success\">\n",
    "    \n",
    "**Комментарий от ревьюера 2**\n",
    "\n",
    "Всё верно получилось, так сразу понятна суть расчета.\n",
    "</div>"
   ]
  },
  {
   "cell_type": "code",
   "execution_count": 53,
   "metadata": {},
   "outputs": [
    {
     "name": "stdout",
     "output_type": "stream",
     "text": [
      "Значение p_value: 0.02\n",
      "Относительное различие конверсии между группами : 0.138\n"
     ]
    }
   ],
   "source": [
    "print('Значение p_value:',\n",
    "      \"{0:.2f}\".format(st.mannwhitneyu(sampleA, sampleB)[1]))\n",
    "print('Относительное различие конверсии между группами :',\n",
    "      \"{0:.3f}\".format(sampleB.mean()/ sampleA.mean()-1))"
   ]
  },
  {
   "cell_type": "markdown",
   "metadata": {},
   "source": [
    "Так как значение p_value - 0.02 меньше alpha - 0.05, то нулевую гепотезу 'Статистически значимых различий в среднем количестве заказов между группами нет' - отвергаем. Так же имеется различие между группой А и В, где группа В преобладает в конверсии группу А на 13,8%"
   ]
  },
  {
   "cell_type": "markdown",
   "metadata": {},
   "source": [
    "### Посчитайте статистическую значимость различий в среднем чеке заказа между группами по «сырым» данным. Сделайте выводы и предположения."
   ]
  },
  {
   "cell_type": "markdown",
   "metadata": {},
   "source": [
    "- H0: 'Статистически значимых различий в среднем чеке заказа между группами нет'\n",
    "- H1: 'Статистически значимые различия есть'"
   ]
  },
  {
   "cell_type": "code",
   "execution_count": 54,
   "metadata": {},
   "outputs": [
    {
     "name": "stdout",
     "output_type": "stream",
     "text": [
      "Значение p_value:0.729\n",
      "Относительное различие среднего чека между группами: 0.259\n"
     ]
    }
   ],
   "source": [
    "print('Значение p_value:'\n",
    "    \"{0:.3f}\".format(st.mannwhitneyu(orders[orders['group'] == 'A']['revenue'], orders[orders['group'] =='B']['revenue'])[1]))\n",
    "print('Относительное различие среднего чека между группами:',\n",
    "      \"{0:.3f}\".format(orders[orders['group']=='B']['revenue'].mean()/orders[orders['group'] == 'A']['revenue'].mean()-1))"
   ]
  },
  {
   "cell_type": "markdown",
   "metadata": {},
   "source": [
    "Так как значение p_value - 0.729 больше alpha - 0.05, то нулевую гепотезу 'Статистически значимых различий в среднем чеке заказа между группами нет' - не отвергаем. Так же группа В преобладает в среднем чеке группу А на 25,9%"
   ]
  },
  {
   "cell_type": "markdown",
   "metadata": {},
   "source": [
    "### Посчитайте статистическую значимость различий в среднем количестве заказов на посетителя между группами по «очищенным» данным. Сделайте выводы и предположения."
   ]
  },
  {
   "cell_type": "code",
   "execution_count": 55,
   "metadata": {},
   "outputs": [],
   "source": [
    "usersWithManyOrders = pd.concat(\n",
    "    [\n",
    "        ordersByUsersA[ordersByUsersA['orders'] > per_t[0]]['visitor_id'],\n",
    "        ordersByUsersB[ordersByUsersB['orders'] > per_t[0]]['visitor_id']\n",
    "    ], axis = 0\n",
    ")\n",
    "\n",
    "usersWithExpensiveOrders = orders[orders['revenue'] > per_o[1]]['visitor_id']\n",
    "abnormalUsers = (\n",
    "    pd.concat([usersWithManyOrders, usersWithExpensiveOrders], axis=0)\n",
    "    .drop_duplicates()\n",
    "    .sort_values()\n",
    ")\n",
    "\n"
   ]
  },
  {
   "cell_type": "code",
   "execution_count": 56,
   "metadata": {},
   "outputs": [],
   "source": [
    "sampleFiltered = pd.concat(\n",
    "    [\n",
    "      ordersByUsersA[np.logical_not(ordersByUsersA['visitor_id'].isin(abnormalUsers))]['orders'],\n",
    "        pd.Series(0,index = np.arange(data['visitorsPerDateA'].sum() - len(ordersByUsersA['orders'])\n",
    "        ), name = 'orders'\n",
    ")\n",
    "    ],axis = 0\n",
    ")\n",
    "sampleAFiltered = pd.concat(\n",
    "    [\n",
    "      ordersByUsersA[np.logical_not(ordersByUsersA['visitor_id'].isin(abnormalUsers))]['orders'],\n",
    "        pd.Series(0,index = np.arange(data['visitorsPerDateA'].sum() - len(ordersByUsersA['orders'])\n",
    "        ), name = 'orders'\n",
    ")\n",
    "    ],axis = 0\n",
    ")\n",
    "sampleBFiltered = pd.concat(\n",
    "    [\n",
    "        ordersByUsersB[\n",
    "            np.logical_not(ordersByUsersB['visitor_id'].isin(abnormalUsers))\n",
    "        ]['orders'],\n",
    "        pd.Series(\n",
    "            0,\n",
    "            index=np.arange(\n",
    "                data['visitorsPerDateB'].sum() - len(ordersByUsersB['orders'])\n",
    "            ),\n",
    "            name='orders',\n",
    "        ),\n",
    "    ],\n",
    "    axis=0,\n",
    ") \n",
    "\n"
   ]
  },
  {
   "cell_type": "markdown",
   "metadata": {},
   "source": [
    "- H0: 'Статистически значимых различий в среднем количестве заказов между группами нет'\n",
    "- H1: 'Статистически значимые различия есть'"
   ]
  },
  {
   "cell_type": "code",
   "execution_count": 57,
   "metadata": {},
   "outputs": [
    {
     "name": "stdout",
     "output_type": "stream",
     "text": [
      "p_value: 0.010\n",
      "Относительное различие между группами: 0.174\n"
     ]
    }
   ],
   "source": [
    "print('p_value:', \"{0:.3f}\".format(st.mannwhitneyu(sampleAFiltered,sampleBFiltered)[1]))\n",
    "print('Относительное различие между группами:',\"{0:.3f}\".format(sampleBFiltered.mean()/sampleAFiltered.mean()-1))"
   ]
  },
  {
   "cell_type": "markdown",
   "metadata": {},
   "source": [
    "Так как значение p_value - 0.01 меньше alpha - 0.05, то нулевую гепотезу 'Статистически значимых различий в среднем количестве заказов между группами нет' - отвергаем. Так же имеется различие между группой А и В, где группа В преобладает в среднем количестве заказов группу А на 17,4% что на 3.6% больше чем по сырым данным."
   ]
  },
  {
   "cell_type": "markdown",
   "metadata": {},
   "source": [
    "<div class=\"alert alert-block alert-success\">\n",
    "    \n",
    "**Комментарий от ревьюера**\n",
    "\n",
    "Верно, при анализе \"очищенных данных\" p-value стало еще меньше и все так же меньше 0.05, следовательно, между группами есть статистически значимые различия.\n",
    "</div>"
   ]
  },
  {
   "cell_type": "markdown",
   "metadata": {},
   "source": [
    "### Посчитайте статистическую значимость различий в среднем чеке заказа между группами по «очищенным» данным. Сделайте выводы и предположения."
   ]
  },
  {
   "cell_type": "markdown",
   "metadata": {},
   "source": [
    "- H0: 'Статистически значимых различий в среднем чеке заказа между группами нет'\n",
    "- H1: 'Статистически значимые различия есть'"
   ]
  },
  {
   "cell_type": "code",
   "execution_count": 58,
   "metadata": {},
   "outputs": [
    {
     "name": "stdout",
     "output_type": "stream",
     "text": [
      "p_value: 0.798\n",
      "Относительное различие между группами: -0.020\n"
     ]
    }
   ],
   "source": [
    "print('p_value:',\n",
    "    '{0:.3f}'.format(\n",
    "        st.mannwhitneyu(\n",
    "            orders[\n",
    "                np.logical_and(\n",
    "                    orders['group'] == 'A',\n",
    "                    np.logical_not(orders['visitor_id'].isin(abnormalUsers)),\n",
    "                )\n",
    "            ]['revenue'],\n",
    "            orders[\n",
    "                np.logical_and(\n",
    "                    orders['group'] == 'B',\n",
    "                    np.logical_not(orders['visitor_id'].isin(abnormalUsers)),\n",
    "                )\n",
    "            ]['revenue'],\n",
    "        )[1]\n",
    "    )\n",
    ")\n",
    "print('Относительное различие между группами:',\n",
    "    \"{0:.3f}\".format(\n",
    "        orders[\n",
    "            np.logical_and(\n",
    "                orders['group'] == 'B',\n",
    "                np.logical_not(orders['visitor_id'].isin(abnormalUsers)),\n",
    "            )\n",
    "        ]['revenue'].mean()\n",
    "        / orders[\n",
    "            np.logical_and(\n",
    "                orders['group'] == 'A',\n",
    "                np.logical_not(orders['visitor_id'].isin(abnormalUsers)),\n",
    "            )\n",
    "        ]['revenue'].mean()\n",
    "        - 1\n",
    "    )\n",
    ") "
   ]
  },
  {
   "cell_type": "markdown",
   "metadata": {},
   "source": [
    "Так как значение p_value - 0.729 ,больше alpha - 0.05, то нулевую гепотезу 'Статистически значимых различий в среднем чеке заказа между группами нет' - не отвергаем. Так же имеется различие между группой А и В, где группа В ниже в среднем чеке группу А на 2%. Учитывая что по сырым данным, группа В преобладала группы А в среднем чеке на 25,9%, то можно считать что такая разница возникла из-за аномальной продажи - на сумму 1 294 000 рублей."
   ]
  },
  {
   "cell_type": "markdown",
   "metadata": {},
   "source": [
    "<div class=\"alert alert-block alert-success\">\n",
    "    \n",
    "**Комментарий от ревьюера**\n",
    "\n",
    "Да, здесь видно, как на относительные различия повлияли выбросы.\n",
    "</div>"
   ]
  },
  {
   "cell_type": "markdown",
   "metadata": {},
   "source": [
    "### Примите решение по результатам теста и объясните его. Варианты решений: 1. Остановить тест, зафиксировать победу одной из групп. 2. Остановить тест, зафиксировать отсутствие различий между группами. 3. Продолжить тест."
   ]
  },
  {
   "cell_type": "markdown",
   "metadata": {},
   "source": [
    "И так что мы выяснили после проведения А/В тестов по имеющимся данным:\n",
    "\n",
    "- По \"сырым\" данным, группа В преобладает в конверсии группу А на 13,8%.\n",
    "- По \"сырым\" данным, группа В преобладает в среднем чеке группу А на 25,9%.\n",
    "- По \"очищенным\" данным, группа В преобладает в среднем количестве заказов группу А на 17,4% что на 3.6% больше чем по сырым данным.\n",
    "- По \"очищенным\" данным,группа В ниже в среднем чеке группу А на 2%, что впринципе разница та большая, учитывая что по сырым данным она преобладала на 25.9%.\n",
    "\n",
    "По результатам проведенного анализа, прдполагаю остановить тест и зафиксировать победу группы В, так как практически по всем параметрам она превосходит группу А даже после удаления аномалий."
   ]
  },
  {
   "cell_type": "markdown",
   "metadata": {},
   "source": [
    "<div class=\"alert alert-block alert-success\">\n",
    "    \n",
    "**Комментарий от ревьюера**\n",
    "    \n",
    "Верно, данных для принятия решения у нас уже достаточно. \n",
    "</div>"
   ]
  },
  {
   "cell_type": "markdown",
   "metadata": {},
   "source": [
    "<div class=\"alert alert-success\">\n",
    "<b> Комментарий от ревьюера 2</b>\n",
    "\n",
    "Спасибо, что учел мои комментарии. Ты приложил много усилий, чтобы довести проект до конца, надеюсь, что эта работа помогла тебе лучше понять теорию. Я принимаю проект и желаю удачи в прохождении курса!\n",
    "\n",
    "</div>"
   ]
  },
  {
   "cell_type": "code",
   "execution_count": null,
   "metadata": {},
   "outputs": [],
   "source": []
  }
 ],
 "metadata": {
  "ExecuteTimeLog": [
   {
    "duration": 1435,
    "start_time": "2024-02-06T06:56:33.759Z"
   },
   {
    "duration": 189,
    "start_time": "2024-02-06T06:58:59.220Z"
   },
   {
    "duration": 110,
    "start_time": "2024-02-06T06:59:20.545Z"
   },
   {
    "duration": 10,
    "start_time": "2024-02-06T06:59:28.648Z"
   },
   {
    "duration": 3,
    "start_time": "2024-02-06T06:59:56.779Z"
   },
   {
    "duration": 74,
    "start_time": "2024-02-06T06:59:57.179Z"
   },
   {
    "duration": 6,
    "start_time": "2024-02-06T06:59:58.222Z"
   },
   {
    "duration": 3,
    "start_time": "2024-02-06T07:00:17.974Z"
   },
   {
    "duration": 75,
    "start_time": "2024-02-06T07:00:19.468Z"
   },
   {
    "duration": 6,
    "start_time": "2024-02-06T07:00:20.008Z"
   },
   {
    "duration": 3,
    "start_time": "2024-02-06T07:01:01.387Z"
   },
   {
    "duration": 74,
    "start_time": "2024-02-06T07:01:02.515Z"
   },
   {
    "duration": 6,
    "start_time": "2024-02-06T07:01:03.129Z"
   },
   {
    "duration": 3,
    "start_time": "2024-02-06T07:01:09.767Z"
   },
   {
    "duration": 2,
    "start_time": "2024-02-06T07:01:10.095Z"
   },
   {
    "duration": 73,
    "start_time": "2024-02-06T07:01:10.455Z"
   },
   {
    "duration": 7,
    "start_time": "2024-02-06T07:01:11.143Z"
   },
   {
    "duration": 73,
    "start_time": "2024-02-06T07:01:28.358Z"
   },
   {
    "duration": 1240,
    "start_time": "2024-02-06T07:01:56.358Z"
   },
   {
    "duration": 3,
    "start_time": "2024-02-06T07:01:57.600Z"
   },
   {
    "duration": 79,
    "start_time": "2024-02-06T07:01:57.605Z"
   },
   {
    "duration": 11,
    "start_time": "2024-02-06T07:01:57.686Z"
   },
   {
    "duration": 10,
    "start_time": "2024-02-06T07:02:23.650Z"
   },
   {
    "duration": 15,
    "start_time": "2024-02-06T07:02:43.251Z"
   },
   {
    "duration": 21,
    "start_time": "2024-02-06T07:03:25.955Z"
   },
   {
    "duration": 17,
    "start_time": "2024-02-06T07:08:23.943Z"
   },
   {
    "duration": 8,
    "start_time": "2024-02-06T07:27:42.401Z"
   },
   {
    "duration": 10,
    "start_time": "2024-02-06T07:27:53.514Z"
   },
   {
    "duration": 3,
    "start_time": "2024-02-06T07:28:22.330Z"
   },
   {
    "duration": 3,
    "start_time": "2024-02-06T07:29:12.730Z"
   },
   {
    "duration": 3,
    "start_time": "2024-02-06T07:31:12.640Z"
   },
   {
    "duration": 3,
    "start_time": "2024-02-06T07:31:14.079Z"
   },
   {
    "duration": 74,
    "start_time": "2024-02-06T07:31:14.443Z"
   },
   {
    "duration": 17,
    "start_time": "2024-02-06T07:31:14.605Z"
   },
   {
    "duration": 21,
    "start_time": "2024-02-06T07:31:14.788Z"
   },
   {
    "duration": 16,
    "start_time": "2024-02-06T07:31:14.975Z"
   },
   {
    "duration": 10,
    "start_time": "2024-02-06T07:31:16.489Z"
   },
   {
    "duration": 4,
    "start_time": "2024-02-06T07:31:16.614Z"
   },
   {
    "duration": 3,
    "start_time": "2024-02-06T07:31:16.774Z"
   },
   {
    "duration": 11,
    "start_time": "2024-02-06T07:31:43.423Z"
   },
   {
    "duration": 3,
    "start_time": "2024-02-06T07:32:57.007Z"
   },
   {
    "duration": 100,
    "start_time": "2024-02-06T07:32:58.745Z"
   },
   {
    "duration": 7,
    "start_time": "2024-02-06T07:33:37.882Z"
   },
   {
    "duration": 8,
    "start_time": "2024-02-06T07:33:38.261Z"
   },
   {
    "duration": 1196,
    "start_time": "2024-02-06T07:34:25.706Z"
   },
   {
    "duration": 3,
    "start_time": "2024-02-06T07:34:26.903Z"
   },
   {
    "duration": 80,
    "start_time": "2024-02-06T07:34:26.907Z"
   },
   {
    "duration": 20,
    "start_time": "2024-02-06T07:34:26.989Z"
   },
   {
    "duration": 20,
    "start_time": "2024-02-06T07:34:27.011Z"
   },
   {
    "duration": 25,
    "start_time": "2024-02-06T07:34:27.032Z"
   },
   {
    "duration": 25,
    "start_time": "2024-02-06T07:34:27.059Z"
   },
   {
    "duration": 4,
    "start_time": "2024-02-06T07:34:27.086Z"
   },
   {
    "duration": 7,
    "start_time": "2024-02-06T07:34:27.091Z"
   },
   {
    "duration": 99,
    "start_time": "2024-02-06T07:34:42.826Z"
   },
   {
    "duration": 11,
    "start_time": "2024-02-06T07:35:00.803Z"
   },
   {
    "duration": 9,
    "start_time": "2024-02-06T07:35:02.132Z"
   },
   {
    "duration": 9,
    "start_time": "2024-02-06T07:35:02.652Z"
   },
   {
    "duration": 9,
    "start_time": "2024-02-06T07:35:03.573Z"
   },
   {
    "duration": 1218,
    "start_time": "2024-02-06T07:35:29.605Z"
   },
   {
    "duration": 3,
    "start_time": "2024-02-06T07:35:30.825Z"
   },
   {
    "duration": 117,
    "start_time": "2024-02-06T07:35:30.829Z"
   },
   {
    "duration": 21,
    "start_time": "2024-02-06T07:35:30.948Z"
   },
   {
    "duration": 40,
    "start_time": "2024-02-06T07:35:30.971Z"
   },
   {
    "duration": 40,
    "start_time": "2024-02-06T07:35:31.013Z"
   },
   {
    "duration": 38,
    "start_time": "2024-02-06T07:35:31.054Z"
   },
   {
    "duration": 23,
    "start_time": "2024-02-06T07:35:31.094Z"
   },
   {
    "duration": 26,
    "start_time": "2024-02-06T07:35:31.119Z"
   },
   {
    "duration": 129,
    "start_time": "2024-02-06T07:35:31.146Z"
   },
   {
    "duration": 8,
    "start_time": "2024-02-06T07:36:03.014Z"
   },
   {
    "duration": 1241,
    "start_time": "2024-02-06T07:36:20.360Z"
   },
   {
    "duration": 3,
    "start_time": "2024-02-06T07:36:21.603Z"
   },
   {
    "duration": 89,
    "start_time": "2024-02-06T07:36:21.607Z"
   },
   {
    "duration": 19,
    "start_time": "2024-02-06T07:36:21.698Z"
   },
   {
    "duration": 24,
    "start_time": "2024-02-06T07:36:21.720Z"
   },
   {
    "duration": 19,
    "start_time": "2024-02-06T07:36:21.746Z"
   },
   {
    "duration": 19,
    "start_time": "2024-02-06T07:36:21.767Z"
   },
   {
    "duration": 9,
    "start_time": "2024-02-06T07:36:21.788Z"
   },
   {
    "duration": 18,
    "start_time": "2024-02-06T07:36:21.799Z"
   },
   {
    "duration": 17,
    "start_time": "2024-02-06T07:36:21.818Z"
   },
   {
    "duration": 10,
    "start_time": "2024-02-06T07:37:35.543Z"
   },
   {
    "duration": 4,
    "start_time": "2024-02-06T07:38:12.153Z"
   },
   {
    "duration": 3,
    "start_time": "2024-02-06T07:38:47.060Z"
   },
   {
    "duration": 8,
    "start_time": "2024-02-06T07:39:54.714Z"
   },
   {
    "duration": 10,
    "start_time": "2024-02-06T07:39:57.249Z"
   },
   {
    "duration": 5,
    "start_time": "2024-02-06T07:40:12.399Z"
   },
   {
    "duration": 14,
    "start_time": "2024-02-06T07:40:13.179Z"
   },
   {
    "duration": 10,
    "start_time": "2024-02-06T07:40:59.949Z"
   },
   {
    "duration": 6,
    "start_time": "2024-02-06T07:41:48.994Z"
   },
   {
    "duration": 6,
    "start_time": "2024-02-06T07:42:14.159Z"
   },
   {
    "duration": 7,
    "start_time": "2024-02-06T07:42:26.677Z"
   },
   {
    "duration": 6,
    "start_time": "2024-02-06T07:42:30.705Z"
   },
   {
    "duration": 6,
    "start_time": "2024-02-06T07:42:56.890Z"
   },
   {
    "duration": 6,
    "start_time": "2024-02-06T07:43:27.596Z"
   },
   {
    "duration": 3,
    "start_time": "2024-02-06T07:44:23.943Z"
   },
   {
    "duration": 5,
    "start_time": "2024-02-06T07:44:38.405Z"
   },
   {
    "duration": 6,
    "start_time": "2024-02-06T07:44:52.596Z"
   },
   {
    "duration": 15,
    "start_time": "2024-02-06T07:45:00.518Z"
   },
   {
    "duration": 1008,
    "start_time": "2024-02-06T07:53:51.557Z"
   },
   {
    "duration": 13,
    "start_time": "2024-02-06T07:54:02.327Z"
   },
   {
    "duration": 10,
    "start_time": "2024-02-06T07:54:17.562Z"
   },
   {
    "duration": 10,
    "start_time": "2024-02-06T08:05:51.044Z"
   },
   {
    "duration": 183,
    "start_time": "2024-02-06T08:06:14.618Z"
   },
   {
    "duration": 138,
    "start_time": "2024-02-06T08:07:49.179Z"
   },
   {
    "duration": 15,
    "start_time": "2024-02-06T08:08:06.011Z"
   },
   {
    "duration": 165,
    "start_time": "2024-02-06T08:08:17.774Z"
   },
   {
    "duration": 88,
    "start_time": "2024-02-06T08:08:29.774Z"
   },
   {
    "duration": 152,
    "start_time": "2024-02-06T08:10:07.561Z"
   },
   {
    "duration": 144,
    "start_time": "2024-02-06T08:10:43.292Z"
   },
   {
    "duration": 120,
    "start_time": "2024-02-06T08:11:25.861Z"
   },
   {
    "duration": 147,
    "start_time": "2024-02-06T08:12:04.888Z"
   },
   {
    "duration": 7,
    "start_time": "2024-02-06T08:17:23.581Z"
   },
   {
    "duration": 5,
    "start_time": "2024-02-06T08:17:45.898Z"
   },
   {
    "duration": 147,
    "start_time": "2024-02-06T08:17:50.654Z"
   },
   {
    "duration": 5,
    "start_time": "2024-02-06T08:18:01.035Z"
   },
   {
    "duration": 223,
    "start_time": "2024-02-06T08:18:03.940Z"
   },
   {
    "duration": 11,
    "start_time": "2024-02-06T08:18:11.225Z"
   },
   {
    "duration": 94,
    "start_time": "2024-02-06T08:18:27.750Z"
   },
   {
    "duration": 11,
    "start_time": "2024-02-06T08:18:37.225Z"
   },
   {
    "duration": 11,
    "start_time": "2024-02-06T08:18:46.205Z"
   },
   {
    "duration": 10,
    "start_time": "2024-02-06T08:20:04.774Z"
   },
   {
    "duration": 179,
    "start_time": "2024-02-06T08:26:24.879Z"
   },
   {
    "duration": 157,
    "start_time": "2024-02-06T08:27:02.656Z"
   },
   {
    "duration": 150,
    "start_time": "2024-02-06T08:27:32.671Z"
   },
   {
    "duration": 11,
    "start_time": "2024-02-06T08:27:39.458Z"
   },
   {
    "duration": 72,
    "start_time": "2024-02-06T08:29:49.800Z"
   },
   {
    "duration": 65,
    "start_time": "2024-02-06T08:30:18.550Z"
   },
   {
    "duration": 72,
    "start_time": "2024-02-06T08:30:33.462Z"
   },
   {
    "duration": 92,
    "start_time": "2024-02-06T08:31:03.206Z"
   },
   {
    "duration": 11,
    "start_time": "2024-02-06T08:31:14.906Z"
   },
   {
    "duration": 70,
    "start_time": "2024-02-06T08:32:09.710Z"
   },
   {
    "duration": 83,
    "start_time": "2024-02-06T08:32:30.694Z"
   },
   {
    "duration": 73,
    "start_time": "2024-02-06T08:32:48.766Z"
   },
   {
    "duration": 10,
    "start_time": "2024-02-06T08:36:19.611Z"
   },
   {
    "duration": 13,
    "start_time": "2024-02-06T08:37:15.021Z"
   },
   {
    "duration": 68,
    "start_time": "2024-02-06T08:40:31.468Z"
   },
   {
    "duration": 71,
    "start_time": "2024-02-06T08:41:06.974Z"
   },
   {
    "duration": 77,
    "start_time": "2024-02-06T08:41:13.890Z"
   },
   {
    "duration": 75,
    "start_time": "2024-02-06T08:41:19.945Z"
   },
   {
    "duration": 292,
    "start_time": "2024-02-06T08:41:24.353Z"
   },
   {
    "duration": 78,
    "start_time": "2024-02-06T08:42:27.394Z"
   },
   {
    "duration": 260,
    "start_time": "2024-02-06T08:42:35.985Z"
   },
   {
    "duration": 274,
    "start_time": "2024-02-06T08:42:50.800Z"
   },
   {
    "duration": 279,
    "start_time": "2024-02-06T08:43:05.873Z"
   },
   {
    "duration": 164,
    "start_time": "2024-02-06T08:43:12.437Z"
   },
   {
    "duration": 281,
    "start_time": "2024-02-06T08:43:16.769Z"
   },
   {
    "duration": 323,
    "start_time": "2024-02-06T08:44:09.019Z"
   },
   {
    "duration": 420,
    "start_time": "2024-02-06T08:44:57.206Z"
   },
   {
    "duration": 331,
    "start_time": "2024-02-06T08:45:17.638Z"
   },
   {
    "duration": 324,
    "start_time": "2024-02-06T08:45:41.110Z"
   },
   {
    "duration": 345,
    "start_time": "2024-02-06T08:46:16.658Z"
   },
   {
    "duration": 13,
    "start_time": "2024-02-06T08:55:46.382Z"
   },
   {
    "duration": 319,
    "start_time": "2024-02-06T08:59:48.443Z"
   },
   {
    "duration": 10,
    "start_time": "2024-02-06T09:06:12.941Z"
   },
   {
    "duration": 11,
    "start_time": "2024-02-06T09:07:56.655Z"
   },
   {
    "duration": 9,
    "start_time": "2024-02-06T09:09:29.863Z"
   },
   {
    "duration": 11,
    "start_time": "2024-02-06T09:21:13.403Z"
   },
   {
    "duration": 13,
    "start_time": "2024-02-06T09:23:30.790Z"
   },
   {
    "duration": 11,
    "start_time": "2024-02-06T09:24:04.899Z"
   },
   {
    "duration": 337,
    "start_time": "2024-02-06T09:27:01.943Z"
   },
   {
    "duration": 327,
    "start_time": "2024-02-06T09:27:54.373Z"
   },
   {
    "duration": 7,
    "start_time": "2024-02-06T10:03:36.242Z"
   },
   {
    "duration": 33,
    "start_time": "2024-02-06T10:18:13.519Z"
   },
   {
    "duration": 208,
    "start_time": "2024-02-06T10:19:44.917Z"
   },
   {
    "duration": 1407,
    "start_time": "2024-02-07T08:19:12.957Z"
   },
   {
    "duration": 3,
    "start_time": "2024-02-07T08:19:14.366Z"
   },
   {
    "duration": 203,
    "start_time": "2024-02-07T08:19:14.371Z"
   },
   {
    "duration": 30,
    "start_time": "2024-02-07T08:19:14.576Z"
   },
   {
    "duration": 21,
    "start_time": "2024-02-07T08:19:14.607Z"
   },
   {
    "duration": 18,
    "start_time": "2024-02-07T08:19:14.630Z"
   },
   {
    "duration": 37,
    "start_time": "2024-02-07T08:19:14.650Z"
   },
   {
    "duration": 6,
    "start_time": "2024-02-07T08:19:14.689Z"
   },
   {
    "duration": 4,
    "start_time": "2024-02-07T08:19:14.696Z"
   },
   {
    "duration": 12,
    "start_time": "2024-02-07T08:19:14.704Z"
   },
   {
    "duration": 8,
    "start_time": "2024-02-07T08:19:14.717Z"
   },
   {
    "duration": 6,
    "start_time": "2024-02-07T08:19:14.727Z"
   },
   {
    "duration": 46,
    "start_time": "2024-02-07T08:19:14.735Z"
   },
   {
    "duration": 6,
    "start_time": "2024-02-07T08:19:14.783Z"
   },
   {
    "duration": 7,
    "start_time": "2024-02-07T08:19:14.790Z"
   },
   {
    "duration": 12,
    "start_time": "2024-02-07T08:19:14.798Z"
   },
   {
    "duration": 14,
    "start_time": "2024-02-07T08:19:14.811Z"
   },
   {
    "duration": 10,
    "start_time": "2024-02-07T08:19:14.826Z"
   },
   {
    "duration": 10,
    "start_time": "2024-02-07T08:19:14.837Z"
   },
   {
    "duration": 33,
    "start_time": "2024-02-07T08:19:14.849Z"
   },
   {
    "duration": 6,
    "start_time": "2024-02-07T08:19:14.884Z"
   },
   {
    "duration": 7,
    "start_time": "2024-02-07T08:19:14.892Z"
   },
   {
    "duration": 12,
    "start_time": "2024-02-07T08:19:14.900Z"
   },
   {
    "duration": 13,
    "start_time": "2024-02-07T08:19:14.914Z"
   },
   {
    "duration": 385,
    "start_time": "2024-02-07T08:19:14.928Z"
   },
   {
    "duration": 12,
    "start_time": "2024-02-07T08:19:15.315Z"
   },
   {
    "duration": 346,
    "start_time": "2024-02-07T08:19:15.328Z"
   },
   {
    "duration": 11,
    "start_time": "2024-02-07T08:19:15.683Z"
   },
   {
    "duration": 227,
    "start_time": "2024-02-07T08:19:15.696Z"
   },
   {
    "duration": 21,
    "start_time": "2024-02-07T08:22:15.076Z"
   },
   {
    "duration": 13,
    "start_time": "2024-02-07T08:24:32.474Z"
   },
   {
    "duration": 284,
    "start_time": "2024-02-07T08:26:48.265Z"
   },
   {
    "duration": 202,
    "start_time": "2024-02-07T08:28:09.425Z"
   },
   {
    "duration": 303,
    "start_time": "2024-02-07T08:30:19.147Z"
   },
   {
    "duration": 190,
    "start_time": "2024-02-07T08:31:01.356Z"
   },
   {
    "duration": 191,
    "start_time": "2024-02-07T08:32:45.547Z"
   },
   {
    "duration": 281,
    "start_time": "2024-02-07T08:33:19.112Z"
   },
   {
    "duration": 160,
    "start_time": "2024-02-07T08:33:38.910Z"
   },
   {
    "duration": 182,
    "start_time": "2024-02-07T08:34:42.762Z"
   },
   {
    "duration": 201,
    "start_time": "2024-02-07T08:35:12.807Z"
   },
   {
    "duration": 194,
    "start_time": "2024-02-07T08:36:17.547Z"
   },
   {
    "duration": 229,
    "start_time": "2024-02-07T08:37:05.077Z"
   },
   {
    "duration": 232,
    "start_time": "2024-02-07T08:38:12.270Z"
   },
   {
    "duration": 186,
    "start_time": "2024-02-07T08:39:14.640Z"
   },
   {
    "duration": 188,
    "start_time": "2024-02-07T08:40:23.366Z"
   },
   {
    "duration": 246,
    "start_time": "2024-02-07T08:40:40.580Z"
   },
   {
    "duration": 189,
    "start_time": "2024-02-07T08:41:40.217Z"
   },
   {
    "duration": 212,
    "start_time": "2024-02-07T08:41:51.860Z"
   },
   {
    "duration": 254,
    "start_time": "2024-02-07T08:43:14.805Z"
   },
   {
    "duration": 225,
    "start_time": "2024-02-07T08:45:33.823Z"
   },
   {
    "duration": 210,
    "start_time": "2024-02-07T08:45:40.280Z"
   },
   {
    "duration": 214,
    "start_time": "2024-02-07T08:45:48.860Z"
   },
   {
    "duration": 209,
    "start_time": "2024-02-07T08:46:23.876Z"
   },
   {
    "duration": 73,
    "start_time": "2024-02-07T08:46:50.722Z"
   },
   {
    "duration": 173,
    "start_time": "2024-02-07T08:46:57.682Z"
   },
   {
    "duration": 199,
    "start_time": "2024-02-07T08:47:24.604Z"
   },
   {
    "duration": 64,
    "start_time": "2024-02-07T08:48:55.832Z"
   },
   {
    "duration": 229,
    "start_time": "2024-02-07T08:49:01.561Z"
   },
   {
    "duration": 195,
    "start_time": "2024-02-07T08:49:36.887Z"
   },
   {
    "duration": 184,
    "start_time": "2024-02-07T08:49:49.701Z"
   },
   {
    "duration": 216,
    "start_time": "2024-02-07T08:50:33.690Z"
   },
   {
    "duration": 197,
    "start_time": "2024-02-07T08:52:05.362Z"
   },
   {
    "duration": 213,
    "start_time": "2024-02-07T08:52:14.730Z"
   },
   {
    "duration": 80,
    "start_time": "2024-02-07T08:53:14.842Z"
   },
   {
    "duration": 314,
    "start_time": "2024-02-07T08:53:56.237Z"
   },
   {
    "duration": 196,
    "start_time": "2024-02-07T08:54:20.544Z"
   },
   {
    "duration": 182,
    "start_time": "2024-02-07T08:54:43.530Z"
   },
   {
    "duration": 199,
    "start_time": "2024-02-07T08:55:20.228Z"
   },
   {
    "duration": 201,
    "start_time": "2024-02-07T08:55:44.187Z"
   },
   {
    "duration": 194,
    "start_time": "2024-02-07T08:55:57.207Z"
   },
   {
    "duration": 198,
    "start_time": "2024-02-07T08:56:11.950Z"
   },
   {
    "duration": 163,
    "start_time": "2024-02-07T09:06:29.197Z"
   },
   {
    "duration": 224,
    "start_time": "2024-02-07T09:06:58.561Z"
   },
   {
    "duration": 225,
    "start_time": "2024-02-07T09:10:23.653Z"
   },
   {
    "duration": 324,
    "start_time": "2024-02-07T09:16:26.388Z"
   },
   {
    "duration": 245,
    "start_time": "2024-02-07T09:17:23.721Z"
   },
   {
    "duration": 283,
    "start_time": "2024-02-07T09:17:37.824Z"
   },
   {
    "duration": 329,
    "start_time": "2024-02-07T09:17:48.229Z"
   },
   {
    "duration": 22,
    "start_time": "2024-02-07T09:17:59.180Z"
   },
   {
    "duration": 16,
    "start_time": "2024-02-07T09:18:23.873Z"
   },
   {
    "duration": 233,
    "start_time": "2024-02-07T09:18:32.016Z"
   },
   {
    "duration": 220,
    "start_time": "2024-02-07T09:19:16.656Z"
   },
   {
    "duration": 230,
    "start_time": "2024-02-07T09:19:25.484Z"
   },
   {
    "duration": 224,
    "start_time": "2024-02-07T09:20:35.745Z"
   },
   {
    "duration": 88,
    "start_time": "2024-02-07T09:21:41.673Z"
   },
   {
    "duration": 172,
    "start_time": "2024-02-07T09:21:46.188Z"
   },
   {
    "duration": 221,
    "start_time": "2024-02-07T09:22:02.174Z"
   },
   {
    "duration": 222,
    "start_time": "2024-02-07T09:22:11.169Z"
   },
   {
    "duration": 220,
    "start_time": "2024-02-07T09:22:29.610Z"
   },
   {
    "duration": 17,
    "start_time": "2024-02-07T09:23:17.834Z"
   },
   {
    "duration": 16,
    "start_time": "2024-02-07T09:23:32.704Z"
   },
   {
    "duration": 218,
    "start_time": "2024-02-07T09:23:39.202Z"
   },
   {
    "duration": 222,
    "start_time": "2024-02-07T09:25:56.210Z"
   },
   {
    "duration": 18,
    "start_time": "2024-02-07T09:26:06.536Z"
   },
   {
    "duration": 18,
    "start_time": "2024-02-07T09:26:43.424Z"
   },
   {
    "duration": 20,
    "start_time": "2024-02-07T09:26:53.788Z"
   },
   {
    "duration": 221,
    "start_time": "2024-02-07T09:27:13.229Z"
   },
   {
    "duration": 199,
    "start_time": "2024-02-07T09:30:37.409Z"
   },
   {
    "duration": 334,
    "start_time": "2024-02-07T09:31:18.789Z"
   },
   {
    "duration": 217,
    "start_time": "2024-02-07T09:32:30.909Z"
   },
   {
    "duration": 226,
    "start_time": "2024-02-07T09:36:30.074Z"
   },
   {
    "duration": 218,
    "start_time": "2024-02-07T09:44:07.286Z"
   },
   {
    "duration": 326,
    "start_time": "2024-02-07T09:46:17.698Z"
   },
   {
    "duration": 250,
    "start_time": "2024-02-07T09:46:47.625Z"
   },
   {
    "duration": 223,
    "start_time": "2024-02-07T09:47:30.479Z"
   },
   {
    "duration": 369,
    "start_time": "2024-02-07T09:48:04.363Z"
   },
   {
    "duration": 313,
    "start_time": "2024-02-07T09:48:12.995Z"
   },
   {
    "duration": 1220,
    "start_time": "2024-02-07T09:50:53.194Z"
   },
   {
    "duration": 3,
    "start_time": "2024-02-07T09:50:54.416Z"
   },
   {
    "duration": 106,
    "start_time": "2024-02-07T09:50:54.420Z"
   },
   {
    "duration": 21,
    "start_time": "2024-02-07T09:50:54.528Z"
   },
   {
    "duration": 26,
    "start_time": "2024-02-07T09:50:54.551Z"
   },
   {
    "duration": 31,
    "start_time": "2024-02-07T09:50:54.579Z"
   },
   {
    "duration": 17,
    "start_time": "2024-02-07T09:50:54.612Z"
   },
   {
    "duration": 16,
    "start_time": "2024-02-07T09:50:54.631Z"
   },
   {
    "duration": 21,
    "start_time": "2024-02-07T09:50:54.649Z"
   },
   {
    "duration": 31,
    "start_time": "2024-02-07T09:50:54.672Z"
   },
   {
    "duration": 19,
    "start_time": "2024-02-07T09:50:54.705Z"
   },
   {
    "duration": 26,
    "start_time": "2024-02-07T09:50:54.726Z"
   },
   {
    "duration": 22,
    "start_time": "2024-02-07T09:50:54.754Z"
   },
   {
    "duration": 24,
    "start_time": "2024-02-07T09:50:54.778Z"
   },
   {
    "duration": 32,
    "start_time": "2024-02-07T09:50:54.804Z"
   },
   {
    "duration": 46,
    "start_time": "2024-02-07T09:50:54.838Z"
   },
   {
    "duration": 35,
    "start_time": "2024-02-07T09:50:54.886Z"
   },
   {
    "duration": 24,
    "start_time": "2024-02-07T09:50:54.922Z"
   },
   {
    "duration": 25,
    "start_time": "2024-02-07T09:50:54.948Z"
   },
   {
    "duration": 31,
    "start_time": "2024-02-07T09:50:54.975Z"
   },
   {
    "duration": 32,
    "start_time": "2024-02-07T09:50:55.008Z"
   },
   {
    "duration": 18,
    "start_time": "2024-02-07T09:50:55.042Z"
   },
   {
    "duration": 39,
    "start_time": "2024-02-07T09:50:55.061Z"
   },
   {
    "duration": 27,
    "start_time": "2024-02-07T09:50:55.102Z"
   },
   {
    "duration": 387,
    "start_time": "2024-02-07T09:50:55.131Z"
   },
   {
    "duration": 12,
    "start_time": "2024-02-07T09:50:55.519Z"
   },
   {
    "duration": 340,
    "start_time": "2024-02-07T09:50:55.532Z"
   },
   {
    "duration": 17,
    "start_time": "2024-02-07T09:50:55.875Z"
   },
   {
    "duration": 341,
    "start_time": "2024-02-07T09:50:55.893Z"
   },
   {
    "duration": 13,
    "start_time": "2024-02-07T09:50:56.235Z"
   },
   {
    "duration": 328,
    "start_time": "2024-02-07T09:50:56.250Z"
   },
   {
    "duration": 243,
    "start_time": "2024-02-07T09:50:56.581Z"
   },
   {
    "duration": 419,
    "start_time": "2024-02-07T09:50:56.825Z"
   },
   {
    "duration": 312,
    "start_time": "2024-02-07T09:51:07.706Z"
   },
   {
    "duration": 307,
    "start_time": "2024-02-07T09:51:29.328Z"
   },
   {
    "duration": 411,
    "start_time": "2024-02-07T09:51:56.934Z"
   },
   {
    "duration": 359,
    "start_time": "2024-02-07T09:52:32.906Z"
   },
   {
    "duration": 337,
    "start_time": "2024-02-07T09:52:44.438Z"
   },
   {
    "duration": 345,
    "start_time": "2024-02-07T09:53:15.368Z"
   },
   {
    "duration": 355,
    "start_time": "2024-02-07T09:54:41.183Z"
   },
   {
    "duration": 355,
    "start_time": "2024-02-07T09:56:16.623Z"
   },
   {
    "duration": 344,
    "start_time": "2024-02-07T09:56:26.988Z"
   },
   {
    "duration": 171,
    "start_time": "2024-02-07T09:57:23.238Z"
   },
   {
    "duration": 313,
    "start_time": "2024-02-07T09:57:42.909Z"
   },
   {
    "duration": 327,
    "start_time": "2024-02-07T09:59:01.243Z"
   },
   {
    "duration": 232,
    "start_time": "2024-02-07T09:59:13.086Z"
   },
   {
    "duration": 322,
    "start_time": "2024-02-07T09:59:19.293Z"
   },
   {
    "duration": 348,
    "start_time": "2024-02-07T10:00:00.068Z"
   },
   {
    "duration": 309,
    "start_time": "2024-02-07T10:00:09.039Z"
   },
   {
    "duration": 326,
    "start_time": "2024-02-07T10:05:35.413Z"
   },
   {
    "duration": 323,
    "start_time": "2024-02-07T10:05:42.442Z"
   },
   {
    "duration": 225,
    "start_time": "2024-02-07T10:07:24.138Z"
   },
   {
    "duration": 277,
    "start_time": "2024-02-07T10:08:25.738Z"
   },
   {
    "duration": 268,
    "start_time": "2024-02-07T10:12:02.033Z"
   },
   {
    "duration": 213,
    "start_time": "2024-02-07T10:12:06.369Z"
   },
   {
    "duration": 215,
    "start_time": "2024-02-07T10:12:16.779Z"
   },
   {
    "duration": 245,
    "start_time": "2024-02-07T10:12:29.889Z"
   },
   {
    "duration": 245,
    "start_time": "2024-02-07T10:12:44.489Z"
   },
   {
    "duration": 221,
    "start_time": "2024-02-07T10:13:21.490Z"
   },
   {
    "duration": 224,
    "start_time": "2024-02-07T10:13:32.808Z"
   },
   {
    "duration": 230,
    "start_time": "2024-02-07T10:13:50.699Z"
   },
   {
    "duration": 228,
    "start_time": "2024-02-07T10:14:09.501Z"
   },
   {
    "duration": 302,
    "start_time": "2024-02-07T10:18:02.334Z"
   },
   {
    "duration": 366,
    "start_time": "2024-02-07T10:18:43.474Z"
   },
   {
    "duration": 232,
    "start_time": "2024-02-07T10:19:05.274Z"
   },
   {
    "duration": 234,
    "start_time": "2024-02-07T10:19:16.685Z"
   },
   {
    "duration": 348,
    "start_time": "2024-02-07T10:19:41.652Z"
   },
   {
    "duration": 188,
    "start_time": "2024-02-07T10:27:06.024Z"
   },
   {
    "duration": 72,
    "start_time": "2024-02-07T10:33:31.893Z"
   },
   {
    "duration": 300,
    "start_time": "2024-02-07T10:33:35.816Z"
   },
   {
    "duration": 215,
    "start_time": "2024-02-07T10:34:26.461Z"
   },
   {
    "duration": 1440,
    "start_time": "2024-02-08T06:38:24.532Z"
   },
   {
    "duration": 4,
    "start_time": "2024-02-08T06:38:25.974Z"
   },
   {
    "duration": 184,
    "start_time": "2024-02-08T06:38:25.979Z"
   },
   {
    "duration": 21,
    "start_time": "2024-02-08T06:38:26.165Z"
   },
   {
    "duration": 20,
    "start_time": "2024-02-08T06:38:26.188Z"
   },
   {
    "duration": 18,
    "start_time": "2024-02-08T06:38:26.210Z"
   },
   {
    "duration": 10,
    "start_time": "2024-02-08T06:38:26.230Z"
   },
   {
    "duration": 5,
    "start_time": "2024-02-08T06:38:26.242Z"
   },
   {
    "duration": 29,
    "start_time": "2024-02-08T06:38:26.249Z"
   },
   {
    "duration": 19,
    "start_time": "2024-02-08T06:38:26.280Z"
   },
   {
    "duration": 7,
    "start_time": "2024-02-08T06:38:26.301Z"
   },
   {
    "duration": 15,
    "start_time": "2024-02-08T06:38:26.309Z"
   },
   {
    "duration": 11,
    "start_time": "2024-02-08T06:38:26.325Z"
   },
   {
    "duration": 6,
    "start_time": "2024-02-08T06:38:26.340Z"
   },
   {
    "duration": 6,
    "start_time": "2024-02-08T06:38:26.348Z"
   },
   {
    "duration": 18,
    "start_time": "2024-02-08T06:38:26.356Z"
   },
   {
    "duration": 7,
    "start_time": "2024-02-08T06:38:26.376Z"
   },
   {
    "duration": 43,
    "start_time": "2024-02-08T06:38:26.384Z"
   },
   {
    "duration": 11,
    "start_time": "2024-02-08T06:38:26.429Z"
   },
   {
    "duration": 4,
    "start_time": "2024-02-08T06:38:26.442Z"
   },
   {
    "duration": 12,
    "start_time": "2024-02-08T06:38:26.448Z"
   },
   {
    "duration": 11,
    "start_time": "2024-02-08T06:38:26.462Z"
   },
   {
    "duration": 11,
    "start_time": "2024-02-08T06:38:26.476Z"
   },
   {
    "duration": 43,
    "start_time": "2024-02-08T06:38:26.489Z"
   },
   {
    "duration": 373,
    "start_time": "2024-02-08T06:38:26.534Z"
   },
   {
    "duration": 15,
    "start_time": "2024-02-08T06:38:26.909Z"
   },
   {
    "duration": 339,
    "start_time": "2024-02-08T06:38:26.927Z"
   },
   {
    "duration": 17,
    "start_time": "2024-02-08T06:38:27.267Z"
   },
   {
    "duration": 346,
    "start_time": "2024-02-08T06:38:27.286Z"
   },
   {
    "duration": 14,
    "start_time": "2024-02-08T06:38:27.634Z"
   },
   {
    "duration": 332,
    "start_time": "2024-02-08T06:38:27.650Z"
   },
   {
    "duration": 233,
    "start_time": "2024-02-08T06:38:27.983Z"
   },
   {
    "duration": 364,
    "start_time": "2024-02-08T06:38:28.218Z"
   },
   {
    "duration": 217,
    "start_time": "2024-02-08T06:38:28.584Z"
   },
   {
    "duration": 245,
    "start_time": "2024-02-08T06:40:34.242Z"
   },
   {
    "duration": 403,
    "start_time": "2024-02-08T06:45:34.628Z"
   },
   {
    "duration": 273,
    "start_time": "2024-02-08T06:46:00.352Z"
   },
   {
    "duration": 299,
    "start_time": "2024-02-08T06:46:51.082Z"
   },
   {
    "duration": 322,
    "start_time": "2024-02-08T06:51:11.737Z"
   },
   {
    "duration": 378,
    "start_time": "2024-02-08T06:54:28.874Z"
   },
   {
    "duration": 296,
    "start_time": "2024-02-08T06:55:09.739Z"
   },
   {
    "duration": 303,
    "start_time": "2024-02-08T06:55:27.361Z"
   },
   {
    "duration": 301,
    "start_time": "2024-02-08T06:56:22.831Z"
   },
   {
    "duration": 185,
    "start_time": "2024-02-08T06:56:59.738Z"
   },
   {
    "duration": 301,
    "start_time": "2024-02-08T06:57:48.435Z"
   },
   {
    "duration": 310,
    "start_time": "2024-02-08T06:59:24.729Z"
   },
   {
    "duration": 408,
    "start_time": "2024-02-08T06:59:54.491Z"
   },
   {
    "duration": 327,
    "start_time": "2024-02-08T07:03:28.285Z"
   },
   {
    "duration": 301,
    "start_time": "2024-02-08T07:03:37.361Z"
   },
   {
    "duration": 297,
    "start_time": "2024-02-08T07:03:53.445Z"
   },
   {
    "duration": 365,
    "start_time": "2024-02-08T07:04:01.810Z"
   },
   {
    "duration": 294,
    "start_time": "2024-02-08T07:05:41.560Z"
   },
   {
    "duration": 345,
    "start_time": "2024-02-08T07:09:40.321Z"
   },
   {
    "duration": 332,
    "start_time": "2024-02-08T07:12:50.018Z"
   },
   {
    "duration": 325,
    "start_time": "2024-02-08T07:14:20.887Z"
   },
   {
    "duration": 366,
    "start_time": "2024-02-08T07:14:33.097Z"
   },
   {
    "duration": 324,
    "start_time": "2024-02-08T07:14:46.249Z"
   },
   {
    "duration": 409,
    "start_time": "2024-02-08T07:14:53.643Z"
   },
   {
    "duration": 319,
    "start_time": "2024-02-08T07:15:05.810Z"
   },
   {
    "duration": 337,
    "start_time": "2024-02-08T07:15:57.603Z"
   },
   {
    "duration": 347,
    "start_time": "2024-02-08T07:17:50.809Z"
   },
   {
    "duration": 356,
    "start_time": "2024-02-08T07:18:19.406Z"
   },
   {
    "duration": 334,
    "start_time": "2024-02-08T07:18:33.585Z"
   },
   {
    "duration": 7,
    "start_time": "2024-02-08T07:21:50.771Z"
   },
   {
    "duration": 11,
    "start_time": "2024-02-08T07:22:13.146Z"
   },
   {
    "duration": 12,
    "start_time": "2024-02-08T07:22:17.623Z"
   },
   {
    "duration": 9,
    "start_time": "2024-02-08T07:23:00.212Z"
   },
   {
    "duration": 4,
    "start_time": "2024-02-08T07:23:05.389Z"
   },
   {
    "duration": 5,
    "start_time": "2024-02-08T07:23:20.838Z"
   },
   {
    "duration": 1326,
    "start_time": "2024-02-08T07:25:44.708Z"
   },
   {
    "duration": 4,
    "start_time": "2024-02-08T07:25:46.036Z"
   },
   {
    "duration": 98,
    "start_time": "2024-02-08T07:25:46.042Z"
   },
   {
    "duration": 20,
    "start_time": "2024-02-08T07:25:46.147Z"
   },
   {
    "duration": 22,
    "start_time": "2024-02-08T07:25:46.170Z"
   },
   {
    "duration": 42,
    "start_time": "2024-02-08T07:25:46.193Z"
   },
   {
    "duration": 29,
    "start_time": "2024-02-08T07:25:46.237Z"
   },
   {
    "duration": 33,
    "start_time": "2024-02-08T07:25:46.268Z"
   },
   {
    "duration": 21,
    "start_time": "2024-02-08T07:25:46.303Z"
   },
   {
    "duration": 39,
    "start_time": "2024-02-08T07:25:46.326Z"
   },
   {
    "duration": 25,
    "start_time": "2024-02-08T07:25:46.367Z"
   },
   {
    "duration": 24,
    "start_time": "2024-02-08T07:25:46.394Z"
   },
   {
    "duration": 57,
    "start_time": "2024-02-08T07:25:46.420Z"
   },
   {
    "duration": 17,
    "start_time": "2024-02-08T07:25:46.480Z"
   },
   {
    "duration": 45,
    "start_time": "2024-02-08T07:25:46.499Z"
   },
   {
    "duration": 33,
    "start_time": "2024-02-08T07:25:46.546Z"
   },
   {
    "duration": 16,
    "start_time": "2024-02-08T07:25:46.581Z"
   },
   {
    "duration": 28,
    "start_time": "2024-02-08T07:25:46.599Z"
   },
   {
    "duration": 33,
    "start_time": "2024-02-08T07:25:46.629Z"
   },
   {
    "duration": 37,
    "start_time": "2024-02-08T07:25:46.663Z"
   },
   {
    "duration": 27,
    "start_time": "2024-02-08T07:25:46.702Z"
   },
   {
    "duration": 32,
    "start_time": "2024-02-08T07:25:46.730Z"
   },
   {
    "duration": 20,
    "start_time": "2024-02-08T07:25:46.764Z"
   },
   {
    "duration": 54,
    "start_time": "2024-02-08T07:25:46.786Z"
   },
   {
    "duration": 370,
    "start_time": "2024-02-08T07:25:46.842Z"
   },
   {
    "duration": 21,
    "start_time": "2024-02-08T07:25:47.213Z"
   },
   {
    "duration": 363,
    "start_time": "2024-02-08T07:25:47.238Z"
   },
   {
    "duration": 11,
    "start_time": "2024-02-08T07:25:47.603Z"
   },
   {
    "duration": 344,
    "start_time": "2024-02-08T07:25:47.616Z"
   },
   {
    "duration": 15,
    "start_time": "2024-02-08T07:25:47.962Z"
   },
   {
    "duration": 366,
    "start_time": "2024-02-08T07:25:47.979Z"
   },
   {
    "duration": 252,
    "start_time": "2024-02-08T07:25:48.346Z"
   },
   {
    "duration": 371,
    "start_time": "2024-02-08T07:25:48.600Z"
   },
   {
    "duration": 267,
    "start_time": "2024-02-08T07:25:48.973Z"
   },
   {
    "duration": 369,
    "start_time": "2024-02-08T07:25:49.242Z"
   },
   {
    "duration": 21,
    "start_time": "2024-02-08T07:25:49.612Z"
   },
   {
    "duration": 107,
    "start_time": "2024-02-08T07:35:47.347Z"
   },
   {
    "duration": 9,
    "start_time": "2024-02-08T07:36:09.627Z"
   },
   {
    "duration": 10,
    "start_time": "2024-02-08T07:39:18.779Z"
   },
   {
    "duration": 15,
    "start_time": "2024-02-08T07:39:27.427Z"
   },
   {
    "duration": 231,
    "start_time": "2024-02-08T07:40:57.517Z"
   },
   {
    "duration": 9,
    "start_time": "2024-02-08T07:41:30.959Z"
   },
   {
    "duration": 1227,
    "start_time": "2024-02-08T07:42:43.147Z"
   },
   {
    "duration": 130,
    "start_time": "2024-02-08T07:42:52.927Z"
   },
   {
    "duration": 123,
    "start_time": "2024-02-08T07:43:26.807Z"
   },
   {
    "duration": 128,
    "start_time": "2024-02-08T07:43:37.834Z"
   },
   {
    "duration": 109,
    "start_time": "2024-02-08T07:44:02.959Z"
   },
   {
    "duration": 144,
    "start_time": "2024-02-08T07:45:54.487Z"
   },
   {
    "duration": 1210,
    "start_time": "2024-02-08T07:51:28.611Z"
   },
   {
    "duration": 5,
    "start_time": "2024-02-08T07:51:44.630Z"
   },
   {
    "duration": 12,
    "start_time": "2024-02-08T08:04:13.170Z"
   },
   {
    "duration": 100,
    "start_time": "2024-02-08T08:05:54.290Z"
   },
   {
    "duration": 155,
    "start_time": "2024-02-08T08:06:12.577Z"
   },
   {
    "duration": 1344,
    "start_time": "2024-02-08T08:06:41.546Z"
   },
   {
    "duration": 320,
    "start_time": "2024-02-08T08:12:09.637Z"
   },
   {
    "duration": 4,
    "start_time": "2024-02-08T08:12:23.003Z"
   },
   {
    "duration": 46,
    "start_time": "2024-02-08T08:12:23.009Z"
   },
   {
    "duration": 122,
    "start_time": "2024-02-08T08:12:23.057Z"
   },
   {
    "duration": 17,
    "start_time": "2024-02-08T08:12:23.181Z"
   },
   {
    "duration": 50,
    "start_time": "2024-02-08T08:12:23.200Z"
   },
   {
    "duration": 49,
    "start_time": "2024-02-08T08:12:23.252Z"
   },
   {
    "duration": 33,
    "start_time": "2024-02-08T08:12:23.303Z"
   },
   {
    "duration": 33,
    "start_time": "2024-02-08T08:12:23.337Z"
   },
   {
    "duration": 20,
    "start_time": "2024-02-08T08:12:23.373Z"
   },
   {
    "duration": 29,
    "start_time": "2024-02-08T08:12:23.394Z"
   },
   {
    "duration": 32,
    "start_time": "2024-02-08T08:12:23.425Z"
   },
   {
    "duration": 17,
    "start_time": "2024-02-08T08:12:23.459Z"
   },
   {
    "duration": 29,
    "start_time": "2024-02-08T08:12:23.477Z"
   },
   {
    "duration": 20,
    "start_time": "2024-02-08T08:12:23.509Z"
   },
   {
    "duration": 28,
    "start_time": "2024-02-08T08:12:23.530Z"
   },
   {
    "duration": 37,
    "start_time": "2024-02-08T08:12:23.561Z"
   },
   {
    "duration": 26,
    "start_time": "2024-02-08T08:12:23.600Z"
   },
   {
    "duration": 20,
    "start_time": "2024-02-08T08:12:23.628Z"
   },
   {
    "duration": 29,
    "start_time": "2024-02-08T08:12:23.649Z"
   },
   {
    "duration": 25,
    "start_time": "2024-02-08T08:12:23.680Z"
   },
   {
    "duration": 39,
    "start_time": "2024-02-08T08:12:23.707Z"
   },
   {
    "duration": 37,
    "start_time": "2024-02-08T08:12:23.747Z"
   },
   {
    "duration": 40,
    "start_time": "2024-02-08T08:12:23.785Z"
   },
   {
    "duration": 32,
    "start_time": "2024-02-08T08:12:23.827Z"
   },
   {
    "duration": 345,
    "start_time": "2024-02-08T08:12:23.861Z"
   },
   {
    "duration": 19,
    "start_time": "2024-02-08T08:12:24.208Z"
   },
   {
    "duration": 356,
    "start_time": "2024-02-08T08:12:24.228Z"
   },
   {
    "duration": 12,
    "start_time": "2024-02-08T08:12:24.585Z"
   },
   {
    "duration": 400,
    "start_time": "2024-02-08T08:12:24.599Z"
   },
   {
    "duration": 14,
    "start_time": "2024-02-08T08:12:25.001Z"
   },
   {
    "duration": 266,
    "start_time": "2024-02-08T08:12:25.024Z"
   },
   {
    "duration": 249,
    "start_time": "2024-02-08T08:12:25.292Z"
   },
   {
    "duration": 418,
    "start_time": "2024-02-08T08:12:25.544Z"
   },
   {
    "duration": 256,
    "start_time": "2024-02-08T08:12:25.964Z"
   },
   {
    "duration": 340,
    "start_time": "2024-02-08T08:12:26.224Z"
   },
   {
    "duration": 14,
    "start_time": "2024-02-08T08:12:26.566Z"
   },
   {
    "duration": 132,
    "start_time": "2024-02-08T08:12:26.581Z"
   },
   {
    "duration": 167,
    "start_time": "2024-02-08T08:12:26.715Z"
   },
   {
    "duration": 6,
    "start_time": "2024-02-08T08:12:26.883Z"
   },
   {
    "duration": 1474,
    "start_time": "2024-02-08T08:12:26.891Z"
   },
   {
    "duration": 350,
    "start_time": "2024-02-08T08:13:23.329Z"
   },
   {
    "duration": 8,
    "start_time": "2024-02-08T08:14:26.858Z"
   },
   {
    "duration": 9,
    "start_time": "2024-02-08T08:14:31.736Z"
   },
   {
    "duration": 311,
    "start_time": "2024-02-08T08:17:21.143Z"
   },
   {
    "duration": 1296,
    "start_time": "2024-02-08T08:17:34.025Z"
   },
   {
    "duration": 148,
    "start_time": "2024-02-08T08:18:39.585Z"
   },
   {
    "duration": 1407,
    "start_time": "2024-02-08T08:18:51.132Z"
   },
   {
    "duration": 170,
    "start_time": "2024-02-08T08:20:05.253Z"
   },
   {
    "duration": 169,
    "start_time": "2024-02-08T08:20:34.244Z"
   },
   {
    "duration": 6,
    "start_time": "2024-02-08T08:28:46.879Z"
   },
   {
    "duration": 153,
    "start_time": "2024-02-08T08:28:47.633Z"
   },
   {
    "duration": 158,
    "start_time": "2024-02-08T08:29:52.526Z"
   },
   {
    "duration": 193,
    "start_time": "2024-02-08T08:30:05.580Z"
   },
   {
    "duration": 186,
    "start_time": "2024-02-08T08:31:07.540Z"
   },
   {
    "duration": 160,
    "start_time": "2024-02-08T08:31:12.067Z"
   },
   {
    "duration": 51,
    "start_time": "2024-02-08T08:47:19.086Z"
   },
   {
    "duration": 50,
    "start_time": "2024-02-08T08:47:54.260Z"
   },
   {
    "duration": 49,
    "start_time": "2024-02-08T08:48:01.236Z"
   },
   {
    "duration": 16,
    "start_time": "2024-02-08T08:50:04.656Z"
   },
   {
    "duration": 16,
    "start_time": "2024-02-08T08:51:12.495Z"
   },
   {
    "duration": 63,
    "start_time": "2024-02-08T08:51:26.505Z"
   },
   {
    "duration": 62,
    "start_time": "2024-02-08T08:51:28.666Z"
   },
   {
    "duration": 22,
    "start_time": "2024-02-08T08:51:50.164Z"
   },
   {
    "duration": 12,
    "start_time": "2024-02-08T08:53:05.806Z"
   },
   {
    "duration": 62,
    "start_time": "2024-02-08T08:53:39.311Z"
   },
   {
    "duration": 76,
    "start_time": "2024-02-08T08:53:58.396Z"
   },
   {
    "duration": 78,
    "start_time": "2024-02-08T08:54:00.217Z"
   },
   {
    "duration": 86,
    "start_time": "2024-02-08T08:54:00.610Z"
   },
   {
    "duration": 8,
    "start_time": "2024-02-08T08:54:42.694Z"
   },
   {
    "duration": 1203,
    "start_time": "2024-02-08T08:56:50.808Z"
   },
   {
    "duration": 80,
    "start_time": "2024-02-08T08:57:15.351Z"
   },
   {
    "duration": 7,
    "start_time": "2024-02-08T08:57:16.291Z"
   },
   {
    "duration": 7,
    "start_time": "2024-02-08T08:57:18.407Z"
   },
   {
    "duration": 13,
    "start_time": "2024-02-08T08:57:40.863Z"
   },
   {
    "duration": 44,
    "start_time": "2024-02-08T08:57:45.986Z"
   },
   {
    "duration": 30,
    "start_time": "2024-02-08T08:58:18.906Z"
   },
   {
    "duration": 1263,
    "start_time": "2024-02-08T08:59:59.212Z"
   },
   {
    "duration": 3,
    "start_time": "2024-02-08T09:00:00.477Z"
   },
   {
    "duration": 128,
    "start_time": "2024-02-08T09:00:00.482Z"
   },
   {
    "duration": 21,
    "start_time": "2024-02-08T09:00:00.612Z"
   },
   {
    "duration": 56,
    "start_time": "2024-02-08T09:00:00.636Z"
   },
   {
    "duration": 29,
    "start_time": "2024-02-08T09:00:00.694Z"
   },
   {
    "duration": 58,
    "start_time": "2024-02-08T09:00:00.725Z"
   },
   {
    "duration": 34,
    "start_time": "2024-02-08T09:00:00.784Z"
   },
   {
    "duration": 95,
    "start_time": "2024-02-08T09:00:00.819Z"
   },
   {
    "duration": 108,
    "start_time": "2024-02-08T09:00:00.915Z"
   },
   {
    "duration": 69,
    "start_time": "2024-02-08T09:00:01.025Z"
   },
   {
    "duration": 34,
    "start_time": "2024-02-08T09:00:01.095Z"
   },
   {
    "duration": 55,
    "start_time": "2024-02-08T09:00:01.131Z"
   },
   {
    "duration": 32,
    "start_time": "2024-02-08T09:00:01.190Z"
   },
   {
    "duration": 90,
    "start_time": "2024-02-08T09:00:01.224Z"
   },
   {
    "duration": 136,
    "start_time": "2024-02-08T09:00:01.315Z"
   },
   {
    "duration": 66,
    "start_time": "2024-02-08T09:00:01.453Z"
   },
   {
    "duration": 69,
    "start_time": "2024-02-08T09:00:01.521Z"
   },
   {
    "duration": 39,
    "start_time": "2024-02-08T09:00:01.591Z"
   },
   {
    "duration": 61,
    "start_time": "2024-02-08T09:00:01.632Z"
   },
   {
    "duration": 37,
    "start_time": "2024-02-08T09:00:01.695Z"
   },
   {
    "duration": 68,
    "start_time": "2024-02-08T09:00:01.734Z"
   },
   {
    "duration": 33,
    "start_time": "2024-02-08T09:00:01.803Z"
   },
   {
    "duration": 46,
    "start_time": "2024-02-08T09:00:01.838Z"
   },
   {
    "duration": 423,
    "start_time": "2024-02-08T09:00:01.886Z"
   },
   {
    "duration": 18,
    "start_time": "2024-02-08T09:00:02.311Z"
   },
   {
    "duration": 346,
    "start_time": "2024-02-08T09:00:02.331Z"
   },
   {
    "duration": 12,
    "start_time": "2024-02-08T09:00:02.680Z"
   },
   {
    "duration": 349,
    "start_time": "2024-02-08T09:00:02.694Z"
   },
   {
    "duration": 13,
    "start_time": "2024-02-08T09:00:03.044Z"
   },
   {
    "duration": 325,
    "start_time": "2024-02-08T09:00:03.058Z"
   },
   {
    "duration": 242,
    "start_time": "2024-02-08T09:00:03.384Z"
   },
   {
    "duration": 336,
    "start_time": "2024-02-08T09:00:03.628Z"
   },
   {
    "duration": 304,
    "start_time": "2024-02-08T09:00:03.967Z"
   },
   {
    "duration": 334,
    "start_time": "2024-02-08T09:00:04.273Z"
   },
   {
    "duration": 19,
    "start_time": "2024-02-08T09:00:04.609Z"
   },
   {
    "duration": 203,
    "start_time": "2024-02-08T09:00:04.630Z"
   },
   {
    "duration": 168,
    "start_time": "2024-02-08T09:00:04.835Z"
   },
   {
    "duration": 6,
    "start_time": "2024-02-08T09:00:05.004Z"
   },
   {
    "duration": 58,
    "start_time": "2024-02-08T09:00:05.011Z"
   },
   {
    "duration": 89,
    "start_time": "2024-02-08T09:00:05.073Z"
   },
   {
    "duration": 104,
    "start_time": "2024-02-08T09:00:05.163Z"
   },
   {
    "duration": 72,
    "start_time": "2024-02-08T09:00:05.269Z"
   },
   {
    "duration": 22,
    "start_time": "2024-02-08T09:00:05.343Z"
   },
   {
    "duration": 92,
    "start_time": "2024-02-08T09:00:05.367Z"
   },
   {
    "duration": 92,
    "start_time": "2024-02-08T09:00:05.461Z"
   },
   {
    "duration": 8,
    "start_time": "2024-02-08T09:00:05.555Z"
   },
   {
    "duration": 39,
    "start_time": "2024-02-08T09:00:05.564Z"
   },
   {
    "duration": 34,
    "start_time": "2024-02-08T09:00:05.605Z"
   },
   {
    "duration": 26,
    "start_time": "2024-02-08T09:08:21.157Z"
   },
   {
    "duration": 2,
    "start_time": "2024-02-08T09:08:32.686Z"
   },
   {
    "duration": 105,
    "start_time": "2024-02-08T09:10:38.401Z"
   },
   {
    "duration": 27,
    "start_time": "2024-02-08T09:10:43.085Z"
   },
   {
    "duration": 4,
    "start_time": "2024-02-08T09:10:45.181Z"
   },
   {
    "duration": 9,
    "start_time": "2024-02-08T09:10:45.755Z"
   },
   {
    "duration": 82,
    "start_time": "2024-02-08T09:13:49.051Z"
   },
   {
    "duration": 34,
    "start_time": "2024-02-08T09:13:55.557Z"
   },
   {
    "duration": 31,
    "start_time": "2024-02-08T09:16:43.653Z"
   },
   {
    "duration": 27,
    "start_time": "2024-02-08T09:18:06.827Z"
   },
   {
    "duration": 15,
    "start_time": "2024-02-08T09:20:02.286Z"
   },
   {
    "duration": 13,
    "start_time": "2024-02-08T09:20:06.793Z"
   },
   {
    "duration": 28,
    "start_time": "2024-02-08T09:33:03.907Z"
   },
   {
    "duration": 28,
    "start_time": "2024-02-08T09:34:40.047Z"
   },
   {
    "duration": 12,
    "start_time": "2024-02-08T09:36:18.617Z"
   },
   {
    "duration": 11,
    "start_time": "2024-02-08T09:36:30.958Z"
   },
   {
    "duration": 11,
    "start_time": "2024-02-08T09:36:36.825Z"
   },
   {
    "duration": 12,
    "start_time": "2024-02-08T09:37:03.076Z"
   },
   {
    "duration": 11,
    "start_time": "2024-02-08T09:37:18.903Z"
   },
   {
    "duration": 1510,
    "start_time": "2024-02-09T06:45:39.365Z"
   },
   {
    "duration": 3,
    "start_time": "2024-02-09T06:45:40.877Z"
   },
   {
    "duration": 223,
    "start_time": "2024-02-09T06:45:40.882Z"
   },
   {
    "duration": 22,
    "start_time": "2024-02-09T06:45:41.107Z"
   },
   {
    "duration": 22,
    "start_time": "2024-02-09T06:45:41.132Z"
   },
   {
    "duration": 24,
    "start_time": "2024-02-09T06:45:41.156Z"
   },
   {
    "duration": 10,
    "start_time": "2024-02-09T06:45:41.182Z"
   },
   {
    "duration": 44,
    "start_time": "2024-02-09T06:45:41.193Z"
   },
   {
    "duration": 29,
    "start_time": "2024-02-09T06:45:41.238Z"
   },
   {
    "duration": 12,
    "start_time": "2024-02-09T06:45:41.270Z"
   },
   {
    "duration": 6,
    "start_time": "2024-02-09T06:45:41.284Z"
   },
   {
    "duration": 6,
    "start_time": "2024-02-09T06:45:41.291Z"
   },
   {
    "duration": 13,
    "start_time": "2024-02-09T06:45:41.298Z"
   },
   {
    "duration": 6,
    "start_time": "2024-02-09T06:45:41.313Z"
   },
   {
    "duration": 5,
    "start_time": "2024-02-09T06:45:41.321Z"
   },
   {
    "duration": 21,
    "start_time": "2024-02-09T06:45:41.328Z"
   },
   {
    "duration": 6,
    "start_time": "2024-02-09T06:45:41.351Z"
   },
   {
    "duration": 7,
    "start_time": "2024-02-09T06:45:41.380Z"
   },
   {
    "duration": 11,
    "start_time": "2024-02-09T06:45:41.388Z"
   },
   {
    "duration": 12,
    "start_time": "2024-02-09T06:45:41.401Z"
   },
   {
    "duration": 18,
    "start_time": "2024-02-09T06:45:41.415Z"
   },
   {
    "duration": 7,
    "start_time": "2024-02-09T06:45:41.435Z"
   },
   {
    "duration": 38,
    "start_time": "2024-02-09T06:45:41.444Z"
   },
   {
    "duration": 12,
    "start_time": "2024-02-09T06:45:41.484Z"
   },
   {
    "duration": 353,
    "start_time": "2024-02-09T06:45:41.498Z"
   },
   {
    "duration": 12,
    "start_time": "2024-02-09T06:45:41.852Z"
   },
   {
    "duration": 329,
    "start_time": "2024-02-09T06:45:41.865Z"
   },
   {
    "duration": 11,
    "start_time": "2024-02-09T06:45:42.198Z"
   },
   {
    "duration": 324,
    "start_time": "2024-02-09T06:45:42.210Z"
   },
   {
    "duration": 12,
    "start_time": "2024-02-09T06:45:42.536Z"
   },
   {
    "duration": 312,
    "start_time": "2024-02-09T06:45:42.550Z"
   },
   {
    "duration": 225,
    "start_time": "2024-02-09T06:45:42.864Z"
   },
   {
    "duration": 372,
    "start_time": "2024-02-09T06:45:43.091Z"
   },
   {
    "duration": 249,
    "start_time": "2024-02-09T06:45:43.464Z"
   },
   {
    "duration": 302,
    "start_time": "2024-02-09T06:45:43.714Z"
   },
   {
    "duration": 12,
    "start_time": "2024-02-09T06:45:44.018Z"
   },
   {
    "duration": 196,
    "start_time": "2024-02-09T06:45:44.032Z"
   },
   {
    "duration": 156,
    "start_time": "2024-02-09T06:45:44.230Z"
   },
   {
    "duration": 5,
    "start_time": "2024-02-09T06:45:44.388Z"
   },
   {
    "duration": 46,
    "start_time": "2024-02-09T06:45:44.395Z"
   },
   {
    "duration": 80,
    "start_time": "2024-02-09T06:45:44.442Z"
   },
   {
    "duration": 77,
    "start_time": "2024-02-09T06:45:44.524Z"
   },
   {
    "duration": 59,
    "start_time": "2024-02-09T06:45:44.603Z"
   },
   {
    "duration": 32,
    "start_time": "2024-02-09T06:45:44.663Z"
   },
   {
    "duration": 87,
    "start_time": "2024-02-09T06:45:44.697Z"
   },
   {
    "duration": 74,
    "start_time": "2024-02-09T06:45:44.786Z"
   },
   {
    "duration": 23,
    "start_time": "2024-02-09T06:45:44.862Z"
   },
   {
    "duration": 9,
    "start_time": "2024-02-09T06:45:44.887Z"
   },
   {
    "duration": 35,
    "start_time": "2024-02-09T06:45:44.897Z"
   },
   {
    "duration": 12,
    "start_time": "2024-02-09T06:45:44.934Z"
   },
   {
    "duration": 1073,
    "start_time": "2024-02-09T06:50:15.982Z"
   },
   {
    "duration": 6,
    "start_time": "2024-02-09T06:50:51.794Z"
   },
   {
    "duration": 6,
    "start_time": "2024-02-09T06:51:04.829Z"
   },
   {
    "duration": 34,
    "start_time": "2024-02-09T06:53:48.344Z"
   },
   {
    "duration": 5,
    "start_time": "2024-02-09T06:57:37.365Z"
   },
   {
    "duration": 6,
    "start_time": "2024-02-09T06:58:25.334Z"
   },
   {
    "duration": 5,
    "start_time": "2024-02-09T06:59:01.982Z"
   },
   {
    "duration": 80,
    "start_time": "2024-02-09T07:03:34.903Z"
   },
   {
    "duration": 32,
    "start_time": "2024-02-09T07:03:35.377Z"
   },
   {
    "duration": 7,
    "start_time": "2024-02-09T07:03:49.507Z"
   },
   {
    "duration": 35,
    "start_time": "2024-02-09T07:03:52.779Z"
   },
   {
    "duration": 34,
    "start_time": "2024-02-09T07:04:00.195Z"
   },
   {
    "duration": 34,
    "start_time": "2024-02-09T07:08:33.240Z"
   },
   {
    "duration": 13,
    "start_time": "2024-02-09T07:12:24.704Z"
   },
   {
    "duration": 14,
    "start_time": "2024-02-09T07:12:43.846Z"
   },
   {
    "duration": 26,
    "start_time": "2024-02-09T07:16:12.973Z"
   },
   {
    "duration": 27,
    "start_time": "2024-02-09T07:16:47.759Z"
   },
   {
    "duration": 12,
    "start_time": "2024-02-09T07:16:58.851Z"
   },
   {
    "duration": 14,
    "start_time": "2024-02-09T07:19:33.145Z"
   },
   {
    "duration": 29,
    "start_time": "2024-02-09T07:21:42.850Z"
   },
   {
    "duration": 31,
    "start_time": "2024-02-09T07:22:21.441Z"
   },
   {
    "duration": 10,
    "start_time": "2024-02-09T07:23:02.874Z"
   },
   {
    "duration": 33,
    "start_time": "2024-02-09T07:23:08.314Z"
   },
   {
    "duration": 5,
    "start_time": "2024-02-09T07:27:06.826Z"
   },
   {
    "duration": 7,
    "start_time": "2024-02-09T07:27:22.086Z"
   },
   {
    "duration": 6,
    "start_time": "2024-02-09T07:27:52.583Z"
   },
   {
    "duration": 4,
    "start_time": "2024-02-09T07:28:31.343Z"
   },
   {
    "duration": 5,
    "start_time": "2024-02-09T07:28:39.153Z"
   },
   {
    "duration": 11,
    "start_time": "2024-02-09T07:29:47.122Z"
   },
   {
    "duration": 707,
    "start_time": "2024-02-09T07:29:56.413Z"
   },
   {
    "duration": 6,
    "start_time": "2024-02-09T07:30:23.371Z"
   },
   {
    "duration": 5,
    "start_time": "2024-02-09T07:30:39.523Z"
   },
   {
    "duration": 7,
    "start_time": "2024-02-09T07:37:35.798Z"
   },
   {
    "duration": 7,
    "start_time": "2024-02-09T07:37:45.785Z"
   },
   {
    "duration": 29,
    "start_time": "2024-02-09T07:41:19.356Z"
   },
   {
    "duration": 27,
    "start_time": "2024-02-09T07:45:37.558Z"
   },
   {
    "duration": 142,
    "start_time": "2024-02-09T07:49:00.682Z"
   },
   {
    "duration": 11,
    "start_time": "2024-02-09T07:52:45.929Z"
   },
   {
    "duration": 26,
    "start_time": "2024-02-09T07:52:50.744Z"
   },
   {
    "duration": 2,
    "start_time": "2024-02-09T08:05:21.122Z"
   },
   {
    "duration": 1227,
    "start_time": "2024-02-09T08:30:17.782Z"
   },
   {
    "duration": 3,
    "start_time": "2024-02-09T08:30:19.011Z"
   },
   {
    "duration": 93,
    "start_time": "2024-02-09T08:30:19.016Z"
   },
   {
    "duration": 25,
    "start_time": "2024-02-09T08:30:19.111Z"
   },
   {
    "duration": 22,
    "start_time": "2024-02-09T08:30:19.139Z"
   },
   {
    "duration": 18,
    "start_time": "2024-02-09T08:30:19.162Z"
   },
   {
    "duration": 29,
    "start_time": "2024-02-09T08:30:19.181Z"
   },
   {
    "duration": 4,
    "start_time": "2024-02-09T08:30:19.211Z"
   },
   {
    "duration": 15,
    "start_time": "2024-02-09T08:30:19.217Z"
   },
   {
    "duration": 24,
    "start_time": "2024-02-09T08:30:19.233Z"
   },
   {
    "duration": 16,
    "start_time": "2024-02-09T08:30:19.258Z"
   },
   {
    "duration": 14,
    "start_time": "2024-02-09T08:30:19.281Z"
   },
   {
    "duration": 50,
    "start_time": "2024-02-09T08:30:19.297Z"
   },
   {
    "duration": 10,
    "start_time": "2024-02-09T08:30:19.352Z"
   },
   {
    "duration": 7,
    "start_time": "2024-02-09T08:30:19.365Z"
   },
   {
    "duration": 18,
    "start_time": "2024-02-09T08:30:19.374Z"
   },
   {
    "duration": 15,
    "start_time": "2024-02-09T08:30:19.394Z"
   },
   {
    "duration": 9,
    "start_time": "2024-02-09T08:30:19.411Z"
   },
   {
    "duration": 14,
    "start_time": "2024-02-09T08:30:19.423Z"
   },
   {
    "duration": 16,
    "start_time": "2024-02-09T08:30:19.438Z"
   },
   {
    "duration": 7,
    "start_time": "2024-02-09T08:30:19.455Z"
   },
   {
    "duration": 9,
    "start_time": "2024-02-09T08:30:19.480Z"
   },
   {
    "duration": 20,
    "start_time": "2024-02-09T08:30:19.492Z"
   },
   {
    "duration": 12,
    "start_time": "2024-02-09T08:30:19.514Z"
   },
   {
    "duration": 401,
    "start_time": "2024-02-09T08:30:19.527Z"
   },
   {
    "duration": 12,
    "start_time": "2024-02-09T08:30:19.929Z"
   },
   {
    "duration": 324,
    "start_time": "2024-02-09T08:30:19.942Z"
   },
   {
    "duration": 14,
    "start_time": "2024-02-09T08:30:20.268Z"
   },
   {
    "duration": 319,
    "start_time": "2024-02-09T08:30:20.283Z"
   },
   {
    "duration": 12,
    "start_time": "2024-02-09T08:30:20.604Z"
   },
   {
    "duration": 316,
    "start_time": "2024-02-09T08:30:20.617Z"
   },
   {
    "duration": 235,
    "start_time": "2024-02-09T08:30:20.935Z"
   },
   {
    "duration": 347,
    "start_time": "2024-02-09T08:30:21.172Z"
   },
   {
    "duration": 235,
    "start_time": "2024-02-09T08:30:21.521Z"
   },
   {
    "duration": 354,
    "start_time": "2024-02-09T08:30:21.757Z"
   },
   {
    "duration": 15,
    "start_time": "2024-02-09T08:30:22.114Z"
   },
   {
    "duration": 224,
    "start_time": "2024-02-09T08:30:22.130Z"
   },
   {
    "duration": 172,
    "start_time": "2024-02-09T08:30:22.355Z"
   },
   {
    "duration": 5,
    "start_time": "2024-02-09T08:30:22.528Z"
   },
   {
    "duration": 7,
    "start_time": "2024-02-09T08:30:22.535Z"
   },
   {
    "duration": 6,
    "start_time": "2024-02-09T08:30:22.547Z"
   },
   {
    "duration": 13,
    "start_time": "2024-02-09T08:30:22.579Z"
   },
   {
    "duration": 49,
    "start_time": "2024-02-09T08:30:22.594Z"
   },
   {
    "duration": 60,
    "start_time": "2024-02-09T08:30:22.645Z"
   },
   {
    "duration": 65,
    "start_time": "2024-02-09T08:30:22.706Z"
   },
   {
    "duration": 64,
    "start_time": "2024-02-09T08:30:22.773Z"
   },
   {
    "duration": 20,
    "start_time": "2024-02-09T08:30:22.839Z"
   },
   {
    "duration": 81,
    "start_time": "2024-02-09T08:30:22.860Z"
   },
   {
    "duration": 82,
    "start_time": "2024-02-09T08:30:22.942Z"
   },
   {
    "duration": 7,
    "start_time": "2024-02-09T08:30:23.026Z"
   },
   {
    "duration": 32,
    "start_time": "2024-02-09T08:30:23.034Z"
   },
   {
    "duration": 23,
    "start_time": "2024-02-09T08:30:23.067Z"
   },
   {
    "duration": 8,
    "start_time": "2024-02-09T08:30:23.091Z"
   },
   {
    "duration": 10,
    "start_time": "2024-02-09T08:30:23.100Z"
   },
   {
    "duration": 29,
    "start_time": "2024-02-09T08:30:23.112Z"
   },
   {
    "duration": 45,
    "start_time": "2024-02-09T08:30:23.143Z"
   },
   {
    "duration": 1310,
    "start_time": "2024-02-09T08:41:20.487Z"
   },
   {
    "duration": 2,
    "start_time": "2024-02-09T08:41:21.799Z"
   },
   {
    "duration": 195,
    "start_time": "2024-02-09T08:41:21.803Z"
   },
   {
    "duration": 20,
    "start_time": "2024-02-09T08:41:22.000Z"
   },
   {
    "duration": 20,
    "start_time": "2024-02-09T08:41:22.022Z"
   },
   {
    "duration": 21,
    "start_time": "2024-02-09T08:41:22.043Z"
   },
   {
    "duration": 23,
    "start_time": "2024-02-09T08:41:22.066Z"
   },
   {
    "duration": 4,
    "start_time": "2024-02-09T08:41:22.118Z"
   },
   {
    "duration": 4,
    "start_time": "2024-02-09T08:41:22.123Z"
   },
   {
    "duration": 14,
    "start_time": "2024-02-09T08:41:22.129Z"
   },
   {
    "duration": 6,
    "start_time": "2024-02-09T08:41:22.144Z"
   },
   {
    "duration": 6,
    "start_time": "2024-02-09T08:41:22.151Z"
   },
   {
    "duration": 24,
    "start_time": "2024-02-09T08:41:22.158Z"
   },
   {
    "duration": 3,
    "start_time": "2024-02-09T08:41:22.183Z"
   },
   {
    "duration": 33,
    "start_time": "2024-02-09T08:41:22.188Z"
   },
   {
    "duration": 11,
    "start_time": "2024-02-09T08:41:22.222Z"
   },
   {
    "duration": 6,
    "start_time": "2024-02-09T08:41:22.234Z"
   },
   {
    "duration": 4,
    "start_time": "2024-02-09T08:41:22.242Z"
   },
   {
    "duration": 7,
    "start_time": "2024-02-09T08:41:22.248Z"
   },
   {
    "duration": 3,
    "start_time": "2024-02-09T08:41:22.257Z"
   },
   {
    "duration": 5,
    "start_time": "2024-02-09T08:41:22.261Z"
   },
   {
    "duration": 12,
    "start_time": "2024-02-09T08:41:22.267Z"
   },
   {
    "duration": 41,
    "start_time": "2024-02-09T08:41:22.281Z"
   },
   {
    "duration": 11,
    "start_time": "2024-02-09T08:41:22.323Z"
   },
   {
    "duration": 322,
    "start_time": "2024-02-09T08:41:22.336Z"
   },
   {
    "duration": 10,
    "start_time": "2024-02-09T08:41:22.660Z"
   },
   {
    "duration": 285,
    "start_time": "2024-02-09T08:41:22.672Z"
   },
   {
    "duration": 10,
    "start_time": "2024-02-09T08:41:22.960Z"
   },
   {
    "duration": 280,
    "start_time": "2024-02-09T08:41:22.971Z"
   },
   {
    "duration": 11,
    "start_time": "2024-02-09T08:41:23.253Z"
   },
   {
    "duration": 271,
    "start_time": "2024-02-09T08:41:23.265Z"
   },
   {
    "duration": 214,
    "start_time": "2024-02-09T08:41:23.537Z"
   },
   {
    "duration": 357,
    "start_time": "2024-02-09T08:41:23.753Z"
   },
   {
    "duration": 194,
    "start_time": "2024-02-09T08:41:24.111Z"
   },
   {
    "duration": 309,
    "start_time": "2024-02-09T08:41:24.317Z"
   },
   {
    "duration": 11,
    "start_time": "2024-02-09T08:41:24.628Z"
   },
   {
    "duration": 171,
    "start_time": "2024-02-09T08:41:24.640Z"
   },
   {
    "duration": 129,
    "start_time": "2024-02-09T08:41:24.818Z"
   },
   {
    "duration": 4,
    "start_time": "2024-02-09T08:41:24.948Z"
   },
   {
    "duration": 6,
    "start_time": "2024-02-09T08:41:24.953Z"
   },
   {
    "duration": 9,
    "start_time": "2024-02-09T08:41:24.961Z"
   },
   {
    "duration": 5,
    "start_time": "2024-02-09T08:41:24.971Z"
   },
   {
    "duration": 68,
    "start_time": "2024-02-09T08:41:24.977Z"
   },
   {
    "duration": 54,
    "start_time": "2024-02-09T08:41:25.046Z"
   },
   {
    "duration": 54,
    "start_time": "2024-02-09T08:41:25.102Z"
   },
   {
    "duration": 68,
    "start_time": "2024-02-09T08:41:25.158Z"
   },
   {
    "duration": 21,
    "start_time": "2024-02-09T08:41:25.227Z"
   },
   {
    "duration": 75,
    "start_time": "2024-02-09T08:41:25.249Z"
   },
   {
    "duration": 66,
    "start_time": "2024-02-09T08:41:25.326Z"
   },
   {
    "duration": 6,
    "start_time": "2024-02-09T08:41:25.393Z"
   },
   {
    "duration": 23,
    "start_time": "2024-02-09T08:41:25.418Z"
   },
   {
    "duration": 9,
    "start_time": "2024-02-09T08:41:25.443Z"
   },
   {
    "duration": 7,
    "start_time": "2024-02-09T08:41:25.453Z"
   },
   {
    "duration": 9,
    "start_time": "2024-02-09T08:41:25.462Z"
   },
   {
    "duration": 52,
    "start_time": "2024-02-09T08:41:25.472Z"
   },
   {
    "duration": 14,
    "start_time": "2024-02-09T08:41:25.525Z"
   },
   {
    "duration": 203,
    "start_time": "2024-02-09T08:49:06.938Z"
   },
   {
    "duration": 187,
    "start_time": "2024-02-09T08:49:13.840Z"
   },
   {
    "duration": 268,
    "start_time": "2024-02-09T08:52:34.668Z"
   },
   {
    "duration": 13,
    "start_time": "2024-02-09T08:52:35.318Z"
   },
   {
    "duration": 224,
    "start_time": "2024-02-09T08:52:38.425Z"
   },
   {
    "duration": 195,
    "start_time": "2024-02-09T08:52:38.651Z"
   },
   {
    "duration": 288,
    "start_time": "2024-02-09T08:52:38.847Z"
   },
   {
    "duration": 236,
    "start_time": "2024-02-09T08:52:39.137Z"
   },
   {
    "duration": 345,
    "start_time": "2024-02-09T08:52:39.375Z"
   },
   {
    "duration": 11,
    "start_time": "2024-02-09T08:52:39.721Z"
   },
   {
    "duration": 111,
    "start_time": "2024-02-09T08:52:39.734Z"
   },
   {
    "duration": 137,
    "start_time": "2024-02-09T08:52:39.847Z"
   },
   {
    "duration": 5,
    "start_time": "2024-02-09T08:52:39.985Z"
   },
   {
    "duration": 4,
    "start_time": "2024-02-09T08:52:39.991Z"
   },
   {
    "duration": 16,
    "start_time": "2024-02-09T08:52:39.996Z"
   },
   {
    "duration": 5,
    "start_time": "2024-02-09T08:52:40.018Z"
   },
   {
    "duration": 147,
    "start_time": "2024-02-09T08:52:40.024Z"
   },
   {
    "duration": 48,
    "start_time": "2024-02-09T08:52:40.173Z"
   },
   {
    "duration": 54,
    "start_time": "2024-02-09T08:52:40.222Z"
   },
   {
    "duration": 69,
    "start_time": "2024-02-09T08:52:40.277Z"
   },
   {
    "duration": 71,
    "start_time": "2024-02-09T08:52:40.347Z"
   },
   {
    "duration": 124,
    "start_time": "2024-02-09T08:52:40.420Z"
   },
   {
    "duration": 173,
    "start_time": "2024-02-09T08:52:40.546Z"
   },
   {
    "duration": 7,
    "start_time": "2024-02-09T08:52:40.721Z"
   },
   {
    "duration": 24,
    "start_time": "2024-02-09T08:52:40.729Z"
   },
   {
    "duration": 68,
    "start_time": "2024-02-09T08:52:40.754Z"
   },
   {
    "duration": 7,
    "start_time": "2024-02-09T08:52:40.824Z"
   },
   {
    "duration": 9,
    "start_time": "2024-02-09T08:52:40.833Z"
   },
   {
    "duration": 77,
    "start_time": "2024-02-09T08:52:40.843Z"
   },
   {
    "duration": 12,
    "start_time": "2024-02-09T08:52:40.922Z"
   },
   {
    "duration": 1104,
    "start_time": "2024-02-09T08:54:23.911Z"
   },
   {
    "duration": 3,
    "start_time": "2024-02-09T08:54:25.016Z"
   },
   {
    "duration": 78,
    "start_time": "2024-02-09T08:54:25.021Z"
   },
   {
    "duration": 17,
    "start_time": "2024-02-09T08:54:25.101Z"
   },
   {
    "duration": 16,
    "start_time": "2024-02-09T08:54:25.120Z"
   },
   {
    "duration": 14,
    "start_time": "2024-02-09T08:54:25.138Z"
   },
   {
    "duration": 23,
    "start_time": "2024-02-09T08:54:25.153Z"
   },
   {
    "duration": 3,
    "start_time": "2024-02-09T08:54:25.178Z"
   },
   {
    "duration": 36,
    "start_time": "2024-02-09T08:54:25.183Z"
   },
   {
    "duration": 21,
    "start_time": "2024-02-09T08:54:25.220Z"
   },
   {
    "duration": 11,
    "start_time": "2024-02-09T08:54:25.243Z"
   },
   {
    "duration": 9,
    "start_time": "2024-02-09T08:54:25.255Z"
   },
   {
    "duration": 20,
    "start_time": "2024-02-09T08:54:25.265Z"
   },
   {
    "duration": 4,
    "start_time": "2024-02-09T08:54:25.288Z"
   },
   {
    "duration": 21,
    "start_time": "2024-02-09T08:54:25.293Z"
   },
   {
    "duration": 23,
    "start_time": "2024-02-09T08:54:25.316Z"
   },
   {
    "duration": 11,
    "start_time": "2024-02-09T08:54:25.341Z"
   },
   {
    "duration": 6,
    "start_time": "2024-02-09T08:54:25.354Z"
   },
   {
    "duration": 14,
    "start_time": "2024-02-09T08:54:25.361Z"
   },
   {
    "duration": 8,
    "start_time": "2024-02-09T08:54:25.376Z"
   },
   {
    "duration": 10,
    "start_time": "2024-02-09T08:54:25.385Z"
   },
   {
    "duration": 13,
    "start_time": "2024-02-09T08:54:25.397Z"
   },
   {
    "duration": 11,
    "start_time": "2024-02-09T08:54:25.411Z"
   },
   {
    "duration": 14,
    "start_time": "2024-02-09T08:54:25.423Z"
   },
   {
    "duration": 309,
    "start_time": "2024-02-09T08:54:25.438Z"
   },
   {
    "duration": 10,
    "start_time": "2024-02-09T08:54:25.749Z"
   },
   {
    "duration": 284,
    "start_time": "2024-02-09T08:54:25.761Z"
   },
   {
    "duration": 15,
    "start_time": "2024-02-09T08:54:26.047Z"
   },
   {
    "duration": 295,
    "start_time": "2024-02-09T08:54:26.063Z"
   },
   {
    "duration": 11,
    "start_time": "2024-02-09T08:54:26.360Z"
   },
   {
    "duration": 281,
    "start_time": "2024-02-09T08:54:26.372Z"
   },
   {
    "duration": 201,
    "start_time": "2024-02-09T08:54:26.655Z"
   },
   {
    "duration": 286,
    "start_time": "2024-02-09T08:54:26.858Z"
   },
   {
    "duration": 224,
    "start_time": "2024-02-09T08:54:27.145Z"
   },
   {
    "duration": 308,
    "start_time": "2024-02-09T08:54:27.371Z"
   },
   {
    "duration": 12,
    "start_time": "2024-02-09T08:54:27.680Z"
   },
   {
    "duration": 182,
    "start_time": "2024-02-09T08:54:27.693Z"
   },
   {
    "duration": 135,
    "start_time": "2024-02-09T08:54:27.876Z"
   },
   {
    "duration": 8,
    "start_time": "2024-02-09T08:54:28.012Z"
   },
   {
    "duration": 7,
    "start_time": "2024-02-09T08:54:28.021Z"
   },
   {
    "duration": 6,
    "start_time": "2024-02-09T08:54:28.032Z"
   },
   {
    "duration": 5,
    "start_time": "2024-02-09T08:54:28.039Z"
   },
   {
    "duration": 43,
    "start_time": "2024-02-09T08:54:28.046Z"
   },
   {
    "duration": 68,
    "start_time": "2024-02-09T08:54:28.091Z"
   },
   {
    "duration": 61,
    "start_time": "2024-02-09T08:54:28.160Z"
   },
   {
    "duration": 57,
    "start_time": "2024-02-09T08:54:28.223Z"
   },
   {
    "duration": 39,
    "start_time": "2024-02-09T08:54:28.281Z"
   },
   {
    "duration": 66,
    "start_time": "2024-02-09T08:54:28.322Z"
   },
   {
    "duration": 74,
    "start_time": "2024-02-09T08:54:28.390Z"
   },
   {
    "duration": 7,
    "start_time": "2024-02-09T08:54:28.465Z"
   },
   {
    "duration": 28,
    "start_time": "2024-02-09T08:54:28.474Z"
   },
   {
    "duration": 15,
    "start_time": "2024-02-09T08:54:28.517Z"
   },
   {
    "duration": 9,
    "start_time": "2024-02-09T08:54:28.534Z"
   },
   {
    "duration": 10,
    "start_time": "2024-02-09T08:54:28.545Z"
   },
   {
    "duration": 25,
    "start_time": "2024-02-09T08:54:28.557Z"
   },
   {
    "duration": 42,
    "start_time": "2024-02-09T08:54:28.585Z"
   },
   {
    "duration": 45,
    "start_time": "2024-02-09T10:41:37.131Z"
   },
   {
    "duration": 1368,
    "start_time": "2024-02-09T10:41:47.978Z"
   },
   {
    "duration": 3,
    "start_time": "2024-02-09T10:41:49.348Z"
   },
   {
    "duration": 182,
    "start_time": "2024-02-09T10:41:49.352Z"
   },
   {
    "duration": 18,
    "start_time": "2024-02-09T10:41:49.536Z"
   },
   {
    "duration": 24,
    "start_time": "2024-02-09T10:41:49.556Z"
   },
   {
    "duration": 16,
    "start_time": "2024-02-09T10:41:49.582Z"
   },
   {
    "duration": 38,
    "start_time": "2024-02-09T10:41:49.600Z"
   },
   {
    "duration": 5,
    "start_time": "2024-02-09T10:41:49.641Z"
   },
   {
    "duration": 4,
    "start_time": "2024-02-09T10:41:49.648Z"
   },
   {
    "duration": 13,
    "start_time": "2024-02-09T10:41:49.656Z"
   },
   {
    "duration": 7,
    "start_time": "2024-02-09T10:41:49.671Z"
   },
   {
    "duration": 40,
    "start_time": "2024-02-09T10:41:49.679Z"
   },
   {
    "duration": 24,
    "start_time": "2024-02-09T10:41:49.720Z"
   },
   {
    "duration": 3,
    "start_time": "2024-02-09T10:41:49.746Z"
   },
   {
    "duration": 5,
    "start_time": "2024-02-09T10:41:49.751Z"
   },
   {
    "duration": 12,
    "start_time": "2024-02-09T10:41:49.757Z"
   },
   {
    "duration": 6,
    "start_time": "2024-02-09T10:41:49.770Z"
   },
   {
    "duration": 9,
    "start_time": "2024-02-09T10:41:49.778Z"
   },
   {
    "duration": 38,
    "start_time": "2024-02-09T10:41:49.788Z"
   },
   {
    "duration": 20,
    "start_time": "2024-02-09T10:41:49.827Z"
   },
   {
    "duration": 8,
    "start_time": "2024-02-09T10:41:49.848Z"
   },
   {
    "duration": 20,
    "start_time": "2024-02-09T10:41:49.857Z"
   },
   {
    "duration": 11,
    "start_time": "2024-02-09T10:41:49.879Z"
   },
   {
    "duration": 12,
    "start_time": "2024-02-09T10:41:49.892Z"
   },
   {
    "duration": 314,
    "start_time": "2024-02-09T10:41:49.906Z"
   },
   {
    "duration": 11,
    "start_time": "2024-02-09T10:41:50.222Z"
   },
   {
    "duration": 300,
    "start_time": "2024-02-09T10:41:50.235Z"
   },
   {
    "duration": 11,
    "start_time": "2024-02-09T10:41:50.538Z"
   },
   {
    "duration": 283,
    "start_time": "2024-02-09T10:41:50.551Z"
   },
   {
    "duration": 11,
    "start_time": "2024-02-09T10:41:50.836Z"
   },
   {
    "duration": 276,
    "start_time": "2024-02-09T10:41:50.849Z"
   },
   {
    "duration": 203,
    "start_time": "2024-02-09T10:41:51.127Z"
   },
   {
    "duration": 351,
    "start_time": "2024-02-09T10:41:51.332Z"
   },
   {
    "duration": 239,
    "start_time": "2024-02-09T10:41:51.685Z"
   },
   {
    "duration": 309,
    "start_time": "2024-02-09T10:41:51.925Z"
   },
   {
    "duration": 12,
    "start_time": "2024-02-09T10:41:52.235Z"
   },
   {
    "duration": 182,
    "start_time": "2024-02-09T10:41:52.248Z"
   },
   {
    "duration": 143,
    "start_time": "2024-02-09T10:41:52.432Z"
   },
   {
    "duration": 5,
    "start_time": "2024-02-09T10:41:52.576Z"
   },
   {
    "duration": 5,
    "start_time": "2024-02-09T10:41:52.582Z"
   },
   {
    "duration": 5,
    "start_time": "2024-02-09T10:41:52.589Z"
   },
   {
    "duration": 23,
    "start_time": "2024-02-09T10:41:52.595Z"
   },
   {
    "duration": 43,
    "start_time": "2024-02-09T10:41:52.620Z"
   },
   {
    "duration": 57,
    "start_time": "2024-02-09T10:41:52.664Z"
   },
   {
    "duration": 55,
    "start_time": "2024-02-09T10:41:52.722Z"
   },
   {
    "duration": 68,
    "start_time": "2024-02-09T10:41:52.778Z"
   },
   {
    "duration": 35,
    "start_time": "2024-02-09T10:41:52.848Z"
   },
   {
    "duration": 63,
    "start_time": "2024-02-09T10:41:52.884Z"
   },
   {
    "duration": 92,
    "start_time": "2024-02-09T10:41:52.949Z"
   },
   {
    "duration": 6,
    "start_time": "2024-02-09T10:41:53.042Z"
   },
   {
    "duration": 34,
    "start_time": "2024-02-09T10:41:53.050Z"
   },
   {
    "duration": 14,
    "start_time": "2024-02-09T10:41:53.086Z"
   },
   {
    "duration": 13,
    "start_time": "2024-02-09T10:41:53.117Z"
   },
   {
    "duration": 36,
    "start_time": "2024-02-09T10:41:53.131Z"
   },
   {
    "duration": 40,
    "start_time": "2024-02-09T10:41:53.168Z"
   },
   {
    "duration": 17,
    "start_time": "2024-02-09T10:41:53.210Z"
   },
   {
    "duration": 9,
    "start_time": "2024-02-09T10:42:09.164Z"
   },
   {
    "duration": 9,
    "start_time": "2024-02-09T10:42:26.306Z"
   },
   {
    "duration": 12,
    "start_time": "2024-02-09T10:44:04.258Z"
   },
   {
    "duration": 300,
    "start_time": "2024-02-09T10:50:51.763Z"
   },
   {
    "duration": 10,
    "start_time": "2024-02-09T10:52:09.459Z"
   },
   {
    "duration": 3,
    "start_time": "2024-02-09T10:52:29.966Z"
   },
   {
    "duration": 14,
    "start_time": "2024-02-09T10:52:35.558Z"
   },
   {
    "duration": 10,
    "start_time": "2024-02-09T10:53:15.765Z"
   },
   {
    "duration": 17,
    "start_time": "2024-02-09T10:54:14.400Z"
   },
   {
    "duration": 12,
    "start_time": "2024-02-09T10:54:28.309Z"
   },
   {
    "duration": 204,
    "start_time": "2024-02-09T10:54:49.941Z"
   },
   {
    "duration": 301,
    "start_time": "2024-02-09T10:55:06.012Z"
   },
   {
    "duration": 4,
    "start_time": "2024-02-09T11:00:13.594Z"
   },
   {
    "duration": 99,
    "start_time": "2024-02-09T11:00:33.198Z"
   },
   {
    "duration": 16,
    "start_time": "2024-02-09T11:00:52.865Z"
   },
   {
    "duration": 9,
    "start_time": "2024-02-09T11:01:06.495Z"
   },
   {
    "duration": 11,
    "start_time": "2024-02-09T11:01:28.142Z"
   },
   {
    "duration": 12,
    "start_time": "2024-02-09T11:01:39.668Z"
   },
   {
    "duration": 16,
    "start_time": "2024-02-09T11:02:01.491Z"
   },
   {
    "duration": 12,
    "start_time": "2024-02-09T11:02:18.674Z"
   },
   {
    "duration": 11,
    "start_time": "2024-02-09T11:02:25.686Z"
   },
   {
    "duration": 12,
    "start_time": "2024-02-09T11:03:00.974Z"
   },
   {
    "duration": 10,
    "start_time": "2024-02-09T11:03:11.534Z"
   },
   {
    "duration": 12,
    "start_time": "2024-02-09T11:03:24.679Z"
   },
   {
    "duration": 8,
    "start_time": "2024-02-09T11:03:33.990Z"
   },
   {
    "duration": 8,
    "start_time": "2024-02-09T11:04:05.109Z"
   },
   {
    "duration": 10,
    "start_time": "2024-02-09T11:04:21.042Z"
   },
   {
    "duration": 12,
    "start_time": "2024-02-09T11:04:33.033Z"
   },
   {
    "duration": 9,
    "start_time": "2024-02-09T11:04:40.954Z"
   },
   {
    "duration": 7,
    "start_time": "2024-02-09T11:04:58.349Z"
   },
   {
    "duration": 10,
    "start_time": "2024-02-09T11:05:00.455Z"
   },
   {
    "duration": 23,
    "start_time": "2024-02-09T11:05:02.795Z"
   },
   {
    "duration": 7,
    "start_time": "2024-02-09T11:05:12.698Z"
   },
   {
    "duration": 7,
    "start_time": "2024-02-09T11:05:16.732Z"
   },
   {
    "duration": 10,
    "start_time": "2024-02-09T11:05:17.621Z"
   },
   {
    "duration": 24,
    "start_time": "2024-02-09T11:05:20.454Z"
   },
   {
    "duration": 9,
    "start_time": "2024-02-09T11:06:27.304Z"
   },
   {
    "duration": 3,
    "start_time": "2024-02-09T11:06:39.792Z"
   },
   {
    "duration": 4,
    "start_time": "2024-02-09T11:06:41.473Z"
   },
   {
    "duration": 9,
    "start_time": "2024-02-09T11:06:52.763Z"
   },
   {
    "duration": 8,
    "start_time": "2024-02-09T11:06:54.967Z"
   },
   {
    "duration": 25,
    "start_time": "2024-02-09T11:06:58.002Z"
   },
   {
    "duration": 10,
    "start_time": "2024-02-09T11:17:36.940Z"
   },
   {
    "duration": 9,
    "start_time": "2024-02-09T11:18:00.181Z"
   },
   {
    "duration": 10,
    "start_time": "2024-02-09T11:18:10.479Z"
   },
   {
    "duration": 10,
    "start_time": "2024-02-09T11:18:20.724Z"
   },
   {
    "duration": 1201,
    "start_time": "2024-02-09T11:35:38.314Z"
   },
   {
    "duration": 3,
    "start_time": "2024-02-09T11:35:39.517Z"
   },
   {
    "duration": 76,
    "start_time": "2024-02-09T11:35:39.521Z"
   },
   {
    "duration": 19,
    "start_time": "2024-02-09T11:35:39.598Z"
   },
   {
    "duration": 21,
    "start_time": "2024-02-09T11:35:39.619Z"
   },
   {
    "duration": 16,
    "start_time": "2024-02-09T11:35:39.643Z"
   },
   {
    "duration": 58,
    "start_time": "2024-02-09T11:35:39.661Z"
   },
   {
    "duration": 5,
    "start_time": "2024-02-09T11:35:39.722Z"
   },
   {
    "duration": 3,
    "start_time": "2024-02-09T11:35:39.729Z"
   },
   {
    "duration": 11,
    "start_time": "2024-02-09T11:35:39.733Z"
   },
   {
    "duration": 5,
    "start_time": "2024-02-09T11:35:39.746Z"
   },
   {
    "duration": 7,
    "start_time": "2024-02-09T11:35:39.753Z"
   },
   {
    "duration": 69,
    "start_time": "2024-02-09T11:35:39.762Z"
   },
   {
    "duration": 5,
    "start_time": "2024-02-09T11:35:39.836Z"
   },
   {
    "duration": 6,
    "start_time": "2024-02-09T11:35:39.843Z"
   },
   {
    "duration": 14,
    "start_time": "2024-02-09T11:35:39.851Z"
   },
   {
    "duration": 7,
    "start_time": "2024-02-09T11:35:39.866Z"
   },
   {
    "duration": 7,
    "start_time": "2024-02-09T11:35:39.875Z"
   },
   {
    "duration": 41,
    "start_time": "2024-02-09T11:35:39.884Z"
   },
   {
    "duration": 6,
    "start_time": "2024-02-09T11:35:39.927Z"
   },
   {
    "duration": 8,
    "start_time": "2024-02-09T11:35:39.934Z"
   },
   {
    "duration": 11,
    "start_time": "2024-02-09T11:35:39.943Z"
   },
   {
    "duration": 14,
    "start_time": "2024-02-09T11:35:39.955Z"
   },
   {
    "duration": 11,
    "start_time": "2024-02-09T11:35:39.970Z"
   },
   {
    "duration": 335,
    "start_time": "2024-02-09T11:35:39.983Z"
   },
   {
    "duration": 15,
    "start_time": "2024-02-09T11:35:40.320Z"
   },
   {
    "duration": 304,
    "start_time": "2024-02-09T11:35:40.336Z"
   },
   {
    "duration": 10,
    "start_time": "2024-02-09T11:35:40.642Z"
   },
   {
    "duration": 275,
    "start_time": "2024-02-09T11:35:40.654Z"
   },
   {
    "duration": 11,
    "start_time": "2024-02-09T11:35:40.931Z"
   },
   {
    "duration": 297,
    "start_time": "2024-02-09T11:35:40.944Z"
   },
   {
    "duration": 207,
    "start_time": "2024-02-09T11:35:41.243Z"
   },
   {
    "duration": 292,
    "start_time": "2024-02-09T11:35:41.452Z"
   },
   {
    "duration": 235,
    "start_time": "2024-02-09T11:35:41.746Z"
   },
   {
    "duration": 345,
    "start_time": "2024-02-09T11:35:41.982Z"
   },
   {
    "duration": 13,
    "start_time": "2024-02-09T11:35:42.328Z"
   },
   {
    "duration": 198,
    "start_time": "2024-02-09T11:35:42.342Z"
   },
   {
    "duration": 139,
    "start_time": "2024-02-09T11:35:42.542Z"
   },
   {
    "duration": 4,
    "start_time": "2024-02-09T11:35:42.683Z"
   },
   {
    "duration": 11,
    "start_time": "2024-02-09T11:35:42.688Z"
   },
   {
    "duration": 18,
    "start_time": "2024-02-09T11:35:42.703Z"
   },
   {
    "duration": 5,
    "start_time": "2024-02-09T11:35:42.723Z"
   },
   {
    "duration": 108,
    "start_time": "2024-02-09T11:35:42.730Z"
   },
   {
    "duration": 0,
    "start_time": "2024-02-09T11:35:42.840Z"
   },
   {
    "duration": 0,
    "start_time": "2024-02-09T11:35:42.842Z"
   },
   {
    "duration": 0,
    "start_time": "2024-02-09T11:35:42.843Z"
   },
   {
    "duration": 0,
    "start_time": "2024-02-09T11:35:42.845Z"
   },
   {
    "duration": 0,
    "start_time": "2024-02-09T11:35:42.847Z"
   },
   {
    "duration": 0,
    "start_time": "2024-02-09T11:35:42.848Z"
   },
   {
    "duration": 0,
    "start_time": "2024-02-09T11:35:42.850Z"
   },
   {
    "duration": 0,
    "start_time": "2024-02-09T11:35:42.851Z"
   },
   {
    "duration": 0,
    "start_time": "2024-02-09T11:35:42.853Z"
   },
   {
    "duration": 0,
    "start_time": "2024-02-09T11:35:42.854Z"
   },
   {
    "duration": 0,
    "start_time": "2024-02-09T11:35:42.855Z"
   },
   {
    "duration": 0,
    "start_time": "2024-02-09T11:35:42.857Z"
   },
   {
    "duration": 0,
    "start_time": "2024-02-09T11:35:42.858Z"
   },
   {
    "duration": 0,
    "start_time": "2024-02-09T11:35:42.860Z"
   },
   {
    "duration": 8,
    "start_time": "2024-02-09T11:35:54.962Z"
   },
   {
    "duration": 11,
    "start_time": "2024-02-09T11:35:58.215Z"
   },
   {
    "duration": 117,
    "start_time": "2024-02-09T11:36:42.408Z"
   },
   {
    "duration": 143,
    "start_time": "2024-02-09T11:37:25.738Z"
   },
   {
    "duration": 148,
    "start_time": "2024-02-09T11:38:04.115Z"
   },
   {
    "duration": 3,
    "start_time": "2024-02-09T11:39:16.174Z"
   },
   {
    "duration": 5,
    "start_time": "2024-02-09T11:39:22.377Z"
   },
   {
    "duration": 6,
    "start_time": "2024-02-09T11:40:06.735Z"
   },
   {
    "duration": 6,
    "start_time": "2024-02-09T11:40:29.573Z"
   },
   {
    "duration": 7,
    "start_time": "2024-02-09T11:40:42.952Z"
   },
   {
    "duration": 212,
    "start_time": "2024-02-09T11:45:02.221Z"
   },
   {
    "duration": 221,
    "start_time": "2024-02-09T11:47:36.958Z"
   },
   {
    "duration": 78,
    "start_time": "2024-02-09T11:47:55.173Z"
   },
   {
    "duration": 297,
    "start_time": "2024-02-09T11:48:49.228Z"
   },
   {
    "duration": 63,
    "start_time": "2024-02-09T11:53:06.845Z"
   },
   {
    "duration": 10,
    "start_time": "2024-02-09T12:01:08.909Z"
   },
   {
    "duration": 10,
    "start_time": "2024-02-09T12:01:17.638Z"
   },
   {
    "duration": 1212,
    "start_time": "2024-02-09T12:01:31.206Z"
   },
   {
    "duration": 3,
    "start_time": "2024-02-09T12:01:32.420Z"
   },
   {
    "duration": 77,
    "start_time": "2024-02-09T12:01:32.424Z"
   },
   {
    "duration": 18,
    "start_time": "2024-02-09T12:01:32.503Z"
   },
   {
    "duration": 18,
    "start_time": "2024-02-09T12:01:32.523Z"
   },
   {
    "duration": 20,
    "start_time": "2024-02-09T12:01:32.542Z"
   },
   {
    "duration": 24,
    "start_time": "2024-02-09T12:01:32.563Z"
   },
   {
    "duration": 4,
    "start_time": "2024-02-09T12:01:32.588Z"
   },
   {
    "duration": 3,
    "start_time": "2024-02-09T12:01:32.618Z"
   },
   {
    "duration": 27,
    "start_time": "2024-02-09T12:01:32.623Z"
   },
   {
    "duration": 5,
    "start_time": "2024-02-09T12:01:32.653Z"
   },
   {
    "duration": 6,
    "start_time": "2024-02-09T12:01:32.660Z"
   },
   {
    "duration": 55,
    "start_time": "2024-02-09T12:01:32.667Z"
   },
   {
    "duration": 4,
    "start_time": "2024-02-09T12:01:32.725Z"
   },
   {
    "duration": 7,
    "start_time": "2024-02-09T12:01:32.730Z"
   },
   {
    "duration": 10,
    "start_time": "2024-02-09T12:01:32.738Z"
   },
   {
    "duration": 7,
    "start_time": "2024-02-09T12:01:32.750Z"
   },
   {
    "duration": 11,
    "start_time": "2024-02-09T12:01:32.759Z"
   },
   {
    "duration": 54,
    "start_time": "2024-02-09T12:01:32.772Z"
   },
   {
    "duration": 6,
    "start_time": "2024-02-09T12:01:32.828Z"
   },
   {
    "duration": 7,
    "start_time": "2024-02-09T12:01:32.836Z"
   },
   {
    "duration": 14,
    "start_time": "2024-02-09T12:01:32.845Z"
   },
   {
    "duration": 13,
    "start_time": "2024-02-09T12:01:32.860Z"
   },
   {
    "duration": 15,
    "start_time": "2024-02-09T12:01:32.875Z"
   },
   {
    "duration": 349,
    "start_time": "2024-02-09T12:01:32.891Z"
   },
   {
    "duration": 12,
    "start_time": "2024-02-09T12:01:33.242Z"
   },
   {
    "duration": 310,
    "start_time": "2024-02-09T12:01:33.256Z"
   },
   {
    "duration": 11,
    "start_time": "2024-02-09T12:01:33.568Z"
   },
   {
    "duration": 287,
    "start_time": "2024-02-09T12:01:33.581Z"
   },
   {
    "duration": 12,
    "start_time": "2024-02-09T12:01:33.869Z"
   },
   {
    "duration": 308,
    "start_time": "2024-02-09T12:01:33.882Z"
   },
   {
    "duration": 230,
    "start_time": "2024-02-09T12:01:34.191Z"
   },
   {
    "duration": 317,
    "start_time": "2024-02-09T12:01:34.422Z"
   },
   {
    "duration": 229,
    "start_time": "2024-02-09T12:01:34.741Z"
   },
   {
    "duration": 300,
    "start_time": "2024-02-09T12:01:34.972Z"
   },
   {
    "duration": 12,
    "start_time": "2024-02-09T12:01:35.273Z"
   },
   {
    "duration": 194,
    "start_time": "2024-02-09T12:01:35.286Z"
   },
   {
    "duration": 148,
    "start_time": "2024-02-09T12:01:35.481Z"
   },
   {
    "duration": 6,
    "start_time": "2024-02-09T12:01:35.631Z"
   },
   {
    "duration": 13,
    "start_time": "2024-02-09T12:01:35.638Z"
   },
   {
    "duration": 165,
    "start_time": "2024-02-09T12:01:35.655Z"
   },
   {
    "duration": 6,
    "start_time": "2024-02-09T12:01:35.822Z"
   },
   {
    "duration": 6,
    "start_time": "2024-02-09T12:01:35.829Z"
   },
   {
    "duration": 4,
    "start_time": "2024-02-09T12:01:35.837Z"
   },
   {
    "duration": 43,
    "start_time": "2024-02-09T12:01:35.843Z"
   },
   {
    "duration": 73,
    "start_time": "2024-02-09T12:01:35.887Z"
   },
   {
    "duration": 70,
    "start_time": "2024-02-09T12:01:35.962Z"
   },
   {
    "duration": 52,
    "start_time": "2024-02-09T12:01:36.033Z"
   },
   {
    "duration": 33,
    "start_time": "2024-02-09T12:01:36.087Z"
   },
   {
    "duration": 67,
    "start_time": "2024-02-09T12:01:36.122Z"
   },
   {
    "duration": 90,
    "start_time": "2024-02-09T12:01:36.191Z"
   },
   {
    "duration": 6,
    "start_time": "2024-02-09T12:01:36.283Z"
   },
   {
    "duration": 37,
    "start_time": "2024-02-09T12:01:36.290Z"
   },
   {
    "duration": 11,
    "start_time": "2024-02-09T12:01:36.328Z"
   },
   {
    "duration": 9,
    "start_time": "2024-02-09T12:01:36.341Z"
   },
   {
    "duration": 14,
    "start_time": "2024-02-09T12:01:36.352Z"
   },
   {
    "duration": 51,
    "start_time": "2024-02-09T12:01:36.368Z"
   },
   {
    "duration": 13,
    "start_time": "2024-02-09T12:01:36.420Z"
   },
   {
    "duration": 1130,
    "start_time": "2024-02-09T12:11:49.495Z"
   },
   {
    "duration": 3,
    "start_time": "2024-02-09T12:11:50.627Z"
   },
   {
    "duration": 88,
    "start_time": "2024-02-09T12:11:50.631Z"
   },
   {
    "duration": 18,
    "start_time": "2024-02-09T12:11:50.721Z"
   },
   {
    "duration": 18,
    "start_time": "2024-02-09T12:11:50.741Z"
   },
   {
    "duration": 24,
    "start_time": "2024-02-09T12:11:50.761Z"
   },
   {
    "duration": 48,
    "start_time": "2024-02-09T12:11:50.786Z"
   },
   {
    "duration": 3,
    "start_time": "2024-02-09T12:11:50.836Z"
   },
   {
    "duration": 4,
    "start_time": "2024-02-09T12:11:50.841Z"
   },
   {
    "duration": 10,
    "start_time": "2024-02-09T12:11:50.846Z"
   },
   {
    "duration": 6,
    "start_time": "2024-02-09T12:11:50.857Z"
   },
   {
    "duration": 9,
    "start_time": "2024-02-09T12:11:50.865Z"
   },
   {
    "duration": 48,
    "start_time": "2024-02-09T12:11:50.876Z"
   },
   {
    "duration": 4,
    "start_time": "2024-02-09T12:11:50.926Z"
   },
   {
    "duration": 6,
    "start_time": "2024-02-09T12:11:50.931Z"
   },
   {
    "duration": 12,
    "start_time": "2024-02-09T12:11:50.939Z"
   },
   {
    "duration": 5,
    "start_time": "2024-02-09T12:11:50.953Z"
   },
   {
    "duration": 6,
    "start_time": "2024-02-09T12:11:50.959Z"
   },
   {
    "duration": 9,
    "start_time": "2024-02-09T12:11:50.967Z"
   },
   {
    "duration": 40,
    "start_time": "2024-02-09T12:11:50.978Z"
   },
   {
    "duration": 6,
    "start_time": "2024-02-09T12:11:51.019Z"
   },
   {
    "duration": 18,
    "start_time": "2024-02-09T12:11:51.026Z"
   },
   {
    "duration": 10,
    "start_time": "2024-02-09T12:11:51.046Z"
   },
   {
    "duration": 20,
    "start_time": "2024-02-09T12:11:51.058Z"
   },
   {
    "duration": 319,
    "start_time": "2024-02-09T12:11:51.080Z"
   },
   {
    "duration": 19,
    "start_time": "2024-02-09T12:11:51.401Z"
   },
   {
    "duration": 304,
    "start_time": "2024-02-09T12:11:51.422Z"
   },
   {
    "duration": 10,
    "start_time": "2024-02-09T12:11:51.728Z"
   },
   {
    "duration": 309,
    "start_time": "2024-02-09T12:11:51.740Z"
   },
   {
    "duration": 14,
    "start_time": "2024-02-09T12:11:52.050Z"
   },
   {
    "duration": 281,
    "start_time": "2024-02-09T12:11:52.065Z"
   },
   {
    "duration": 216,
    "start_time": "2024-02-09T12:11:52.348Z"
   },
   {
    "duration": 291,
    "start_time": "2024-02-09T12:11:52.566Z"
   },
   {
    "duration": 228,
    "start_time": "2024-02-09T12:11:52.859Z"
   },
   {
    "duration": 323,
    "start_time": "2024-02-09T12:11:53.089Z"
   },
   {
    "duration": 12,
    "start_time": "2024-02-09T12:11:53.413Z"
   },
   {
    "duration": 171,
    "start_time": "2024-02-09T12:11:53.427Z"
   },
   {
    "duration": 148,
    "start_time": "2024-02-09T12:11:53.599Z"
   },
   {
    "duration": 5,
    "start_time": "2024-02-09T12:11:53.748Z"
   },
   {
    "duration": 13,
    "start_time": "2024-02-09T12:11:53.754Z"
   },
   {
    "duration": 152,
    "start_time": "2024-02-09T12:11:53.771Z"
   },
   {
    "duration": 5,
    "start_time": "2024-02-09T12:11:53.925Z"
   },
   {
    "duration": 27,
    "start_time": "2024-02-09T12:11:53.931Z"
   },
   {
    "duration": 19,
    "start_time": "2024-02-09T12:11:53.959Z"
   },
   {
    "duration": 52,
    "start_time": "2024-02-09T12:11:53.979Z"
   },
   {
    "duration": 43,
    "start_time": "2024-02-09T12:11:54.033Z"
   },
   {
    "duration": 67,
    "start_time": "2024-02-09T12:11:54.078Z"
   },
   {
    "duration": 52,
    "start_time": "2024-02-09T12:11:54.147Z"
   },
   {
    "duration": 29,
    "start_time": "2024-02-09T12:11:54.200Z"
   },
   {
    "duration": 64,
    "start_time": "2024-02-09T12:11:54.230Z"
   },
   {
    "duration": 79,
    "start_time": "2024-02-09T12:11:54.296Z"
   },
   {
    "duration": 7,
    "start_time": "2024-02-09T12:11:54.376Z"
   },
   {
    "duration": 36,
    "start_time": "2024-02-09T12:11:54.384Z"
   },
   {
    "duration": 10,
    "start_time": "2024-02-09T12:11:54.421Z"
   },
   {
    "duration": 7,
    "start_time": "2024-02-09T12:11:54.433Z"
   },
   {
    "duration": 18,
    "start_time": "2024-02-09T12:11:54.441Z"
   },
   {
    "duration": 25,
    "start_time": "2024-02-09T12:11:54.461Z"
   },
   {
    "duration": 35,
    "start_time": "2024-02-09T12:11:54.487Z"
   },
   {
    "duration": 1090,
    "start_time": "2024-02-09T12:36:13.419Z"
   },
   {
    "duration": 3,
    "start_time": "2024-02-09T12:36:14.511Z"
   },
   {
    "duration": 94,
    "start_time": "2024-02-09T12:36:14.518Z"
   },
   {
    "duration": 19,
    "start_time": "2024-02-09T12:36:14.613Z"
   },
   {
    "duration": 34,
    "start_time": "2024-02-09T12:36:14.633Z"
   },
   {
    "duration": 27,
    "start_time": "2024-02-09T12:36:14.668Z"
   },
   {
    "duration": 32,
    "start_time": "2024-02-09T12:36:14.696Z"
   },
   {
    "duration": 3,
    "start_time": "2024-02-09T12:36:14.730Z"
   },
   {
    "duration": 14,
    "start_time": "2024-02-09T12:36:14.735Z"
   },
   {
    "duration": 27,
    "start_time": "2024-02-09T12:36:14.751Z"
   },
   {
    "duration": 14,
    "start_time": "2024-02-09T12:36:14.780Z"
   },
   {
    "duration": 14,
    "start_time": "2024-02-09T12:36:14.796Z"
   },
   {
    "duration": 36,
    "start_time": "2024-02-09T12:36:14.811Z"
   },
   {
    "duration": 12,
    "start_time": "2024-02-09T12:36:14.851Z"
   },
   {
    "duration": 18,
    "start_time": "2024-02-09T12:36:14.864Z"
   },
   {
    "duration": 37,
    "start_time": "2024-02-09T12:36:14.883Z"
   },
   {
    "duration": 25,
    "start_time": "2024-02-09T12:36:14.922Z"
   },
   {
    "duration": 30,
    "start_time": "2024-02-09T12:36:14.949Z"
   },
   {
    "duration": 52,
    "start_time": "2024-02-09T12:36:14.980Z"
   },
   {
    "duration": 37,
    "start_time": "2024-02-09T12:36:15.033Z"
   },
   {
    "duration": 37,
    "start_time": "2024-02-09T12:36:15.072Z"
   },
   {
    "duration": 14,
    "start_time": "2024-02-09T12:36:15.111Z"
   },
   {
    "duration": 48,
    "start_time": "2024-02-09T12:36:15.126Z"
   },
   {
    "duration": 32,
    "start_time": "2024-02-09T12:36:15.176Z"
   },
   {
    "duration": 304,
    "start_time": "2024-02-09T12:36:15.210Z"
   },
   {
    "duration": 11,
    "start_time": "2024-02-09T12:36:15.518Z"
   },
   {
    "duration": 296,
    "start_time": "2024-02-09T12:36:15.531Z"
   },
   {
    "duration": 10,
    "start_time": "2024-02-09T12:36:15.829Z"
   },
   {
    "duration": 287,
    "start_time": "2024-02-09T12:36:15.841Z"
   },
   {
    "duration": 14,
    "start_time": "2024-02-09T12:36:16.130Z"
   },
   {
    "duration": 288,
    "start_time": "2024-02-09T12:36:16.146Z"
   },
   {
    "duration": 206,
    "start_time": "2024-02-09T12:36:16.435Z"
   },
   {
    "duration": 292,
    "start_time": "2024-02-09T12:36:16.643Z"
   },
   {
    "duration": 216,
    "start_time": "2024-02-09T12:36:16.936Z"
   },
   {
    "duration": 285,
    "start_time": "2024-02-09T12:36:17.153Z"
   },
   {
    "duration": 11,
    "start_time": "2024-02-09T12:36:17.439Z"
   },
   {
    "duration": 199,
    "start_time": "2024-02-09T12:36:17.452Z"
   },
   {
    "duration": 141,
    "start_time": "2024-02-09T12:36:17.653Z"
   },
   {
    "duration": 4,
    "start_time": "2024-02-09T12:36:17.796Z"
   },
   {
    "duration": 23,
    "start_time": "2024-02-09T12:36:17.802Z"
   },
   {
    "duration": 147,
    "start_time": "2024-02-09T12:36:17.829Z"
   },
   {
    "duration": 5,
    "start_time": "2024-02-09T12:36:17.977Z"
   },
   {
    "duration": 12,
    "start_time": "2024-02-09T12:36:17.983Z"
   },
   {
    "duration": 13,
    "start_time": "2024-02-09T12:36:17.996Z"
   },
   {
    "duration": 62,
    "start_time": "2024-02-09T12:36:18.010Z"
   },
   {
    "duration": 41,
    "start_time": "2024-02-09T12:36:18.073Z"
   },
   {
    "duration": 65,
    "start_time": "2024-02-09T12:36:18.116Z"
   },
   {
    "duration": 51,
    "start_time": "2024-02-09T12:36:18.182Z"
   },
   {
    "duration": 19,
    "start_time": "2024-02-09T12:36:18.235Z"
   },
   {
    "duration": 73,
    "start_time": "2024-02-09T12:36:18.255Z"
   },
   {
    "duration": 66,
    "start_time": "2024-02-09T12:36:18.330Z"
   },
   {
    "duration": 23,
    "start_time": "2024-02-09T12:36:18.398Z"
   },
   {
    "duration": 41,
    "start_time": "2024-02-09T12:36:18.422Z"
   },
   {
    "duration": 11,
    "start_time": "2024-02-09T12:36:18.465Z"
   },
   {
    "duration": 28,
    "start_time": "2024-02-09T12:36:18.478Z"
   },
   {
    "duration": 29,
    "start_time": "2024-02-09T12:36:18.507Z"
   },
   {
    "duration": 55,
    "start_time": "2024-02-09T12:36:18.538Z"
   },
   {
    "duration": 12,
    "start_time": "2024-02-09T12:36:18.595Z"
   },
   {
    "duration": 80,
    "start_time": "2024-02-09T12:38:26.402Z"
   },
   {
    "duration": 1089,
    "start_time": "2024-02-09T12:46:40.853Z"
   },
   {
    "duration": 3,
    "start_time": "2024-02-09T12:46:41.944Z"
   },
   {
    "duration": 186,
    "start_time": "2024-02-09T12:46:41.949Z"
   },
   {
    "duration": 17,
    "start_time": "2024-02-09T12:46:42.137Z"
   },
   {
    "duration": 18,
    "start_time": "2024-02-09T12:46:42.156Z"
   },
   {
    "duration": 16,
    "start_time": "2024-02-09T12:46:42.175Z"
   },
   {
    "duration": 37,
    "start_time": "2024-02-09T12:46:42.192Z"
   },
   {
    "duration": 4,
    "start_time": "2024-02-09T12:46:42.231Z"
   },
   {
    "duration": 7,
    "start_time": "2024-02-09T12:46:42.236Z"
   },
   {
    "duration": 11,
    "start_time": "2024-02-09T12:46:42.245Z"
   },
   {
    "duration": 6,
    "start_time": "2024-02-09T12:46:42.258Z"
   },
   {
    "duration": 6,
    "start_time": "2024-02-09T12:46:42.265Z"
   },
   {
    "duration": 47,
    "start_time": "2024-02-09T12:46:42.272Z"
   },
   {
    "duration": 3,
    "start_time": "2024-02-09T12:46:42.321Z"
   },
   {
    "duration": 6,
    "start_time": "2024-02-09T12:46:42.325Z"
   },
   {
    "duration": 18,
    "start_time": "2024-02-09T12:46:42.332Z"
   },
   {
    "duration": 5,
    "start_time": "2024-02-09T12:46:42.352Z"
   },
   {
    "duration": 5,
    "start_time": "2024-02-09T12:46:42.359Z"
   },
   {
    "duration": 9,
    "start_time": "2024-02-09T12:46:42.366Z"
   },
   {
    "duration": 3,
    "start_time": "2024-02-09T12:46:42.376Z"
   },
   {
    "duration": 39,
    "start_time": "2024-02-09T12:46:42.380Z"
   },
   {
    "duration": 6,
    "start_time": "2024-02-09T12:46:42.420Z"
   },
   {
    "duration": 10,
    "start_time": "2024-02-09T12:46:42.427Z"
   },
   {
    "duration": 11,
    "start_time": "2024-02-09T12:46:42.438Z"
   },
   {
    "duration": 335,
    "start_time": "2024-02-09T12:46:42.450Z"
   },
   {
    "duration": 13,
    "start_time": "2024-02-09T12:46:42.787Z"
   },
   {
    "duration": 297,
    "start_time": "2024-02-09T12:46:42.801Z"
   },
   {
    "duration": 17,
    "start_time": "2024-02-09T12:46:43.101Z"
   },
   {
    "duration": 283,
    "start_time": "2024-02-09T12:46:43.120Z"
   },
   {
    "duration": 15,
    "start_time": "2024-02-09T12:46:43.404Z"
   },
   {
    "duration": 286,
    "start_time": "2024-02-09T12:46:43.421Z"
   },
   {
    "duration": 209,
    "start_time": "2024-02-09T12:46:43.709Z"
   },
   {
    "duration": 314,
    "start_time": "2024-02-09T12:46:43.919Z"
   },
   {
    "duration": 223,
    "start_time": "2024-02-09T12:46:44.234Z"
   },
   {
    "duration": 284,
    "start_time": "2024-02-09T12:46:44.459Z"
   },
   {
    "duration": 11,
    "start_time": "2024-02-09T12:46:44.745Z"
   },
   {
    "duration": 170,
    "start_time": "2024-02-09T12:46:44.757Z"
   },
   {
    "duration": 134,
    "start_time": "2024-02-09T12:46:44.928Z"
   },
   {
    "duration": 4,
    "start_time": "2024-02-09T12:46:45.064Z"
   },
   {
    "duration": 19,
    "start_time": "2024-02-09T12:46:45.069Z"
   },
   {
    "duration": 165,
    "start_time": "2024-02-09T12:46:45.089Z"
   },
   {
    "duration": 5,
    "start_time": "2024-02-09T12:46:45.257Z"
   },
   {
    "duration": 31,
    "start_time": "2024-02-09T12:46:45.264Z"
   },
   {
    "duration": 20,
    "start_time": "2024-02-09T12:46:45.298Z"
   },
   {
    "duration": 57,
    "start_time": "2024-02-09T12:46:45.320Z"
   },
   {
    "duration": 57,
    "start_time": "2024-02-09T12:46:45.378Z"
   },
   {
    "duration": 60,
    "start_time": "2024-02-09T12:46:45.437Z"
   },
   {
    "duration": 56,
    "start_time": "2024-02-09T12:46:45.498Z"
   },
   {
    "duration": 18,
    "start_time": "2024-02-09T12:46:45.555Z"
   },
   {
    "duration": 77,
    "start_time": "2024-02-09T12:46:45.575Z"
   },
   {
    "duration": 90,
    "start_time": "2024-02-09T12:46:45.653Z"
   },
   {
    "duration": 6,
    "start_time": "2024-02-09T12:46:45.745Z"
   },
   {
    "duration": 51,
    "start_time": "2024-02-09T12:46:45.753Z"
   },
   {
    "duration": 10,
    "start_time": "2024-02-09T12:46:45.805Z"
   },
   {
    "duration": 28,
    "start_time": "2024-02-09T12:46:45.816Z"
   },
   {
    "duration": 16,
    "start_time": "2024-02-09T12:46:45.845Z"
   },
   {
    "duration": 49,
    "start_time": "2024-02-09T12:46:45.862Z"
   },
   {
    "duration": 12,
    "start_time": "2024-02-09T12:46:45.912Z"
   }
  ],
  "kernelspec": {
   "display_name": "Python 3 (ipykernel)",
   "language": "python",
   "name": "python3"
  },
  "language_info": {
   "codemirror_mode": {
    "name": "ipython",
    "version": 3
   },
   "file_extension": ".py",
   "mimetype": "text/x-python",
   "name": "python",
   "nbconvert_exporter": "python",
   "pygments_lexer": "ipython3",
   "version": "3.9.5"
  },
  "toc": {
   "base_numbering": 1,
   "nav_menu": {},
   "number_sections": true,
   "sideBar": true,
   "skip_h1_title": true,
   "title_cell": "Table of Contents",
   "title_sidebar": "Contents",
   "toc_cell": false,
   "toc_position": {
    "height": "calc(100% - 180px)",
    "left": "10px",
    "top": "150px",
    "width": "288px"
   },
   "toc_section_display": true,
   "toc_window_display": true
  }
 },
 "nbformat": 4,
 "nbformat_minor": 2
}
